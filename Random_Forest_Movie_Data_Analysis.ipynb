{
  "cells": [
    {
      "cell_type": "markdown",
      "metadata": {
        "id": "view-in-github",
        "colab_type": "text"
      },
      "source": [
        "<a href=\"https://colab.research.google.com/github/Kevin-Cutler/Final-Project/blob/Kevin_Test_Branch/Random_Forest_Movie_Data_Analysis.ipynb\" target=\"_parent\"><img src=\"https://colab.research.google.com/assets/colab-badge.svg\" alt=\"Open In Colab\"/></a>"
      ]
    },
    {
      "cell_type": "code",
      "execution_count": 2,
      "metadata": {
        "id": "_39BtkPqAyQU"
      },
      "outputs": [],
      "source": [
        "# Import our dependencies\n",
        "from sklearn.model_selection import train_test_split\n",
        "from sklearn.preprocessing import StandardScaler, OneHotEncoder\n",
        "import pandas as pd\n",
        "import tensorflow as tf\n",
        "import matplotlib.pyplot as plt\n",
        "\n",
        "# Initial imports.\n",
        "from sklearn.ensemble import RandomForestClassifier\n",
        "from sklearn.metrics import confusion_matrix, accuracy_score, classification_report\n",
        "from sklearn.metrics import balanced_accuracy_score\n",
        "from sklearn.metrics import confusion_matrix\n",
        "from imblearn.metrics import classification_report_imbalanced\n",
        "\n",
        "\n",
        "\n"
      ]
    },
    {
      "cell_type": "code",
      "execution_count": 3,
      "metadata": {
        "colab": {
          "base_uri": "https://localhost:8080/",
          "height": 1000
        },
        "id": "puGeKkkNu-Ax",
        "outputId": "20cdac3c-3458-43aa-86d7-b81d3a0e5d83"
      },
      "outputs": [
        {
          "output_type": "execute_result",
          "data": {
            "text/html": [
              "\n",
              "  <div id=\"df-146ed052-4ba5-461a-bd9e-e00233a1f832\">\n",
              "    <div class=\"colab-df-container\">\n",
              "      <div>\n",
              "<style scoped>\n",
              "    .dataframe tbody tr th:only-of-type {\n",
              "        vertical-align: middle;\n",
              "    }\n",
              "\n",
              "    .dataframe tbody tr th {\n",
              "        vertical-align: top;\n",
              "    }\n",
              "\n",
              "    .dataframe thead th {\n",
              "        text-align: right;\n",
              "    }\n",
              "</style>\n",
              "<table border=\"1\" class=\"dataframe\">\n",
              "  <thead>\n",
              "    <tr style=\"text-align: right;\">\n",
              "      <th></th>\n",
              "      <th>name</th>\n",
              "      <th>rating</th>\n",
              "      <th>genre</th>\n",
              "      <th>year</th>\n",
              "      <th>released</th>\n",
              "      <th>score</th>\n",
              "      <th>votes</th>\n",
              "      <th>director</th>\n",
              "      <th>writer</th>\n",
              "      <th>star</th>\n",
              "      <th>country</th>\n",
              "      <th>budget</th>\n",
              "      <th>gross</th>\n",
              "      <th>company</th>\n",
              "      <th>runtime</th>\n",
              "    </tr>\n",
              "  </thead>\n",
              "  <tbody>\n",
              "    <tr>\n",
              "      <th>0</th>\n",
              "      <td>The Shining</td>\n",
              "      <td>R</td>\n",
              "      <td>Drama</td>\n",
              "      <td>1980</td>\n",
              "      <td>June 13, 1980 (United States)</td>\n",
              "      <td>8.4</td>\n",
              "      <td>927000.0</td>\n",
              "      <td>Stanley Kubrick</td>\n",
              "      <td>Stephen King</td>\n",
              "      <td>Jack Nicholson</td>\n",
              "      <td>United Kingdom</td>\n",
              "      <td>19000000.0</td>\n",
              "      <td>46998772.0</td>\n",
              "      <td>Warner Bros.</td>\n",
              "      <td>146.0</td>\n",
              "    </tr>\n",
              "    <tr>\n",
              "      <th>1</th>\n",
              "      <td>The Blue Lagoon</td>\n",
              "      <td>R</td>\n",
              "      <td>Adventure</td>\n",
              "      <td>1980</td>\n",
              "      <td>July 2, 1980 (United States)</td>\n",
              "      <td>5.8</td>\n",
              "      <td>65000.0</td>\n",
              "      <td>Randal Kleiser</td>\n",
              "      <td>Henry De Vere Stacpoole</td>\n",
              "      <td>Brooke Shields</td>\n",
              "      <td>United States</td>\n",
              "      <td>4500000.0</td>\n",
              "      <td>58853106.0</td>\n",
              "      <td>Columbia Pictures</td>\n",
              "      <td>104.0</td>\n",
              "    </tr>\n",
              "    <tr>\n",
              "      <th>2</th>\n",
              "      <td>Star Wars: Episode V - The Empire Strikes Back</td>\n",
              "      <td>PG</td>\n",
              "      <td>Action</td>\n",
              "      <td>1980</td>\n",
              "      <td>June 20, 1980 (United States)</td>\n",
              "      <td>8.7</td>\n",
              "      <td>1200000.0</td>\n",
              "      <td>Irvin Kershner</td>\n",
              "      <td>Leigh Brackett</td>\n",
              "      <td>Mark Hamill</td>\n",
              "      <td>United States</td>\n",
              "      <td>18000000.0</td>\n",
              "      <td>538375067.0</td>\n",
              "      <td>Lucasfilm</td>\n",
              "      <td>124.0</td>\n",
              "    </tr>\n",
              "    <tr>\n",
              "      <th>3</th>\n",
              "      <td>Airplane!</td>\n",
              "      <td>PG</td>\n",
              "      <td>Comedy</td>\n",
              "      <td>1980</td>\n",
              "      <td>July 2, 1980 (United States)</td>\n",
              "      <td>7.7</td>\n",
              "      <td>221000.0</td>\n",
              "      <td>Jim Abrahams</td>\n",
              "      <td>Jim Abrahams</td>\n",
              "      <td>Robert Hays</td>\n",
              "      <td>United States</td>\n",
              "      <td>3500000.0</td>\n",
              "      <td>83453539.0</td>\n",
              "      <td>Paramount Pictures</td>\n",
              "      <td>88.0</td>\n",
              "    </tr>\n",
              "    <tr>\n",
              "      <th>4</th>\n",
              "      <td>Caddyshack</td>\n",
              "      <td>R</td>\n",
              "      <td>Comedy</td>\n",
              "      <td>1980</td>\n",
              "      <td>July 25, 1980 (United States)</td>\n",
              "      <td>7.3</td>\n",
              "      <td>108000.0</td>\n",
              "      <td>Harold Ramis</td>\n",
              "      <td>Brian Doyle-Murray</td>\n",
              "      <td>Chevy Chase</td>\n",
              "      <td>United States</td>\n",
              "      <td>6000000.0</td>\n",
              "      <td>39846344.0</td>\n",
              "      <td>Orion Pictures</td>\n",
              "      <td>98.0</td>\n",
              "    </tr>\n",
              "    <tr>\n",
              "      <th>5</th>\n",
              "      <td>Friday the 13th</td>\n",
              "      <td>R</td>\n",
              "      <td>Horror</td>\n",
              "      <td>1980</td>\n",
              "      <td>May 9, 1980 (United States)</td>\n",
              "      <td>6.4</td>\n",
              "      <td>123000.0</td>\n",
              "      <td>Sean S. Cunningham</td>\n",
              "      <td>Victor Miller</td>\n",
              "      <td>Betsy Palmer</td>\n",
              "      <td>United States</td>\n",
              "      <td>550000.0</td>\n",
              "      <td>39754601.0</td>\n",
              "      <td>Paramount Pictures</td>\n",
              "      <td>95.0</td>\n",
              "    </tr>\n",
              "    <tr>\n",
              "      <th>6</th>\n",
              "      <td>The Blues Brothers</td>\n",
              "      <td>R</td>\n",
              "      <td>Action</td>\n",
              "      <td>1980</td>\n",
              "      <td>June 20, 1980 (United States)</td>\n",
              "      <td>7.9</td>\n",
              "      <td>188000.0</td>\n",
              "      <td>John Landis</td>\n",
              "      <td>Dan Aykroyd</td>\n",
              "      <td>John Belushi</td>\n",
              "      <td>United States</td>\n",
              "      <td>27000000.0</td>\n",
              "      <td>115229890.0</td>\n",
              "      <td>Universal Pictures</td>\n",
              "      <td>133.0</td>\n",
              "    </tr>\n",
              "    <tr>\n",
              "      <th>7</th>\n",
              "      <td>Raging Bull</td>\n",
              "      <td>R</td>\n",
              "      <td>Biography</td>\n",
              "      <td>1980</td>\n",
              "      <td>December 19, 1980 (United States)</td>\n",
              "      <td>8.2</td>\n",
              "      <td>330000.0</td>\n",
              "      <td>Martin Scorsese</td>\n",
              "      <td>Jake LaMotta</td>\n",
              "      <td>Robert De Niro</td>\n",
              "      <td>United States</td>\n",
              "      <td>18000000.0</td>\n",
              "      <td>23402427.0</td>\n",
              "      <td>Chartoff-Winkler Productions</td>\n",
              "      <td>129.0</td>\n",
              "    </tr>\n",
              "    <tr>\n",
              "      <th>8</th>\n",
              "      <td>Superman II</td>\n",
              "      <td>PG</td>\n",
              "      <td>Action</td>\n",
              "      <td>1980</td>\n",
              "      <td>June 19, 1981 (United States)</td>\n",
              "      <td>6.8</td>\n",
              "      <td>101000.0</td>\n",
              "      <td>Richard Lester</td>\n",
              "      <td>Jerry Siegel</td>\n",
              "      <td>Gene Hackman</td>\n",
              "      <td>United States</td>\n",
              "      <td>54000000.0</td>\n",
              "      <td>108185706.0</td>\n",
              "      <td>Dovemead Films</td>\n",
              "      <td>127.0</td>\n",
              "    </tr>\n",
              "    <tr>\n",
              "      <th>9</th>\n",
              "      <td>The Long Riders</td>\n",
              "      <td>R</td>\n",
              "      <td>Biography</td>\n",
              "      <td>1980</td>\n",
              "      <td>May 16, 1980 (United States)</td>\n",
              "      <td>7.0</td>\n",
              "      <td>10000.0</td>\n",
              "      <td>Walter Hill</td>\n",
              "      <td>Bill Bryden</td>\n",
              "      <td>David Carradine</td>\n",
              "      <td>United States</td>\n",
              "      <td>10000000.0</td>\n",
              "      <td>15795189.0</td>\n",
              "      <td>United Artists</td>\n",
              "      <td>100.0</td>\n",
              "    </tr>\n",
              "    <tr>\n",
              "      <th>10</th>\n",
              "      <td>Any Which Way You Can</td>\n",
              "      <td>PG</td>\n",
              "      <td>Action</td>\n",
              "      <td>1980</td>\n",
              "      <td>December 17, 1980 (United States)</td>\n",
              "      <td>6.1</td>\n",
              "      <td>18000.0</td>\n",
              "      <td>Buddy Van Horn</td>\n",
              "      <td>Stanford Sherman</td>\n",
              "      <td>Clint Eastwood</td>\n",
              "      <td>United States</td>\n",
              "      <td>15000000.0</td>\n",
              "      <td>70687344.0</td>\n",
              "      <td>The Malpaso Company</td>\n",
              "      <td>116.0</td>\n",
              "    </tr>\n",
              "    <tr>\n",
              "      <th>11</th>\n",
              "      <td>The Gods Must Be Crazy</td>\n",
              "      <td>PG</td>\n",
              "      <td>Adventure</td>\n",
              "      <td>1980</td>\n",
              "      <td>October 26, 1984 (United States)</td>\n",
              "      <td>7.3</td>\n",
              "      <td>54000.0</td>\n",
              "      <td>Jamie Uys</td>\n",
              "      <td>Jamie Uys</td>\n",
              "      <td>N!xau</td>\n",
              "      <td>South Africa</td>\n",
              "      <td>5000000.0</td>\n",
              "      <td>30031783.0</td>\n",
              "      <td>C.A.T. Films</td>\n",
              "      <td>109.0</td>\n",
              "    </tr>\n",
              "    <tr>\n",
              "      <th>12</th>\n",
              "      <td>Popeye</td>\n",
              "      <td>PG</td>\n",
              "      <td>Adventure</td>\n",
              "      <td>1980</td>\n",
              "      <td>December 12, 1980 (United States)</td>\n",
              "      <td>5.3</td>\n",
              "      <td>30000.0</td>\n",
              "      <td>Robert Altman</td>\n",
              "      <td>Jules Feiffer</td>\n",
              "      <td>Robin Williams</td>\n",
              "      <td>United States</td>\n",
              "      <td>20000000.0</td>\n",
              "      <td>49823037.0</td>\n",
              "      <td>Paramount Pictures</td>\n",
              "      <td>114.0</td>\n",
              "    </tr>\n",
              "    <tr>\n",
              "      <th>13</th>\n",
              "      <td>Ordinary People</td>\n",
              "      <td>R</td>\n",
              "      <td>Drama</td>\n",
              "      <td>1980</td>\n",
              "      <td>September 19, 1980 (United States)</td>\n",
              "      <td>7.7</td>\n",
              "      <td>49000.0</td>\n",
              "      <td>Robert Redford</td>\n",
              "      <td>Judith Guest</td>\n",
              "      <td>Donald Sutherland</td>\n",
              "      <td>United States</td>\n",
              "      <td>6000000.0</td>\n",
              "      <td>54766923.0</td>\n",
              "      <td>Paramount Pictures</td>\n",
              "      <td>124.0</td>\n",
              "    </tr>\n",
              "    <tr>\n",
              "      <th>14</th>\n",
              "      <td>Dressed to Kill</td>\n",
              "      <td>R</td>\n",
              "      <td>Crime</td>\n",
              "      <td>1980</td>\n",
              "      <td>July 25, 1980 (United States)</td>\n",
              "      <td>7.1</td>\n",
              "      <td>37000.0</td>\n",
              "      <td>Brian De Palma</td>\n",
              "      <td>Brian De Palma</td>\n",
              "      <td>Michael Caine</td>\n",
              "      <td>United States</td>\n",
              "      <td>6500000.0</td>\n",
              "      <td>31899000.0</td>\n",
              "      <td>Filmways Pictures</td>\n",
              "      <td>104.0</td>\n",
              "    </tr>\n",
              "    <tr>\n",
              "      <th>15</th>\n",
              "      <td>Somewhere in Time</td>\n",
              "      <td>PG</td>\n",
              "      <td>Drama</td>\n",
              "      <td>1980</td>\n",
              "      <td>October 3, 1980 (United States)</td>\n",
              "      <td>7.2</td>\n",
              "      <td>27000.0</td>\n",
              "      <td>Jeannot Szwarc</td>\n",
              "      <td>Richard Matheson</td>\n",
              "      <td>Christopher Reeve</td>\n",
              "      <td>United States</td>\n",
              "      <td>5100000.0</td>\n",
              "      <td>9709597.0</td>\n",
              "      <td>Rastar Pictures</td>\n",
              "      <td>103.0</td>\n",
              "    </tr>\n",
              "    <tr>\n",
              "      <th>16</th>\n",
              "      <td>Fame</td>\n",
              "      <td>R</td>\n",
              "      <td>Drama</td>\n",
              "      <td>1980</td>\n",
              "      <td>May 16, 1980 (United States)</td>\n",
              "      <td>6.6</td>\n",
              "      <td>21000.0</td>\n",
              "      <td>Alan Parker</td>\n",
              "      <td>Christopher Gore</td>\n",
              "      <td>Eddie Barth</td>\n",
              "      <td>United States</td>\n",
              "      <td>NaN</td>\n",
              "      <td>21202829.0</td>\n",
              "      <td>Metro-Goldwyn-Mayer (MGM)</td>\n",
              "      <td>134.0</td>\n",
              "    </tr>\n",
              "    <tr>\n",
              "      <th>17</th>\n",
              "      <td>9 to 5</td>\n",
              "      <td>PG</td>\n",
              "      <td>Comedy</td>\n",
              "      <td>1980</td>\n",
              "      <td>December 19, 1980 (United States)</td>\n",
              "      <td>6.9</td>\n",
              "      <td>29000.0</td>\n",
              "      <td>Colin Higgins</td>\n",
              "      <td>Patricia Resnick</td>\n",
              "      <td>Jane Fonda</td>\n",
              "      <td>United States</td>\n",
              "      <td>10000000.0</td>\n",
              "      <td>103300686.0</td>\n",
              "      <td>IPC Films</td>\n",
              "      <td>109.0</td>\n",
              "    </tr>\n",
              "    <tr>\n",
              "      <th>18</th>\n",
              "      <td>The Fog</td>\n",
              "      <td>R</td>\n",
              "      <td>Horror</td>\n",
              "      <td>1980</td>\n",
              "      <td>February 8, 1980 (United States)</td>\n",
              "      <td>6.8</td>\n",
              "      <td>66000.0</td>\n",
              "      <td>John Carpenter</td>\n",
              "      <td>John Carpenter</td>\n",
              "      <td>Adrienne Barbeau</td>\n",
              "      <td>United States</td>\n",
              "      <td>1000000.0</td>\n",
              "      <td>21448782.0</td>\n",
              "      <td>AVCO Embassy Pictures</td>\n",
              "      <td>89.0</td>\n",
              "    </tr>\n",
              "    <tr>\n",
              "      <th>19</th>\n",
              "      <td>Stir Crazy</td>\n",
              "      <td>R</td>\n",
              "      <td>Comedy</td>\n",
              "      <td>1980</td>\n",
              "      <td>December 12, 1980 (United States)</td>\n",
              "      <td>6.8</td>\n",
              "      <td>26000.0</td>\n",
              "      <td>Sidney Poitier</td>\n",
              "      <td>Bruce Jay Friedman</td>\n",
              "      <td>Gene Wilder</td>\n",
              "      <td>United States</td>\n",
              "      <td>NaN</td>\n",
              "      <td>101300000.0</td>\n",
              "      <td>Columbia Pictures</td>\n",
              "      <td>111.0</td>\n",
              "    </tr>\n",
              "  </tbody>\n",
              "</table>\n",
              "</div>\n",
              "      <button class=\"colab-df-convert\" onclick=\"convertToInteractive('df-146ed052-4ba5-461a-bd9e-e00233a1f832')\"\n",
              "              title=\"Convert this dataframe to an interactive table.\"\n",
              "              style=\"display:none;\">\n",
              "        \n",
              "  <svg xmlns=\"http://www.w3.org/2000/svg\" height=\"24px\"viewBox=\"0 0 24 24\"\n",
              "       width=\"24px\">\n",
              "    <path d=\"M0 0h24v24H0V0z\" fill=\"none\"/>\n",
              "    <path d=\"M18.56 5.44l.94 2.06.94-2.06 2.06-.94-2.06-.94-.94-2.06-.94 2.06-2.06.94zm-11 1L8.5 8.5l.94-2.06 2.06-.94-2.06-.94L8.5 2.5l-.94 2.06-2.06.94zm10 10l.94 2.06.94-2.06 2.06-.94-2.06-.94-.94-2.06-.94 2.06-2.06.94z\"/><path d=\"M17.41 7.96l-1.37-1.37c-.4-.4-.92-.59-1.43-.59-.52 0-1.04.2-1.43.59L10.3 9.45l-7.72 7.72c-.78.78-.78 2.05 0 2.83L4 21.41c.39.39.9.59 1.41.59.51 0 1.02-.2 1.41-.59l7.78-7.78 2.81-2.81c.8-.78.8-2.07 0-2.86zM5.41 20L4 18.59l7.72-7.72 1.47 1.35L5.41 20z\"/>\n",
              "  </svg>\n",
              "      </button>\n",
              "      \n",
              "  <style>\n",
              "    .colab-df-container {\n",
              "      display:flex;\n",
              "      flex-wrap:wrap;\n",
              "      gap: 12px;\n",
              "    }\n",
              "\n",
              "    .colab-df-convert {\n",
              "      background-color: #E8F0FE;\n",
              "      border: none;\n",
              "      border-radius: 50%;\n",
              "      cursor: pointer;\n",
              "      display: none;\n",
              "      fill: #1967D2;\n",
              "      height: 32px;\n",
              "      padding: 0 0 0 0;\n",
              "      width: 32px;\n",
              "    }\n",
              "\n",
              "    .colab-df-convert:hover {\n",
              "      background-color: #E2EBFA;\n",
              "      box-shadow: 0px 1px 2px rgba(60, 64, 67, 0.3), 0px 1px 3px 1px rgba(60, 64, 67, 0.15);\n",
              "      fill: #174EA6;\n",
              "    }\n",
              "\n",
              "    [theme=dark] .colab-df-convert {\n",
              "      background-color: #3B4455;\n",
              "      fill: #D2E3FC;\n",
              "    }\n",
              "\n",
              "    [theme=dark] .colab-df-convert:hover {\n",
              "      background-color: #434B5C;\n",
              "      box-shadow: 0px 1px 3px 1px rgba(0, 0, 0, 0.15);\n",
              "      filter: drop-shadow(0px 1px 2px rgba(0, 0, 0, 0.3));\n",
              "      fill: #FFFFFF;\n",
              "    }\n",
              "  </style>\n",
              "\n",
              "      <script>\n",
              "        const buttonEl =\n",
              "          document.querySelector('#df-146ed052-4ba5-461a-bd9e-e00233a1f832 button.colab-df-convert');\n",
              "        buttonEl.style.display =\n",
              "          google.colab.kernel.accessAllowed ? 'block' : 'none';\n",
              "\n",
              "        async function convertToInteractive(key) {\n",
              "          const element = document.querySelector('#df-146ed052-4ba5-461a-bd9e-e00233a1f832');\n",
              "          const dataTable =\n",
              "            await google.colab.kernel.invokeFunction('convertToInteractive',\n",
              "                                                     [key], {});\n",
              "          if (!dataTable) return;\n",
              "\n",
              "          const docLinkHtml = 'Like what you see? Visit the ' +\n",
              "            '<a target=\"_blank\" href=https://colab.research.google.com/notebooks/data_table.ipynb>data table notebook</a>'\n",
              "            + ' to learn more about interactive tables.';\n",
              "          element.innerHTML = '';\n",
              "          dataTable['output_type'] = 'display_data';\n",
              "          await google.colab.output.renderOutput(dataTable, element);\n",
              "          const docLink = document.createElement('div');\n",
              "          docLink.innerHTML = docLinkHtml;\n",
              "          element.appendChild(docLink);\n",
              "        }\n",
              "      </script>\n",
              "    </div>\n",
              "  </div>\n",
              "  "
            ],
            "text/plain": [
              "                                              name  ... runtime\n",
              "0                                      The Shining  ...   146.0\n",
              "1                                  The Blue Lagoon  ...   104.0\n",
              "2   Star Wars: Episode V - The Empire Strikes Back  ...   124.0\n",
              "3                                        Airplane!  ...    88.0\n",
              "4                                       Caddyshack  ...    98.0\n",
              "5                                  Friday the 13th  ...    95.0\n",
              "6                               The Blues Brothers  ...   133.0\n",
              "7                                      Raging Bull  ...   129.0\n",
              "8                                      Superman II  ...   127.0\n",
              "9                                  The Long Riders  ...   100.0\n",
              "10                           Any Which Way You Can  ...   116.0\n",
              "11                          The Gods Must Be Crazy  ...   109.0\n",
              "12                                          Popeye  ...   114.0\n",
              "13                                 Ordinary People  ...   124.0\n",
              "14                                 Dressed to Kill  ...   104.0\n",
              "15                               Somewhere in Time  ...   103.0\n",
              "16                                            Fame  ...   134.0\n",
              "17                                          9 to 5  ...   109.0\n",
              "18                                         The Fog  ...    89.0\n",
              "19                                      Stir Crazy  ...   111.0\n",
              "\n",
              "[20 rows x 15 columns]"
            ]
          },
          "metadata": {},
          "execution_count": 3
        }
      ],
      "source": [
        "# Read in Movies CSV\n",
        "movies_df = pd.read_csv(\"/content/movies.csv\")\n",
        "movies_df.head(20)"
      ]
    },
    {
      "cell_type": "code",
      "execution_count": 4,
      "metadata": {
        "colab": {
          "base_uri": "https://localhost:8080/"
        },
        "id": "qFCL7wgvLpaI",
        "outputId": "45566643-42aa-4b56-df1b-9f9a3b3f2bb1"
      },
      "outputs": [
        {
          "output_type": "stream",
          "name": "stdout",
          "text": [
            "Duplicate entries: 156\n"
          ]
        }
      ],
      "source": [
        "# Check for duplicates in the dataset movies_df\n",
        "print(f\"Duplicate entries: {movies_df['name'].duplicated().sum()}\")\n",
        "\n"
      ]
    },
    {
      "cell_type": "code",
      "execution_count": 5,
      "metadata": {
        "colab": {
          "base_uri": "https://localhost:8080/",
          "height": 677
        },
        "id": "O7DxdO8tufPi",
        "outputId": "c84d286f-0d05-4dec-a12f-67ef2b95eed3"
      },
      "outputs": [
        {
          "output_type": "execute_result",
          "data": {
            "text/html": [
              "\n",
              "  <div id=\"df-b20b14f6-c0b6-4e4f-94be-c02be15c39dc\">\n",
              "    <div class=\"colab-df-container\">\n",
              "      <div>\n",
              "<style scoped>\n",
              "    .dataframe tbody tr th:only-of-type {\n",
              "        vertical-align: middle;\n",
              "    }\n",
              "\n",
              "    .dataframe tbody tr th {\n",
              "        vertical-align: top;\n",
              "    }\n",
              "\n",
              "    .dataframe thead th {\n",
              "        text-align: right;\n",
              "    }\n",
              "</style>\n",
              "<table border=\"1\" class=\"dataframe\">\n",
              "  <thead>\n",
              "    <tr style=\"text-align: right;\">\n",
              "      <th></th>\n",
              "      <th>Release Date</th>\n",
              "      <th>Movie Title</th>\n",
              "      <th>Production Budget</th>\n",
              "      <th>Domestic Gross</th>\n",
              "      <th>Worldwide Gross</th>\n",
              "    </tr>\n",
              "  </thead>\n",
              "  <tbody>\n",
              "    <tr>\n",
              "      <th>0</th>\n",
              "      <td>2019-04-23</td>\n",
              "      <td>Avengers: Endgame</td>\n",
              "      <td>400000000</td>\n",
              "      <td>858373000</td>\n",
              "      <td>2797800564</td>\n",
              "    </tr>\n",
              "    <tr>\n",
              "      <th>1</th>\n",
              "      <td>2011-05-20</td>\n",
              "      <td>Pirates of the Caribbean: On Stranger Tides</td>\n",
              "      <td>379000000</td>\n",
              "      <td>241071802</td>\n",
              "      <td>1045713802</td>\n",
              "    </tr>\n",
              "    <tr>\n",
              "      <th>2</th>\n",
              "      <td>2015-04-22</td>\n",
              "      <td>Avengers: Age of Ultron</td>\n",
              "      <td>365000000</td>\n",
              "      <td>459005868</td>\n",
              "      <td>1395316979</td>\n",
              "    </tr>\n",
              "    <tr>\n",
              "      <th>3</th>\n",
              "      <td>2015-12-16</td>\n",
              "      <td>Star Wars Ep. VII: The Force Awakens</td>\n",
              "      <td>306000000</td>\n",
              "      <td>936662225</td>\n",
              "      <td>2064615817</td>\n",
              "    </tr>\n",
              "    <tr>\n",
              "      <th>4</th>\n",
              "      <td>2018-04-25</td>\n",
              "      <td>Avengers: Infinity War</td>\n",
              "      <td>300000000</td>\n",
              "      <td>678815482</td>\n",
              "      <td>2044540523</td>\n",
              "    </tr>\n",
              "    <tr>\n",
              "      <th>5</th>\n",
              "      <td>2007-05-24</td>\n",
              "      <td>Pirates of the Caribbean: At World’s End</td>\n",
              "      <td>300000000</td>\n",
              "      <td>309420425</td>\n",
              "      <td>960996492</td>\n",
              "    </tr>\n",
              "    <tr>\n",
              "      <th>6</th>\n",
              "      <td>2017-11-13</td>\n",
              "      <td>Justice League</td>\n",
              "      <td>300000000</td>\n",
              "      <td>229024295</td>\n",
              "      <td>655945209</td>\n",
              "    </tr>\n",
              "    <tr>\n",
              "      <th>7</th>\n",
              "      <td>2015-06-10</td>\n",
              "      <td>Spectre</td>\n",
              "      <td>300000000</td>\n",
              "      <td>200074175</td>\n",
              "      <td>879500760</td>\n",
              "    </tr>\n",
              "    <tr>\n",
              "      <th>8</th>\n",
              "      <td>2019-12-18</td>\n",
              "      <td>Star Wars: The Rise of Skywalker</td>\n",
              "      <td>275000000</td>\n",
              "      <td>515202542</td>\n",
              "      <td>1072848487</td>\n",
              "    </tr>\n",
              "    <tr>\n",
              "      <th>9</th>\n",
              "      <td>2018-05-23</td>\n",
              "      <td>Solo: A Star Wars Story</td>\n",
              "      <td>275000000</td>\n",
              "      <td>213767512</td>\n",
              "      <td>393151347</td>\n",
              "    </tr>\n",
              "    <tr>\n",
              "      <th>10</th>\n",
              "      <td>2012-07-03</td>\n",
              "      <td>John Carter</td>\n",
              "      <td>263700000</td>\n",
              "      <td>73058679</td>\n",
              "      <td>282778100</td>\n",
              "    </tr>\n",
              "    <tr>\n",
              "      <th>11</th>\n",
              "      <td>2016-03-23</td>\n",
              "      <td>Batman v Superman: Dawn of Justice</td>\n",
              "      <td>263000000</td>\n",
              "      <td>330360194</td>\n",
              "      <td>872395091</td>\n",
              "    </tr>\n",
              "    <tr>\n",
              "      <th>12</th>\n",
              "      <td>2017-12-13</td>\n",
              "      <td>Star Wars Ep. VIII: The Last Jedi</td>\n",
              "      <td>262000000</td>\n",
              "      <td>620181382</td>\n",
              "      <td>1331635141</td>\n",
              "    </tr>\n",
              "    <tr>\n",
              "      <th>13</th>\n",
              "      <td>2019-11-07</td>\n",
              "      <td>The Lion King</td>\n",
              "      <td>260000000</td>\n",
              "      <td>543638043</td>\n",
              "      <td>1654367425</td>\n",
              "    </tr>\n",
              "    <tr>\n",
              "      <th>14</th>\n",
              "      <td>2010-11-24</td>\n",
              "      <td>Tangled</td>\n",
              "      <td>260000000</td>\n",
              "      <td>200821936</td>\n",
              "      <td>584899819</td>\n",
              "    </tr>\n",
              "    <tr>\n",
              "      <th>15</th>\n",
              "      <td>2007-04-05</td>\n",
              "      <td>Spider-Man 3</td>\n",
              "      <td>258000000</td>\n",
              "      <td>336530303</td>\n",
              "      <td>894860230</td>\n",
              "    </tr>\n",
              "    <tr>\n",
              "      <th>16</th>\n",
              "      <td>2016-04-22</td>\n",
              "      <td>Captain America: Civil War</td>\n",
              "      <td>250000000</td>\n",
              "      <td>408084349</td>\n",
              "      <td>1151918521</td>\n",
              "    </tr>\n",
              "    <tr>\n",
              "      <th>17</th>\n",
              "      <td>2009-07-15</td>\n",
              "      <td>Harry Potter and the Half-Blood Prince</td>\n",
              "      <td>250000000</td>\n",
              "      <td>302089278</td>\n",
              "      <td>929411069</td>\n",
              "    </tr>\n",
              "    <tr>\n",
              "      <th>18</th>\n",
              "      <td>2013-12-12</td>\n",
              "      <td>The Hobbit: The Desolation of Smaug</td>\n",
              "      <td>250000000</td>\n",
              "      <td>258241522</td>\n",
              "      <td>959358436</td>\n",
              "    </tr>\n",
              "    <tr>\n",
              "      <th>19</th>\n",
              "      <td>2014-10-12</td>\n",
              "      <td>The Hobbit: The Battle of the Five Armies</td>\n",
              "      <td>250000000</td>\n",
              "      <td>255119788</td>\n",
              "      <td>940389558</td>\n",
              "    </tr>\n",
              "  </tbody>\n",
              "</table>\n",
              "</div>\n",
              "      <button class=\"colab-df-convert\" onclick=\"convertToInteractive('df-b20b14f6-c0b6-4e4f-94be-c02be15c39dc')\"\n",
              "              title=\"Convert this dataframe to an interactive table.\"\n",
              "              style=\"display:none;\">\n",
              "        \n",
              "  <svg xmlns=\"http://www.w3.org/2000/svg\" height=\"24px\"viewBox=\"0 0 24 24\"\n",
              "       width=\"24px\">\n",
              "    <path d=\"M0 0h24v24H0V0z\" fill=\"none\"/>\n",
              "    <path d=\"M18.56 5.44l.94 2.06.94-2.06 2.06-.94-2.06-.94-.94-2.06-.94 2.06-2.06.94zm-11 1L8.5 8.5l.94-2.06 2.06-.94-2.06-.94L8.5 2.5l-.94 2.06-2.06.94zm10 10l.94 2.06.94-2.06 2.06-.94-2.06-.94-.94-2.06-.94 2.06-2.06.94z\"/><path d=\"M17.41 7.96l-1.37-1.37c-.4-.4-.92-.59-1.43-.59-.52 0-1.04.2-1.43.59L10.3 9.45l-7.72 7.72c-.78.78-.78 2.05 0 2.83L4 21.41c.39.39.9.59 1.41.59.51 0 1.02-.2 1.41-.59l7.78-7.78 2.81-2.81c.8-.78.8-2.07 0-2.86zM5.41 20L4 18.59l7.72-7.72 1.47 1.35L5.41 20z\"/>\n",
              "  </svg>\n",
              "      </button>\n",
              "      \n",
              "  <style>\n",
              "    .colab-df-container {\n",
              "      display:flex;\n",
              "      flex-wrap:wrap;\n",
              "      gap: 12px;\n",
              "    }\n",
              "\n",
              "    .colab-df-convert {\n",
              "      background-color: #E8F0FE;\n",
              "      border: none;\n",
              "      border-radius: 50%;\n",
              "      cursor: pointer;\n",
              "      display: none;\n",
              "      fill: #1967D2;\n",
              "      height: 32px;\n",
              "      padding: 0 0 0 0;\n",
              "      width: 32px;\n",
              "    }\n",
              "\n",
              "    .colab-df-convert:hover {\n",
              "      background-color: #E2EBFA;\n",
              "      box-shadow: 0px 1px 2px rgba(60, 64, 67, 0.3), 0px 1px 3px 1px rgba(60, 64, 67, 0.15);\n",
              "      fill: #174EA6;\n",
              "    }\n",
              "\n",
              "    [theme=dark] .colab-df-convert {\n",
              "      background-color: #3B4455;\n",
              "      fill: #D2E3FC;\n",
              "    }\n",
              "\n",
              "    [theme=dark] .colab-df-convert:hover {\n",
              "      background-color: #434B5C;\n",
              "      box-shadow: 0px 1px 3px 1px rgba(0, 0, 0, 0.15);\n",
              "      filter: drop-shadow(0px 1px 2px rgba(0, 0, 0, 0.3));\n",
              "      fill: #FFFFFF;\n",
              "    }\n",
              "  </style>\n",
              "\n",
              "      <script>\n",
              "        const buttonEl =\n",
              "          document.querySelector('#df-b20b14f6-c0b6-4e4f-94be-c02be15c39dc button.colab-df-convert');\n",
              "        buttonEl.style.display =\n",
              "          google.colab.kernel.accessAllowed ? 'block' : 'none';\n",
              "\n",
              "        async function convertToInteractive(key) {\n",
              "          const element = document.querySelector('#df-b20b14f6-c0b6-4e4f-94be-c02be15c39dc');\n",
              "          const dataTable =\n",
              "            await google.colab.kernel.invokeFunction('convertToInteractive',\n",
              "                                                     [key], {});\n",
              "          if (!dataTable) return;\n",
              "\n",
              "          const docLinkHtml = 'Like what you see? Visit the ' +\n",
              "            '<a target=\"_blank\" href=https://colab.research.google.com/notebooks/data_table.ipynb>data table notebook</a>'\n",
              "            + ' to learn more about interactive tables.';\n",
              "          element.innerHTML = '';\n",
              "          dataTable['output_type'] = 'display_data';\n",
              "          await google.colab.output.renderOutput(dataTable, element);\n",
              "          const docLink = document.createElement('div');\n",
              "          docLink.innerHTML = docLinkHtml;\n",
              "          element.appendChild(docLink);\n",
              "        }\n",
              "      </script>\n",
              "    </div>\n",
              "  </div>\n",
              "  "
            ],
            "text/plain": [
              "   Release Date  ... Worldwide Gross\n",
              "0    2019-04-23  ...      2797800564\n",
              "1    2011-05-20  ...      1045713802\n",
              "2    2015-04-22  ...      1395316979\n",
              "3    2015-12-16  ...      2064615817\n",
              "4    2018-04-25  ...      2044540523\n",
              "5    2007-05-24  ...       960996492\n",
              "6    2017-11-13  ...       655945209\n",
              "7    2015-06-10  ...       879500760\n",
              "8    2019-12-18  ...      1072848487\n",
              "9    2018-05-23  ...       393151347\n",
              "10   2012-07-03  ...       282778100\n",
              "11   2016-03-23  ...       872395091\n",
              "12   2017-12-13  ...      1331635141\n",
              "13   2019-11-07  ...      1654367425\n",
              "14   2010-11-24  ...       584899819\n",
              "15   2007-04-05  ...       894860230\n",
              "16   2016-04-22  ...      1151918521\n",
              "17   2009-07-15  ...       929411069\n",
              "18   2013-12-12  ...       959358436\n",
              "19   2014-10-12  ...       940389558\n",
              "\n",
              "[20 rows x 5 columns]"
            ]
          },
          "metadata": {},
          "execution_count": 5
        }
      ],
      "source": [
        "# Read in Top Movies CSV\n",
        "top_4000_movies_df = pd.read_csv(\"/content/top_4000_movies_data.csv\", parse_dates=['Release Date'], dayfirst=True)\n",
        "top_4000_movies_df.head(20)"
      ]
    },
    {
      "cell_type": "code",
      "execution_count": 6,
      "metadata": {
        "colab": {
          "base_uri": "https://localhost:8080/"
        },
        "id": "7xIfed5ZMDpE",
        "outputId": "42c4968f-cfcb-4928-e06c-e4197f199ecd"
      },
      "outputs": [
        {
          "output_type": "stream",
          "name": "stdout",
          "text": [
            "Duplicate entries: 48\n"
          ]
        }
      ],
      "source": [
        "# Check for duplicates in the dataset top_4000_movies_df\n",
        "print(f\"Duplicate entries: {top_4000_movies_df['Movie Title'].duplicated().sum()}\")"
      ]
    },
    {
      "cell_type": "code",
      "execution_count": 7,
      "metadata": {
        "colab": {
          "base_uri": "https://localhost:8080/"
        },
        "id": "IKJU1U5hA2DS",
        "outputId": "6693dd82-0777-408d-8473-caa077230619"
      },
      "outputs": [
        {
          "output_type": "stream",
          "name": "stdout",
          "text": [
            "<class 'pandas.core.frame.DataFrame'>\n",
            "RangeIndex: 4000 entries, 0 to 3999\n",
            "Data columns (total 5 columns):\n",
            " #   Column             Non-Null Count  Dtype         \n",
            "---  ------             --------------  -----         \n",
            " 0   Release Date       3979 non-null   datetime64[ns]\n",
            " 1   Movie Title        4000 non-null   object        \n",
            " 2   Production Budget  4000 non-null   int64         \n",
            " 3   Domestic Gross     4000 non-null   int64         \n",
            " 4   Worldwide Gross    4000 non-null   int64         \n",
            "dtypes: datetime64[ns](1), int64(3), object(1)\n",
            "memory usage: 156.4+ KB\n"
          ]
        }
      ],
      "source": [
        "top_4000_movies_df.info()"
      ]
    },
    {
      "cell_type": "code",
      "execution_count": 8,
      "metadata": {
        "colab": {
          "base_uri": "https://localhost:8080/"
        },
        "id": "DuhJjs_1A4FZ",
        "outputId": "76a3e7aa-2e12-4d58-8a04-2307942b3e61"
      },
      "outputs": [
        {
          "output_type": "stream",
          "name": "stdout",
          "text": [
            "<class 'pandas.core.frame.DataFrame'>\n",
            "RangeIndex: 7668 entries, 0 to 7667\n",
            "Data columns (total 15 columns):\n",
            " #   Column    Non-Null Count  Dtype  \n",
            "---  ------    --------------  -----  \n",
            " 0   name      7668 non-null   object \n",
            " 1   rating    7591 non-null   object \n",
            " 2   genre     7668 non-null   object \n",
            " 3   year      7668 non-null   int64  \n",
            " 4   released  7666 non-null   object \n",
            " 5   score     7665 non-null   float64\n",
            " 6   votes     7665 non-null   float64\n",
            " 7   director  7668 non-null   object \n",
            " 8   writer    7665 non-null   object \n",
            " 9   star      7667 non-null   object \n",
            " 10  country   7665 non-null   object \n",
            " 11  budget    5497 non-null   float64\n",
            " 12  gross     7479 non-null   float64\n",
            " 13  company   7651 non-null   object \n",
            " 14  runtime   7664 non-null   float64\n",
            "dtypes: float64(5), int64(1), object(9)\n",
            "memory usage: 898.7+ KB\n"
          ]
        }
      ],
      "source": [
        "movies_df.info()"
      ]
    },
    {
      "cell_type": "code",
      "execution_count": 9,
      "metadata": {
        "colab": {
          "base_uri": "https://localhost:8080/"
        },
        "id": "cjk28jDAAkSd",
        "outputId": "96d3cc5d-32c7-4cfb-dfa7-1839394ff5fa"
      },
      "outputs": [
        {
          "output_type": "execute_result",
          "data": {
            "text/plain": [
              "Index(['name', 'rating', 'genre', 'year', 'released', 'score', 'votes',\n",
              "       'director', 'writer', 'star', 'country', 'budget', 'gross', 'company',\n",
              "       'runtime'],\n",
              "      dtype='object')"
            ]
          },
          "metadata": {},
          "execution_count": 9
        }
      ],
      "source": [
        "# See what data you have available\n",
        "movies_df.columns"
      ]
    },
    {
      "cell_type": "code",
      "execution_count": 10,
      "metadata": {
        "colab": {
          "base_uri": "https://localhost:8080/"
        },
        "id": "t5CKtf8rAtOl",
        "outputId": "59420f39-0cd2-4e82-e40b-682ab804b5d2"
      },
      "outputs": [
        {
          "output_type": "execute_result",
          "data": {
            "text/plain": [
              "Index(['Release Date', 'Movie Title', 'Production Budget', 'Domestic Gross',\n",
              "       'Worldwide Gross'],\n",
              "      dtype='object')"
            ]
          },
          "metadata": {},
          "execution_count": 10
        }
      ],
      "source": [
        "# See what data you have available\n",
        "top_4000_movies_df.columns"
      ]
    },
    {
      "cell_type": "code",
      "execution_count": 11,
      "metadata": {
        "colab": {
          "base_uri": "https://localhost:8080/",
          "height": 1000
        },
        "id": "8pwlnRwwJPx0",
        "outputId": "d439cf66-fc9d-4e95-943d-93b6122a6419"
      },
      "outputs": [
        {
          "output_type": "execute_result",
          "data": {
            "text/html": [
              "\n",
              "  <div id=\"df-e8d34618-f156-4bfb-9c06-bce9f0ba88db\">\n",
              "    <div class=\"colab-df-container\">\n",
              "      <div>\n",
              "<style scoped>\n",
              "    .dataframe tbody tr th:only-of-type {\n",
              "        vertical-align: middle;\n",
              "    }\n",
              "\n",
              "    .dataframe tbody tr th {\n",
              "        vertical-align: top;\n",
              "    }\n",
              "\n",
              "    .dataframe thead th {\n",
              "        text-align: right;\n",
              "    }\n",
              "</style>\n",
              "<table border=\"1\" class=\"dataframe\">\n",
              "  <thead>\n",
              "    <tr style=\"text-align: right;\">\n",
              "      <th></th>\n",
              "      <th>Release Date</th>\n",
              "      <th>Movie Title</th>\n",
              "      <th>Production Budget</th>\n",
              "      <th>Domestic Gross</th>\n",
              "      <th>Worldwide Gross</th>\n",
              "      <th>name</th>\n",
              "      <th>rating</th>\n",
              "      <th>genre</th>\n",
              "      <th>year</th>\n",
              "      <th>released</th>\n",
              "      <th>score</th>\n",
              "      <th>votes</th>\n",
              "      <th>director</th>\n",
              "      <th>writer</th>\n",
              "      <th>star</th>\n",
              "      <th>country</th>\n",
              "      <th>budget</th>\n",
              "      <th>gross</th>\n",
              "      <th>company</th>\n",
              "      <th>runtime</th>\n",
              "    </tr>\n",
              "  </thead>\n",
              "  <tbody>\n",
              "    <tr>\n",
              "      <th>0</th>\n",
              "      <td>2019-04-23</td>\n",
              "      <td>Avengers: Endgame</td>\n",
              "      <td>400000000</td>\n",
              "      <td>858373000</td>\n",
              "      <td>2797800564</td>\n",
              "      <td>Avengers: Endgame</td>\n",
              "      <td>PG-13</td>\n",
              "      <td>Action</td>\n",
              "      <td>2019</td>\n",
              "      <td>April 26, 2019 (United States)</td>\n",
              "      <td>8.4</td>\n",
              "      <td>903000.0</td>\n",
              "      <td>Anthony Russo</td>\n",
              "      <td>Christopher Markus</td>\n",
              "      <td>Robert Downey Jr.</td>\n",
              "      <td>United States</td>\n",
              "      <td>356000000.0</td>\n",
              "      <td>2.797501e+09</td>\n",
              "      <td>Marvel Studios</td>\n",
              "      <td>181.0</td>\n",
              "    </tr>\n",
              "    <tr>\n",
              "      <th>1</th>\n",
              "      <td>2015-04-22</td>\n",
              "      <td>Avengers: Age of Ultron</td>\n",
              "      <td>365000000</td>\n",
              "      <td>459005868</td>\n",
              "      <td>1395316979</td>\n",
              "      <td>Avengers: Age of Ultron</td>\n",
              "      <td>PG-13</td>\n",
              "      <td>Action</td>\n",
              "      <td>2015</td>\n",
              "      <td>May 1, 2015 (United States)</td>\n",
              "      <td>7.3</td>\n",
              "      <td>777000.0</td>\n",
              "      <td>Joss Whedon</td>\n",
              "      <td>Joss Whedon</td>\n",
              "      <td>Robert Downey Jr.</td>\n",
              "      <td>United States</td>\n",
              "      <td>250000000.0</td>\n",
              "      <td>1.402810e+09</td>\n",
              "      <td>Marvel Studios</td>\n",
              "      <td>141.0</td>\n",
              "    </tr>\n",
              "    <tr>\n",
              "      <th>2</th>\n",
              "      <td>2018-04-25</td>\n",
              "      <td>Avengers: Infinity War</td>\n",
              "      <td>300000000</td>\n",
              "      <td>678815482</td>\n",
              "      <td>2044540523</td>\n",
              "      <td>Avengers: Infinity War</td>\n",
              "      <td>PG-13</td>\n",
              "      <td>Action</td>\n",
              "      <td>2018</td>\n",
              "      <td>April 27, 2018 (United States)</td>\n",
              "      <td>8.4</td>\n",
              "      <td>897000.0</td>\n",
              "      <td>Anthony Russo</td>\n",
              "      <td>Christopher Markus</td>\n",
              "      <td>Robert Downey Jr.</td>\n",
              "      <td>United States</td>\n",
              "      <td>321000000.0</td>\n",
              "      <td>2.048360e+09</td>\n",
              "      <td>Marvel Studios</td>\n",
              "      <td>149.0</td>\n",
              "    </tr>\n",
              "    <tr>\n",
              "      <th>3</th>\n",
              "      <td>2017-11-13</td>\n",
              "      <td>Justice League</td>\n",
              "      <td>300000000</td>\n",
              "      <td>229024295</td>\n",
              "      <td>655945209</td>\n",
              "      <td>Justice League</td>\n",
              "      <td>PG-13</td>\n",
              "      <td>Action</td>\n",
              "      <td>2017</td>\n",
              "      <td>November 17, 2017 (United States)</td>\n",
              "      <td>6.1</td>\n",
              "      <td>418000.0</td>\n",
              "      <td>Zack Snyder</td>\n",
              "      <td>Jerry Siegel</td>\n",
              "      <td>Ben Affleck</td>\n",
              "      <td>United States</td>\n",
              "      <td>300000000.0</td>\n",
              "      <td>6.579270e+08</td>\n",
              "      <td>Warner Bros.</td>\n",
              "      <td>120.0</td>\n",
              "    </tr>\n",
              "    <tr>\n",
              "      <th>4</th>\n",
              "      <td>2015-06-10</td>\n",
              "      <td>Spectre</td>\n",
              "      <td>300000000</td>\n",
              "      <td>200074175</td>\n",
              "      <td>879500760</td>\n",
              "      <td>Spectre</td>\n",
              "      <td>PG-13</td>\n",
              "      <td>Action</td>\n",
              "      <td>2015</td>\n",
              "      <td>November 6, 2015 (United States)</td>\n",
              "      <td>6.8</td>\n",
              "      <td>393000.0</td>\n",
              "      <td>Sam Mendes</td>\n",
              "      <td>John Logan</td>\n",
              "      <td>Daniel Craig</td>\n",
              "      <td>United Kingdom</td>\n",
              "      <td>245000000.0</td>\n",
              "      <td>8.806815e+08</td>\n",
              "      <td>B24</td>\n",
              "      <td>148.0</td>\n",
              "    </tr>\n",
              "    <tr>\n",
              "      <th>...</th>\n",
              "      <td>...</td>\n",
              "      <td>...</td>\n",
              "      <td>...</td>\n",
              "      <td>...</td>\n",
              "      <td>...</td>\n",
              "      <td>...</td>\n",
              "      <td>...</td>\n",
              "      <td>...</td>\n",
              "      <td>...</td>\n",
              "      <td>...</td>\n",
              "      <td>...</td>\n",
              "      <td>...</td>\n",
              "      <td>...</td>\n",
              "      <td>...</td>\n",
              "      <td>...</td>\n",
              "      <td>...</td>\n",
              "      <td>...</td>\n",
              "      <td>...</td>\n",
              "      <td>...</td>\n",
              "      <td>...</td>\n",
              "    </tr>\n",
              "    <tr>\n",
              "      <th>195</th>\n",
              "      <td>2011-05-26</td>\n",
              "      <td>Kung Fu Panda 2</td>\n",
              "      <td>150000000</td>\n",
              "      <td>165249063</td>\n",
              "      <td>664837547</td>\n",
              "      <td>Kung Fu Panda 2</td>\n",
              "      <td>PG</td>\n",
              "      <td>Animation</td>\n",
              "      <td>2011</td>\n",
              "      <td>May 26, 2011 (United States)</td>\n",
              "      <td>7.2</td>\n",
              "      <td>262000.0</td>\n",
              "      <td>Jennifer Yuh Nelson</td>\n",
              "      <td>Jonathan Aibel</td>\n",
              "      <td>Jack Black</td>\n",
              "      <td>United States</td>\n",
              "      <td>150000000.0</td>\n",
              "      <td>6.656923e+08</td>\n",
              "      <td>DreamWorks Animation</td>\n",
              "      <td>90.0</td>\n",
              "    </tr>\n",
              "    <tr>\n",
              "      <th>196</th>\n",
              "      <td>2015-05-14</td>\n",
              "      <td>Mad Max: Fury Road</td>\n",
              "      <td>150000000</td>\n",
              "      <td>153636354</td>\n",
              "      <td>367457874</td>\n",
              "      <td>Mad Max: Fury Road</td>\n",
              "      <td>R</td>\n",
              "      <td>Action</td>\n",
              "      <td>2015</td>\n",
              "      <td>May 15, 2015 (United States)</td>\n",
              "      <td>8.1</td>\n",
              "      <td>912000.0</td>\n",
              "      <td>George Miller</td>\n",
              "      <td>George Miller</td>\n",
              "      <td>Tom Hardy</td>\n",
              "      <td>Australia</td>\n",
              "      <td>150000000.0</td>\n",
              "      <td>3.756588e+08</td>\n",
              "      <td>Warner Bros.</td>\n",
              "      <td>120.0</td>\n",
              "    </tr>\n",
              "    <tr>\n",
              "      <th>197</th>\n",
              "      <td>2003-05-11</td>\n",
              "      <td>The Matrix Revolutions</td>\n",
              "      <td>150000000</td>\n",
              "      <td>139270910</td>\n",
              "      <td>427300260</td>\n",
              "      <td>The Matrix Revolutions</td>\n",
              "      <td>R</td>\n",
              "      <td>Action</td>\n",
              "      <td>2003</td>\n",
              "      <td>November 5, 2003 (United States)</td>\n",
              "      <td>6.7</td>\n",
              "      <td>459000.0</td>\n",
              "      <td>Lana Wachowski</td>\n",
              "      <td>Lilly Wachowski</td>\n",
              "      <td>Keanu Reeves</td>\n",
              "      <td>United States</td>\n",
              "      <td>150000000.0</td>\n",
              "      <td>4.273443e+08</td>\n",
              "      <td>Warner Bros.</td>\n",
              "      <td>129.0</td>\n",
              "    </tr>\n",
              "    <tr>\n",
              "      <th>198</th>\n",
              "      <td>2018-03-20</td>\n",
              "      <td>Ready Player One</td>\n",
              "      <td>150000000</td>\n",
              "      <td>137690172</td>\n",
              "      <td>579055653</td>\n",
              "      <td>Ready Player One</td>\n",
              "      <td>PG-13</td>\n",
              "      <td>Action</td>\n",
              "      <td>2018</td>\n",
              "      <td>March 29, 2018 (United States)</td>\n",
              "      <td>7.4</td>\n",
              "      <td>388000.0</td>\n",
              "      <td>Steven Spielberg</td>\n",
              "      <td>Zak Penn</td>\n",
              "      <td>Tye Sheridan</td>\n",
              "      <td>United States</td>\n",
              "      <td>175000000.0</td>\n",
              "      <td>5.828937e+08</td>\n",
              "      <td>Warner Bros.</td>\n",
              "      <td>140.0</td>\n",
              "    </tr>\n",
              "    <tr>\n",
              "      <th>199</th>\n",
              "      <td>2005-04-11</td>\n",
              "      <td>Chicken Little</td>\n",
              "      <td>150000000</td>\n",
              "      <td>135386665</td>\n",
              "      <td>310043823</td>\n",
              "      <td>Chicken Little</td>\n",
              "      <td>G</td>\n",
              "      <td>Animation</td>\n",
              "      <td>2005</td>\n",
              "      <td>November 4, 2005 (United States)</td>\n",
              "      <td>5.7</td>\n",
              "      <td>88000.0</td>\n",
              "      <td>Mark Dindal</td>\n",
              "      <td>Mark Dindal</td>\n",
              "      <td>Zach Braff</td>\n",
              "      <td>United States</td>\n",
              "      <td>150000000.0</td>\n",
              "      <td>3.144328e+08</td>\n",
              "      <td>Walt Disney Pictures</td>\n",
              "      <td>81.0</td>\n",
              "    </tr>\n",
              "  </tbody>\n",
              "</table>\n",
              "<p>200 rows × 20 columns</p>\n",
              "</div>\n",
              "      <button class=\"colab-df-convert\" onclick=\"convertToInteractive('df-e8d34618-f156-4bfb-9c06-bce9f0ba88db')\"\n",
              "              title=\"Convert this dataframe to an interactive table.\"\n",
              "              style=\"display:none;\">\n",
              "        \n",
              "  <svg xmlns=\"http://www.w3.org/2000/svg\" height=\"24px\"viewBox=\"0 0 24 24\"\n",
              "       width=\"24px\">\n",
              "    <path d=\"M0 0h24v24H0V0z\" fill=\"none\"/>\n",
              "    <path d=\"M18.56 5.44l.94 2.06.94-2.06 2.06-.94-2.06-.94-.94-2.06-.94 2.06-2.06.94zm-11 1L8.5 8.5l.94-2.06 2.06-.94-2.06-.94L8.5 2.5l-.94 2.06-2.06.94zm10 10l.94 2.06.94-2.06 2.06-.94-2.06-.94-.94-2.06-.94 2.06-2.06.94z\"/><path d=\"M17.41 7.96l-1.37-1.37c-.4-.4-.92-.59-1.43-.59-.52 0-1.04.2-1.43.59L10.3 9.45l-7.72 7.72c-.78.78-.78 2.05 0 2.83L4 21.41c.39.39.9.59 1.41.59.51 0 1.02-.2 1.41-.59l7.78-7.78 2.81-2.81c.8-.78.8-2.07 0-2.86zM5.41 20L4 18.59l7.72-7.72 1.47 1.35L5.41 20z\"/>\n",
              "  </svg>\n",
              "      </button>\n",
              "      \n",
              "  <style>\n",
              "    .colab-df-container {\n",
              "      display:flex;\n",
              "      flex-wrap:wrap;\n",
              "      gap: 12px;\n",
              "    }\n",
              "\n",
              "    .colab-df-convert {\n",
              "      background-color: #E8F0FE;\n",
              "      border: none;\n",
              "      border-radius: 50%;\n",
              "      cursor: pointer;\n",
              "      display: none;\n",
              "      fill: #1967D2;\n",
              "      height: 32px;\n",
              "      padding: 0 0 0 0;\n",
              "      width: 32px;\n",
              "    }\n",
              "\n",
              "    .colab-df-convert:hover {\n",
              "      background-color: #E2EBFA;\n",
              "      box-shadow: 0px 1px 2px rgba(60, 64, 67, 0.3), 0px 1px 3px 1px rgba(60, 64, 67, 0.15);\n",
              "      fill: #174EA6;\n",
              "    }\n",
              "\n",
              "    [theme=dark] .colab-df-convert {\n",
              "      background-color: #3B4455;\n",
              "      fill: #D2E3FC;\n",
              "    }\n",
              "\n",
              "    [theme=dark] .colab-df-convert:hover {\n",
              "      background-color: #434B5C;\n",
              "      box-shadow: 0px 1px 3px 1px rgba(0, 0, 0, 0.15);\n",
              "      filter: drop-shadow(0px 1px 2px rgba(0, 0, 0, 0.3));\n",
              "      fill: #FFFFFF;\n",
              "    }\n",
              "  </style>\n",
              "\n",
              "      <script>\n",
              "        const buttonEl =\n",
              "          document.querySelector('#df-e8d34618-f156-4bfb-9c06-bce9f0ba88db button.colab-df-convert');\n",
              "        buttonEl.style.display =\n",
              "          google.colab.kernel.accessAllowed ? 'block' : 'none';\n",
              "\n",
              "        async function convertToInteractive(key) {\n",
              "          const element = document.querySelector('#df-e8d34618-f156-4bfb-9c06-bce9f0ba88db');\n",
              "          const dataTable =\n",
              "            await google.colab.kernel.invokeFunction('convertToInteractive',\n",
              "                                                     [key], {});\n",
              "          if (!dataTable) return;\n",
              "\n",
              "          const docLinkHtml = 'Like what you see? Visit the ' +\n",
              "            '<a target=\"_blank\" href=https://colab.research.google.com/notebooks/data_table.ipynb>data table notebook</a>'\n",
              "            + ' to learn more about interactive tables.';\n",
              "          element.innerHTML = '';\n",
              "          dataTable['output_type'] = 'display_data';\n",
              "          await google.colab.output.renderOutput(dataTable, element);\n",
              "          const docLink = document.createElement('div');\n",
              "          docLink.innerHTML = docLinkHtml;\n",
              "          element.appendChild(docLink);\n",
              "        }\n",
              "      </script>\n",
              "    </div>\n",
              "  </div>\n",
              "  "
            ],
            "text/plain": [
              "    Release Date              Movie Title  ...               company  runtime\n",
              "0     2019-04-23        Avengers: Endgame  ...        Marvel Studios    181.0\n",
              "1     2015-04-22  Avengers: Age of Ultron  ...        Marvel Studios    141.0\n",
              "2     2018-04-25   Avengers: Infinity War  ...        Marvel Studios    149.0\n",
              "3     2017-11-13           Justice League  ...          Warner Bros.    120.0\n",
              "4     2015-06-10                  Spectre  ...                   B24    148.0\n",
              "..           ...                      ...  ...                   ...      ...\n",
              "195   2011-05-26          Kung Fu Panda 2  ...  DreamWorks Animation     90.0\n",
              "196   2015-05-14       Mad Max: Fury Road  ...          Warner Bros.    120.0\n",
              "197   2003-05-11   The Matrix Revolutions  ...          Warner Bros.    129.0\n",
              "198   2018-03-20         Ready Player One  ...          Warner Bros.    140.0\n",
              "199   2005-04-11           Chicken Little  ...  Walt Disney Pictures     81.0\n",
              "\n",
              "[200 rows x 20 columns]"
            ]
          },
          "metadata": {},
          "execution_count": 11
        }
      ],
      "source": [
        "# Combine the data into a single dataset.\n",
        "#Merged_Movie_df = top_4000_movies_df.merge( movies_df, left_on='Movie Title', right_on='name')\n",
        "Merged_Movie_df = top_4000_movies_df.merge( movies_df, how='inner', left_on='Movie Title', right_on='name')\n",
        "\n",
        "Merged_Movie_df.head(200)\n"
      ]
    },
    {
      "cell_type": "code",
      "source": [
        "c_df = Merged_Movie_df.copy()"
      ],
      "metadata": {
        "id": "4qzGDTAznJv4"
      },
      "execution_count": 12,
      "outputs": []
    },
    {
      "cell_type": "code",
      "source": [
        "c_df.columns"
      ],
      "metadata": {
        "colab": {
          "base_uri": "https://localhost:8080/"
        },
        "id": "03mbcFgNnlf7",
        "outputId": "e6ae8573-b4f4-4071-b3da-21f0616875e3"
      },
      "execution_count": 13,
      "outputs": [
        {
          "output_type": "execute_result",
          "data": {
            "text/plain": [
              "Index(['Release Date', 'Movie Title', 'Production Budget', 'Domestic Gross',\n",
              "       'Worldwide Gross', 'name', 'rating', 'genre', 'year', 'released',\n",
              "       'score', 'votes', 'director', 'writer', 'star', 'country', 'budget',\n",
              "       'gross', 'company', 'runtime'],\n",
              "      dtype='object')"
            ]
          },
          "metadata": {},
          "execution_count": 13
        }
      ]
    },
    {
      "cell_type": "code",
      "source": [
        "c_df.head()"
      ],
      "metadata": {
        "colab": {
          "base_uri": "https://localhost:8080/",
          "height": 548
        },
        "id": "x8P5kkWin94U",
        "outputId": "042a7f24-cdbd-492d-d89c-5f1b78a09ead"
      },
      "execution_count": 14,
      "outputs": [
        {
          "output_type": "execute_result",
          "data": {
            "text/html": [
              "\n",
              "  <div id=\"df-65dbe665-88bb-490e-a182-7cbe6535e070\">\n",
              "    <div class=\"colab-df-container\">\n",
              "      <div>\n",
              "<style scoped>\n",
              "    .dataframe tbody tr th:only-of-type {\n",
              "        vertical-align: middle;\n",
              "    }\n",
              "\n",
              "    .dataframe tbody tr th {\n",
              "        vertical-align: top;\n",
              "    }\n",
              "\n",
              "    .dataframe thead th {\n",
              "        text-align: right;\n",
              "    }\n",
              "</style>\n",
              "<table border=\"1\" class=\"dataframe\">\n",
              "  <thead>\n",
              "    <tr style=\"text-align: right;\">\n",
              "      <th></th>\n",
              "      <th>Release Date</th>\n",
              "      <th>Movie Title</th>\n",
              "      <th>Production Budget</th>\n",
              "      <th>Domestic Gross</th>\n",
              "      <th>Worldwide Gross</th>\n",
              "      <th>name</th>\n",
              "      <th>rating</th>\n",
              "      <th>genre</th>\n",
              "      <th>year</th>\n",
              "      <th>released</th>\n",
              "      <th>score</th>\n",
              "      <th>votes</th>\n",
              "      <th>director</th>\n",
              "      <th>writer</th>\n",
              "      <th>star</th>\n",
              "      <th>country</th>\n",
              "      <th>budget</th>\n",
              "      <th>gross</th>\n",
              "      <th>company</th>\n",
              "      <th>runtime</th>\n",
              "    </tr>\n",
              "  </thead>\n",
              "  <tbody>\n",
              "    <tr>\n",
              "      <th>0</th>\n",
              "      <td>2019-04-23</td>\n",
              "      <td>Avengers: Endgame</td>\n",
              "      <td>400000000</td>\n",
              "      <td>858373000</td>\n",
              "      <td>2797800564</td>\n",
              "      <td>Avengers: Endgame</td>\n",
              "      <td>PG-13</td>\n",
              "      <td>Action</td>\n",
              "      <td>2019</td>\n",
              "      <td>April 26, 2019 (United States)</td>\n",
              "      <td>8.4</td>\n",
              "      <td>903000.0</td>\n",
              "      <td>Anthony Russo</td>\n",
              "      <td>Christopher Markus</td>\n",
              "      <td>Robert Downey Jr.</td>\n",
              "      <td>United States</td>\n",
              "      <td>356000000.0</td>\n",
              "      <td>2.797501e+09</td>\n",
              "      <td>Marvel Studios</td>\n",
              "      <td>181.0</td>\n",
              "    </tr>\n",
              "    <tr>\n",
              "      <th>1</th>\n",
              "      <td>2015-04-22</td>\n",
              "      <td>Avengers: Age of Ultron</td>\n",
              "      <td>365000000</td>\n",
              "      <td>459005868</td>\n",
              "      <td>1395316979</td>\n",
              "      <td>Avengers: Age of Ultron</td>\n",
              "      <td>PG-13</td>\n",
              "      <td>Action</td>\n",
              "      <td>2015</td>\n",
              "      <td>May 1, 2015 (United States)</td>\n",
              "      <td>7.3</td>\n",
              "      <td>777000.0</td>\n",
              "      <td>Joss Whedon</td>\n",
              "      <td>Joss Whedon</td>\n",
              "      <td>Robert Downey Jr.</td>\n",
              "      <td>United States</td>\n",
              "      <td>250000000.0</td>\n",
              "      <td>1.402810e+09</td>\n",
              "      <td>Marvel Studios</td>\n",
              "      <td>141.0</td>\n",
              "    </tr>\n",
              "    <tr>\n",
              "      <th>2</th>\n",
              "      <td>2018-04-25</td>\n",
              "      <td>Avengers: Infinity War</td>\n",
              "      <td>300000000</td>\n",
              "      <td>678815482</td>\n",
              "      <td>2044540523</td>\n",
              "      <td>Avengers: Infinity War</td>\n",
              "      <td>PG-13</td>\n",
              "      <td>Action</td>\n",
              "      <td>2018</td>\n",
              "      <td>April 27, 2018 (United States)</td>\n",
              "      <td>8.4</td>\n",
              "      <td>897000.0</td>\n",
              "      <td>Anthony Russo</td>\n",
              "      <td>Christopher Markus</td>\n",
              "      <td>Robert Downey Jr.</td>\n",
              "      <td>United States</td>\n",
              "      <td>321000000.0</td>\n",
              "      <td>2.048360e+09</td>\n",
              "      <td>Marvel Studios</td>\n",
              "      <td>149.0</td>\n",
              "    </tr>\n",
              "    <tr>\n",
              "      <th>3</th>\n",
              "      <td>2017-11-13</td>\n",
              "      <td>Justice League</td>\n",
              "      <td>300000000</td>\n",
              "      <td>229024295</td>\n",
              "      <td>655945209</td>\n",
              "      <td>Justice League</td>\n",
              "      <td>PG-13</td>\n",
              "      <td>Action</td>\n",
              "      <td>2017</td>\n",
              "      <td>November 17, 2017 (United States)</td>\n",
              "      <td>6.1</td>\n",
              "      <td>418000.0</td>\n",
              "      <td>Zack Snyder</td>\n",
              "      <td>Jerry Siegel</td>\n",
              "      <td>Ben Affleck</td>\n",
              "      <td>United States</td>\n",
              "      <td>300000000.0</td>\n",
              "      <td>6.579270e+08</td>\n",
              "      <td>Warner Bros.</td>\n",
              "      <td>120.0</td>\n",
              "    </tr>\n",
              "    <tr>\n",
              "      <th>4</th>\n",
              "      <td>2015-06-10</td>\n",
              "      <td>Spectre</td>\n",
              "      <td>300000000</td>\n",
              "      <td>200074175</td>\n",
              "      <td>879500760</td>\n",
              "      <td>Spectre</td>\n",
              "      <td>PG-13</td>\n",
              "      <td>Action</td>\n",
              "      <td>2015</td>\n",
              "      <td>November 6, 2015 (United States)</td>\n",
              "      <td>6.8</td>\n",
              "      <td>393000.0</td>\n",
              "      <td>Sam Mendes</td>\n",
              "      <td>John Logan</td>\n",
              "      <td>Daniel Craig</td>\n",
              "      <td>United Kingdom</td>\n",
              "      <td>245000000.0</td>\n",
              "      <td>8.806815e+08</td>\n",
              "      <td>B24</td>\n",
              "      <td>148.0</td>\n",
              "    </tr>\n",
              "  </tbody>\n",
              "</table>\n",
              "</div>\n",
              "      <button class=\"colab-df-convert\" onclick=\"convertToInteractive('df-65dbe665-88bb-490e-a182-7cbe6535e070')\"\n",
              "              title=\"Convert this dataframe to an interactive table.\"\n",
              "              style=\"display:none;\">\n",
              "        \n",
              "  <svg xmlns=\"http://www.w3.org/2000/svg\" height=\"24px\"viewBox=\"0 0 24 24\"\n",
              "       width=\"24px\">\n",
              "    <path d=\"M0 0h24v24H0V0z\" fill=\"none\"/>\n",
              "    <path d=\"M18.56 5.44l.94 2.06.94-2.06 2.06-.94-2.06-.94-.94-2.06-.94 2.06-2.06.94zm-11 1L8.5 8.5l.94-2.06 2.06-.94-2.06-.94L8.5 2.5l-.94 2.06-2.06.94zm10 10l.94 2.06.94-2.06 2.06-.94-2.06-.94-.94-2.06-.94 2.06-2.06.94z\"/><path d=\"M17.41 7.96l-1.37-1.37c-.4-.4-.92-.59-1.43-.59-.52 0-1.04.2-1.43.59L10.3 9.45l-7.72 7.72c-.78.78-.78 2.05 0 2.83L4 21.41c.39.39.9.59 1.41.59.51 0 1.02-.2 1.41-.59l7.78-7.78 2.81-2.81c.8-.78.8-2.07 0-2.86zM5.41 20L4 18.59l7.72-7.72 1.47 1.35L5.41 20z\"/>\n",
              "  </svg>\n",
              "      </button>\n",
              "      \n",
              "  <style>\n",
              "    .colab-df-container {\n",
              "      display:flex;\n",
              "      flex-wrap:wrap;\n",
              "      gap: 12px;\n",
              "    }\n",
              "\n",
              "    .colab-df-convert {\n",
              "      background-color: #E8F0FE;\n",
              "      border: none;\n",
              "      border-radius: 50%;\n",
              "      cursor: pointer;\n",
              "      display: none;\n",
              "      fill: #1967D2;\n",
              "      height: 32px;\n",
              "      padding: 0 0 0 0;\n",
              "      width: 32px;\n",
              "    }\n",
              "\n",
              "    .colab-df-convert:hover {\n",
              "      background-color: #E2EBFA;\n",
              "      box-shadow: 0px 1px 2px rgba(60, 64, 67, 0.3), 0px 1px 3px 1px rgba(60, 64, 67, 0.15);\n",
              "      fill: #174EA6;\n",
              "    }\n",
              "\n",
              "    [theme=dark] .colab-df-convert {\n",
              "      background-color: #3B4455;\n",
              "      fill: #D2E3FC;\n",
              "    }\n",
              "\n",
              "    [theme=dark] .colab-df-convert:hover {\n",
              "      background-color: #434B5C;\n",
              "      box-shadow: 0px 1px 3px 1px rgba(0, 0, 0, 0.15);\n",
              "      filter: drop-shadow(0px 1px 2px rgba(0, 0, 0, 0.3));\n",
              "      fill: #FFFFFF;\n",
              "    }\n",
              "  </style>\n",
              "\n",
              "      <script>\n",
              "        const buttonEl =\n",
              "          document.querySelector('#df-65dbe665-88bb-490e-a182-7cbe6535e070 button.colab-df-convert');\n",
              "        buttonEl.style.display =\n",
              "          google.colab.kernel.accessAllowed ? 'block' : 'none';\n",
              "\n",
              "        async function convertToInteractive(key) {\n",
              "          const element = document.querySelector('#df-65dbe665-88bb-490e-a182-7cbe6535e070');\n",
              "          const dataTable =\n",
              "            await google.colab.kernel.invokeFunction('convertToInteractive',\n",
              "                                                     [key], {});\n",
              "          if (!dataTable) return;\n",
              "\n",
              "          const docLinkHtml = 'Like what you see? Visit the ' +\n",
              "            '<a target=\"_blank\" href=https://colab.research.google.com/notebooks/data_table.ipynb>data table notebook</a>'\n",
              "            + ' to learn more about interactive tables.';\n",
              "          element.innerHTML = '';\n",
              "          dataTable['output_type'] = 'display_data';\n",
              "          await google.colab.output.renderOutput(dataTable, element);\n",
              "          const docLink = document.createElement('div');\n",
              "          docLink.innerHTML = docLinkHtml;\n",
              "          element.appendChild(docLink);\n",
              "        }\n",
              "      </script>\n",
              "    </div>\n",
              "  </div>\n",
              "  "
            ],
            "text/plain": [
              "  Release Date              Movie Title  ...         company  runtime\n",
              "0   2019-04-23        Avengers: Endgame  ...  Marvel Studios    181.0\n",
              "1   2015-04-22  Avengers: Age of Ultron  ...  Marvel Studios    141.0\n",
              "2   2018-04-25   Avengers: Infinity War  ...  Marvel Studios    149.0\n",
              "3   2017-11-13           Justice League  ...    Warner Bros.    120.0\n",
              "4   2015-06-10                  Spectre  ...             B24    148.0\n",
              "\n",
              "[5 rows x 20 columns]"
            ]
          },
          "metadata": {},
          "execution_count": 14
        }
      ]
    },
    {
      "cell_type": "code",
      "source": [
        "c_df = c_df.drop(['Release Date', 'year', 'director', 'writer', 'name','country','star'], axis = 1)"
      ],
      "metadata": {
        "id": "fIt-IxMGnuAv"
      },
      "execution_count": 15,
      "outputs": []
    },
    {
      "cell_type": "code",
      "source": [
        "c_df.head()"
      ],
      "metadata": {
        "colab": {
          "base_uri": "https://localhost:8080/",
          "height": 206
        },
        "id": "Uz8aTK3loVm1",
        "outputId": "1e21d43e-8678-4ed9-af57-04594be926ff"
      },
      "execution_count": 16,
      "outputs": [
        {
          "output_type": "execute_result",
          "data": {
            "text/html": [
              "\n",
              "  <div id=\"df-af5165d6-bc20-4c72-8350-383dd08b5671\">\n",
              "    <div class=\"colab-df-container\">\n",
              "      <div>\n",
              "<style scoped>\n",
              "    .dataframe tbody tr th:only-of-type {\n",
              "        vertical-align: middle;\n",
              "    }\n",
              "\n",
              "    .dataframe tbody tr th {\n",
              "        vertical-align: top;\n",
              "    }\n",
              "\n",
              "    .dataframe thead th {\n",
              "        text-align: right;\n",
              "    }\n",
              "</style>\n",
              "<table border=\"1\" class=\"dataframe\">\n",
              "  <thead>\n",
              "    <tr style=\"text-align: right;\">\n",
              "      <th></th>\n",
              "      <th>Movie Title</th>\n",
              "      <th>Production Budget</th>\n",
              "      <th>Domestic Gross</th>\n",
              "      <th>Worldwide Gross</th>\n",
              "      <th>rating</th>\n",
              "      <th>genre</th>\n",
              "      <th>released</th>\n",
              "      <th>score</th>\n",
              "      <th>votes</th>\n",
              "      <th>budget</th>\n",
              "      <th>gross</th>\n",
              "      <th>company</th>\n",
              "      <th>runtime</th>\n",
              "    </tr>\n",
              "  </thead>\n",
              "  <tbody>\n",
              "    <tr>\n",
              "      <th>0</th>\n",
              "      <td>Avengers: Endgame</td>\n",
              "      <td>400000000</td>\n",
              "      <td>858373000</td>\n",
              "      <td>2797800564</td>\n",
              "      <td>PG-13</td>\n",
              "      <td>Action</td>\n",
              "      <td>April 26, 2019 (United States)</td>\n",
              "      <td>8.4</td>\n",
              "      <td>903000.0</td>\n",
              "      <td>356000000.0</td>\n",
              "      <td>2.797501e+09</td>\n",
              "      <td>Marvel Studios</td>\n",
              "      <td>181.0</td>\n",
              "    </tr>\n",
              "    <tr>\n",
              "      <th>1</th>\n",
              "      <td>Avengers: Age of Ultron</td>\n",
              "      <td>365000000</td>\n",
              "      <td>459005868</td>\n",
              "      <td>1395316979</td>\n",
              "      <td>PG-13</td>\n",
              "      <td>Action</td>\n",
              "      <td>May 1, 2015 (United States)</td>\n",
              "      <td>7.3</td>\n",
              "      <td>777000.0</td>\n",
              "      <td>250000000.0</td>\n",
              "      <td>1.402810e+09</td>\n",
              "      <td>Marvel Studios</td>\n",
              "      <td>141.0</td>\n",
              "    </tr>\n",
              "    <tr>\n",
              "      <th>2</th>\n",
              "      <td>Avengers: Infinity War</td>\n",
              "      <td>300000000</td>\n",
              "      <td>678815482</td>\n",
              "      <td>2044540523</td>\n",
              "      <td>PG-13</td>\n",
              "      <td>Action</td>\n",
              "      <td>April 27, 2018 (United States)</td>\n",
              "      <td>8.4</td>\n",
              "      <td>897000.0</td>\n",
              "      <td>321000000.0</td>\n",
              "      <td>2.048360e+09</td>\n",
              "      <td>Marvel Studios</td>\n",
              "      <td>149.0</td>\n",
              "    </tr>\n",
              "    <tr>\n",
              "      <th>3</th>\n",
              "      <td>Justice League</td>\n",
              "      <td>300000000</td>\n",
              "      <td>229024295</td>\n",
              "      <td>655945209</td>\n",
              "      <td>PG-13</td>\n",
              "      <td>Action</td>\n",
              "      <td>November 17, 2017 (United States)</td>\n",
              "      <td>6.1</td>\n",
              "      <td>418000.0</td>\n",
              "      <td>300000000.0</td>\n",
              "      <td>6.579270e+08</td>\n",
              "      <td>Warner Bros.</td>\n",
              "      <td>120.0</td>\n",
              "    </tr>\n",
              "    <tr>\n",
              "      <th>4</th>\n",
              "      <td>Spectre</td>\n",
              "      <td>300000000</td>\n",
              "      <td>200074175</td>\n",
              "      <td>879500760</td>\n",
              "      <td>PG-13</td>\n",
              "      <td>Action</td>\n",
              "      <td>November 6, 2015 (United States)</td>\n",
              "      <td>6.8</td>\n",
              "      <td>393000.0</td>\n",
              "      <td>245000000.0</td>\n",
              "      <td>8.806815e+08</td>\n",
              "      <td>B24</td>\n",
              "      <td>148.0</td>\n",
              "    </tr>\n",
              "  </tbody>\n",
              "</table>\n",
              "</div>\n",
              "      <button class=\"colab-df-convert\" onclick=\"convertToInteractive('df-af5165d6-bc20-4c72-8350-383dd08b5671')\"\n",
              "              title=\"Convert this dataframe to an interactive table.\"\n",
              "              style=\"display:none;\">\n",
              "        \n",
              "  <svg xmlns=\"http://www.w3.org/2000/svg\" height=\"24px\"viewBox=\"0 0 24 24\"\n",
              "       width=\"24px\">\n",
              "    <path d=\"M0 0h24v24H0V0z\" fill=\"none\"/>\n",
              "    <path d=\"M18.56 5.44l.94 2.06.94-2.06 2.06-.94-2.06-.94-.94-2.06-.94 2.06-2.06.94zm-11 1L8.5 8.5l.94-2.06 2.06-.94-2.06-.94L8.5 2.5l-.94 2.06-2.06.94zm10 10l.94 2.06.94-2.06 2.06-.94-2.06-.94-.94-2.06-.94 2.06-2.06.94z\"/><path d=\"M17.41 7.96l-1.37-1.37c-.4-.4-.92-.59-1.43-.59-.52 0-1.04.2-1.43.59L10.3 9.45l-7.72 7.72c-.78.78-.78 2.05 0 2.83L4 21.41c.39.39.9.59 1.41.59.51 0 1.02-.2 1.41-.59l7.78-7.78 2.81-2.81c.8-.78.8-2.07 0-2.86zM5.41 20L4 18.59l7.72-7.72 1.47 1.35L5.41 20z\"/>\n",
              "  </svg>\n",
              "      </button>\n",
              "      \n",
              "  <style>\n",
              "    .colab-df-container {\n",
              "      display:flex;\n",
              "      flex-wrap:wrap;\n",
              "      gap: 12px;\n",
              "    }\n",
              "\n",
              "    .colab-df-convert {\n",
              "      background-color: #E8F0FE;\n",
              "      border: none;\n",
              "      border-radius: 50%;\n",
              "      cursor: pointer;\n",
              "      display: none;\n",
              "      fill: #1967D2;\n",
              "      height: 32px;\n",
              "      padding: 0 0 0 0;\n",
              "      width: 32px;\n",
              "    }\n",
              "\n",
              "    .colab-df-convert:hover {\n",
              "      background-color: #E2EBFA;\n",
              "      box-shadow: 0px 1px 2px rgba(60, 64, 67, 0.3), 0px 1px 3px 1px rgba(60, 64, 67, 0.15);\n",
              "      fill: #174EA6;\n",
              "    }\n",
              "\n",
              "    [theme=dark] .colab-df-convert {\n",
              "      background-color: #3B4455;\n",
              "      fill: #D2E3FC;\n",
              "    }\n",
              "\n",
              "    [theme=dark] .colab-df-convert:hover {\n",
              "      background-color: #434B5C;\n",
              "      box-shadow: 0px 1px 3px 1px rgba(0, 0, 0, 0.15);\n",
              "      filter: drop-shadow(0px 1px 2px rgba(0, 0, 0, 0.3));\n",
              "      fill: #FFFFFF;\n",
              "    }\n",
              "  </style>\n",
              "\n",
              "      <script>\n",
              "        const buttonEl =\n",
              "          document.querySelector('#df-af5165d6-bc20-4c72-8350-383dd08b5671 button.colab-df-convert');\n",
              "        buttonEl.style.display =\n",
              "          google.colab.kernel.accessAllowed ? 'block' : 'none';\n",
              "\n",
              "        async function convertToInteractive(key) {\n",
              "          const element = document.querySelector('#df-af5165d6-bc20-4c72-8350-383dd08b5671');\n",
              "          const dataTable =\n",
              "            await google.colab.kernel.invokeFunction('convertToInteractive',\n",
              "                                                     [key], {});\n",
              "          if (!dataTable) return;\n",
              "\n",
              "          const docLinkHtml = 'Like what you see? Visit the ' +\n",
              "            '<a target=\"_blank\" href=https://colab.research.google.com/notebooks/data_table.ipynb>data table notebook</a>'\n",
              "            + ' to learn more about interactive tables.';\n",
              "          element.innerHTML = '';\n",
              "          dataTable['output_type'] = 'display_data';\n",
              "          await google.colab.output.renderOutput(dataTable, element);\n",
              "          const docLink = document.createElement('div');\n",
              "          docLink.innerHTML = docLinkHtml;\n",
              "          element.appendChild(docLink);\n",
              "        }\n",
              "      </script>\n",
              "    </div>\n",
              "  </div>\n",
              "  "
            ],
            "text/plain": [
              "               Movie Title  Production Budget  ...         company  runtime\n",
              "0        Avengers: Endgame          400000000  ...  Marvel Studios    181.0\n",
              "1  Avengers: Age of Ultron          365000000  ...  Marvel Studios    141.0\n",
              "2   Avengers: Infinity War          300000000  ...  Marvel Studios    149.0\n",
              "3           Justice League          300000000  ...    Warner Bros.    120.0\n",
              "4                  Spectre          300000000  ...             B24    148.0\n",
              "\n",
              "[5 rows x 13 columns]"
            ]
          },
          "metadata": {},
          "execution_count": 16
        }
      ]
    },
    {
      "cell_type": "code",
      "source": [
        "df = Merged_Movie_df.copy()"
      ],
      "metadata": {
        "id": "uk_oY4c0bA4k"
      },
      "execution_count": 17,
      "outputs": []
    },
    {
      "cell_type": "code",
      "execution_count": 18,
      "metadata": {
        "colab": {
          "base_uri": "https://localhost:8080/"
        },
        "id": "YeQ-7BgpyUKw",
        "outputId": "8cd2b8db-c0d2-4145-89e1-b4eb93d59a1e"
      },
      "outputs": [
        {
          "output_type": "stream",
          "name": "stdout",
          "text": [
            "<class 'pandas.core.frame.DataFrame'>\n",
            "Int64Index: 3121 entries, 0 to 3120\n",
            "Data columns (total 20 columns):\n",
            " #   Column             Non-Null Count  Dtype         \n",
            "---  ------             --------------  -----         \n",
            " 0   Release Date       3121 non-null   datetime64[ns]\n",
            " 1   Movie Title        3121 non-null   object        \n",
            " 2   Production Budget  3121 non-null   int64         \n",
            " 3   Domestic Gross     3121 non-null   int64         \n",
            " 4   Worldwide Gross    3121 non-null   int64         \n",
            " 5   name               3121 non-null   object        \n",
            " 6   rating             3117 non-null   object        \n",
            " 7   genre              3121 non-null   object        \n",
            " 8   year               3121 non-null   int64         \n",
            " 9   released           3120 non-null   object        \n",
            " 10  score              3121 non-null   float64       \n",
            " 11  votes              3121 non-null   float64       \n",
            " 12  director           3121 non-null   object        \n",
            " 13  writer             3121 non-null   object        \n",
            " 14  star               3121 non-null   object        \n",
            " 15  country            3120 non-null   object        \n",
            " 16  budget             3004 non-null   float64       \n",
            " 17  gross              3114 non-null   float64       \n",
            " 18  company            3120 non-null   object        \n",
            " 19  runtime            3119 non-null   float64       \n",
            "dtypes: datetime64[ns](1), float64(5), int64(4), object(10)\n",
            "memory usage: 512.0+ KB\n"
          ]
        }
      ],
      "source": [
        "Merged_Movie_df.info()"
      ]
    },
    {
      "cell_type": "code",
      "execution_count": 19,
      "metadata": {
        "colab": {
          "base_uri": "https://localhost:8080/"
        },
        "id": "IisEa0rBMeXg",
        "outputId": "16d9932a-890a-432e-f358-b2d2f851e62b"
      },
      "outputs": [
        {
          "output_type": "stream",
          "name": "stdout",
          "text": [
            "Duplicate entries: 0\n"
          ]
        }
      ],
      "source": [
        "# Check for duplicates in the dataset Merged_Movie_df\n",
        "print(f\"Duplicate entries: {Merged_Movie_df.duplicated().sum()}\")"
      ]
    },
    {
      "cell_type": "code",
      "execution_count": 20,
      "metadata": {
        "colab": {
          "base_uri": "https://localhost:8080/"
        },
        "id": "m23u0j9lOXZy",
        "outputId": "8c4f07be-c88c-4c50-8b7c-46d893d54edf"
      },
      "outputs": [
        {
          "output_type": "execute_result",
          "data": {
            "text/plain": [
              "Release Date         1862\n",
              "Movie Title          2923\n",
              "Production Budget     244\n",
              "Domestic Gross       2959\n",
              "Worldwide Gross      2961\n",
              "name                 2923\n",
              "rating                  8\n",
              "genre                  14\n",
              "year                   41\n",
              "released             1732\n",
              "score                  69\n",
              "votes                 633\n",
              "director             1287\n",
              "writer               1933\n",
              "star                 1031\n",
              "country                36\n",
              "budget                241\n",
              "gross                3033\n",
              "company               735\n",
              "runtime               124\n",
              "dtype: int64"
            ]
          },
          "metadata": {},
          "execution_count": 20
        }
      ],
      "source": [
        "Merged_Movie_df.nunique()"
      ]
    },
    {
      "cell_type": "code",
      "execution_count": 21,
      "metadata": {
        "colab": {
          "base_uri": "https://localhost:8080/"
        },
        "id": "jnQrKqJxnm7G",
        "outputId": "a64b0c24-5613-43d0-8d20-3081d7cbcba4"
      },
      "outputs": [
        {
          "output_type": "execute_result",
          "data": {
            "text/plain": [
              "Index(['Release Date', 'Movie Title', 'Production Budget', 'Domestic Gross',\n",
              "       'Worldwide Gross', 'name', 'rating', 'genre', 'year', 'released',\n",
              "       'score', 'votes', 'director', 'writer', 'star', 'country', 'budget',\n",
              "       'gross', 'company', 'runtime'],\n",
              "      dtype='object')"
            ]
          },
          "metadata": {},
          "execution_count": 21
        }
      ],
      "source": [
        "Merged_Movie_df.columns"
      ]
    },
    {
      "cell_type": "code",
      "execution_count": 22,
      "metadata": {
        "id": "vzj86422Wnm8"
      },
      "outputs": [],
      "source": [
        "Merged_Movie_df.rename(columns={'Release Date':'Release_Date', 'Movie Title':'Movie_Title', 'Production Budget':'Production_Budget', 'Domestic Gross':'Domestic_Gross',\n",
        "       'Worldwide Gross':'Worldwide_Gross'},inplace=True)"
      ]
    },
    {
      "cell_type": "code",
      "execution_count": 23,
      "metadata": {
        "colab": {
          "base_uri": "https://localhost:8080/",
          "height": 531
        },
        "id": "Fq2FzhmhW4JQ",
        "outputId": "7527bb00-00c9-4af2-e2a1-0bacc52b386e"
      },
      "outputs": [
        {
          "output_type": "execute_result",
          "data": {
            "text/html": [
              "\n",
              "  <div id=\"df-cc60c87a-e1c1-4952-9ed2-239c647691d2\">\n",
              "    <div class=\"colab-df-container\">\n",
              "      <div>\n",
              "<style scoped>\n",
              "    .dataframe tbody tr th:only-of-type {\n",
              "        vertical-align: middle;\n",
              "    }\n",
              "\n",
              "    .dataframe tbody tr th {\n",
              "        vertical-align: top;\n",
              "    }\n",
              "\n",
              "    .dataframe thead th {\n",
              "        text-align: right;\n",
              "    }\n",
              "</style>\n",
              "<table border=\"1\" class=\"dataframe\">\n",
              "  <thead>\n",
              "    <tr style=\"text-align: right;\">\n",
              "      <th></th>\n",
              "      <th>Release_Date</th>\n",
              "      <th>Movie_Title</th>\n",
              "      <th>Production_Budget</th>\n",
              "      <th>Domestic_Gross</th>\n",
              "      <th>Worldwide_Gross</th>\n",
              "      <th>name</th>\n",
              "      <th>rating</th>\n",
              "      <th>genre</th>\n",
              "      <th>year</th>\n",
              "      <th>released</th>\n",
              "      <th>score</th>\n",
              "      <th>votes</th>\n",
              "      <th>director</th>\n",
              "      <th>writer</th>\n",
              "      <th>star</th>\n",
              "      <th>country</th>\n",
              "      <th>budget</th>\n",
              "      <th>gross</th>\n",
              "      <th>company</th>\n",
              "      <th>runtime</th>\n",
              "    </tr>\n",
              "  </thead>\n",
              "  <tbody>\n",
              "    <tr>\n",
              "      <th>0</th>\n",
              "      <td>2019-04-23</td>\n",
              "      <td>Avengers: Endgame</td>\n",
              "      <td>400000000</td>\n",
              "      <td>858373000</td>\n",
              "      <td>2797800564</td>\n",
              "      <td>Avengers: Endgame</td>\n",
              "      <td>PG-13</td>\n",
              "      <td>Action</td>\n",
              "      <td>2019</td>\n",
              "      <td>April 26, 2019 (United States)</td>\n",
              "      <td>8.4</td>\n",
              "      <td>903000.0</td>\n",
              "      <td>Anthony Russo</td>\n",
              "      <td>Christopher Markus</td>\n",
              "      <td>Robert Downey Jr.</td>\n",
              "      <td>United States</td>\n",
              "      <td>356000000.0</td>\n",
              "      <td>2.797501e+09</td>\n",
              "      <td>Marvel Studios</td>\n",
              "      <td>181.0</td>\n",
              "    </tr>\n",
              "    <tr>\n",
              "      <th>1</th>\n",
              "      <td>2015-04-22</td>\n",
              "      <td>Avengers: Age of Ultron</td>\n",
              "      <td>365000000</td>\n",
              "      <td>459005868</td>\n",
              "      <td>1395316979</td>\n",
              "      <td>Avengers: Age of Ultron</td>\n",
              "      <td>PG-13</td>\n",
              "      <td>Action</td>\n",
              "      <td>2015</td>\n",
              "      <td>May 1, 2015 (United States)</td>\n",
              "      <td>7.3</td>\n",
              "      <td>777000.0</td>\n",
              "      <td>Joss Whedon</td>\n",
              "      <td>Joss Whedon</td>\n",
              "      <td>Robert Downey Jr.</td>\n",
              "      <td>United States</td>\n",
              "      <td>250000000.0</td>\n",
              "      <td>1.402810e+09</td>\n",
              "      <td>Marvel Studios</td>\n",
              "      <td>141.0</td>\n",
              "    </tr>\n",
              "    <tr>\n",
              "      <th>2</th>\n",
              "      <td>2018-04-25</td>\n",
              "      <td>Avengers: Infinity War</td>\n",
              "      <td>300000000</td>\n",
              "      <td>678815482</td>\n",
              "      <td>2044540523</td>\n",
              "      <td>Avengers: Infinity War</td>\n",
              "      <td>PG-13</td>\n",
              "      <td>Action</td>\n",
              "      <td>2018</td>\n",
              "      <td>April 27, 2018 (United States)</td>\n",
              "      <td>8.4</td>\n",
              "      <td>897000.0</td>\n",
              "      <td>Anthony Russo</td>\n",
              "      <td>Christopher Markus</td>\n",
              "      <td>Robert Downey Jr.</td>\n",
              "      <td>United States</td>\n",
              "      <td>321000000.0</td>\n",
              "      <td>2.048360e+09</td>\n",
              "      <td>Marvel Studios</td>\n",
              "      <td>149.0</td>\n",
              "    </tr>\n",
              "    <tr>\n",
              "      <th>3</th>\n",
              "      <td>2017-11-13</td>\n",
              "      <td>Justice League</td>\n",
              "      <td>300000000</td>\n",
              "      <td>229024295</td>\n",
              "      <td>655945209</td>\n",
              "      <td>Justice League</td>\n",
              "      <td>PG-13</td>\n",
              "      <td>Action</td>\n",
              "      <td>2017</td>\n",
              "      <td>November 17, 2017 (United States)</td>\n",
              "      <td>6.1</td>\n",
              "      <td>418000.0</td>\n",
              "      <td>Zack Snyder</td>\n",
              "      <td>Jerry Siegel</td>\n",
              "      <td>Ben Affleck</td>\n",
              "      <td>United States</td>\n",
              "      <td>300000000.0</td>\n",
              "      <td>6.579270e+08</td>\n",
              "      <td>Warner Bros.</td>\n",
              "      <td>120.0</td>\n",
              "    </tr>\n",
              "    <tr>\n",
              "      <th>4</th>\n",
              "      <td>2015-06-10</td>\n",
              "      <td>Spectre</td>\n",
              "      <td>300000000</td>\n",
              "      <td>200074175</td>\n",
              "      <td>879500760</td>\n",
              "      <td>Spectre</td>\n",
              "      <td>PG-13</td>\n",
              "      <td>Action</td>\n",
              "      <td>2015</td>\n",
              "      <td>November 6, 2015 (United States)</td>\n",
              "      <td>6.8</td>\n",
              "      <td>393000.0</td>\n",
              "      <td>Sam Mendes</td>\n",
              "      <td>John Logan</td>\n",
              "      <td>Daniel Craig</td>\n",
              "      <td>United Kingdom</td>\n",
              "      <td>245000000.0</td>\n",
              "      <td>8.806815e+08</td>\n",
              "      <td>B24</td>\n",
              "      <td>148.0</td>\n",
              "    </tr>\n",
              "  </tbody>\n",
              "</table>\n",
              "</div>\n",
              "      <button class=\"colab-df-convert\" onclick=\"convertToInteractive('df-cc60c87a-e1c1-4952-9ed2-239c647691d2')\"\n",
              "              title=\"Convert this dataframe to an interactive table.\"\n",
              "              style=\"display:none;\">\n",
              "        \n",
              "  <svg xmlns=\"http://www.w3.org/2000/svg\" height=\"24px\"viewBox=\"0 0 24 24\"\n",
              "       width=\"24px\">\n",
              "    <path d=\"M0 0h24v24H0V0z\" fill=\"none\"/>\n",
              "    <path d=\"M18.56 5.44l.94 2.06.94-2.06 2.06-.94-2.06-.94-.94-2.06-.94 2.06-2.06.94zm-11 1L8.5 8.5l.94-2.06 2.06-.94-2.06-.94L8.5 2.5l-.94 2.06-2.06.94zm10 10l.94 2.06.94-2.06 2.06-.94-2.06-.94-.94-2.06-.94 2.06-2.06.94z\"/><path d=\"M17.41 7.96l-1.37-1.37c-.4-.4-.92-.59-1.43-.59-.52 0-1.04.2-1.43.59L10.3 9.45l-7.72 7.72c-.78.78-.78 2.05 0 2.83L4 21.41c.39.39.9.59 1.41.59.51 0 1.02-.2 1.41-.59l7.78-7.78 2.81-2.81c.8-.78.8-2.07 0-2.86zM5.41 20L4 18.59l7.72-7.72 1.47 1.35L5.41 20z\"/>\n",
              "  </svg>\n",
              "      </button>\n",
              "      \n",
              "  <style>\n",
              "    .colab-df-container {\n",
              "      display:flex;\n",
              "      flex-wrap:wrap;\n",
              "      gap: 12px;\n",
              "    }\n",
              "\n",
              "    .colab-df-convert {\n",
              "      background-color: #E8F0FE;\n",
              "      border: none;\n",
              "      border-radius: 50%;\n",
              "      cursor: pointer;\n",
              "      display: none;\n",
              "      fill: #1967D2;\n",
              "      height: 32px;\n",
              "      padding: 0 0 0 0;\n",
              "      width: 32px;\n",
              "    }\n",
              "\n",
              "    .colab-df-convert:hover {\n",
              "      background-color: #E2EBFA;\n",
              "      box-shadow: 0px 1px 2px rgba(60, 64, 67, 0.3), 0px 1px 3px 1px rgba(60, 64, 67, 0.15);\n",
              "      fill: #174EA6;\n",
              "    }\n",
              "\n",
              "    [theme=dark] .colab-df-convert {\n",
              "      background-color: #3B4455;\n",
              "      fill: #D2E3FC;\n",
              "    }\n",
              "\n",
              "    [theme=dark] .colab-df-convert:hover {\n",
              "      background-color: #434B5C;\n",
              "      box-shadow: 0px 1px 3px 1px rgba(0, 0, 0, 0.15);\n",
              "      filter: drop-shadow(0px 1px 2px rgba(0, 0, 0, 0.3));\n",
              "      fill: #FFFFFF;\n",
              "    }\n",
              "  </style>\n",
              "\n",
              "      <script>\n",
              "        const buttonEl =\n",
              "          document.querySelector('#df-cc60c87a-e1c1-4952-9ed2-239c647691d2 button.colab-df-convert');\n",
              "        buttonEl.style.display =\n",
              "          google.colab.kernel.accessAllowed ? 'block' : 'none';\n",
              "\n",
              "        async function convertToInteractive(key) {\n",
              "          const element = document.querySelector('#df-cc60c87a-e1c1-4952-9ed2-239c647691d2');\n",
              "          const dataTable =\n",
              "            await google.colab.kernel.invokeFunction('convertToInteractive',\n",
              "                                                     [key], {});\n",
              "          if (!dataTable) return;\n",
              "\n",
              "          const docLinkHtml = 'Like what you see? Visit the ' +\n",
              "            '<a target=\"_blank\" href=https://colab.research.google.com/notebooks/data_table.ipynb>data table notebook</a>'\n",
              "            + ' to learn more about interactive tables.';\n",
              "          element.innerHTML = '';\n",
              "          dataTable['output_type'] = 'display_data';\n",
              "          await google.colab.output.renderOutput(dataTable, element);\n",
              "          const docLink = document.createElement('div');\n",
              "          docLink.innerHTML = docLinkHtml;\n",
              "          element.appendChild(docLink);\n",
              "        }\n",
              "      </script>\n",
              "    </div>\n",
              "  </div>\n",
              "  "
            ],
            "text/plain": [
              "  Release_Date              Movie_Title  ...         company  runtime\n",
              "0   2019-04-23        Avengers: Endgame  ...  Marvel Studios    181.0\n",
              "1   2015-04-22  Avengers: Age of Ultron  ...  Marvel Studios    141.0\n",
              "2   2018-04-25   Avengers: Infinity War  ...  Marvel Studios    149.0\n",
              "3   2017-11-13           Justice League  ...    Warner Bros.    120.0\n",
              "4   2015-06-10                  Spectre  ...             B24    148.0\n",
              "\n",
              "[5 rows x 20 columns]"
            ]
          },
          "metadata": {},
          "execution_count": 23
        }
      ],
      "source": [
        "Merged_Movie_df.head()\n"
      ]
    },
    {
      "cell_type": "code",
      "execution_count": 24,
      "metadata": {
        "id": "sumW4-FjSmj2"
      },
      "outputs": [],
      "source": [
        "# Check IMDB score column to categorize the score ratings as Favorable vs Unfavorable\n",
        "Merged_Movie_df.score.unique()\n",
        "o_df = Merged_Movie_df.copy()\n"
      ]
    },
    {
      "cell_type": "code",
      "execution_count": 25,
      "metadata": {
        "colab": {
          "base_uri": "https://localhost:8080/",
          "height": 531
        },
        "id": "9W-iQTHTO2w8",
        "outputId": "fa1fe7d1-373d-4b84-81f6-967fadba9507"
      },
      "outputs": [
        {
          "output_type": "execute_result",
          "data": {
            "text/html": [
              "\n",
              "  <div id=\"df-e3809ac5-b3ce-4def-942d-20a407b75f96\">\n",
              "    <div class=\"colab-df-container\">\n",
              "      <div>\n",
              "<style scoped>\n",
              "    .dataframe tbody tr th:only-of-type {\n",
              "        vertical-align: middle;\n",
              "    }\n",
              "\n",
              "    .dataframe tbody tr th {\n",
              "        vertical-align: top;\n",
              "    }\n",
              "\n",
              "    .dataframe thead th {\n",
              "        text-align: right;\n",
              "    }\n",
              "</style>\n",
              "<table border=\"1\" class=\"dataframe\">\n",
              "  <thead>\n",
              "    <tr style=\"text-align: right;\">\n",
              "      <th></th>\n",
              "      <th>Release_Date</th>\n",
              "      <th>Movie_Title</th>\n",
              "      <th>Production_Budget</th>\n",
              "      <th>Domestic_Gross</th>\n",
              "      <th>Worldwide_Gross</th>\n",
              "      <th>name</th>\n",
              "      <th>rating</th>\n",
              "      <th>genre</th>\n",
              "      <th>year</th>\n",
              "      <th>released</th>\n",
              "      <th>score</th>\n",
              "      <th>votes</th>\n",
              "      <th>director</th>\n",
              "      <th>writer</th>\n",
              "      <th>star</th>\n",
              "      <th>country</th>\n",
              "      <th>budget</th>\n",
              "      <th>gross</th>\n",
              "      <th>company</th>\n",
              "      <th>runtime</th>\n",
              "    </tr>\n",
              "  </thead>\n",
              "  <tbody>\n",
              "    <tr>\n",
              "      <th>0</th>\n",
              "      <td>2019-04-23</td>\n",
              "      <td>Avengers: Endgame</td>\n",
              "      <td>400000000</td>\n",
              "      <td>858373000</td>\n",
              "      <td>2797800564</td>\n",
              "      <td>Avengers: Endgame</td>\n",
              "      <td>PG-13</td>\n",
              "      <td>Action</td>\n",
              "      <td>2019</td>\n",
              "      <td>April 26, 2019 (United States)</td>\n",
              "      <td>Favorable</td>\n",
              "      <td>903000.0</td>\n",
              "      <td>Anthony Russo</td>\n",
              "      <td>Christopher Markus</td>\n",
              "      <td>Robert Downey Jr.</td>\n",
              "      <td>United States</td>\n",
              "      <td>356000000.0</td>\n",
              "      <td>2.797501e+09</td>\n",
              "      <td>Marvel Studios</td>\n",
              "      <td>181.0</td>\n",
              "    </tr>\n",
              "    <tr>\n",
              "      <th>1</th>\n",
              "      <td>2015-04-22</td>\n",
              "      <td>Avengers: Age of Ultron</td>\n",
              "      <td>365000000</td>\n",
              "      <td>459005868</td>\n",
              "      <td>1395316979</td>\n",
              "      <td>Avengers: Age of Ultron</td>\n",
              "      <td>PG-13</td>\n",
              "      <td>Action</td>\n",
              "      <td>2015</td>\n",
              "      <td>May 1, 2015 (United States)</td>\n",
              "      <td>Favorable</td>\n",
              "      <td>777000.0</td>\n",
              "      <td>Joss Whedon</td>\n",
              "      <td>Joss Whedon</td>\n",
              "      <td>Robert Downey Jr.</td>\n",
              "      <td>United States</td>\n",
              "      <td>250000000.0</td>\n",
              "      <td>1.402810e+09</td>\n",
              "      <td>Marvel Studios</td>\n",
              "      <td>141.0</td>\n",
              "    </tr>\n",
              "    <tr>\n",
              "      <th>2</th>\n",
              "      <td>2018-04-25</td>\n",
              "      <td>Avengers: Infinity War</td>\n",
              "      <td>300000000</td>\n",
              "      <td>678815482</td>\n",
              "      <td>2044540523</td>\n",
              "      <td>Avengers: Infinity War</td>\n",
              "      <td>PG-13</td>\n",
              "      <td>Action</td>\n",
              "      <td>2018</td>\n",
              "      <td>April 27, 2018 (United States)</td>\n",
              "      <td>Favorable</td>\n",
              "      <td>897000.0</td>\n",
              "      <td>Anthony Russo</td>\n",
              "      <td>Christopher Markus</td>\n",
              "      <td>Robert Downey Jr.</td>\n",
              "      <td>United States</td>\n",
              "      <td>321000000.0</td>\n",
              "      <td>2.048360e+09</td>\n",
              "      <td>Marvel Studios</td>\n",
              "      <td>149.0</td>\n",
              "    </tr>\n",
              "    <tr>\n",
              "      <th>3</th>\n",
              "      <td>2017-11-13</td>\n",
              "      <td>Justice League</td>\n",
              "      <td>300000000</td>\n",
              "      <td>229024295</td>\n",
              "      <td>655945209</td>\n",
              "      <td>Justice League</td>\n",
              "      <td>PG-13</td>\n",
              "      <td>Action</td>\n",
              "      <td>2017</td>\n",
              "      <td>November 17, 2017 (United States)</td>\n",
              "      <td>Favorable</td>\n",
              "      <td>418000.0</td>\n",
              "      <td>Zack Snyder</td>\n",
              "      <td>Jerry Siegel</td>\n",
              "      <td>Ben Affleck</td>\n",
              "      <td>United States</td>\n",
              "      <td>300000000.0</td>\n",
              "      <td>6.579270e+08</td>\n",
              "      <td>Warner Bros.</td>\n",
              "      <td>120.0</td>\n",
              "    </tr>\n",
              "    <tr>\n",
              "      <th>4</th>\n",
              "      <td>2015-06-10</td>\n",
              "      <td>Spectre</td>\n",
              "      <td>300000000</td>\n",
              "      <td>200074175</td>\n",
              "      <td>879500760</td>\n",
              "      <td>Spectre</td>\n",
              "      <td>PG-13</td>\n",
              "      <td>Action</td>\n",
              "      <td>2015</td>\n",
              "      <td>November 6, 2015 (United States)</td>\n",
              "      <td>Favorable</td>\n",
              "      <td>393000.0</td>\n",
              "      <td>Sam Mendes</td>\n",
              "      <td>John Logan</td>\n",
              "      <td>Daniel Craig</td>\n",
              "      <td>United Kingdom</td>\n",
              "      <td>245000000.0</td>\n",
              "      <td>8.806815e+08</td>\n",
              "      <td>B24</td>\n",
              "      <td>148.0</td>\n",
              "    </tr>\n",
              "  </tbody>\n",
              "</table>\n",
              "</div>\n",
              "      <button class=\"colab-df-convert\" onclick=\"convertToInteractive('df-e3809ac5-b3ce-4def-942d-20a407b75f96')\"\n",
              "              title=\"Convert this dataframe to an interactive table.\"\n",
              "              style=\"display:none;\">\n",
              "        \n",
              "  <svg xmlns=\"http://www.w3.org/2000/svg\" height=\"24px\"viewBox=\"0 0 24 24\"\n",
              "       width=\"24px\">\n",
              "    <path d=\"M0 0h24v24H0V0z\" fill=\"none\"/>\n",
              "    <path d=\"M18.56 5.44l.94 2.06.94-2.06 2.06-.94-2.06-.94-.94-2.06-.94 2.06-2.06.94zm-11 1L8.5 8.5l.94-2.06 2.06-.94-2.06-.94L8.5 2.5l-.94 2.06-2.06.94zm10 10l.94 2.06.94-2.06 2.06-.94-2.06-.94-.94-2.06-.94 2.06-2.06.94z\"/><path d=\"M17.41 7.96l-1.37-1.37c-.4-.4-.92-.59-1.43-.59-.52 0-1.04.2-1.43.59L10.3 9.45l-7.72 7.72c-.78.78-.78 2.05 0 2.83L4 21.41c.39.39.9.59 1.41.59.51 0 1.02-.2 1.41-.59l7.78-7.78 2.81-2.81c.8-.78.8-2.07 0-2.86zM5.41 20L4 18.59l7.72-7.72 1.47 1.35L5.41 20z\"/>\n",
              "  </svg>\n",
              "      </button>\n",
              "      \n",
              "  <style>\n",
              "    .colab-df-container {\n",
              "      display:flex;\n",
              "      flex-wrap:wrap;\n",
              "      gap: 12px;\n",
              "    }\n",
              "\n",
              "    .colab-df-convert {\n",
              "      background-color: #E8F0FE;\n",
              "      border: none;\n",
              "      border-radius: 50%;\n",
              "      cursor: pointer;\n",
              "      display: none;\n",
              "      fill: #1967D2;\n",
              "      height: 32px;\n",
              "      padding: 0 0 0 0;\n",
              "      width: 32px;\n",
              "    }\n",
              "\n",
              "    .colab-df-convert:hover {\n",
              "      background-color: #E2EBFA;\n",
              "      box-shadow: 0px 1px 2px rgba(60, 64, 67, 0.3), 0px 1px 3px 1px rgba(60, 64, 67, 0.15);\n",
              "      fill: #174EA6;\n",
              "    }\n",
              "\n",
              "    [theme=dark] .colab-df-convert {\n",
              "      background-color: #3B4455;\n",
              "      fill: #D2E3FC;\n",
              "    }\n",
              "\n",
              "    [theme=dark] .colab-df-convert:hover {\n",
              "      background-color: #434B5C;\n",
              "      box-shadow: 0px 1px 3px 1px rgba(0, 0, 0, 0.15);\n",
              "      filter: drop-shadow(0px 1px 2px rgba(0, 0, 0, 0.3));\n",
              "      fill: #FFFFFF;\n",
              "    }\n",
              "  </style>\n",
              "\n",
              "      <script>\n",
              "        const buttonEl =\n",
              "          document.querySelector('#df-e3809ac5-b3ce-4def-942d-20a407b75f96 button.colab-df-convert');\n",
              "        buttonEl.style.display =\n",
              "          google.colab.kernel.accessAllowed ? 'block' : 'none';\n",
              "\n",
              "        async function convertToInteractive(key) {\n",
              "          const element = document.querySelector('#df-e3809ac5-b3ce-4def-942d-20a407b75f96');\n",
              "          const dataTable =\n",
              "            await google.colab.kernel.invokeFunction('convertToInteractive',\n",
              "                                                     [key], {});\n",
              "          if (!dataTable) return;\n",
              "\n",
              "          const docLinkHtml = 'Like what you see? Visit the ' +\n",
              "            '<a target=\"_blank\" href=https://colab.research.google.com/notebooks/data_table.ipynb>data table notebook</a>'\n",
              "            + ' to learn more about interactive tables.';\n",
              "          element.innerHTML = '';\n",
              "          dataTable['output_type'] = 'display_data';\n",
              "          await google.colab.output.renderOutput(dataTable, element);\n",
              "          const docLink = document.createElement('div');\n",
              "          docLink.innerHTML = docLinkHtml;\n",
              "          element.appendChild(docLink);\n",
              "        }\n",
              "      </script>\n",
              "    </div>\n",
              "  </div>\n",
              "  "
            ],
            "text/plain": [
              "  Release_Date              Movie_Title  ...         company  runtime\n",
              "0   2019-04-23        Avengers: Endgame  ...  Marvel Studios    181.0\n",
              "1   2015-04-22  Avengers: Age of Ultron  ...  Marvel Studios    141.0\n",
              "2   2018-04-25   Avengers: Infinity War  ...  Marvel Studios    149.0\n",
              "3   2017-11-13           Justice League  ...    Warner Bros.    120.0\n",
              "4   2015-06-10                  Spectre  ...             B24    148.0\n",
              "\n",
              "[5 rows x 20 columns]"
            ]
          },
          "metadata": {},
          "execution_count": 25
        }
      ],
      "source": [
        "# Transform the score into over 6 or under 6 categories\n",
        "\n",
        "def change_score_to_Category(IMDB):\n",
        "  if IMDB >= 6 :\n",
        "    return \"Favorable\"\n",
        "  else: \n",
        "    return \"Unfavorable\"\n",
        "\n",
        "Merged_Movie_df['score'] = Merged_Movie_df['score'].apply(change_score_to_Category)\n",
        "Merged_Movie_df.head()\n",
        "  "
      ]
    },
    {
      "cell_type": "code",
      "execution_count": 26,
      "metadata": {
        "colab": {
          "base_uri": "https://localhost:8080/"
        },
        "id": "PF6o2tw9VJHg",
        "outputId": "0d6eabfa-e148-4229-afb7-b1d91fc71c4f"
      },
      "outputs": [
        {
          "output_type": "execute_result",
          "data": {
            "text/plain": [
              "Release_Date         1862\n",
              "Movie_Title          2923\n",
              "Production_Budget     244\n",
              "Domestic_Gross       2959\n",
              "Worldwide_Gross      2961\n",
              "name                 2923\n",
              "rating                  8\n",
              "genre                  14\n",
              "year                   41\n",
              "released             1732\n",
              "score                   2\n",
              "votes                 633\n",
              "director             1287\n",
              "writer               1933\n",
              "star                 1031\n",
              "country                36\n",
              "budget                241\n",
              "gross                3033\n",
              "company               735\n",
              "runtime               124\n",
              "dtype: int64"
            ]
          },
          "metadata": {},
          "execution_count": 26
        }
      ],
      "source": [
        "Merged_Movie_df.nunique()"
      ]
    },
    {
      "cell_type": "code",
      "execution_count": 27,
      "metadata": {
        "colab": {
          "base_uri": "https://localhost:8080/"
        },
        "id": "dg5d09M2V5Of",
        "outputId": "db5b2e80-f327-4287-fad7-33f0617e20c0"
      },
      "outputs": [
        {
          "output_type": "execute_result",
          "data": {
            "text/plain": [
              "Release_Date         datetime64[ns]\n",
              "Movie_Title                  object\n",
              "Production_Budget             int64\n",
              "Domestic_Gross                int64\n",
              "Worldwide_Gross               int64\n",
              "name                         object\n",
              "rating                       object\n",
              "genre                        object\n",
              "year                          int64\n",
              "released                     object\n",
              "score                        object\n",
              "votes                       float64\n",
              "director                     object\n",
              "writer                       object\n",
              "star                         object\n",
              "country                      object\n",
              "budget                      float64\n",
              "gross                       float64\n",
              "company                      object\n",
              "runtime                     float64\n",
              "dtype: object"
            ]
          },
          "metadata": {},
          "execution_count": 27
        }
      ],
      "source": [
        "Merged_Movie_df.dtypes"
      ]
    },
    {
      "cell_type": "code",
      "execution_count": 28,
      "metadata": {
        "colab": {
          "base_uri": "https://localhost:8080/"
        },
        "id": "tuouvLwpZX9p",
        "outputId": "c5b193d4-86c5-45fe-e361-c69a88df849b"
      },
      "outputs": [
        {
          "output_type": "stream",
          "name": "stdout",
          "text": [
            "Column Release_Date has 0 null values\n",
            "Column Movie_Title has 0 null values\n",
            "Column Production_Budget has 0 null values\n",
            "Column Domestic_Gross has 0 null values\n",
            "Column Worldwide_Gross has 0 null values\n",
            "Column name has 0 null values\n",
            "Column rating has 4 null values\n",
            "Column genre has 0 null values\n",
            "Column year has 0 null values\n",
            "Column released has 1 null values\n",
            "Column score has 0 null values\n",
            "Column votes has 0 null values\n",
            "Column director has 0 null values\n",
            "Column writer has 0 null values\n",
            "Column star has 0 null values\n",
            "Column country has 1 null values\n",
            "Column budget has 117 null values\n",
            "Column gross has 7 null values\n",
            "Column company has 1 null values\n",
            "Column runtime has 2 null values\n"
          ]
        }
      ],
      "source": [
        "# Check for null values\n",
        "for column in Merged_Movie_df.columns:\n",
        "    print(f\"Column {column} has {Merged_Movie_df[column].isnull().sum()} null values\")"
      ]
    },
    {
      "cell_type": "code",
      "execution_count": 29,
      "metadata": {
        "colab": {
          "base_uri": "https://localhost:8080/"
        },
        "id": "UtU2tyxsBfCN",
        "outputId": "a0fa1741-c1a3-4153-85b1-7df991b5b4e1"
      },
      "outputs": [
        {
          "output_type": "stream",
          "name": "stdout",
          "text": [
            "<class 'pandas.core.frame.DataFrame'>\n",
            "Int64Index: 3121 entries, 0 to 3120\n",
            "Data columns (total 20 columns):\n",
            " #   Column             Non-Null Count  Dtype         \n",
            "---  ------             --------------  -----         \n",
            " 0   Release_Date       3121 non-null   datetime64[ns]\n",
            " 1   Movie_Title        3121 non-null   object        \n",
            " 2   Production_Budget  3121 non-null   int64         \n",
            " 3   Domestic_Gross     3121 non-null   int64         \n",
            " 4   Worldwide_Gross    3121 non-null   int64         \n",
            " 5   name               3121 non-null   object        \n",
            " 6   rating             3117 non-null   object        \n",
            " 7   genre              3121 non-null   object        \n",
            " 8   year               3121 non-null   int64         \n",
            " 9   released           3120 non-null   object        \n",
            " 10  score              3121 non-null   object        \n",
            " 11  votes              3121 non-null   float64       \n",
            " 12  director           3121 non-null   object        \n",
            " 13  writer             3121 non-null   object        \n",
            " 14  star               3121 non-null   object        \n",
            " 15  country            3120 non-null   object        \n",
            " 16  budget             3004 non-null   float64       \n",
            " 17  gross              3114 non-null   float64       \n",
            " 18  company            3120 non-null   object        \n",
            " 19  runtime            3119 non-null   float64       \n",
            "dtypes: datetime64[ns](1), float64(4), int64(4), object(11)\n",
            "memory usage: 512.0+ KB\n"
          ]
        }
      ],
      "source": [
        "Merged_Movie_df.info()"
      ]
    },
    {
      "cell_type": "code",
      "execution_count": 30,
      "metadata": {
        "id": "HqA9MfVPa2ci"
      },
      "outputs": [],
      "source": [
        "# Drop Null Rows and useless columns\n",
        "\n",
        "Merged_Movie_df = Merged_Movie_df.dropna()\n",
        "# Remove two columns name is 'name' and 'released' and Release_Date and 'country'\n",
        "Merged_Movie_df = Merged_Movie_df.drop(['name', 'released', 'Release_Date', 'country' ], axis = 1)\n"
      ]
    },
    {
      "cell_type": "code",
      "execution_count": 31,
      "metadata": {
        "id": "sFXHCUMeBap5"
      },
      "outputs": [],
      "source": [
        "Merged_Movie_df = Merged_Movie_df.drop_duplicates(subset= 'Movie_Title', keep= 'first', inplace=False)"
      ]
    },
    {
      "cell_type": "code",
      "execution_count": 32,
      "metadata": {
        "colab": {
          "base_uri": "https://localhost:8080/"
        },
        "id": "aAKX0NLfBiIF",
        "outputId": "3bef04c1-cd9b-46cd-dc68-bc722902c89b"
      },
      "outputs": [
        {
          "output_type": "stream",
          "name": "stdout",
          "text": [
            "<class 'pandas.core.frame.DataFrame'>\n",
            "Int64Index: 2847 entries, 0 to 3120\n",
            "Data columns (total 16 columns):\n",
            " #   Column             Non-Null Count  Dtype  \n",
            "---  ------             --------------  -----  \n",
            " 0   Movie_Title        2847 non-null   object \n",
            " 1   Production_Budget  2847 non-null   int64  \n",
            " 2   Domestic_Gross     2847 non-null   int64  \n",
            " 3   Worldwide_Gross    2847 non-null   int64  \n",
            " 4   rating             2847 non-null   object \n",
            " 5   genre              2847 non-null   object \n",
            " 6   year               2847 non-null   int64  \n",
            " 7   score              2847 non-null   object \n",
            " 8   votes              2847 non-null   float64\n",
            " 9   director           2847 non-null   object \n",
            " 10  writer             2847 non-null   object \n",
            " 11  star               2847 non-null   object \n",
            " 12  budget             2847 non-null   float64\n",
            " 13  gross              2847 non-null   float64\n",
            " 14  company            2847 non-null   object \n",
            " 15  runtime            2847 non-null   float64\n",
            "dtypes: float64(4), int64(4), object(8)\n",
            "memory usage: 378.1+ KB\n"
          ]
        }
      ],
      "source": [
        "Merged_Movie_df.info()"
      ]
    },
    {
      "cell_type": "code",
      "execution_count": 33,
      "metadata": {
        "colab": {
          "base_uri": "https://localhost:8080/"
        },
        "id": "h6syorBja_Um",
        "outputId": "3db3bde8-650f-420f-985a-fb34db29855b"
      },
      "outputs": [
        {
          "output_type": "stream",
          "name": "stdout",
          "text": [
            "Column Movie_Title has 0 null values\n",
            "Column Production_Budget has 0 null values\n",
            "Column Domestic_Gross has 0 null values\n",
            "Column Worldwide_Gross has 0 null values\n",
            "Column rating has 0 null values\n",
            "Column genre has 0 null values\n",
            "Column year has 0 null values\n",
            "Column score has 0 null values\n",
            "Column votes has 0 null values\n",
            "Column director has 0 null values\n",
            "Column writer has 0 null values\n",
            "Column star has 0 null values\n",
            "Column budget has 0 null values\n",
            "Column gross has 0 null values\n",
            "Column company has 0 null values\n",
            "Column runtime has 0 null values\n"
          ]
        }
      ],
      "source": [
        "# Check for null values\n",
        "for column in Merged_Movie_df.columns:\n",
        "    print(f\"Column {column} has {Merged_Movie_df[column].isnull().sum()} null values\")"
      ]
    },
    {
      "cell_type": "code",
      "execution_count": 34,
      "metadata": {
        "colab": {
          "base_uri": "https://localhost:8080/"
        },
        "id": "UX_Y69rJdxfC",
        "outputId": "d00e3b79-06c3-4611-c967-3d7d2b7d7cdc"
      },
      "outputs": [
        {
          "output_type": "execute_result",
          "data": {
            "text/plain": [
              "Index(['Movie_Title', 'Production_Budget', 'Domestic_Gross', 'Worldwide_Gross',\n",
              "       'rating', 'genre', 'year', 'score', 'votes', 'director', 'writer',\n",
              "       'star', 'budget', 'gross', 'company', 'runtime'],\n",
              "      dtype='object')"
            ]
          },
          "metadata": {},
          "execution_count": 34
        }
      ],
      "source": [
        "Merged_Movie_df.columns"
      ]
    },
    {
      "cell_type": "code",
      "execution_count": 35,
      "metadata": {
        "id": "04-nD6meTnX5"
      },
      "outputs": [],
      "source": [
        "# Transform Production_Budget column to scale for the model\n",
        "Merged_Movie_df['Production_Budget'] =  Merged_Movie_df['Production_Budget']/1000000\n",
        "# Transform Domestic_Gross column to scale for the model\n",
        "Merged_Movie_df['Domestic_Gross'] = Merged_Movie_df['Domestic_Gross']/1000000\n",
        "# Transform Worldwide_Gross column to scale for the model\n",
        "Merged_Movie_df['Worldwide_Gross'] = Merged_Movie_df['Worldwide_Gross']/1000000\n",
        "# Transform budget column to scale for the model\n",
        "Merged_Movie_df['budget'] = Merged_Movie_df['budget']/1000000\n",
        "# Transform gross column to scale for the model\n",
        "Merged_Movie_df['gross'] = Merged_Movie_df['gross']/1000000\n",
        "# Transform votes column to scale for the model\n",
        "Merged_Movie_df['votes'] = Merged_Movie_df['votes']/10000\n",
        "\n",
        "\n",
        "Merged_Movie_df.head()\n",
        "df = Merged_Movie_df.copy()\n"
      ]
    },
    {
      "cell_type": "code",
      "execution_count": 36,
      "metadata": {
        "colab": {
          "base_uri": "https://localhost:8080/",
          "height": 424
        },
        "id": "3QxGG2w6ckGy",
        "outputId": "6abf4277-aef3-4c35-ba64-39d3b8420353"
      },
      "outputs": [
        {
          "output_type": "execute_result",
          "data": {
            "text/html": [
              "\n",
              "  <div id=\"df-c564a83e-8d82-4adb-a43f-cedb5f42cee2\">\n",
              "    <div class=\"colab-df-container\">\n",
              "      <div>\n",
              "<style scoped>\n",
              "    .dataframe tbody tr th:only-of-type {\n",
              "        vertical-align: middle;\n",
              "    }\n",
              "\n",
              "    .dataframe tbody tr th {\n",
              "        vertical-align: top;\n",
              "    }\n",
              "\n",
              "    .dataframe thead th {\n",
              "        text-align: right;\n",
              "    }\n",
              "</style>\n",
              "<table border=\"1\" class=\"dataframe\">\n",
              "  <thead>\n",
              "    <tr style=\"text-align: right;\">\n",
              "      <th></th>\n",
              "      <th>Movie_Title</th>\n",
              "      <th>rating</th>\n",
              "      <th>genre</th>\n",
              "      <th>score</th>\n",
              "      <th>director</th>\n",
              "      <th>writer</th>\n",
              "      <th>star</th>\n",
              "      <th>company</th>\n",
              "    </tr>\n",
              "  </thead>\n",
              "  <tbody>\n",
              "    <tr>\n",
              "      <th>0</th>\n",
              "      <td>Avengers: Endgame</td>\n",
              "      <td>PG-13</td>\n",
              "      <td>Action</td>\n",
              "      <td>Favorable</td>\n",
              "      <td>Anthony Russo</td>\n",
              "      <td>Christopher Markus</td>\n",
              "      <td>Robert Downey Jr.</td>\n",
              "      <td>Marvel Studios</td>\n",
              "    </tr>\n",
              "    <tr>\n",
              "      <th>1</th>\n",
              "      <td>Avengers: Age of Ultron</td>\n",
              "      <td>PG-13</td>\n",
              "      <td>Action</td>\n",
              "      <td>Favorable</td>\n",
              "      <td>Joss Whedon</td>\n",
              "      <td>Joss Whedon</td>\n",
              "      <td>Robert Downey Jr.</td>\n",
              "      <td>Marvel Studios</td>\n",
              "    </tr>\n",
              "    <tr>\n",
              "      <th>2</th>\n",
              "      <td>Avengers: Infinity War</td>\n",
              "      <td>PG-13</td>\n",
              "      <td>Action</td>\n",
              "      <td>Favorable</td>\n",
              "      <td>Anthony Russo</td>\n",
              "      <td>Christopher Markus</td>\n",
              "      <td>Robert Downey Jr.</td>\n",
              "      <td>Marvel Studios</td>\n",
              "    </tr>\n",
              "    <tr>\n",
              "      <th>3</th>\n",
              "      <td>Justice League</td>\n",
              "      <td>PG-13</td>\n",
              "      <td>Action</td>\n",
              "      <td>Favorable</td>\n",
              "      <td>Zack Snyder</td>\n",
              "      <td>Jerry Siegel</td>\n",
              "      <td>Ben Affleck</td>\n",
              "      <td>Warner Bros.</td>\n",
              "    </tr>\n",
              "    <tr>\n",
              "      <th>4</th>\n",
              "      <td>Spectre</td>\n",
              "      <td>PG-13</td>\n",
              "      <td>Action</td>\n",
              "      <td>Favorable</td>\n",
              "      <td>Sam Mendes</td>\n",
              "      <td>John Logan</td>\n",
              "      <td>Daniel Craig</td>\n",
              "      <td>B24</td>\n",
              "    </tr>\n",
              "    <tr>\n",
              "      <th>...</th>\n",
              "      <td>...</td>\n",
              "      <td>...</td>\n",
              "      <td>...</td>\n",
              "      <td>...</td>\n",
              "      <td>...</td>\n",
              "      <td>...</td>\n",
              "      <td>...</td>\n",
              "      <td>...</td>\n",
              "    </tr>\n",
              "    <tr>\n",
              "      <th>3115</th>\n",
              "      <td>The Lost City</td>\n",
              "      <td>R</td>\n",
              "      <td>Drama</td>\n",
              "      <td>Favorable</td>\n",
              "      <td>Andy Garcia</td>\n",
              "      <td>Guillermo Cabrera Infante</td>\n",
              "      <td>Andy Garcia</td>\n",
              "      <td>Crescent Drive Pictures</td>\n",
              "    </tr>\n",
              "    <tr>\n",
              "      <th>3116</th>\n",
              "      <td>Next Friday</td>\n",
              "      <td>R</td>\n",
              "      <td>Comedy</td>\n",
              "      <td>Favorable</td>\n",
              "      <td>Steve Carr</td>\n",
              "      <td>Ice Cube</td>\n",
              "      <td>Ice Cube</td>\n",
              "      <td>New Line Cinema</td>\n",
              "    </tr>\n",
              "    <tr>\n",
              "      <th>3117</th>\n",
              "      <td>Poltergeist III</td>\n",
              "      <td>PG</td>\n",
              "      <td>Horror</td>\n",
              "      <td>Unfavorable</td>\n",
              "      <td>Gary Sherman</td>\n",
              "      <td>Gary Sherman</td>\n",
              "      <td>Heather O'Rourke</td>\n",
              "      <td>Metro-Goldwyn-Mayer (MGM)</td>\n",
              "    </tr>\n",
              "    <tr>\n",
              "      <th>3119</th>\n",
              "      <td>The Runaways</td>\n",
              "      <td>R</td>\n",
              "      <td>Biography</td>\n",
              "      <td>Favorable</td>\n",
              "      <td>Floria Sigismondi</td>\n",
              "      <td>Floria Sigismondi</td>\n",
              "      <td>Kristen Stewart</td>\n",
              "      <td>River Road Entertainment</td>\n",
              "    </tr>\n",
              "    <tr>\n",
              "      <th>3120</th>\n",
              "      <td>Gentlemen Broncos</td>\n",
              "      <td>PG-13</td>\n",
              "      <td>Adventure</td>\n",
              "      <td>Favorable</td>\n",
              "      <td>Jared Hess</td>\n",
              "      <td>Jared Hess</td>\n",
              "      <td>Michael Angarano</td>\n",
              "      <td>Bronco Productions</td>\n",
              "    </tr>\n",
              "  </tbody>\n",
              "</table>\n",
              "<p>2847 rows × 8 columns</p>\n",
              "</div>\n",
              "      <button class=\"colab-df-convert\" onclick=\"convertToInteractive('df-c564a83e-8d82-4adb-a43f-cedb5f42cee2')\"\n",
              "              title=\"Convert this dataframe to an interactive table.\"\n",
              "              style=\"display:none;\">\n",
              "        \n",
              "  <svg xmlns=\"http://www.w3.org/2000/svg\" height=\"24px\"viewBox=\"0 0 24 24\"\n",
              "       width=\"24px\">\n",
              "    <path d=\"M0 0h24v24H0V0z\" fill=\"none\"/>\n",
              "    <path d=\"M18.56 5.44l.94 2.06.94-2.06 2.06-.94-2.06-.94-.94-2.06-.94 2.06-2.06.94zm-11 1L8.5 8.5l.94-2.06 2.06-.94-2.06-.94L8.5 2.5l-.94 2.06-2.06.94zm10 10l.94 2.06.94-2.06 2.06-.94-2.06-.94-.94-2.06-.94 2.06-2.06.94z\"/><path d=\"M17.41 7.96l-1.37-1.37c-.4-.4-.92-.59-1.43-.59-.52 0-1.04.2-1.43.59L10.3 9.45l-7.72 7.72c-.78.78-.78 2.05 0 2.83L4 21.41c.39.39.9.59 1.41.59.51 0 1.02-.2 1.41-.59l7.78-7.78 2.81-2.81c.8-.78.8-2.07 0-2.86zM5.41 20L4 18.59l7.72-7.72 1.47 1.35L5.41 20z\"/>\n",
              "  </svg>\n",
              "      </button>\n",
              "      \n",
              "  <style>\n",
              "    .colab-df-container {\n",
              "      display:flex;\n",
              "      flex-wrap:wrap;\n",
              "      gap: 12px;\n",
              "    }\n",
              "\n",
              "    .colab-df-convert {\n",
              "      background-color: #E8F0FE;\n",
              "      border: none;\n",
              "      border-radius: 50%;\n",
              "      cursor: pointer;\n",
              "      display: none;\n",
              "      fill: #1967D2;\n",
              "      height: 32px;\n",
              "      padding: 0 0 0 0;\n",
              "      width: 32px;\n",
              "    }\n",
              "\n",
              "    .colab-df-convert:hover {\n",
              "      background-color: #E2EBFA;\n",
              "      box-shadow: 0px 1px 2px rgba(60, 64, 67, 0.3), 0px 1px 3px 1px rgba(60, 64, 67, 0.15);\n",
              "      fill: #174EA6;\n",
              "    }\n",
              "\n",
              "    [theme=dark] .colab-df-convert {\n",
              "      background-color: #3B4455;\n",
              "      fill: #D2E3FC;\n",
              "    }\n",
              "\n",
              "    [theme=dark] .colab-df-convert:hover {\n",
              "      background-color: #434B5C;\n",
              "      box-shadow: 0px 1px 3px 1px rgba(0, 0, 0, 0.15);\n",
              "      filter: drop-shadow(0px 1px 2px rgba(0, 0, 0, 0.3));\n",
              "      fill: #FFFFFF;\n",
              "    }\n",
              "  </style>\n",
              "\n",
              "      <script>\n",
              "        const buttonEl =\n",
              "          document.querySelector('#df-c564a83e-8d82-4adb-a43f-cedb5f42cee2 button.colab-df-convert');\n",
              "        buttonEl.style.display =\n",
              "          google.colab.kernel.accessAllowed ? 'block' : 'none';\n",
              "\n",
              "        async function convertToInteractive(key) {\n",
              "          const element = document.querySelector('#df-c564a83e-8d82-4adb-a43f-cedb5f42cee2');\n",
              "          const dataTable =\n",
              "            await google.colab.kernel.invokeFunction('convertToInteractive',\n",
              "                                                     [key], {});\n",
              "          if (!dataTable) return;\n",
              "\n",
              "          const docLinkHtml = 'Like what you see? Visit the ' +\n",
              "            '<a target=\"_blank\" href=https://colab.research.google.com/notebooks/data_table.ipynb>data table notebook</a>'\n",
              "            + ' to learn more about interactive tables.';\n",
              "          element.innerHTML = '';\n",
              "          dataTable['output_type'] = 'display_data';\n",
              "          await google.colab.output.renderOutput(dataTable, element);\n",
              "          const docLink = document.createElement('div');\n",
              "          docLink.innerHTML = docLinkHtml;\n",
              "          element.appendChild(docLink);\n",
              "        }\n",
              "      </script>\n",
              "    </div>\n",
              "  </div>\n",
              "  "
            ],
            "text/plain": [
              "                  Movie_Title  ...                    company\n",
              "0           Avengers: Endgame  ...             Marvel Studios\n",
              "1     Avengers: Age of Ultron  ...             Marvel Studios\n",
              "2      Avengers: Infinity War  ...             Marvel Studios\n",
              "3              Justice League  ...               Warner Bros.\n",
              "4                     Spectre  ...                        B24\n",
              "...                       ...  ...                        ...\n",
              "3115            The Lost City  ...    Crescent Drive Pictures\n",
              "3116              Next Friday  ...            New Line Cinema\n",
              "3117          Poltergeist III  ...  Metro-Goldwyn-Mayer (MGM)\n",
              "3119             The Runaways  ...   River Road Entertainment\n",
              "3120        Gentlemen Broncos  ...         Bronco Productions\n",
              "\n",
              "[2847 rows x 8 columns]"
            ]
          },
          "metadata": {},
          "execution_count": 36
        }
      ],
      "source": [
        "# Select all of the columns with a object dtype\n",
        "Merged_Movie_df.select_dtypes(include = 'object') "
      ]
    },
    {
      "cell_type": "code",
      "execution_count": 37,
      "metadata": {
        "id": "MmtvQhIJwZYL"
      },
      "outputs": [],
      "source": [
        "from sklearn.preprocessing import LabelEncoder\n",
        "cols = ['Movie_Title', 'rating', 'genre', 'score','director','writer','star','company']"
      ]
    },
    {
      "cell_type": "code",
      "source": [
        "df2 = Merged_Movie_df.copy()\n"
      ],
      "metadata": {
        "id": "nH5CWHjEeNxC"
      },
      "execution_count": 38,
      "outputs": []
    },
    {
      "cell_type": "code",
      "execution_count": 39,
      "metadata": {
        "id": "e-B0ZP-4wLh3"
      },
      "outputs": [],
      "source": [
        "df2[cols] = df2[cols].apply(LabelEncoder().fit_transform)"
      ]
    },
    {
      "cell_type": "code",
      "execution_count": 40,
      "metadata": {
        "colab": {
          "base_uri": "https://localhost:8080/",
          "height": 424
        },
        "id": "91mF_XP7xBfm",
        "outputId": "23373cb9-f2fc-4b3d-92d5-ad76cb539d74"
      },
      "outputs": [
        {
          "output_type": "execute_result",
          "data": {
            "text/html": [
              "\n",
              "  <div id=\"df-80efec1c-e676-41bb-b65a-eff65539a814\">\n",
              "    <div class=\"colab-df-container\">\n",
              "      <div>\n",
              "<style scoped>\n",
              "    .dataframe tbody tr th:only-of-type {\n",
              "        vertical-align: middle;\n",
              "    }\n",
              "\n",
              "    .dataframe tbody tr th {\n",
              "        vertical-align: top;\n",
              "    }\n",
              "\n",
              "    .dataframe thead th {\n",
              "        text-align: right;\n",
              "    }\n",
              "</style>\n",
              "<table border=\"1\" class=\"dataframe\">\n",
              "  <thead>\n",
              "    <tr style=\"text-align: right;\">\n",
              "      <th></th>\n",
              "      <th>Movie_Title</th>\n",
              "      <th>Production_Budget</th>\n",
              "      <th>Domestic_Gross</th>\n",
              "      <th>Worldwide_Gross</th>\n",
              "      <th>rating</th>\n",
              "      <th>genre</th>\n",
              "      <th>year</th>\n",
              "      <th>score</th>\n",
              "      <th>votes</th>\n",
              "      <th>director</th>\n",
              "      <th>writer</th>\n",
              "      <th>star</th>\n",
              "      <th>budget</th>\n",
              "      <th>gross</th>\n",
              "      <th>company</th>\n",
              "      <th>runtime</th>\n",
              "    </tr>\n",
              "  </thead>\n",
              "  <tbody>\n",
              "    <tr>\n",
              "      <th>0</th>\n",
              "      <td>213</td>\n",
              "      <td>400.0</td>\n",
              "      <td>858.373000</td>\n",
              "      <td>2797.800564</td>\n",
              "      <td>4</td>\n",
              "      <td>0</td>\n",
              "      <td>2019</td>\n",
              "      <td>0</td>\n",
              "      <td>90.3</td>\n",
              "      <td>67</td>\n",
              "      <td>272</td>\n",
              "      <td>781</td>\n",
              "      <td>356.0</td>\n",
              "      <td>2797.501328</td>\n",
              "      <td>446</td>\n",
              "      <td>181.0</td>\n",
              "    </tr>\n",
              "    <tr>\n",
              "      <th>1</th>\n",
              "      <td>212</td>\n",
              "      <td>365.0</td>\n",
              "      <td>459.005868</td>\n",
              "      <td>1395.316979</td>\n",
              "      <td>4</td>\n",
              "      <td>0</td>\n",
              "      <td>2015</td>\n",
              "      <td>0</td>\n",
              "      <td>77.7</td>\n",
              "      <td>634</td>\n",
              "      <td>938</td>\n",
              "      <td>781</td>\n",
              "      <td>250.0</td>\n",
              "      <td>1402.809540</td>\n",
              "      <td>446</td>\n",
              "      <td>141.0</td>\n",
              "    </tr>\n",
              "    <tr>\n",
              "      <th>2</th>\n",
              "      <td>214</td>\n",
              "      <td>300.0</td>\n",
              "      <td>678.815482</td>\n",
              "      <td>2044.540523</td>\n",
              "      <td>4</td>\n",
              "      <td>0</td>\n",
              "      <td>2018</td>\n",
              "      <td>0</td>\n",
              "      <td>89.7</td>\n",
              "      <td>67</td>\n",
              "      <td>272</td>\n",
              "      <td>781</td>\n",
              "      <td>321.0</td>\n",
              "      <td>2048.359754</td>\n",
              "      <td>446</td>\n",
              "      <td>149.0</td>\n",
              "    </tr>\n",
              "    <tr>\n",
              "      <th>3</th>\n",
              "      <td>1128</td>\n",
              "      <td>300.0</td>\n",
              "      <td>229.024295</td>\n",
              "      <td>655.945209</td>\n",
              "      <td>4</td>\n",
              "      <td>0</td>\n",
              "      <td>2017</td>\n",
              "      <td>0</td>\n",
              "      <td>41.8</td>\n",
              "      <td>1210</td>\n",
              "      <td>789</td>\n",
              "      <td>80</td>\n",
              "      <td>300.0</td>\n",
              "      <td>657.926987</td>\n",
              "      <td>647</td>\n",
              "      <td>120.0</td>\n",
              "    </tr>\n",
              "    <tr>\n",
              "      <th>4</th>\n",
              "      <td>1865</td>\n",
              "      <td>300.0</td>\n",
              "      <td>200.074175</td>\n",
              "      <td>879.500760</td>\n",
              "      <td>4</td>\n",
              "      <td>0</td>\n",
              "      <td>2015</td>\n",
              "      <td>0</td>\n",
              "      <td>39.3</td>\n",
              "      <td>1008</td>\n",
              "      <td>861</td>\n",
              "      <td>206</td>\n",
              "      <td>245.0</td>\n",
              "      <td>880.681519</td>\n",
              "      <td>85</td>\n",
              "      <td>148.0</td>\n",
              "    </tr>\n",
              "    <tr>\n",
              "      <th>...</th>\n",
              "      <td>...</td>\n",
              "      <td>...</td>\n",
              "      <td>...</td>\n",
              "      <td>...</td>\n",
              "      <td>...</td>\n",
              "      <td>...</td>\n",
              "      <td>...</td>\n",
              "      <td>...</td>\n",
              "      <td>...</td>\n",
              "      <td>...</td>\n",
              "      <td>...</td>\n",
              "      <td>...</td>\n",
              "      <td>...</td>\n",
              "      <td>...</td>\n",
              "      <td>...</td>\n",
              "      <td>...</td>\n",
              "    </tr>\n",
              "    <tr>\n",
              "      <th>117</th>\n",
              "      <td>2697</td>\n",
              "      <td>175.0</td>\n",
              "      <td>293.004164</td>\n",
              "      <td>731.463377</td>\n",
              "      <td>3</td>\n",
              "      <td>2</td>\n",
              "      <td>2009</td>\n",
              "      <td>0</td>\n",
              "      <td>96.2</td>\n",
              "      <td>874</td>\n",
              "      <td>1360</td>\n",
              "      <td>265</td>\n",
              "      <td>175.0</td>\n",
              "      <td>735.099102</td>\n",
              "      <td>515</td>\n",
              "      <td>96.0</td>\n",
              "    </tr>\n",
              "    <tr>\n",
              "      <th>118</th>\n",
              "      <td>469</td>\n",
              "      <td>175.0</td>\n",
              "      <td>210.460015</td>\n",
              "      <td>797.666425</td>\n",
              "      <td>3</td>\n",
              "      <td>2</td>\n",
              "      <td>2017</td>\n",
              "      <td>0</td>\n",
              "      <td>41.7</td>\n",
              "      <td>695</td>\n",
              "      <td>1050</td>\n",
              "      <td>64</td>\n",
              "      <td>175.0</td>\n",
              "      <td>807.817888</td>\n",
              "      <td>644</td>\n",
              "      <td>105.0</td>\n",
              "    </tr>\n",
              "    <tr>\n",
              "      <th>119</th>\n",
              "      <td>1369</td>\n",
              "      <td>175.0</td>\n",
              "      <td>198.351526</td>\n",
              "      <td>381.687380</td>\n",
              "      <td>3</td>\n",
              "      <td>2</td>\n",
              "      <td>2009</td>\n",
              "      <td>0</td>\n",
              "      <td>15.1</td>\n",
              "      <td>954</td>\n",
              "      <td>1168</td>\n",
              "      <td>764</td>\n",
              "      <td>175.0</td>\n",
              "      <td>381.509870</td>\n",
              "      <td>252</td>\n",
              "      <td>94.0</td>\n",
              "    </tr>\n",
              "    <tr>\n",
              "      <th>120</th>\n",
              "      <td>406</td>\n",
              "      <td>175.0</td>\n",
              "      <td>152.901115</td>\n",
              "      <td>383.541369</td>\n",
              "      <td>0</td>\n",
              "      <td>2</td>\n",
              "      <td>2017</td>\n",
              "      <td>0</td>\n",
              "      <td>8.2</td>\n",
              "      <td>131</td>\n",
              "      <td>185</td>\n",
              "      <td>722</td>\n",
              "      <td>175.0</td>\n",
              "      <td>383.930656</td>\n",
              "      <td>515</td>\n",
              "      <td>102.0</td>\n",
              "    </tr>\n",
              "    <tr>\n",
              "      <th>121</th>\n",
              "      <td>812</td>\n",
              "      <td>175.0</td>\n",
              "      <td>150.201498</td>\n",
              "      <td>302.469017</td>\n",
              "      <td>4</td>\n",
              "      <td>0</td>\n",
              "      <td>2009</td>\n",
              "      <td>1</td>\n",
              "      <td>20.2</td>\n",
              "      <td>1064</td>\n",
              "      <td>1661</td>\n",
              "      <td>235</td>\n",
              "      <td>175.0</td>\n",
              "      <td>302.469017</td>\n",
              "      <td>500</td>\n",
              "      <td>118.0</td>\n",
              "    </tr>\n",
              "  </tbody>\n",
              "</table>\n",
              "<p>100 rows × 16 columns</p>\n",
              "</div>\n",
              "      <button class=\"colab-df-convert\" onclick=\"convertToInteractive('df-80efec1c-e676-41bb-b65a-eff65539a814')\"\n",
              "              title=\"Convert this dataframe to an interactive table.\"\n",
              "              style=\"display:none;\">\n",
              "        \n",
              "  <svg xmlns=\"http://www.w3.org/2000/svg\" height=\"24px\"viewBox=\"0 0 24 24\"\n",
              "       width=\"24px\">\n",
              "    <path d=\"M0 0h24v24H0V0z\" fill=\"none\"/>\n",
              "    <path d=\"M18.56 5.44l.94 2.06.94-2.06 2.06-.94-2.06-.94-.94-2.06-.94 2.06-2.06.94zm-11 1L8.5 8.5l.94-2.06 2.06-.94-2.06-.94L8.5 2.5l-.94 2.06-2.06.94zm10 10l.94 2.06.94-2.06 2.06-.94-2.06-.94-.94-2.06-.94 2.06-2.06.94z\"/><path d=\"M17.41 7.96l-1.37-1.37c-.4-.4-.92-.59-1.43-.59-.52 0-1.04.2-1.43.59L10.3 9.45l-7.72 7.72c-.78.78-.78 2.05 0 2.83L4 21.41c.39.39.9.59 1.41.59.51 0 1.02-.2 1.41-.59l7.78-7.78 2.81-2.81c.8-.78.8-2.07 0-2.86zM5.41 20L4 18.59l7.72-7.72 1.47 1.35L5.41 20z\"/>\n",
              "  </svg>\n",
              "      </button>\n",
              "      \n",
              "  <style>\n",
              "    .colab-df-container {\n",
              "      display:flex;\n",
              "      flex-wrap:wrap;\n",
              "      gap: 12px;\n",
              "    }\n",
              "\n",
              "    .colab-df-convert {\n",
              "      background-color: #E8F0FE;\n",
              "      border: none;\n",
              "      border-radius: 50%;\n",
              "      cursor: pointer;\n",
              "      display: none;\n",
              "      fill: #1967D2;\n",
              "      height: 32px;\n",
              "      padding: 0 0 0 0;\n",
              "      width: 32px;\n",
              "    }\n",
              "\n",
              "    .colab-df-convert:hover {\n",
              "      background-color: #E2EBFA;\n",
              "      box-shadow: 0px 1px 2px rgba(60, 64, 67, 0.3), 0px 1px 3px 1px rgba(60, 64, 67, 0.15);\n",
              "      fill: #174EA6;\n",
              "    }\n",
              "\n",
              "    [theme=dark] .colab-df-convert {\n",
              "      background-color: #3B4455;\n",
              "      fill: #D2E3FC;\n",
              "    }\n",
              "\n",
              "    [theme=dark] .colab-df-convert:hover {\n",
              "      background-color: #434B5C;\n",
              "      box-shadow: 0px 1px 3px 1px rgba(0, 0, 0, 0.15);\n",
              "      filter: drop-shadow(0px 1px 2px rgba(0, 0, 0, 0.3));\n",
              "      fill: #FFFFFF;\n",
              "    }\n",
              "  </style>\n",
              "\n",
              "      <script>\n",
              "        const buttonEl =\n",
              "          document.querySelector('#df-80efec1c-e676-41bb-b65a-eff65539a814 button.colab-df-convert');\n",
              "        buttonEl.style.display =\n",
              "          google.colab.kernel.accessAllowed ? 'block' : 'none';\n",
              "\n",
              "        async function convertToInteractive(key) {\n",
              "          const element = document.querySelector('#df-80efec1c-e676-41bb-b65a-eff65539a814');\n",
              "          const dataTable =\n",
              "            await google.colab.kernel.invokeFunction('convertToInteractive',\n",
              "                                                     [key], {});\n",
              "          if (!dataTable) return;\n",
              "\n",
              "          const docLinkHtml = 'Like what you see? Visit the ' +\n",
              "            '<a target=\"_blank\" href=https://colab.research.google.com/notebooks/data_table.ipynb>data table notebook</a>'\n",
              "            + ' to learn more about interactive tables.';\n",
              "          element.innerHTML = '';\n",
              "          dataTable['output_type'] = 'display_data';\n",
              "          await google.colab.output.renderOutput(dataTable, element);\n",
              "          const docLink = document.createElement('div');\n",
              "          docLink.innerHTML = docLinkHtml;\n",
              "          element.appendChild(docLink);\n",
              "        }\n",
              "      </script>\n",
              "    </div>\n",
              "  </div>\n",
              "  "
            ],
            "text/plain": [
              "     Movie_Title  Production_Budget  ...  company  runtime\n",
              "0            213              400.0  ...      446    181.0\n",
              "1            212              365.0  ...      446    141.0\n",
              "2            214              300.0  ...      446    149.0\n",
              "3           1128              300.0  ...      647    120.0\n",
              "4           1865              300.0  ...       85    148.0\n",
              "..           ...                ...  ...      ...      ...\n",
              "117         2697              175.0  ...      515     96.0\n",
              "118          469              175.0  ...      644    105.0\n",
              "119         1369              175.0  ...      252     94.0\n",
              "120          406              175.0  ...      515    102.0\n",
              "121          812              175.0  ...      500    118.0\n",
              "\n",
              "[100 rows x 16 columns]"
            ]
          },
          "metadata": {},
          "execution_count": 40
        }
      ],
      "source": [
        "df2.head(100)"
      ]
    },
    {
      "cell_type": "code",
      "execution_count": 41,
      "metadata": {
        "colab": {
          "base_uri": "https://localhost:8080/",
          "height": 206
        },
        "id": "w56oOz-zz-x5",
        "outputId": "e49a0691-e504-489f-9d59-e4d91d1548f7"
      },
      "outputs": [
        {
          "output_type": "execute_result",
          "data": {
            "text/html": [
              "\n",
              "  <div id=\"df-cb634e96-a0e7-4b26-9af6-0752ea5f9506\">\n",
              "    <div class=\"colab-df-container\">\n",
              "      <div>\n",
              "<style scoped>\n",
              "    .dataframe tbody tr th:only-of-type {\n",
              "        vertical-align: middle;\n",
              "    }\n",
              "\n",
              "    .dataframe tbody tr th {\n",
              "        vertical-align: top;\n",
              "    }\n",
              "\n",
              "    .dataframe thead th {\n",
              "        text-align: right;\n",
              "    }\n",
              "</style>\n",
              "<table border=\"1\" class=\"dataframe\">\n",
              "  <thead>\n",
              "    <tr style=\"text-align: right;\">\n",
              "      <th></th>\n",
              "      <th>Movie_Title</th>\n",
              "      <th>Production_Budget</th>\n",
              "      <th>Domestic_Gross</th>\n",
              "      <th>Worldwide_Gross</th>\n",
              "      <th>rating</th>\n",
              "      <th>genre</th>\n",
              "      <th>year</th>\n",
              "      <th>votes</th>\n",
              "      <th>director</th>\n",
              "      <th>writer</th>\n",
              "      <th>star</th>\n",
              "      <th>budget</th>\n",
              "      <th>gross</th>\n",
              "      <th>company</th>\n",
              "      <th>runtime</th>\n",
              "    </tr>\n",
              "  </thead>\n",
              "  <tbody>\n",
              "    <tr>\n",
              "      <th>0</th>\n",
              "      <td>213</td>\n",
              "      <td>400.0</td>\n",
              "      <td>858.373000</td>\n",
              "      <td>2797.800564</td>\n",
              "      <td>4</td>\n",
              "      <td>0</td>\n",
              "      <td>2019</td>\n",
              "      <td>90.3</td>\n",
              "      <td>67</td>\n",
              "      <td>272</td>\n",
              "      <td>781</td>\n",
              "      <td>356.0</td>\n",
              "      <td>2797.501328</td>\n",
              "      <td>446</td>\n",
              "      <td>181.0</td>\n",
              "    </tr>\n",
              "    <tr>\n",
              "      <th>1</th>\n",
              "      <td>212</td>\n",
              "      <td>365.0</td>\n",
              "      <td>459.005868</td>\n",
              "      <td>1395.316979</td>\n",
              "      <td>4</td>\n",
              "      <td>0</td>\n",
              "      <td>2015</td>\n",
              "      <td>77.7</td>\n",
              "      <td>634</td>\n",
              "      <td>938</td>\n",
              "      <td>781</td>\n",
              "      <td>250.0</td>\n",
              "      <td>1402.809540</td>\n",
              "      <td>446</td>\n",
              "      <td>141.0</td>\n",
              "    </tr>\n",
              "    <tr>\n",
              "      <th>2</th>\n",
              "      <td>214</td>\n",
              "      <td>300.0</td>\n",
              "      <td>678.815482</td>\n",
              "      <td>2044.540523</td>\n",
              "      <td>4</td>\n",
              "      <td>0</td>\n",
              "      <td>2018</td>\n",
              "      <td>89.7</td>\n",
              "      <td>67</td>\n",
              "      <td>272</td>\n",
              "      <td>781</td>\n",
              "      <td>321.0</td>\n",
              "      <td>2048.359754</td>\n",
              "      <td>446</td>\n",
              "      <td>149.0</td>\n",
              "    </tr>\n",
              "    <tr>\n",
              "      <th>3</th>\n",
              "      <td>1128</td>\n",
              "      <td>300.0</td>\n",
              "      <td>229.024295</td>\n",
              "      <td>655.945209</td>\n",
              "      <td>4</td>\n",
              "      <td>0</td>\n",
              "      <td>2017</td>\n",
              "      <td>41.8</td>\n",
              "      <td>1210</td>\n",
              "      <td>789</td>\n",
              "      <td>80</td>\n",
              "      <td>300.0</td>\n",
              "      <td>657.926987</td>\n",
              "      <td>647</td>\n",
              "      <td>120.0</td>\n",
              "    </tr>\n",
              "    <tr>\n",
              "      <th>4</th>\n",
              "      <td>1865</td>\n",
              "      <td>300.0</td>\n",
              "      <td>200.074175</td>\n",
              "      <td>879.500760</td>\n",
              "      <td>4</td>\n",
              "      <td>0</td>\n",
              "      <td>2015</td>\n",
              "      <td>39.3</td>\n",
              "      <td>1008</td>\n",
              "      <td>861</td>\n",
              "      <td>206</td>\n",
              "      <td>245.0</td>\n",
              "      <td>880.681519</td>\n",
              "      <td>85</td>\n",
              "      <td>148.0</td>\n",
              "    </tr>\n",
              "  </tbody>\n",
              "</table>\n",
              "</div>\n",
              "      <button class=\"colab-df-convert\" onclick=\"convertToInteractive('df-cb634e96-a0e7-4b26-9af6-0752ea5f9506')\"\n",
              "              title=\"Convert this dataframe to an interactive table.\"\n",
              "              style=\"display:none;\">\n",
              "        \n",
              "  <svg xmlns=\"http://www.w3.org/2000/svg\" height=\"24px\"viewBox=\"0 0 24 24\"\n",
              "       width=\"24px\">\n",
              "    <path d=\"M0 0h24v24H0V0z\" fill=\"none\"/>\n",
              "    <path d=\"M18.56 5.44l.94 2.06.94-2.06 2.06-.94-2.06-.94-.94-2.06-.94 2.06-2.06.94zm-11 1L8.5 8.5l.94-2.06 2.06-.94-2.06-.94L8.5 2.5l-.94 2.06-2.06.94zm10 10l.94 2.06.94-2.06 2.06-.94-2.06-.94-.94-2.06-.94 2.06-2.06.94z\"/><path d=\"M17.41 7.96l-1.37-1.37c-.4-.4-.92-.59-1.43-.59-.52 0-1.04.2-1.43.59L10.3 9.45l-7.72 7.72c-.78.78-.78 2.05 0 2.83L4 21.41c.39.39.9.59 1.41.59.51 0 1.02-.2 1.41-.59l7.78-7.78 2.81-2.81c.8-.78.8-2.07 0-2.86zM5.41 20L4 18.59l7.72-7.72 1.47 1.35L5.41 20z\"/>\n",
              "  </svg>\n",
              "      </button>\n",
              "      \n",
              "  <style>\n",
              "    .colab-df-container {\n",
              "      display:flex;\n",
              "      flex-wrap:wrap;\n",
              "      gap: 12px;\n",
              "    }\n",
              "\n",
              "    .colab-df-convert {\n",
              "      background-color: #E8F0FE;\n",
              "      border: none;\n",
              "      border-radius: 50%;\n",
              "      cursor: pointer;\n",
              "      display: none;\n",
              "      fill: #1967D2;\n",
              "      height: 32px;\n",
              "      padding: 0 0 0 0;\n",
              "      width: 32px;\n",
              "    }\n",
              "\n",
              "    .colab-df-convert:hover {\n",
              "      background-color: #E2EBFA;\n",
              "      box-shadow: 0px 1px 2px rgba(60, 64, 67, 0.3), 0px 1px 3px 1px rgba(60, 64, 67, 0.15);\n",
              "      fill: #174EA6;\n",
              "    }\n",
              "\n",
              "    [theme=dark] .colab-df-convert {\n",
              "      background-color: #3B4455;\n",
              "      fill: #D2E3FC;\n",
              "    }\n",
              "\n",
              "    [theme=dark] .colab-df-convert:hover {\n",
              "      background-color: #434B5C;\n",
              "      box-shadow: 0px 1px 3px 1px rgba(0, 0, 0, 0.15);\n",
              "      filter: drop-shadow(0px 1px 2px rgba(0, 0, 0, 0.3));\n",
              "      fill: #FFFFFF;\n",
              "    }\n",
              "  </style>\n",
              "\n",
              "      <script>\n",
              "        const buttonEl =\n",
              "          document.querySelector('#df-cb634e96-a0e7-4b26-9af6-0752ea5f9506 button.colab-df-convert');\n",
              "        buttonEl.style.display =\n",
              "          google.colab.kernel.accessAllowed ? 'block' : 'none';\n",
              "\n",
              "        async function convertToInteractive(key) {\n",
              "          const element = document.querySelector('#df-cb634e96-a0e7-4b26-9af6-0752ea5f9506');\n",
              "          const dataTable =\n",
              "            await google.colab.kernel.invokeFunction('convertToInteractive',\n",
              "                                                     [key], {});\n",
              "          if (!dataTable) return;\n",
              "\n",
              "          const docLinkHtml = 'Like what you see? Visit the ' +\n",
              "            '<a target=\"_blank\" href=https://colab.research.google.com/notebooks/data_table.ipynb>data table notebook</a>'\n",
              "            + ' to learn more about interactive tables.';\n",
              "          element.innerHTML = '';\n",
              "          dataTable['output_type'] = 'display_data';\n",
              "          await google.colab.output.renderOutput(dataTable, element);\n",
              "          const docLink = document.createElement('div');\n",
              "          docLink.innerHTML = docLinkHtml;\n",
              "          element.appendChild(docLink);\n",
              "        }\n",
              "      </script>\n",
              "    </div>\n",
              "  </div>\n",
              "  "
            ],
            "text/plain": [
              "   Movie_Title  Production_Budget  ...  company  runtime\n",
              "0          213              400.0  ...      446    181.0\n",
              "1          212              365.0  ...      446    141.0\n",
              "2          214              300.0  ...      446    149.0\n",
              "3         1128              300.0  ...      647    120.0\n",
              "4         1865              300.0  ...       85    148.0\n",
              "\n",
              "[5 rows x 15 columns]"
            ]
          },
          "metadata": {},
          "execution_count": 41
        }
      ],
      "source": [
        "X =df2.copy()\n",
        "X = X.drop(\"score\", axis=1)\n",
        "X.head()"
      ]
    },
    {
      "cell_type": "code",
      "execution_count": 42,
      "metadata": {
        "colab": {
          "base_uri": "https://localhost:8080/",
          "height": 364
        },
        "id": "D282P_FZAiIk",
        "outputId": "14561f1e-3276-4e44-d615-8fde7aab140a"
      },
      "outputs": [
        {
          "output_type": "execute_result",
          "data": {
            "text/html": [
              "\n",
              "  <div id=\"df-89284682-d577-4345-8a76-deeea06cd9df\">\n",
              "    <div class=\"colab-df-container\">\n",
              "      <div>\n",
              "<style scoped>\n",
              "    .dataframe tbody tr th:only-of-type {\n",
              "        vertical-align: middle;\n",
              "    }\n",
              "\n",
              "    .dataframe tbody tr th {\n",
              "        vertical-align: top;\n",
              "    }\n",
              "\n",
              "    .dataframe thead th {\n",
              "        text-align: right;\n",
              "    }\n",
              "</style>\n",
              "<table border=\"1\" class=\"dataframe\">\n",
              "  <thead>\n",
              "    <tr style=\"text-align: right;\">\n",
              "      <th></th>\n",
              "      <th>Movie_Title</th>\n",
              "      <th>Production_Budget</th>\n",
              "      <th>Domestic_Gross</th>\n",
              "      <th>Worldwide_Gross</th>\n",
              "      <th>rating</th>\n",
              "      <th>genre</th>\n",
              "      <th>year</th>\n",
              "      <th>votes</th>\n",
              "      <th>director</th>\n",
              "      <th>writer</th>\n",
              "      <th>star</th>\n",
              "      <th>budget</th>\n",
              "      <th>gross</th>\n",
              "      <th>company</th>\n",
              "      <th>runtime</th>\n",
              "    </tr>\n",
              "  </thead>\n",
              "  <tbody>\n",
              "    <tr>\n",
              "      <th>count</th>\n",
              "      <td>2847.000000</td>\n",
              "      <td>2847.000000</td>\n",
              "      <td>2847.000000</td>\n",
              "      <td>2847.000000</td>\n",
              "      <td>2847.000000</td>\n",
              "      <td>2847.000000</td>\n",
              "      <td>2847.000000</td>\n",
              "      <td>2847.000000</td>\n",
              "      <td>2847.000000</td>\n",
              "      <td>2847.000000</td>\n",
              "      <td>2847.000000</td>\n",
              "      <td>2847.000000</td>\n",
              "      <td>2847.000000</td>\n",
              "      <td>2847.000000</td>\n",
              "      <td>2847.000000</td>\n",
              "    </tr>\n",
              "    <tr>\n",
              "      <th>mean</th>\n",
              "      <td>1423.000000</td>\n",
              "      <td>51.219344</td>\n",
              "      <td>67.207863</td>\n",
              "      <td>150.958675</td>\n",
              "      <td>4.153495</td>\n",
              "      <td>2.868282</td>\n",
              "      <td>2004.902705</td>\n",
              "      <td>15.813076</td>\n",
              "      <td>628.132069</td>\n",
              "      <td>926.392343</td>\n",
              "      <td>484.300316</td>\n",
              "      <td>50.492763</td>\n",
              "      <td>148.316675</td>\n",
              "      <td>429.103267</td>\n",
              "      <td>111.178785</td>\n",
              "    </tr>\n",
              "    <tr>\n",
              "      <th>std</th>\n",
              "      <td>822.002433</td>\n",
              "      <td>46.665164</td>\n",
              "      <td>80.490857</td>\n",
              "      <td>221.120538</td>\n",
              "      <td>0.955055</td>\n",
              "      <td>2.570824</td>\n",
              "      <td>8.871299</td>\n",
              "      <td>21.317062</td>\n",
              "      <td>353.805558</td>\n",
              "      <td>526.604155</td>\n",
              "      <td>279.815665</td>\n",
              "      <td>45.413140</td>\n",
              "      <td>216.714584</td>\n",
              "      <td>188.703143</td>\n",
              "      <td>19.369090</td>\n",
              "    </tr>\n",
              "    <tr>\n",
              "      <th>min</th>\n",
              "      <td>0.000000</td>\n",
              "      <td>9.500000</td>\n",
              "      <td>0.000000</td>\n",
              "      <td>0.000000</td>\n",
              "      <td>0.000000</td>\n",
              "      <td>0.000000</td>\n",
              "      <td>1980.000000</td>\n",
              "      <td>0.024300</td>\n",
              "      <td>0.000000</td>\n",
              "      <td>0.000000</td>\n",
              "      <td>0.000000</td>\n",
              "      <td>0.550000</td>\n",
              "      <td>0.040397</td>\n",
              "      <td>0.000000</td>\n",
              "      <td>63.000000</td>\n",
              "    </tr>\n",
              "    <tr>\n",
              "      <th>25%</th>\n",
              "      <td>711.500000</td>\n",
              "      <td>20.000000</td>\n",
              "      <td>18.804358</td>\n",
              "      <td>29.937034</td>\n",
              "      <td>4.000000</td>\n",
              "      <td>0.000000</td>\n",
              "      <td>1999.000000</td>\n",
              "      <td>3.900000</td>\n",
              "      <td>317.500000</td>\n",
              "      <td>477.500000</td>\n",
              "      <td>240.500000</td>\n",
              "      <td>20.000000</td>\n",
              "      <td>29.373319</td>\n",
              "      <td>253.000000</td>\n",
              "      <td>97.000000</td>\n",
              "    </tr>\n",
              "    <tr>\n",
              "      <th>50%</th>\n",
              "      <td>1423.000000</td>\n",
              "      <td>35.000000</td>\n",
              "      <td>41.523271</td>\n",
              "      <td>74.180745</td>\n",
              "      <td>4.000000</td>\n",
              "      <td>3.000000</td>\n",
              "      <td>2006.000000</td>\n",
              "      <td>8.700000</td>\n",
              "      <td>646.000000</td>\n",
              "      <td>921.000000</td>\n",
              "      <td>481.000000</td>\n",
              "      <td>35.000000</td>\n",
              "      <td>74.005691</td>\n",
              "      <td>476.000000</td>\n",
              "      <td>108.000000</td>\n",
              "    </tr>\n",
              "    <tr>\n",
              "      <th>75%</th>\n",
              "      <td>2134.500000</td>\n",
              "      <td>65.000000</td>\n",
              "      <td>82.257359</td>\n",
              "      <td>176.933261</td>\n",
              "      <td>5.000000</td>\n",
              "      <td>4.000000</td>\n",
              "      <td>2012.000000</td>\n",
              "      <td>19.150000</td>\n",
              "      <td>948.000000</td>\n",
              "      <td>1386.500000</td>\n",
              "      <td>723.500000</td>\n",
              "      <td>65.000000</td>\n",
              "      <td>174.202867</td>\n",
              "      <td>622.000000</td>\n",
              "      <td>122.000000</td>\n",
              "    </tr>\n",
              "    <tr>\n",
              "      <th>max</th>\n",
              "      <td>2846.000000</td>\n",
              "      <td>400.000000</td>\n",
              "      <td>858.373000</td>\n",
              "      <td>2845.899541</td>\n",
              "      <td>6.000000</td>\n",
              "      <td>13.000000</td>\n",
              "      <td>2020.000000</td>\n",
              "      <td>240.000000</td>\n",
              "      <td>1211.000000</td>\n",
              "      <td>1826.000000</td>\n",
              "      <td>965.000000</td>\n",
              "      <td>356.000000</td>\n",
              "      <td>2847.246203</td>\n",
              "      <td>664.000000</td>\n",
              "      <td>271.000000</td>\n",
              "    </tr>\n",
              "  </tbody>\n",
              "</table>\n",
              "</div>\n",
              "      <button class=\"colab-df-convert\" onclick=\"convertToInteractive('df-89284682-d577-4345-8a76-deeea06cd9df')\"\n",
              "              title=\"Convert this dataframe to an interactive table.\"\n",
              "              style=\"display:none;\">\n",
              "        \n",
              "  <svg xmlns=\"http://www.w3.org/2000/svg\" height=\"24px\"viewBox=\"0 0 24 24\"\n",
              "       width=\"24px\">\n",
              "    <path d=\"M0 0h24v24H0V0z\" fill=\"none\"/>\n",
              "    <path d=\"M18.56 5.44l.94 2.06.94-2.06 2.06-.94-2.06-.94-.94-2.06-.94 2.06-2.06.94zm-11 1L8.5 8.5l.94-2.06 2.06-.94-2.06-.94L8.5 2.5l-.94 2.06-2.06.94zm10 10l.94 2.06.94-2.06 2.06-.94-2.06-.94-.94-2.06-.94 2.06-2.06.94z\"/><path d=\"M17.41 7.96l-1.37-1.37c-.4-.4-.92-.59-1.43-.59-.52 0-1.04.2-1.43.59L10.3 9.45l-7.72 7.72c-.78.78-.78 2.05 0 2.83L4 21.41c.39.39.9.59 1.41.59.51 0 1.02-.2 1.41-.59l7.78-7.78 2.81-2.81c.8-.78.8-2.07 0-2.86zM5.41 20L4 18.59l7.72-7.72 1.47 1.35L5.41 20z\"/>\n",
              "  </svg>\n",
              "      </button>\n",
              "      \n",
              "  <style>\n",
              "    .colab-df-container {\n",
              "      display:flex;\n",
              "      flex-wrap:wrap;\n",
              "      gap: 12px;\n",
              "    }\n",
              "\n",
              "    .colab-df-convert {\n",
              "      background-color: #E8F0FE;\n",
              "      border: none;\n",
              "      border-radius: 50%;\n",
              "      cursor: pointer;\n",
              "      display: none;\n",
              "      fill: #1967D2;\n",
              "      height: 32px;\n",
              "      padding: 0 0 0 0;\n",
              "      width: 32px;\n",
              "    }\n",
              "\n",
              "    .colab-df-convert:hover {\n",
              "      background-color: #E2EBFA;\n",
              "      box-shadow: 0px 1px 2px rgba(60, 64, 67, 0.3), 0px 1px 3px 1px rgba(60, 64, 67, 0.15);\n",
              "      fill: #174EA6;\n",
              "    }\n",
              "\n",
              "    [theme=dark] .colab-df-convert {\n",
              "      background-color: #3B4455;\n",
              "      fill: #D2E3FC;\n",
              "    }\n",
              "\n",
              "    [theme=dark] .colab-df-convert:hover {\n",
              "      background-color: #434B5C;\n",
              "      box-shadow: 0px 1px 3px 1px rgba(0, 0, 0, 0.15);\n",
              "      filter: drop-shadow(0px 1px 2px rgba(0, 0, 0, 0.3));\n",
              "      fill: #FFFFFF;\n",
              "    }\n",
              "  </style>\n",
              "\n",
              "      <script>\n",
              "        const buttonEl =\n",
              "          document.querySelector('#df-89284682-d577-4345-8a76-deeea06cd9df button.colab-df-convert');\n",
              "        buttonEl.style.display =\n",
              "          google.colab.kernel.accessAllowed ? 'block' : 'none';\n",
              "\n",
              "        async function convertToInteractive(key) {\n",
              "          const element = document.querySelector('#df-89284682-d577-4345-8a76-deeea06cd9df');\n",
              "          const dataTable =\n",
              "            await google.colab.kernel.invokeFunction('convertToInteractive',\n",
              "                                                     [key], {});\n",
              "          if (!dataTable) return;\n",
              "\n",
              "          const docLinkHtml = 'Like what you see? Visit the ' +\n",
              "            '<a target=\"_blank\" href=https://colab.research.google.com/notebooks/data_table.ipynb>data table notebook</a>'\n",
              "            + ' to learn more about interactive tables.';\n",
              "          element.innerHTML = '';\n",
              "          dataTable['output_type'] = 'display_data';\n",
              "          await google.colab.output.renderOutput(dataTable, element);\n",
              "          const docLink = document.createElement('div');\n",
              "          docLink.innerHTML = docLinkHtml;\n",
              "          element.appendChild(docLink);\n",
              "        }\n",
              "      </script>\n",
              "    </div>\n",
              "  </div>\n",
              "  "
            ],
            "text/plain": [
              "       Movie_Title  Production_Budget  ...      company      runtime\n",
              "count  2847.000000        2847.000000  ...  2847.000000  2847.000000\n",
              "mean   1423.000000          51.219344  ...   429.103267   111.178785\n",
              "std     822.002433          46.665164  ...   188.703143    19.369090\n",
              "min       0.000000           9.500000  ...     0.000000    63.000000\n",
              "25%     711.500000          20.000000  ...   253.000000    97.000000\n",
              "50%    1423.000000          35.000000  ...   476.000000   108.000000\n",
              "75%    2134.500000          65.000000  ...   622.000000   122.000000\n",
              "max    2846.000000         400.000000  ...   664.000000   271.000000\n",
              "\n",
              "[8 rows x 15 columns]"
            ]
          },
          "metadata": {},
          "execution_count": 42
        }
      ],
      "source": [
        "X.describe()"
      ]
    },
    {
      "cell_type": "code",
      "execution_count": 43,
      "metadata": {
        "colab": {
          "base_uri": "https://localhost:8080/"
        },
        "id": "GAJasUQhdTYo",
        "outputId": "05cce843-67b1-4e82-e2b2-44b44af3d8c9"
      },
      "outputs": [
        {
          "output_type": "execute_result",
          "data": {
            "text/plain": [
              "0    0\n",
              "1    0\n",
              "2    0\n",
              "3    0\n",
              "4    0\n",
              "Name: score, dtype: int64"
            ]
          },
          "metadata": {},
          "execution_count": 43
        }
      ],
      "source": [
        "# Define target vector\n",
        "y = df2[\"score\"]\n",
        "y.head()"
      ]
    },
    {
      "cell_type": "code",
      "source": [
        "y.describe()"
      ],
      "metadata": {
        "colab": {
          "base_uri": "https://localhost:8080/"
        },
        "id": "_bseeK0YCyNp",
        "outputId": "27fe3a21-e4cd-4aef-a42c-b70b8047bb43"
      },
      "execution_count": 44,
      "outputs": [
        {
          "output_type": "execute_result",
          "data": {
            "text/plain": [
              "count    2847.000000\n",
              "mean        0.274675\n",
              "std         0.446429\n",
              "min         0.000000\n",
              "25%         0.000000\n",
              "50%         0.000000\n",
              "75%         1.000000\n",
              "max         1.000000\n",
              "Name: score, dtype: float64"
            ]
          },
          "metadata": {},
          "execution_count": 44
        }
      ]
    },
    {
      "cell_type": "code",
      "execution_count": 45,
      "metadata": {
        "colab": {
          "base_uri": "https://localhost:8080/"
        },
        "id": "HZ8cjUMUAepu",
        "outputId": "2a8ad974-e49c-49c4-caac-880c40a9721a"
      },
      "outputs": [
        {
          "output_type": "execute_result",
          "data": {
            "text/plain": [
              "0    2065\n",
              "1     782\n",
              "Name: score, dtype: int64"
            ]
          },
          "metadata": {},
          "execution_count": 45
        }
      ],
      "source": [
        "# Check the balance of our target values\n",
        "y.value_counts()"
      ]
    },
    {
      "cell_type": "code",
      "execution_count": 46,
      "metadata": {
        "id": "rU_BG1X1okxT"
      },
      "outputs": [],
      "source": [
        "# Splitting into Train and Test sets.\n",
        "X_train, X_test, y_train, y_test = train_test_split(X, y, random_state=78)\n"
      ]
    },
    {
      "cell_type": "markdown",
      "metadata": {
        "id": "uJ2qnm6T71A8"
      },
      "source": [
        "**Fit the Decision Tree Model**"
      ]
    },
    {
      "cell_type": "code",
      "execution_count": 65,
      "metadata": {
        "id": "W1HAiPLNo2Xv"
      },
      "outputs": [],
      "source": [
        "# Creating a StandardScaler instance.\n",
        "scaler = StandardScaler()\n",
        "# Fitting the Standard Scaler with the training data.\n",
        "X_scaler = scaler.fit(X_train)\n",
        "\n",
        "# Scaling the data.\n",
        "X_train_scaled = X_scaler.transform(X_train)\n",
        "X_test_scaled = X_scaler.transform(X_test)"
      ]
    },
    {
      "cell_type": "markdown",
      "metadata": {
        "id": "yi4diF1M9C_L"
      },
      "source": [
        "Random forest\n",
        "\n",
        "* Statistical algorithm that is used to cluster points of data in functional groups. \n",
        "* The random forest algorithm is a supervised learning model; it uses labeled data to “learn” how to classify unlabeled data.\n",
        "\n",
        "\n",
        "\n"
      ]
    },
    {
      "cell_type": "markdown",
      "metadata": {
        "id": "VZCPwZdoWBnW"
      },
      "source": [
        "**Random forest algorithms are beneficial because they:**\n",
        "\n",
        "*   Are robust against overfitting as all of those weak learners are trained on different pieces of the data.\n",
        "*  Can be used to rank the importance of input variables in a natural way.\n",
        "*   Can handle thousands of input variables without variable deletion.\n",
        "*   Are robust to outliers and nonlinear data.\n",
        "*   Run efficiently on large datasets.\n",
        "\n",
        "\n",
        "\n",
        "\n"
      ]
    },
    {
      "cell_type": "markdown",
      "metadata": {
        "id": "NG8zlZaS9vBk"
      },
      "source": [
        "The n_estimators will allow us to set the number of trees that will be created by the algorithm. Generally, the higher number makes the predictions stronger and more stable, but can slow down the output because of the higher training time allocated. The best practice is to use between 64 and 128 random forests, though higher numbers are quite common despite the higher training time. "
      ]
    },
    {
      "cell_type": "code",
      "execution_count": 66,
      "metadata": {
        "id": "hjqAomXVo689"
      },
      "outputs": [],
      "source": [
        "\n",
        "\n",
        "# Create a random forest classifier.\n",
        "rf_model = RandomForestClassifier(n_estimators=200, random_state=78) \n"
      ]
    },
    {
      "cell_type": "markdown",
      "metadata": {
        "id": "z4b_8w4Q43df"
      },
      "source": [
        "# **Fit the Decision Tree Model**"
      ]
    },
    {
      "cell_type": "code",
      "execution_count": 67,
      "metadata": {
        "id": "Vg9zxChoo9ue"
      },
      "outputs": [],
      "source": [
        "# Fitting the model\n",
        "rf_model = rf_model.fit(X_train_scaled, y_train)"
      ]
    },
    {
      "cell_type": "markdown",
      "metadata": {
        "id": "Dd7QHHqP5Ezy"
      },
      "source": [
        "# **Make Predictions Using the Testing Data**"
      ]
    },
    {
      "cell_type": "code",
      "execution_count": 68,
      "metadata": {
        "id": "STyo77dXpBQW"
      },
      "outputs": [],
      "source": [
        "# Making predictions using the testing data.\n",
        "predictions = rf_model.predict(X_test_scaled)"
      ]
    },
    {
      "cell_type": "markdown",
      "metadata": {
        "id": "a0ILnX925Rpd"
      },
      "source": [
        "# **Evaluate the Model**"
      ]
    },
    {
      "cell_type": "code",
      "execution_count": 69,
      "metadata": {
        "colab": {
          "base_uri": "https://localhost:8080/",
          "height": 112
        },
        "id": "oiwo7TkApCnk",
        "outputId": "115baa4d-34bc-486d-ec51-77e65ee7d20a"
      },
      "outputs": [
        {
          "output_type": "execute_result",
          "data": {
            "text/html": [
              "\n",
              "  <div id=\"df-2b3df222-3806-40e3-a66d-e7d824df3cd3\">\n",
              "    <div class=\"colab-df-container\">\n",
              "      <div>\n",
              "<style scoped>\n",
              "    .dataframe tbody tr th:only-of-type {\n",
              "        vertical-align: middle;\n",
              "    }\n",
              "\n",
              "    .dataframe tbody tr th {\n",
              "        vertical-align: top;\n",
              "    }\n",
              "\n",
              "    .dataframe thead th {\n",
              "        text-align: right;\n",
              "    }\n",
              "</style>\n",
              "<table border=\"1\" class=\"dataframe\">\n",
              "  <thead>\n",
              "    <tr style=\"text-align: right;\">\n",
              "      <th></th>\n",
              "      <th>Predicted 0</th>\n",
              "      <th>Predicted 1</th>\n",
              "    </tr>\n",
              "  </thead>\n",
              "  <tbody>\n",
              "    <tr>\n",
              "      <th>Predicted 0</th>\n",
              "      <td>488</td>\n",
              "      <td>27</td>\n",
              "    </tr>\n",
              "    <tr>\n",
              "      <th>Predicted 1</th>\n",
              "      <td>88</td>\n",
              "      <td>109</td>\n",
              "    </tr>\n",
              "  </tbody>\n",
              "</table>\n",
              "</div>\n",
              "      <button class=\"colab-df-convert\" onclick=\"convertToInteractive('df-2b3df222-3806-40e3-a66d-e7d824df3cd3')\"\n",
              "              title=\"Convert this dataframe to an interactive table.\"\n",
              "              style=\"display:none;\">\n",
              "        \n",
              "  <svg xmlns=\"http://www.w3.org/2000/svg\" height=\"24px\"viewBox=\"0 0 24 24\"\n",
              "       width=\"24px\">\n",
              "    <path d=\"M0 0h24v24H0V0z\" fill=\"none\"/>\n",
              "    <path d=\"M18.56 5.44l.94 2.06.94-2.06 2.06-.94-2.06-.94-.94-2.06-.94 2.06-2.06.94zm-11 1L8.5 8.5l.94-2.06 2.06-.94-2.06-.94L8.5 2.5l-.94 2.06-2.06.94zm10 10l.94 2.06.94-2.06 2.06-.94-2.06-.94-.94-2.06-.94 2.06-2.06.94z\"/><path d=\"M17.41 7.96l-1.37-1.37c-.4-.4-.92-.59-1.43-.59-.52 0-1.04.2-1.43.59L10.3 9.45l-7.72 7.72c-.78.78-.78 2.05 0 2.83L4 21.41c.39.39.9.59 1.41.59.51 0 1.02-.2 1.41-.59l7.78-7.78 2.81-2.81c.8-.78.8-2.07 0-2.86zM5.41 20L4 18.59l7.72-7.72 1.47 1.35L5.41 20z\"/>\n",
              "  </svg>\n",
              "      </button>\n",
              "      \n",
              "  <style>\n",
              "    .colab-df-container {\n",
              "      display:flex;\n",
              "      flex-wrap:wrap;\n",
              "      gap: 12px;\n",
              "    }\n",
              "\n",
              "    .colab-df-convert {\n",
              "      background-color: #E8F0FE;\n",
              "      border: none;\n",
              "      border-radius: 50%;\n",
              "      cursor: pointer;\n",
              "      display: none;\n",
              "      fill: #1967D2;\n",
              "      height: 32px;\n",
              "      padding: 0 0 0 0;\n",
              "      width: 32px;\n",
              "    }\n",
              "\n",
              "    .colab-df-convert:hover {\n",
              "      background-color: #E2EBFA;\n",
              "      box-shadow: 0px 1px 2px rgba(60, 64, 67, 0.3), 0px 1px 3px 1px rgba(60, 64, 67, 0.15);\n",
              "      fill: #174EA6;\n",
              "    }\n",
              "\n",
              "    [theme=dark] .colab-df-convert {\n",
              "      background-color: #3B4455;\n",
              "      fill: #D2E3FC;\n",
              "    }\n",
              "\n",
              "    [theme=dark] .colab-df-convert:hover {\n",
              "      background-color: #434B5C;\n",
              "      box-shadow: 0px 1px 3px 1px rgba(0, 0, 0, 0.15);\n",
              "      filter: drop-shadow(0px 1px 2px rgba(0, 0, 0, 0.3));\n",
              "      fill: #FFFFFF;\n",
              "    }\n",
              "  </style>\n",
              "\n",
              "      <script>\n",
              "        const buttonEl =\n",
              "          document.querySelector('#df-2b3df222-3806-40e3-a66d-e7d824df3cd3 button.colab-df-convert');\n",
              "        buttonEl.style.display =\n",
              "          google.colab.kernel.accessAllowed ? 'block' : 'none';\n",
              "\n",
              "        async function convertToInteractive(key) {\n",
              "          const element = document.querySelector('#df-2b3df222-3806-40e3-a66d-e7d824df3cd3');\n",
              "          const dataTable =\n",
              "            await google.colab.kernel.invokeFunction('convertToInteractive',\n",
              "                                                     [key], {});\n",
              "          if (!dataTable) return;\n",
              "\n",
              "          const docLinkHtml = 'Like what you see? Visit the ' +\n",
              "            '<a target=\"_blank\" href=https://colab.research.google.com/notebooks/data_table.ipynb>data table notebook</a>'\n",
              "            + ' to learn more about interactive tables.';\n",
              "          element.innerHTML = '';\n",
              "          dataTable['output_type'] = 'display_data';\n",
              "          await google.colab.output.renderOutput(dataTable, element);\n",
              "          const docLink = document.createElement('div');\n",
              "          docLink.innerHTML = docLinkHtml;\n",
              "          element.appendChild(docLink);\n",
              "        }\n",
              "      </script>\n",
              "    </div>\n",
              "  </div>\n",
              "  "
            ],
            "text/plain": [
              "             Predicted 0  Predicted 1\n",
              "Predicted 0          488           27\n",
              "Predicted 1           88          109"
            ]
          },
          "metadata": {},
          "execution_count": 69
        }
      ],
      "source": [
        "# Calculating the confusion matrix.\n",
        "cm = confusion_matrix(y_test, predictions)\n",
        "\n",
        "# Create a DataFrame from the confusion matrix.\n",
        "cm_df = pd.DataFrame(\n",
        "    cm, index=[\"Predicted 0\", \"Predicted 1\"], columns=[\"Predicted 0\", \"Predicted 1\"])\n",
        "\n",
        "cm_df"
      ]
    },
    {
      "cell_type": "code",
      "execution_count": 71,
      "metadata": {
        "id": "KxwENJ82IAgU"
      },
      "outputs": [],
      "source": [
        "TP = cm_df['Predicted 0'][0]\n",
        "FP = cm_df['Predicted 0'][1]\n",
        "FN = cm_df['Predicted 1'][0]\n",
        "TN = cm_df['Predicted 1'][1]\n",
        "PN = TP+FN\n"
      ]
    },
    {
      "cell_type": "markdown",
      "metadata": {
        "id": "FJi1PZxy7DHZ"
      },
      "source": [
        "# **Summary of Performancd: Confusion Matrix**"
      ]
    },
    {
      "cell_type": "code",
      "execution_count": 72,
      "metadata": {
        "colab": {
          "base_uri": "https://localhost:8080/"
        },
        "id": "GHu2QXLwgv3l",
        "outputId": "b917ec80-2b98-4a0f-b3c4-918bb2fb436c"
      },
      "outputs": [
        {
          "output_type": "stream",
          "name": "stdout",
          "text": [
            "*  Out of 515 movies that obtained a \"Favorable IMDB Score\" (Actual 0), 488\n",
            "   were predicted to have a \"Favorable IMDB Score\" (Predicted 0),\n",
            "   which is known as true positives. \n"
          ]
        }
      ],
      "source": [
        "print('*' + '  Out of '+ str(PN)+ ' movies that obtained a \"Favorable IMDB Score\" (Actual 0), '+ str(TP)+ '\\n   were predicted to have a \"Favorable IMDB Score\" (Predicted 0),\\n   which is known as true positives. ')#@title"
      ]
    },
    {
      "cell_type": "code",
      "execution_count": 73,
      "metadata": {
        "colab": {
          "base_uri": "https://localhost:8080/"
        },
        "id": "rvbdHrGjgyrS",
        "outputId": "487900f5-ae83-4520-9136-228e11c34f51"
      },
      "outputs": [
        {
          "output_type": "stream",
          "name": "stdout",
          "text": [
            "*  Out of 515 movies that obtained a \"Favorable IMDB Score\" (Actual 0),\n",
            "   27 were predicted to have a \"Unfavorable IMDB Score\" (Predicted 1),\n",
            "   which are considered false negatives.\n"
          ]
        }
      ],
      "source": [
        "print('*' + '  Out of '+str(PN)+ ' movies that obtained a \"Favorable IMDB Score\" (Actual 0),\\n   '+str(FN) +' were predicted to have a \"Unfavorable IMDB Score\" (Predicted 1),\\n   which are considered false negatives.')#@title"
      ]
    },
    {
      "cell_type": "code",
      "execution_count": 74,
      "metadata": {
        "colab": {
          "base_uri": "https://localhost:8080/"
        },
        "id": "fhxCeDOpgzze",
        "outputId": "86835a80-5980-4571-eb72-8c7376439f33"
      },
      "outputs": [
        {
          "output_type": "stream",
          "name": "stdout",
          "text": [
            "*  Out of 197 movies that obtained a \"Unfavorable IMDB Score\" (Actual 1),\n",
            "   88 were predicted to have a \"Favorable IMDB Score\" (Predicted 0)\n",
            "   and are considered false positives.\n"
          ]
        }
      ],
      "source": [
        "print('*' + '  Out of '+ str(FP+TN) +' movies that obtained a \"Unfavorable IMDB Score\" (Actual 1),\\n   '+ str(FP) +' were predicted to have a \"Favorable IMDB Score\" (Predicted 0)\\n   and are considered false positives.')#@title"
      ]
    },
    {
      "cell_type": "code",
      "execution_count": 75,
      "metadata": {
        "colab": {
          "base_uri": "https://localhost:8080/"
        },
        "id": "01bR8NTrg0Ih",
        "outputId": "3ec1937d-8e8d-401e-e870-71d2b814f37e"
      },
      "outputs": [
        {
          "output_type": "stream",
          "name": "stdout",
          "text": [
            "*  Out of 197 movies that obtained a \"Unfavorable IMDB Score\" (Actual 1),\n",
            "   109 were predicted to be have a \"Unfavorable IMDB Score\" (Predicted 1)\n",
            "   and are considered true negatives.\n"
          ]
        }
      ],
      "source": [
        "print('*' + '  Out of '+ str(FP+TN) +' movies that obtained a \"Unfavorable IMDB Score\" (Actual 1),\\n   '+ str(TN) +' were predicted to be have a \"Unfavorable IMDB Score\" (Predicted 1)\\n   and are considered true negatives.')#@title"
      ]
    },
    {
      "cell_type": "markdown",
      "metadata": {
        "id": "NbmtRGvb7fM-"
      },
      "source": [
        "# **Below you can see that the model obtains a 84% Accuracy which is how often the classifier is correct!**"
      ]
    },
    {
      "cell_type": "code",
      "execution_count": 76,
      "metadata": {
        "id": "VWUiq7P9pKLb"
      },
      "outputs": [],
      "source": [
        "# Calculating the accuracy score.\n",
        "acc_score = accuracy_score(y_test, predictions)\n",
        "acc_score=round(acc_score,2)\n",
        "Acc = round((TP + TN)/ (TP+TN+FP+FN) ,2)"
      ]
    },
    {
      "cell_type": "code",
      "execution_count": 77,
      "metadata": {
        "colab": {
          "base_uri": "https://localhost:8080/"
        },
        "id": "gNE9cnspfcKv",
        "outputId": "75ebae3a-e2c8-44ce-c3a0-e8afa6793770"
      },
      "outputs": [
        {
          "output_type": "stream",
          "name": "stdout",
          "text": [
            "* The accuracy of our model is 0.84% , which can also be calculated as follows:\n",
            "  True Positives (TP) + True Negatives (TN)) / Total = 0.84%.\n"
          ]
        }
      ],
      "source": [
        "print('*' +' The accuracy of our model is '+ str(Acc)+ '% , which can also be calculated as follows:\\n'\n",
        "+ '  True Positives (TP) + True Negatives (TN)) / Total = '+  str(Acc)+'%.' ) #@title"
      ]
    },
    {
      "cell_type": "code",
      "execution_count": 78,
      "metadata": {
        "colab": {
          "base_uri": "https://localhost:8080/",
          "height": 320
        },
        "id": "AIi8Hmf2pMuo",
        "outputId": "51c24f7f-ebfc-43dc-839c-31cf5cee2ab3"
      },
      "outputs": [
        {
          "output_type": "stream",
          "name": "stdout",
          "text": [
            "Confusion Matrix\n"
          ]
        },
        {
          "output_type": "display_data",
          "data": {
            "text/html": [
              "\n",
              "  <div id=\"df-21739f1b-0bc8-45e5-b5af-2b321a41bd07\">\n",
              "    <div class=\"colab-df-container\">\n",
              "      <div>\n",
              "<style scoped>\n",
              "    .dataframe tbody tr th:only-of-type {\n",
              "        vertical-align: middle;\n",
              "    }\n",
              "\n",
              "    .dataframe tbody tr th {\n",
              "        vertical-align: top;\n",
              "    }\n",
              "\n",
              "    .dataframe thead th {\n",
              "        text-align: right;\n",
              "    }\n",
              "</style>\n",
              "<table border=\"1\" class=\"dataframe\">\n",
              "  <thead>\n",
              "    <tr style=\"text-align: right;\">\n",
              "      <th></th>\n",
              "      <th>Predicted 0</th>\n",
              "      <th>Predicted 1</th>\n",
              "    </tr>\n",
              "  </thead>\n",
              "  <tbody>\n",
              "    <tr>\n",
              "      <th>Predicted 0</th>\n",
              "      <td>488</td>\n",
              "      <td>27</td>\n",
              "    </tr>\n",
              "    <tr>\n",
              "      <th>Predicted 1</th>\n",
              "      <td>88</td>\n",
              "      <td>109</td>\n",
              "    </tr>\n",
              "  </tbody>\n",
              "</table>\n",
              "</div>\n",
              "      <button class=\"colab-df-convert\" onclick=\"convertToInteractive('df-21739f1b-0bc8-45e5-b5af-2b321a41bd07')\"\n",
              "              title=\"Convert this dataframe to an interactive table.\"\n",
              "              style=\"display:none;\">\n",
              "        \n",
              "  <svg xmlns=\"http://www.w3.org/2000/svg\" height=\"24px\"viewBox=\"0 0 24 24\"\n",
              "       width=\"24px\">\n",
              "    <path d=\"M0 0h24v24H0V0z\" fill=\"none\"/>\n",
              "    <path d=\"M18.56 5.44l.94 2.06.94-2.06 2.06-.94-2.06-.94-.94-2.06-.94 2.06-2.06.94zm-11 1L8.5 8.5l.94-2.06 2.06-.94-2.06-.94L8.5 2.5l-.94 2.06-2.06.94zm10 10l.94 2.06.94-2.06 2.06-.94-2.06-.94-.94-2.06-.94 2.06-2.06.94z\"/><path d=\"M17.41 7.96l-1.37-1.37c-.4-.4-.92-.59-1.43-.59-.52 0-1.04.2-1.43.59L10.3 9.45l-7.72 7.72c-.78.78-.78 2.05 0 2.83L4 21.41c.39.39.9.59 1.41.59.51 0 1.02-.2 1.41-.59l7.78-7.78 2.81-2.81c.8-.78.8-2.07 0-2.86zM5.41 20L4 18.59l7.72-7.72 1.47 1.35L5.41 20z\"/>\n",
              "  </svg>\n",
              "      </button>\n",
              "      \n",
              "  <style>\n",
              "    .colab-df-container {\n",
              "      display:flex;\n",
              "      flex-wrap:wrap;\n",
              "      gap: 12px;\n",
              "    }\n",
              "\n",
              "    .colab-df-convert {\n",
              "      background-color: #E8F0FE;\n",
              "      border: none;\n",
              "      border-radius: 50%;\n",
              "      cursor: pointer;\n",
              "      display: none;\n",
              "      fill: #1967D2;\n",
              "      height: 32px;\n",
              "      padding: 0 0 0 0;\n",
              "      width: 32px;\n",
              "    }\n",
              "\n",
              "    .colab-df-convert:hover {\n",
              "      background-color: #E2EBFA;\n",
              "      box-shadow: 0px 1px 2px rgba(60, 64, 67, 0.3), 0px 1px 3px 1px rgba(60, 64, 67, 0.15);\n",
              "      fill: #174EA6;\n",
              "    }\n",
              "\n",
              "    [theme=dark] .colab-df-convert {\n",
              "      background-color: #3B4455;\n",
              "      fill: #D2E3FC;\n",
              "    }\n",
              "\n",
              "    [theme=dark] .colab-df-convert:hover {\n",
              "      background-color: #434B5C;\n",
              "      box-shadow: 0px 1px 3px 1px rgba(0, 0, 0, 0.15);\n",
              "      filter: drop-shadow(0px 1px 2px rgba(0, 0, 0, 0.3));\n",
              "      fill: #FFFFFF;\n",
              "    }\n",
              "  </style>\n",
              "\n",
              "      <script>\n",
              "        const buttonEl =\n",
              "          document.querySelector('#df-21739f1b-0bc8-45e5-b5af-2b321a41bd07 button.colab-df-convert');\n",
              "        buttonEl.style.display =\n",
              "          google.colab.kernel.accessAllowed ? 'block' : 'none';\n",
              "\n",
              "        async function convertToInteractive(key) {\n",
              "          const element = document.querySelector('#df-21739f1b-0bc8-45e5-b5af-2b321a41bd07');\n",
              "          const dataTable =\n",
              "            await google.colab.kernel.invokeFunction('convertToInteractive',\n",
              "                                                     [key], {});\n",
              "          if (!dataTable) return;\n",
              "\n",
              "          const docLinkHtml = 'Like what you see? Visit the ' +\n",
              "            '<a target=\"_blank\" href=https://colab.research.google.com/notebooks/data_table.ipynb>data table notebook</a>'\n",
              "            + ' to learn more about interactive tables.';\n",
              "          element.innerHTML = '';\n",
              "          dataTable['output_type'] = 'display_data';\n",
              "          await google.colab.output.renderOutput(dataTable, element);\n",
              "          const docLink = document.createElement('div');\n",
              "          docLink.innerHTML = docLinkHtml;\n",
              "          element.appendChild(docLink);\n",
              "        }\n",
              "      </script>\n",
              "    </div>\n",
              "  </div>\n",
              "  "
            ],
            "text/plain": [
              "             Predicted 0  Predicted 1\n",
              "Predicted 0          488           27\n",
              "Predicted 1           88          109"
            ]
          },
          "metadata": {}
        },
        {
          "output_type": "stream",
          "name": "stdout",
          "text": [
            "Accuracy Score : 0.84\n",
            "Classification Report\n",
            "              precision    recall  f1-score   support\n",
            "\n",
            "           0       0.85      0.95      0.89       515\n",
            "           1       0.80      0.55      0.65       197\n",
            "\n",
            "    accuracy                           0.84       712\n",
            "   macro avg       0.82      0.75      0.77       712\n",
            "weighted avg       0.83      0.84      0.83       712\n",
            "\n"
          ]
        }
      ],
      "source": [
        "# Displaying results\n",
        "print(\"Confusion Matrix\")\n",
        "display(cm_df)\n",
        "print(f\"Accuracy Score : {acc_score}\")\n",
        "print(\"Classification Report\")\n",
        "print(classification_report(y_test, predictions))"
      ]
    },
    {
      "cell_type": "code",
      "source": [
        "y_pred_test = predictions\n",
        "y_pred = y_pred_test.copy()"
      ],
      "metadata": {
        "id": "VNpIW7hsCGom"
      },
      "execution_count": 79,
      "outputs": []
    },
    {
      "cell_type": "code",
      "source": [
        "# View confusion matrix for test data and predictions\n",
        "confusion_matrix(y_test, y_pred_test)"
      ],
      "metadata": {
        "colab": {
          "base_uri": "https://localhost:8080/"
        },
        "id": "PBA9p84Q_6ev",
        "outputId": "8e0ed51b-834c-48e8-8b3e-fc028a52e464"
      },
      "execution_count": 80,
      "outputs": [
        {
          "output_type": "execute_result",
          "data": {
            "text/plain": [
              "array([[488,  27],\n",
              "       [ 88, 109]])"
            ]
          },
          "metadata": {},
          "execution_count": 80
        }
      ]
    },
    {
      "cell_type": "code",
      "source": [
        "ActualvsPredicted_df=pd.DataFrame({'Actual':y_test, 'Predicted':y_pred})\n",
        "ActualvsPredicted_df"
      ],
      "metadata": {
        "colab": {
          "base_uri": "https://localhost:8080/",
          "height": 424
        },
        "id": "fnoXl9_qv6Pq",
        "outputId": "3a446480-49fd-42d3-fccc-affd5a0e26fa"
      },
      "execution_count": 81,
      "outputs": [
        {
          "output_type": "execute_result",
          "data": {
            "text/html": [
              "\n",
              "  <div id=\"df-49d208b0-77d3-45cf-a617-e597a2db6a62\">\n",
              "    <div class=\"colab-df-container\">\n",
              "      <div>\n",
              "<style scoped>\n",
              "    .dataframe tbody tr th:only-of-type {\n",
              "        vertical-align: middle;\n",
              "    }\n",
              "\n",
              "    .dataframe tbody tr th {\n",
              "        vertical-align: top;\n",
              "    }\n",
              "\n",
              "    .dataframe thead th {\n",
              "        text-align: right;\n",
              "    }\n",
              "</style>\n",
              "<table border=\"1\" class=\"dataframe\">\n",
              "  <thead>\n",
              "    <tr style=\"text-align: right;\">\n",
              "      <th></th>\n",
              "      <th>Actual</th>\n",
              "      <th>Predicted</th>\n",
              "    </tr>\n",
              "  </thead>\n",
              "  <tbody>\n",
              "    <tr>\n",
              "      <th>3066</th>\n",
              "      <td>1</td>\n",
              "      <td>0</td>\n",
              "    </tr>\n",
              "    <tr>\n",
              "      <th>1131</th>\n",
              "      <td>1</td>\n",
              "      <td>0</td>\n",
              "    </tr>\n",
              "    <tr>\n",
              "      <th>519</th>\n",
              "      <td>0</td>\n",
              "      <td>0</td>\n",
              "    </tr>\n",
              "    <tr>\n",
              "      <th>268</th>\n",
              "      <td>0</td>\n",
              "      <td>0</td>\n",
              "    </tr>\n",
              "    <tr>\n",
              "      <th>2642</th>\n",
              "      <td>0</td>\n",
              "      <td>0</td>\n",
              "    </tr>\n",
              "    <tr>\n",
              "      <th>...</th>\n",
              "      <td>...</td>\n",
              "      <td>...</td>\n",
              "    </tr>\n",
              "    <tr>\n",
              "      <th>2720</th>\n",
              "      <td>0</td>\n",
              "      <td>0</td>\n",
              "    </tr>\n",
              "    <tr>\n",
              "      <th>2805</th>\n",
              "      <td>0</td>\n",
              "      <td>0</td>\n",
              "    </tr>\n",
              "    <tr>\n",
              "      <th>1742</th>\n",
              "      <td>0</td>\n",
              "      <td>1</td>\n",
              "    </tr>\n",
              "    <tr>\n",
              "      <th>54</th>\n",
              "      <td>0</td>\n",
              "      <td>0</td>\n",
              "    </tr>\n",
              "    <tr>\n",
              "      <th>1939</th>\n",
              "      <td>0</td>\n",
              "      <td>0</td>\n",
              "    </tr>\n",
              "  </tbody>\n",
              "</table>\n",
              "<p>712 rows × 2 columns</p>\n",
              "</div>\n",
              "      <button class=\"colab-df-convert\" onclick=\"convertToInteractive('df-49d208b0-77d3-45cf-a617-e597a2db6a62')\"\n",
              "              title=\"Convert this dataframe to an interactive table.\"\n",
              "              style=\"display:none;\">\n",
              "        \n",
              "  <svg xmlns=\"http://www.w3.org/2000/svg\" height=\"24px\"viewBox=\"0 0 24 24\"\n",
              "       width=\"24px\">\n",
              "    <path d=\"M0 0h24v24H0V0z\" fill=\"none\"/>\n",
              "    <path d=\"M18.56 5.44l.94 2.06.94-2.06 2.06-.94-2.06-.94-.94-2.06-.94 2.06-2.06.94zm-11 1L8.5 8.5l.94-2.06 2.06-.94-2.06-.94L8.5 2.5l-.94 2.06-2.06.94zm10 10l.94 2.06.94-2.06 2.06-.94-2.06-.94-.94-2.06-.94 2.06-2.06.94z\"/><path d=\"M17.41 7.96l-1.37-1.37c-.4-.4-.92-.59-1.43-.59-.52 0-1.04.2-1.43.59L10.3 9.45l-7.72 7.72c-.78.78-.78 2.05 0 2.83L4 21.41c.39.39.9.59 1.41.59.51 0 1.02-.2 1.41-.59l7.78-7.78 2.81-2.81c.8-.78.8-2.07 0-2.86zM5.41 20L4 18.59l7.72-7.72 1.47 1.35L5.41 20z\"/>\n",
              "  </svg>\n",
              "      </button>\n",
              "      \n",
              "  <style>\n",
              "    .colab-df-container {\n",
              "      display:flex;\n",
              "      flex-wrap:wrap;\n",
              "      gap: 12px;\n",
              "    }\n",
              "\n",
              "    .colab-df-convert {\n",
              "      background-color: #E8F0FE;\n",
              "      border: none;\n",
              "      border-radius: 50%;\n",
              "      cursor: pointer;\n",
              "      display: none;\n",
              "      fill: #1967D2;\n",
              "      height: 32px;\n",
              "      padding: 0 0 0 0;\n",
              "      width: 32px;\n",
              "    }\n",
              "\n",
              "    .colab-df-convert:hover {\n",
              "      background-color: #E2EBFA;\n",
              "      box-shadow: 0px 1px 2px rgba(60, 64, 67, 0.3), 0px 1px 3px 1px rgba(60, 64, 67, 0.15);\n",
              "      fill: #174EA6;\n",
              "    }\n",
              "\n",
              "    [theme=dark] .colab-df-convert {\n",
              "      background-color: #3B4455;\n",
              "      fill: #D2E3FC;\n",
              "    }\n",
              "\n",
              "    [theme=dark] .colab-df-convert:hover {\n",
              "      background-color: #434B5C;\n",
              "      box-shadow: 0px 1px 3px 1px rgba(0, 0, 0, 0.15);\n",
              "      filter: drop-shadow(0px 1px 2px rgba(0, 0, 0, 0.3));\n",
              "      fill: #FFFFFF;\n",
              "    }\n",
              "  </style>\n",
              "\n",
              "      <script>\n",
              "        const buttonEl =\n",
              "          document.querySelector('#df-49d208b0-77d3-45cf-a617-e597a2db6a62 button.colab-df-convert');\n",
              "        buttonEl.style.display =\n",
              "          google.colab.kernel.accessAllowed ? 'block' : 'none';\n",
              "\n",
              "        async function convertToInteractive(key) {\n",
              "          const element = document.querySelector('#df-49d208b0-77d3-45cf-a617-e597a2db6a62');\n",
              "          const dataTable =\n",
              "            await google.colab.kernel.invokeFunction('convertToInteractive',\n",
              "                                                     [key], {});\n",
              "          if (!dataTable) return;\n",
              "\n",
              "          const docLinkHtml = 'Like what you see? Visit the ' +\n",
              "            '<a target=\"_blank\" href=https://colab.research.google.com/notebooks/data_table.ipynb>data table notebook</a>'\n",
              "            + ' to learn more about interactive tables.';\n",
              "          element.innerHTML = '';\n",
              "          dataTable['output_type'] = 'display_data';\n",
              "          await google.colab.output.renderOutput(dataTable, element);\n",
              "          const docLink = document.createElement('div');\n",
              "          docLink.innerHTML = docLinkHtml;\n",
              "          element.appendChild(docLink);\n",
              "        }\n",
              "      </script>\n",
              "    </div>\n",
              "  </div>\n",
              "  "
            ],
            "text/plain": [
              "      Actual  Predicted\n",
              "3066       1          0\n",
              "1131       1          0\n",
              "519        0          0\n",
              "268        0          0\n",
              "2642       0          0\n",
              "...      ...        ...\n",
              "2720       0          0\n",
              "2805       0          0\n",
              "1742       0          1\n",
              "54         0          0\n",
              "1939       0          0\n",
              "\n",
              "[712 rows x 2 columns]"
            ]
          },
          "metadata": {},
          "execution_count": 81
        }
      ]
    },
    {
      "cell_type": "code",
      "source": [
        "from sklearn import metrics\n",
        "import numpy as np\n",
        "\n",
        "print('Mean Absolute Error:', metrics.mean_absolute_error(y_test, y_pred))\n",
        "print('Mean Squared Error:', metrics.mean_squared_error(y_test, y_pred))\n",
        "print('Root Mean Squared Error:', np.sqrt(metrics.mean_squared_error(y_test, y_pred)))"
      ],
      "metadata": {
        "colab": {
          "base_uri": "https://localhost:8080/"
        },
        "id": "ZtZNHcYYwM3I",
        "outputId": "8f477b29-44ad-4aaa-f9e0-a093d8be32d0"
      },
      "execution_count": 82,
      "outputs": [
        {
          "output_type": "stream",
          "name": "stdout",
          "text": [
            "Mean Absolute Error: 0.16151685393258428\n",
            "Mean Squared Error: 0.16151685393258428\n",
            "Root Mean Squared Error: 0.4018915947523465\n"
          ]
        }
      ]
    },
    {
      "cell_type": "code",
      "source": [
        "# Calculate the absolute errors\n",
        "errors = abs(y_pred - y_test)\n",
        "# Print out the mean absolute error (mae)\n",
        "print('Mean Absolute Error:', round(np.mean(errors), 2), 'degrees.')\n",
        "\n",
        "# Calculate mean absolute percentage error (MAPE)\n",
        "mape = 100 * (errors / y_test)\n",
        "# Calculate and display accuracy\n",
        "accuracy = 100 - np.mean(mape)\n",
        "print('Accuracy:', round(acc_score, 2), '%.')"
      ],
      "metadata": {
        "colab": {
          "base_uri": "https://localhost:8080/"
        },
        "id": "NULYt59awh72",
        "outputId": "795cf83a-e4b1-401b-f7f4-961d51a98b09"
      },
      "execution_count": 83,
      "outputs": [
        {
          "output_type": "stream",
          "name": "stdout",
          "text": [
            "Mean Absolute Error: 0.16 degrees.\n",
            "Accuracy: 0.84 %.\n"
          ]
        }
      ]
    },
    {
      "cell_type": "code",
      "source": [
        "import seaborn as sns\n",
        "plt.figure(figsize=(5, 7))\n",
        "\n",
        "\n",
        "ax = sns.distplot(y, hist=False, color=\"r\", label=\"Actual Value\")\n",
        "sns.distplot(y_pred, hist=False, color=\"b\", label=\"Fitted Values\" , ax=ax)\n",
        "\n",
        "\n",
        "plt.title('Actual vs Fitted Values for Score')\n",
        "\n",
        "\n",
        "plt.show()\n",
        "plt.close()"
      ],
      "metadata": {
        "colab": {
          "base_uri": "https://localhost:8080/",
          "height": 547
        },
        "id": "xGA4d-0Pw-0D",
        "outputId": "d1fef183-d643-4974-841b-da3b6f703b49"
      },
      "execution_count": 84,
      "outputs": [
        {
          "output_type": "stream",
          "name": "stderr",
          "text": [
            "/usr/local/lib/python3.7/dist-packages/seaborn/distributions.py:2619: FutureWarning: `distplot` is a deprecated function and will be removed in a future version. Please adapt your code to use either `displot` (a figure-level function with similar flexibility) or `kdeplot` (an axes-level function for kernel density plots).\n",
            "  warnings.warn(msg, FutureWarning)\n",
            "/usr/local/lib/python3.7/dist-packages/seaborn/distributions.py:2619: FutureWarning: `distplot` is a deprecated function and will be removed in a future version. Please adapt your code to use either `displot` (a figure-level function with similar flexibility) or `kdeplot` (an axes-level function for kernel density plots).\n",
            "  warnings.warn(msg, FutureWarning)\n"
          ]
        },
        {
          "output_type": "display_data",
          "data": {
            "image/png": "[encoded data removed]",
            "text/plain": [
              "<Figure size 360x504 with 1 Axes>"
            ]
          },
          "metadata": {
            "needs_background": "light"
          }
        }
      ]
    },
    {
      "cell_type": "code",
      "source": [
        "import matplotlib.pyplot as plt\n",
        "import numpy as np\n",
        "import seaborn as sns\n",
        "# Get and reshape confusion matrix data\n",
        "matrix = confusion_matrix(y_test, y_pred_test)\n",
        "matrix = matrix.astype('float') / matrix.sum(axis=1)[:, np.newaxis]\n",
        "\n",
        "# Build the plot\n",
        "plt.figure(figsize=(12,7))\n",
        "sns.set(font_scale=2)\n",
        "sns.heatmap(matrix, annot=True, annot_kws={'size':15},\n",
        "            cmap=plt.cm.Greens, linewidths=0.2)\n",
        "\n",
        "# Add labels to the plot\n",
        "class_names = ['Favorable IMDB Movie Scores', 'UnFavorable IMDB Movie Scores', ]\n",
        "tick_marks = np.arange(len(class_names))\n",
        "tick_marks2 = tick_marks + 0.5\n",
        "plt.xticks(tick_marks, class_names, rotation=25)\n",
        "plt.yticks(tick_marks2, class_names, rotation=0)\n",
        "plt.xlabel('Predicted Movie Scores')\n",
        "plt.ylabel('Actual Movie Scores')\n",
        "plt.title('Confusion Matrix for Random Forest Model')\n",
        "plt.show()"
      ],
      "metadata": {
        "colab": {
          "base_uri": "https://localhost:8080/",
          "height": 641
        },
        "id": "otiGDgRSAMlM",
        "outputId": "d1b1fb7c-7490-40db-8997-e9322aab8d0e"
      },
      "execution_count": 87,
      "outputs": [
        {
          "output_type": "display_data",
          "data": {
            "image/png": "[encoded data removed]",
            "text/plain": [
              "<Figure size 864x504 with 2 Axes>"
            ]
          },
          "metadata": {}
        }
      ]
    },
    {
      "cell_type": "code",
      "execution_count": null,
      "metadata": {
        "colab": {
          "base_uri": "https://localhost:8080/"
        },
        "id": "atn-Z6cjB_9H",
        "outputId": "af9157b5-8c50-4ecd-ad8f-9d3353ab5e3d"
      },
      "outputs": [
        {
          "output_type": "execute_result",
          "data": {
            "text/plain": [
              "0.85"
            ]
          },
          "metadata": {},
          "execution_count": 65
        }
      ],
      "source": [
        "Prec = (TP/(TP + FP))\n",
        "per = round(Prec, 2)\n",
        "per"
      ]
    },
    {
      "cell_type": "code",
      "execution_count": null,
      "metadata": {
        "colab": {
          "base_uri": "https://localhost:8080/"
        },
        "id": "WFBFsAnkVjxX",
        "outputId": "ab795c86-5d54-4738-97bc-04ffd991a087"
      },
      "outputs": [
        {
          "output_type": "execute_result",
          "data": {
            "text/plain": [
              "0.95"
            ]
          },
          "metadata": {},
          "execution_count": 66
        }
      ],
      "source": [
        "Rec = round(TP/(TP + FN),2)\n",
        "Rec"
      ]
    },
    {
      "cell_type": "code",
      "execution_count": null,
      "metadata": {
        "colab": {
          "base_uri": "https://localhost:8080/"
        },
        "id": "JYkHgxp1c6tz",
        "outputId": "b2f3d71e-58ad-46f8-aa0e-f33e21c34137"
      },
      "outputs": [
        {
          "output_type": "execute_result",
          "data": {
            "text/plain": [
              "0.95"
            ]
          },
          "metadata": {},
          "execution_count": 67
        }
      ],
      "source": [
        "Sen = round(TP/(TP + FN),2)\n",
        "Sen"
      ]
    },
    {
      "cell_type": "code",
      "execution_count": null,
      "metadata": {
        "colab": {
          "base_uri": "https://localhost:8080/"
        },
        "id": "ODxRFal8dHbX",
        "outputId": "b9622214-1c86-4e65-ca23-8dd6efa448a7"
      },
      "outputs": [
        {
          "output_type": "execute_result",
          "data": {
            "text/plain": [
              "89.72"
            ]
          },
          "metadata": {},
          "execution_count": 68
        }
      ],
      "source": [
        "F1 = round(100*((2 * ( per * Sen))/(per + Sen)),2)\n",
        "F1"
      ]
    },
    {
      "cell_type": "code",
      "execution_count": null,
      "metadata": {
        "colab": {
          "base_uri": "https://localhost:8080/"
        },
        "id": "S6do__h0B1TL",
        "outputId": "0be6d5a3-a97e-44a7-b636-c6f44f03df44"
      },
      "outputs": [
        {
          "output_type": "stream",
          "name": "stdout",
          "text": [
            "Precision: Precision is the measure of how reliable a positive classification \n",
            "is. From our results, the precision for the good IMDB movie scores can be\n",
            "determined  by the ratio TP/(TP + FP), which is 0.85 . A low precision is indicative \n",
            "of a large number of false positives—of the 136 movie IMDB scores we predicted to obtain \n",
            "bad scores, 27 actually recieved a good IMDB movie scores.\n"
          ]
        }
      ],
      "source": [
        "\n",
        "print( 'Precision: Precision is the measure of how reliable a positive classification \\nis. From our results, the precision for the good IMDB movie scores can be\\ndetermined  by the ratio TP/(TP + FP), which is ' + str(per) + ' . A low precision is indicative \\nof a large number of false positives—of the '+ str(FN + TN) +' movie IMDB scores we predicted to obtain \\nbad scores, '+ str(FN) + ' actually recieved a good IMDB movie scores.' ) #@title"
      ]
    },
    {
      "cell_type": "code",
      "execution_count": null,
      "metadata": {
        "colab": {
          "base_uri": "https://localhost:8080/"
        },
        "id": "zhDNcVYDVIG3",
        "outputId": "a4fa46ad-caf1-4215-9968-0a4b17c96588"
      },
      "outputs": [
        {
          "output_type": "stream",
          "name": "stdout",
          "text": [
            "Recall: Recall is the ability of the classifier to find all\n",
            "the positive samples. It can be determined by the ratio: TP/(TP + FN),\n",
            "or 0.95 for the good IMDB movie scores and 0.55 for the bad IMDB movie scores. A low\n",
            "recall is indicative of a large number of false negatives.\n"
          ]
        }
      ],
      "source": [
        "print( 'Recall: Recall is the ability of the classifier to find all\\nthe positive samples. It can be determined by the ratio: TP/(TP + FN),\\nor '+ str(Rec)+ ' for the good IMDB movie scores and '+ str(round(TN/(TN+FP),2)) + ' for the bad IMDB movie scores. A low\\nrecall is indicative of a large number of false negatives.') #@title"
      ]
    },
    {
      "cell_type": "code",
      "execution_count": null,
      "metadata": {
        "colab": {
          "base_uri": "https://localhost:8080/"
        },
        "id": "kfLvSax0ZRBN",
        "outputId": "c3a72d11-eeea-4f85-e039-3069433a0496"
      },
      "outputs": [
        {
          "output_type": "stream",
          "name": "stdout",
          "text": [
            "F1 score: F1 score is a weighted average of the true positive\n",
            "rate (recall) and precision, where the best score is 1.0\n",
            "and the worst is 0.0. Our F1 score is 89.72%.\n"
          ]
        }
      ],
      "source": [
        "print('F1 score: F1 score is a weighted average of the true positive\\nrate (recall) and precision, where the best score is 1.0\\nand the worst is 0.0. Our F1 score is ' +str(F1)+'%.' )#@title"
      ]
    },
    {
      "cell_type": "code",
      "execution_count": null,
      "metadata": {
        "colab": {
          "base_uri": "https://localhost:8080/"
        },
        "id": "owOGiYk3ZmMB",
        "outputId": "40d61b6a-1663-4981-dc0f-9831b3b7fcac"
      },
      "outputs": [
        {
          "output_type": "stream",
          "name": "stdout",
          "text": [
            "Support: Support is the number of actual occurrences of the class in the specified dataset.\n",
            "For our results, there are 515 actual occurrences for the good IMDB movie scores and 197\n",
            "actual occurrences for bad IMDB movie scores.\n"
          ]
        }
      ],
      "source": [
        "print('Support: Support is the number of actual occurrences of the class in the specified dataset.\\nFor our results, there are '+ str(TP+FN)+ ' actual occurrences for the good IMDB movie scores and '+ str(FP+TN)+ '\\nactual occurrences for bad IMDB movie scores.')"
      ]
    },
    {
      "cell_type": "code",
      "execution_count": null,
      "metadata": {
        "colab": {
          "base_uri": "https://localhost:8080/"
        },
        "id": "SBgznTcYpSOg",
        "outputId": "6c60db6b-2db8-4c7a-e547-eaf5e14a144b"
      },
      "outputs": [
        {
          "output_type": "execute_result",
          "data": {
            "text/plain": [
              "array([0.05765392, 0.04873838, 0.07192726, 0.06727328, 0.02171482,\n",
              "       0.03791888, 0.05141591, 0.16971784, 0.05335785, 0.05068408,\n",
              "       0.05301534, 0.05353594, 0.06193243, 0.04478315, 0.15633091])"
            ]
          },
          "metadata": {},
          "execution_count": 73
        }
      ],
      "source": [
        "# Calculate feature importance in the Random Forest model.\n",
        "importances = rf_model.feature_importances_\n",
        "importances"
      ]
    },
    {
      "cell_type": "code",
      "execution_count": null,
      "metadata": {
        "colab": {
          "base_uri": "https://localhost:8080/"
        },
        "id": "mEkE2tkHpU77",
        "outputId": "6de49a99-7074-433e-dc91-8eb7982e0e73"
      },
      "outputs": [
        {
          "output_type": "execute_result",
          "data": {
            "text/plain": [
              "[(0.16971783957990463, 'votes'),\n",
              " (0.15633090829853766, 'runtime'),\n",
              " (0.07192726338026463, 'Domestic_Gross'),\n",
              " (0.06727327662228146, 'Worldwide_Gross'),\n",
              " (0.0619324316400494, 'gross'),\n",
              " (0.05765392140532906, 'Movie_Title'),\n",
              " (0.053535935705114286, 'budget'),\n",
              " (0.05335785263597243, 'director'),\n",
              " (0.053015341471989934, 'star'),\n",
              " (0.051415914458645566, 'year'),\n",
              " (0.050684084459469696, 'writer'),\n",
              " (0.04873838128969764, 'Production_Budget'),\n",
              " (0.044783148427180015, 'company'),\n",
              " (0.03791887621512739, 'genre'),\n",
              " (0.021714824410436148, 'rating')]"
            ]
          },
          "metadata": {},
          "execution_count": 74
        }
      ],
      "source": [
        "# We can sort the features by their importance.\n",
        "sorted(zip(rf_model.feature_importances_, X.columns), reverse=True)"
      ]
    },
    {
      "cell_type": "markdown",
      "metadata": {
        "id": "0nV4U12A30i2"
      },
      "source": [
        "# **Display Feature Importance using a Bar Graph Below**"
      ]
    },
    {
      "cell_type": "code",
      "execution_count": null,
      "metadata": {
        "colab": {
          "base_uri": "https://localhost:8080/",
          "height": 419
        },
        "id": "452NILfFn55s",
        "outputId": "0130e6ca-f236-46ac-9c3d-150b6978a752"
      },
      "outputs": [
        {
          "output_type": "display_data",
          "data": {
            "image/png": "[encoded data removed]",
            "text/plain": [
              "<Figure size 576x396 with 1 Axes>"
            ]
          },
          "metadata": {}
        },
        {
          "output_type": "execute_result",
          "data": {
            "text/plain": [
              "<matplotlib.axes._subplots.AxesSubplot at 0x7f633b1d1510>"
            ]
          },
          "metadata": {},
          "execution_count": 75
        }
      ],
      "source": [
        "from sklearn.ensemble import RandomForestClassifier\n",
        "from yellowbrick.model_selection import FeatureImportances\n",
        "\n",
        "\n",
        "model = RandomForestClassifier(n_estimators=15)\n",
        "viz = FeatureImportances(model)\n",
        "viz.fit(X, y)\n",
        "viz.show()"
      ]
    },
    {
      "cell_type": "code",
      "source": [
        "from sklearn.ensemble import RandomForestClassifier\n",
        "\n",
        "feature_names = [f\"feature {i}\" for i in X.columns]\n",
        "forest = RandomForestClassifier(random_state=0)\n",
        "forest.fit(X_train, y_train)"
      ],
      "metadata": {
        "colab": {
          "base_uri": "https://localhost:8080/"
        },
        "id": "fH2keCur4wF7",
        "outputId": "dfb9866a-eb9d-4dcf-cfb4-4673e7f7b7f6"
      },
      "execution_count": null,
      "outputs": [
        {
          "output_type": "execute_result",
          "data": {
            "text/plain": [
              "RandomForestClassifier(random_state=0)"
            ]
          },
          "metadata": {},
          "execution_count": 163
        }
      ]
    },
    {
      "cell_type": "code",
      "source": [
        "import time\n",
        "import numpy as np\n",
        "\n",
        "start_time = time.time()\n",
        "importances = forest.feature_importances_\n",
        "std = np.std([tree.feature_importances_ for tree in forest.estimators_], axis=0)\n",
        "elapsed_time = time.time() - start_time\n",
        "\n",
        "print(f\"Elapsed time to compute the importances: {elapsed_time:.3f} seconds\")"
      ],
      "metadata": {
        "colab": {
          "base_uri": "https://localhost:8080/"
        },
        "id": "PQtg2RFM42Mq",
        "outputId": "866be717-9a9e-4955-e354-885fbfb132e2"
      },
      "execution_count": null,
      "outputs": [
        {
          "output_type": "stream",
          "name": "stdout",
          "text": [
            "Elapsed time to compute the importances: 0.020 seconds\n"
          ]
        }
      ]
    },
    {
      "cell_type": "code",
      "source": [
        "import pandas as pd\n",
        "\n",
        "forest_importances = pd.Series(importances, index=feature_names)\n",
        "\n",
        "fig, ax = plt.subplots()\n",
        "forest_importances.plot.bar(yerr=std, ax=ax)\n",
        "ax.set_title(\"Feature importances using MDI\")\n",
        "ax.set_ylabel(\"Mean decrease in impurity\")\n",
        "fig.tight_layout()"
      ],
      "metadata": {
        "colab": {
          "base_uri": "https://localhost:8080/",
          "height": 544
        },
        "id": "2YReElul46JP",
        "outputId": "cbf13312-815a-424d-ba79-06d00d616950"
      },
      "execution_count": null,
      "outputs": [
        {
          "output_type": "display_data",
          "data": {
            "image/png": "[encoded data removed]",
            "text/plain": [
              "<Figure size 1080x576 with 1 Axes>"
            ]
          },
          "metadata": {}
        }
      ]
    },
    {
      "cell_type": "code",
      "source": [
        "# Scatter plot with votes vs score\n",
        "\n",
        "plt.scatter(x=o_df['votes'], y=o_df['score'])\n",
        "\n",
        "plt.title('Votes vs Score')\n",
        "\n",
        "plt.xlabel('User Votes')\n",
        "\n",
        "plt.ylabel('IMDB Movie Scores')\n",
        "\n",
        "plt.show()"
      ],
      "metadata": {
        "id": "idCPZPfjYkKl",
        "outputId": "d453e96f-a03a-490e-e4dc-4be9ca8a5ab4",
        "colab": {
          "base_uri": "https://localhost:8080/",
          "height": 376
        }
      },
      "execution_count": null,
      "outputs": [
        {
          "output_type": "display_data",
          "data": {
            "image/png": "[encoded data removed]",
            "text/plain": [
              "<Figure size 576x396 with 1 Axes>"
            ]
          },
          "metadata": {}
        }
      ]
    },
    {
      "cell_type": "code",
      "source": [
        "import seaborn as sns\n",
        "# Plot votes vs score using seaborn\n",
        "\n",
        "sns.regplot(x='votes', y='score', data=o_df, scatter_kws={\"color\": \"red\"}, line_kws={\"color\":\"blue\"})"
      ],
      "metadata": {
        "colab": {
          "base_uri": "https://localhost:8080/",
          "height": 379
        },
        "id": "SMfhf6LrgoXs",
        "outputId": "7cace5cb-a695-499b-9033-f29f727bb287"
      },
      "execution_count": null,
      "outputs": [
        {
          "output_type": "execute_result",
          "data": {
            "text/plain": [
              "<matplotlib.axes._subplots.AxesSubplot at 0x7f633b083790>"
            ]
          },
          "metadata": {},
          "execution_count": 77
        },
        {
          "output_type": "display_data",
          "data": {
            "image/png": "[encoded data removed]",
            "text/plain": [
              "<Figure size 576x396 with 1 Axes>"
            ]
          },
          "metadata": {}
        }
      ]
    },
    {
      "cell_type": "code",
      "source": [
        "# Scatter plot with runtime vs score\n",
        "\n",
        "plt.scatter(x=o_df['runtime'], y=o_df['score'])\n",
        "\n",
        "plt.title('Runtime vs Score')\n",
        "\n",
        "plt.xlabel('Movie Runtime')\n",
        "\n",
        "plt.ylabel('IMDB Movie Scores')\n",
        "\n",
        "plt.show()"
      ],
      "metadata": {
        "id": "alZVqbjPdSIb",
        "outputId": "69a9482b-e266-4731-c79e-1ed3e6dfe077",
        "colab": {
          "base_uri": "https://localhost:8080/",
          "height": 376
        }
      },
      "execution_count": null,
      "outputs": [
        {
          "output_type": "display_data",
          "data": {
            "image/png": "[encoded data removed]",
            "text/plain": [
              "<Figure size 576x396 with 1 Axes>"
            ]
          },
          "metadata": {}
        }
      ]
    },
    {
      "cell_type": "code",
      "source": [
        "# Scatter plot with runtime vs score using seaborn\n",
        "sns.regplot(x='runtime', y='score', data=o_df, scatter_kws={\"color\": \"red\"}, line_kws={\"color\":\"blue\"})"
      ],
      "metadata": {
        "colab": {
          "base_uri": "https://localhost:8080/",
          "height": 379
        },
        "id": "yhnp2gSkhviW",
        "outputId": "6656a92a-7857-4973-a403-d09c3d30997c"
      },
      "execution_count": null,
      "outputs": [
        {
          "output_type": "execute_result",
          "data": {
            "text/plain": [
              "<matplotlib.axes._subplots.AxesSubplot at 0x7f633afe61d0>"
            ]
          },
          "metadata": {},
          "execution_count": 79
        },
        {
          "output_type": "display_data",
          "data": {
            "image/png": "[encoded data removed]",
            "text/plain": [
              "<Figure size 576x396 with 1 Axes>"
            ]
          },
          "metadata": {}
        }
      ]
    },
    {
      "cell_type": "code",
      "source": [
        "# Scatter plot with Domestic_Gross vs score\n",
        "\n",
        "plt.scatter(x=o_df['Domestic_Gross'], y=o_df['score'])\n",
        "\n",
        "plt.title('Domestic_Gross vs Score')\n",
        "\n",
        "plt.xlabel('Movie Domestic_Gross')\n",
        "\n",
        "plt.ylabel('IMDB Movie Scores')\n",
        "\n",
        "plt.show()"
      ],
      "metadata": {
        "id": "CuW1o2_Tf_5u",
        "outputId": "f663c098-104e-49be-f0dd-9ee8afc51f10",
        "colab": {
          "base_uri": "https://localhost:8080/",
          "height": 376
        }
      },
      "execution_count": null,
      "outputs": [
        {
          "output_type": "display_data",
          "data": {
            "image/png": "[encoded data removed]",
            "text/plain": [
              "<Figure size 576x396 with 1 Axes>"
            ]
          },
          "metadata": {}
        }
      ]
    },
    {
      "cell_type": "code",
      "source": [
        "# Scatter plot with Domestic_Gross vs score using seaborn\n",
        "sns.regplot(x='Domestic_Gross', y='score', data=o_df, scatter_kws={\"color\": \"red\"}, line_kws={\"color\":\"blue\"})"
      ],
      "metadata": {
        "colab": {
          "base_uri": "https://localhost:8080/",
          "height": 379
        },
        "id": "Rpa3sfJXiq-E",
        "outputId": "142399f1-93bb-45f5-86c4-b7e7ba4d2ae0"
      },
      "execution_count": null,
      "outputs": [
        {
          "output_type": "execute_result",
          "data": {
            "text/plain": [
              "<matplotlib.axes._subplots.AxesSubplot at 0x7f633ae14290>"
            ]
          },
          "metadata": {},
          "execution_count": 83
        },
        {
          "output_type": "display_data",
          "data": {
            "image/png": "[encoded data removed]",
            "text/plain": [
              "<Figure size 576x396 with 1 Axes>"
            ]
          },
          "metadata": {}
        }
      ]
    },
    {
      "cell_type": "code",
      "source": [
        "# Create Correlation Matrix Heat Map to show feature dependancy\n",
        "correlation_matrix = c_df.corr(method='pearson') \n",
        "sns.set(rc = {'figure.figsize':(15,8)})\n",
        "sns.heatmap(correlation_matrix, annot=True)\n",
        "\n",
        "plt.title('Correlation Matrix for Movie Features')\n",
        "\n",
        "plt.xlabel('Movie Features')\n",
        "\n",
        "plt.ylabel('Movie Features')\n",
        "\n",
        "plt.show()"
      ],
      "metadata": {
        "colab": {
          "base_uri": "https://localhost:8080/",
          "height": 614
        },
        "id": "6fE2A08bkX8o",
        "outputId": "ba05764c-a703-4f4a-9078-d955e3530669"
      },
      "execution_count": null,
      "outputs": [
        {
          "output_type": "display_data",
          "data": {
            "image/png": "[encoded data removed]",
            "text/plain": [
              "<Figure size 1080x576 with 2 Axes>"
            ]
          },
          "metadata": {}
        }
      ]
    },
    {
      "cell_type": "code",
      "source": [
        "correlation_mat = c_df.corr()\n",
        "\n",
        "corr_pairs = correlation_mat.unstack()\n",
        "\n",
        "corr_pairs"
      ],
      "metadata": {
        "colab": {
          "base_uri": "https://localhost:8080/"
        },
        "id": "y-4jUOQUDCzy",
        "outputId": "f859f5c8-64b7-483b-846f-66c2e08f95fa"
      },
      "execution_count": null,
      "outputs": [
        {
          "output_type": "execute_result",
          "data": {
            "text/plain": [
              "dtype('float64')"
            ]
          },
          "metadata": {},
          "execution_count": 182
        }
      ]
    },
    {
      "cell_type": "code",
      "source": [
        "correlation_mat"
      ],
      "metadata": {
        "colab": {
          "base_uri": "https://localhost:8080/",
          "height": 300
        },
        "id": "EFSir2f0Ei8K",
        "outputId": "a357d687-9cc2-46d2-d954-698dc216f6e3"
      },
      "execution_count": null,
      "outputs": [
        {
          "output_type": "execute_result",
          "data": {
            "text/html": [
              "\n",
              "  <div id=\"df-d9adb108-b130-4c41-af1f-d566fee1f6e9\">\n",
              "    <div class=\"colab-df-container\">\n",
              "      <div>\n",
              "<style scoped>\n",
              "    .dataframe tbody tr th:only-of-type {\n",
              "        vertical-align: middle;\n",
              "    }\n",
              "\n",
              "    .dataframe tbody tr th {\n",
              "        vertical-align: top;\n",
              "    }\n",
              "\n",
              "    .dataframe thead th {\n",
              "        text-align: right;\n",
              "    }\n",
              "</style>\n",
              "<table border=\"1\" class=\"dataframe\">\n",
              "  <thead>\n",
              "    <tr style=\"text-align: right;\">\n",
              "      <th></th>\n",
              "      <th>Production Budget</th>\n",
              "      <th>Domestic Gross</th>\n",
              "      <th>Worldwide Gross</th>\n",
              "      <th>score</th>\n",
              "      <th>votes</th>\n",
              "      <th>budget</th>\n",
              "      <th>gross</th>\n",
              "      <th>runtime</th>\n",
              "    </tr>\n",
              "  </thead>\n",
              "  <tbody>\n",
              "    <tr>\n",
              "      <th>Production Budget</th>\n",
              "      <td>1.000000</td>\n",
              "      <td>0.631263</td>\n",
              "      <td>0.709443</td>\n",
              "      <td>0.093697</td>\n",
              "      <td>0.378424</td>\n",
              "      <td>0.928762</td>\n",
              "      <td>0.673019</td>\n",
              "      <td>0.250019</td>\n",
              "    </tr>\n",
              "    <tr>\n",
              "      <th>Domestic Gross</th>\n",
              "      <td>0.631263</td>\n",
              "      <td>1.000000</td>\n",
              "      <td>0.940909</td>\n",
              "      <td>0.262818</td>\n",
              "      <td>0.570703</td>\n",
              "      <td>0.598948</td>\n",
              "      <td>0.891697</td>\n",
              "      <td>0.187795</td>\n",
              "    </tr>\n",
              "    <tr>\n",
              "      <th>Worldwide Gross</th>\n",
              "      <td>0.709443</td>\n",
              "      <td>0.940909</td>\n",
              "      <td>1.000000</td>\n",
              "      <td>0.245452</td>\n",
              "      <td>0.556802</td>\n",
              "      <td>0.668708</td>\n",
              "      <td>0.944601</td>\n",
              "      <td>0.211993</td>\n",
              "    </tr>\n",
              "    <tr>\n",
              "      <th>score</th>\n",
              "      <td>0.093697</td>\n",
              "      <td>0.262818</td>\n",
              "      <td>0.245452</td>\n",
              "      <td>1.000000</td>\n",
              "      <td>0.532194</td>\n",
              "      <td>0.094032</td>\n",
              "      <td>0.262883</td>\n",
              "      <td>0.448102</td>\n",
              "    </tr>\n",
              "    <tr>\n",
              "      <th>votes</th>\n",
              "      <td>0.378424</td>\n",
              "      <td>0.570703</td>\n",
              "      <td>0.556802</td>\n",
              "      <td>0.532194</td>\n",
              "      <td>1.000000</td>\n",
              "      <td>0.382886</td>\n",
              "      <td>0.588615</td>\n",
              "      <td>0.345049</td>\n",
              "    </tr>\n",
              "    <tr>\n",
              "      <th>budget</th>\n",
              "      <td>0.928762</td>\n",
              "      <td>0.598948</td>\n",
              "      <td>0.668708</td>\n",
              "      <td>0.094032</td>\n",
              "      <td>0.382886</td>\n",
              "      <td>1.000000</td>\n",
              "      <td>0.707530</td>\n",
              "      <td>0.276624</td>\n",
              "    </tr>\n",
              "    <tr>\n",
              "      <th>gross</th>\n",
              "      <td>0.673019</td>\n",
              "      <td>0.891697</td>\n",
              "      <td>0.944601</td>\n",
              "      <td>0.262883</td>\n",
              "      <td>0.588615</td>\n",
              "      <td>0.707530</td>\n",
              "      <td>1.000000</td>\n",
              "      <td>0.237420</td>\n",
              "    </tr>\n",
              "    <tr>\n",
              "      <th>runtime</th>\n",
              "      <td>0.250019</td>\n",
              "      <td>0.187795</td>\n",
              "      <td>0.211993</td>\n",
              "      <td>0.448102</td>\n",
              "      <td>0.345049</td>\n",
              "      <td>0.276624</td>\n",
              "      <td>0.237420</td>\n",
              "      <td>1.000000</td>\n",
              "    </tr>\n",
              "  </tbody>\n",
              "</table>\n",
              "</div>\n",
              "      <button class=\"colab-df-convert\" onclick=\"convertToInteractive('df-d9adb108-b130-4c41-af1f-d566fee1f6e9')\"\n",
              "              title=\"Convert this dataframe to an interactive table.\"\n",
              "              style=\"display:none;\">\n",
              "        \n",
              "  <svg xmlns=\"http://www.w3.org/2000/svg\" height=\"24px\"viewBox=\"0 0 24 24\"\n",
              "       width=\"24px\">\n",
              "    <path d=\"M0 0h24v24H0V0z\" fill=\"none\"/>\n",
              "    <path d=\"M18.56 5.44l.94 2.06.94-2.06 2.06-.94-2.06-.94-.94-2.06-.94 2.06-2.06.94zm-11 1L8.5 8.5l.94-2.06 2.06-.94-2.06-.94L8.5 2.5l-.94 2.06-2.06.94zm10 10l.94 2.06.94-2.06 2.06-.94-2.06-.94-.94-2.06-.94 2.06-2.06.94z\"/><path d=\"M17.41 7.96l-1.37-1.37c-.4-.4-.92-.59-1.43-.59-.52 0-1.04.2-1.43.59L10.3 9.45l-7.72 7.72c-.78.78-.78 2.05 0 2.83L4 21.41c.39.39.9.59 1.41.59.51 0 1.02-.2 1.41-.59l7.78-7.78 2.81-2.81c.8-.78.8-2.07 0-2.86zM5.41 20L4 18.59l7.72-7.72 1.47 1.35L5.41 20z\"/>\n",
              "  </svg>\n",
              "      </button>\n",
              "      \n",
              "  <style>\n",
              "    .colab-df-container {\n",
              "      display:flex;\n",
              "      flex-wrap:wrap;\n",
              "      gap: 12px;\n",
              "    }\n",
              "\n",
              "    .colab-df-convert {\n",
              "      background-color: #E8F0FE;\n",
              "      border: none;\n",
              "      border-radius: 50%;\n",
              "      cursor: pointer;\n",
              "      display: none;\n",
              "      fill: #1967D2;\n",
              "      height: 32px;\n",
              "      padding: 0 0 0 0;\n",
              "      width: 32px;\n",
              "    }\n",
              "\n",
              "    .colab-df-convert:hover {\n",
              "      background-color: #E2EBFA;\n",
              "      box-shadow: 0px 1px 2px rgba(60, 64, 67, 0.3), 0px 1px 3px 1px rgba(60, 64, 67, 0.15);\n",
              "      fill: #174EA6;\n",
              "    }\n",
              "\n",
              "    [theme=dark] .colab-df-convert {\n",
              "      background-color: #3B4455;\n",
              "      fill: #D2E3FC;\n",
              "    }\n",
              "\n",
              "    [theme=dark] .colab-df-convert:hover {\n",
              "      background-color: #434B5C;\n",
              "      box-shadow: 0px 1px 3px 1px rgba(0, 0, 0, 0.15);\n",
              "      filter: drop-shadow(0px 1px 2px rgba(0, 0, 0, 0.3));\n",
              "      fill: #FFFFFF;\n",
              "    }\n",
              "  </style>\n",
              "\n",
              "      <script>\n",
              "        const buttonEl =\n",
              "          document.querySelector('#df-d9adb108-b130-4c41-af1f-d566fee1f6e9 button.colab-df-convert');\n",
              "        buttonEl.style.display =\n",
              "          google.colab.kernel.accessAllowed ? 'block' : 'none';\n",
              "\n",
              "        async function convertToInteractive(key) {\n",
              "          const element = document.querySelector('#df-d9adb108-b130-4c41-af1f-d566fee1f6e9');\n",
              "          const dataTable =\n",
              "            await google.colab.kernel.invokeFunction('convertToInteractive',\n",
              "                                                     [key], {});\n",
              "          if (!dataTable) return;\n",
              "\n",
              "          const docLinkHtml = 'Like what you see? Visit the ' +\n",
              "            '<a target=\"_blank\" href=https://colab.research.google.com/notebooks/data_table.ipynb>data table notebook</a>'\n",
              "            + ' to learn more about interactive tables.';\n",
              "          element.innerHTML = '';\n",
              "          dataTable['output_type'] = 'display_data';\n",
              "          await google.colab.output.renderOutput(dataTable, element);\n",
              "          const docLink = document.createElement('div');\n",
              "          docLink.innerHTML = docLinkHtml;\n",
              "          element.appendChild(docLink);\n",
              "        }\n",
              "      </script>\n",
              "    </div>\n",
              "  </div>\n",
              "  "
            ],
            "text/plain": [
              "                   Production Budget  Domestic Gross  ...     gross   runtime\n",
              "Production Budget           1.000000        0.631263  ...  0.673019  0.250019\n",
              "Domestic Gross              0.631263        1.000000  ...  0.891697  0.187795\n",
              "Worldwide Gross             0.709443        0.940909  ...  0.944601  0.211993\n",
              "score                       0.093697        0.262818  ...  0.262883  0.448102\n",
              "votes                       0.378424        0.570703  ...  0.588615  0.345049\n",
              "budget                      0.928762        0.598948  ...  0.707530  0.276624\n",
              "gross                       0.673019        0.891697  ...  1.000000  0.237420\n",
              "runtime                     0.250019        0.187795  ...  0.237420  1.000000\n",
              "\n",
              "[8 rows x 8 columns]"
            ]
          },
          "metadata": {},
          "execution_count": 184
        }
      ]
    },
    {
      "cell_type": "code",
      "source": [
        "sorted_pairs = corr_pairs.sort_values()\n",
        "\n",
        "sorted_pairs"
      ],
      "metadata": {
        "colab": {
          "base_uri": "https://localhost:8080/"
        },
        "id": "ospydHXrDUYi",
        "outputId": "0aef1162-8c87-466b-8d4f-b54cd7365a6c"
      },
      "execution_count": null,
      "outputs": [
        {
          "output_type": "execute_result",
          "data": {
            "text/plain": [
              "Production Budget  score                0.093697\n",
              "score              Production Budget    0.093697\n",
              "                   budget               0.094032\n",
              "budget             score                0.094032\n",
              "runtime            Domestic Gross       0.187795\n",
              "                                          ...   \n",
              "score              score                1.000000\n",
              "Worldwide Gross    Worldwide Gross      1.000000\n",
              "Domestic Gross     Domestic Gross       1.000000\n",
              "gross              gross                1.000000\n",
              "runtime            runtime              1.000000\n",
              "Length: 64, dtype: float64"
            ]
          },
          "metadata": {},
          "execution_count": 185
        }
      ]
    },
    {
      "cell_type": "code",
      "source": [
        "high_corr = sorted_pairs[(sorted_pairs) > 0.5]\n",
        "\n",
        "high_corr['score']"
      ],
      "metadata": {
        "colab": {
          "base_uri": "https://localhost:8080/"
        },
        "id": "3-09XPwGDegh",
        "outputId": "80f04a47-5c2d-4c4b-aa74-0e5b0af25fe6"
      },
      "execution_count": null,
      "outputs": [
        {
          "output_type": "execute_result",
          "data": {
            "text/plain": [
              "votes    0.532194\n",
              "score    1.000000\n",
              "dtype: float64"
            ]
          },
          "metadata": {},
          "execution_count": 186
        }
      ]
    },
    {
      "cell_type": "code",
      "source": [
        "rf_model = RandomForestRegressor(n_estimators=200, max_depth=3)\n",
        "rf_model.fit(X, y)"
      ],
      "metadata": {
        "colab": {
          "base_uri": "https://localhost:8080/"
        },
        "id": "6CCJGMuGbXs0",
        "outputId": "cb033d87-9194-4bf9-ad97-5ac59c4ebe08"
      },
      "execution_count": null,
      "outputs": [
        {
          "output_type": "execute_result",
          "data": {
            "text/plain": [
              "RandomForestRegressor(max_depth=3, n_estimators=200)"
            ]
          },
          "metadata": {},
          "execution_count": 82
        }
      ]
    },
    {
      "cell_type": "code",
      "execution_count": null,
      "metadata": {
        "colab": {
          "base_uri": "https://localhost:8080/"
        },
        "id": "3dZU82lNsPjQ",
        "outputId": "7f954d97-83a8-46aa-d9e1-63aed3e69bda"
      },
      "outputs": [
        {
          "output_type": "stream",
          "name": "stdout",
          "text": [
            "Parameters currently in use:\n",
            "\n",
            "{'bootstrap': True,\n",
            " 'ccp_alpha': 0.0,\n",
            " 'criterion': 'squared_error',\n",
            " 'max_depth': None,\n",
            " 'max_features': 'auto',\n",
            " 'max_leaf_nodes': None,\n",
            " 'max_samples': None,\n",
            " 'min_impurity_decrease': 0.0,\n",
            " 'min_samples_leaf': 1,\n",
            " 'min_samples_split': 2,\n",
            " 'min_weight_fraction_leaf': 0.0,\n",
            " 'n_estimators': 100,\n",
            " 'n_jobs': None,\n",
            " 'oob_score': False,\n",
            " 'random_state': 78,\n",
            " 'verbose': 0,\n",
            " 'warm_start': False}\n"
          ]
        }
      ],
      "source": [
        "from sklearn.ensemble import RandomForestRegressor\n",
        "rf = RandomForestRegressor(random_state = 78)\n",
        "from pprint import pprint\n",
        "# Look at parameters used by our current forest\n",
        "print('Parameters currently in use:\\n')\n",
        "pprint(rf.get_params())\n"
      ]
    },
    {
      "cell_type": "markdown",
      "metadata": {
        "id": "vXj9BjHTqBtg"
      },
      "source": [
        "# **Random Hyperparameter Grid**"
      ]
    },
    {
      "cell_type": "code",
      "execution_count": null,
      "metadata": {
        "id": "pRZKO0Ywp-x5"
      },
      "outputs": [],
      "source": [
        "from sklearn.model_selection import GridSearchCV\n",
        "import numpy as np\n",
        "\n",
        "# Number of trees in random forest\n",
        "n_estimators = [100, 200, 500, 1000]\n",
        "# Number of features to consider at every split\n",
        "max_features = ['auto', 'sqrt']\n",
        "# Maximum number of levels in tree\n",
        "max_depth = [3, 5, 7, 9, 11]\n",
        "\n",
        "# Minimum number of samples required to split a node\n",
        "min_samples_split = [2, 5, 10]\n",
        "# Minimum number of samples required at each leaf node\n",
        "min_samples_leaf = [1, 2, 4]\n",
        "# Method of selecting samples for training each tree\n",
        "bootstrap = [True, False]\n"
      ]
    },
    {
      "cell_type": "code",
      "execution_count": null,
      "metadata": {
        "colab": {
          "base_uri": "https://localhost:8080/"
        },
        "id": "oB9nevjAsZka",
        "outputId": "0a9591d7-e372-44bf-c58a-8238a0a68a6b"
      },
      "outputs": [
        {
          "output_type": "stream",
          "name": "stdout",
          "text": [
            "{'bootstrap': [True, False],\n",
            " 'max_depth': [3, 5, 7, 9, 11],\n",
            " 'max_features': ['auto', 'sqrt'],\n",
            " 'min_samples_leaf': [1, 2, 4],\n",
            " 'min_samples_split': [2, 5, 10],\n",
            " 'n_estimators': [100, 200, 500, 1000]}\n"
          ]
        }
      ],
      "source": [
        "# Create the random grid\n",
        "random_grid = {'n_estimators': n_estimators,\n",
        "               'max_features': max_features,\n",
        "               'max_depth': max_depth,\n",
        "               'min_samples_split': min_samples_split,\n",
        "               'min_samples_leaf': min_samples_leaf,\n",
        "               'bootstrap': bootstrap}\n",
        "pprint(random_grid)"
      ]
    },
    {
      "cell_type": "code",
      "execution_count": null,
      "metadata": {
        "colab": {
          "base_uri": "https://localhost:8080/"
        },
        "id": "z4WGhqHxqIDA",
        "outputId": "362ec186-da07-4962-9289-edc837f7ac08"
      },
      "outputs": [
        {
          "output_type": "stream",
          "name": "stdout",
          "text": [
            "Fitting 3 folds for each of 720 candidates, totalling 2160 fits\n"
          ]
        },
        {
          "output_type": "execute_result",
          "data": {
            "text/plain": [
              "GridSearchCV(cv=3, estimator=RandomForestClassifier(), n_jobs=-1,\n",
              "             param_grid={'bootstrap': [True, False],\n",
              "                         'max_depth': [3, 5, 7, 9, 11],\n",
              "                         'max_features': ['auto', 'sqrt'],\n",
              "                         'min_samples_leaf': [1, 2, 4],\n",
              "                         'min_samples_split': [2, 5, 10],\n",
              "                         'n_estimators': [100, 200, 500, 1000]},\n",
              "             verbose=2)"
            ]
          },
          "metadata": {},
          "execution_count": 212
        }
      ],
      "source": [
        "# Use the random grid to search for best hyperparameters\n",
        "# First create the base model to tune\n",
        "rf = RandomForestClassifier()\n",
        "# Instantiate the grid search model\n",
        "rf_Grid= GridSearchCV(estimator = rf, param_grid = random_grid, \n",
        "                          cv = 3, n_jobs = -1, verbose = 2)\n",
        "# Fit the random search model\n",
        "rf_Grid.fit(X_train, y_train)"
      ]
    },
    {
      "cell_type": "code",
      "execution_count": null,
      "metadata": {
        "colab": {
          "base_uri": "https://localhost:8080/"
        },
        "id": "dIj14Yd-qRIt",
        "outputId": "73a50a97-d6bf-4e56-ce5f-e5c3574f4e84"
      },
      "outputs": [
        {
          "output_type": "execute_result",
          "data": {
            "text/plain": [
              "{'bootstrap': True,\n",
              " 'max_depth': 11,\n",
              " 'max_features': 'sqrt',\n",
              " 'min_samples_leaf': 1,\n",
              " 'min_samples_split': 2,\n",
              " 'n_estimators': 200}"
            ]
          },
          "metadata": {},
          "execution_count": 213
        }
      ],
      "source": [
        "rf_Grid.best_params_"
      ]
    },
    {
      "cell_type": "code",
      "execution_count": null,
      "metadata": {
        "colab": {
          "base_uri": "https://localhost:8080/"
        },
        "id": "0cdGrtkZOFg1",
        "outputId": "655d44d0-e0b6-427b-92e4-8aab22b00ed2"
      },
      "outputs": [
        {
          "output_type": "stream",
          "name": "stdout",
          "text": [
            " Train Accuracy - : 0.987\n",
            " Test Accuracy - : 0.820\n"
          ]
        }
      ],
      "source": [
        "print (f' Train Accuracy - : {rf_Grid.score(X_train, y_train):.3f}')\n",
        "print (f' Test Accuracy - : {rf_Grid.score(X_test, y_test):.3f}')"
      ]
    },
    {
      "cell_type": "code",
      "source": [
        "import numpy as np\n",
        "\n",
        "from sklearn.svm import LinearSVC\n",
        "\n",
        "\n",
        "class NaivelyCalibratedLinearSVC(LinearSVC):\n",
        "    \"\"\"LinearSVC with `predict_proba` method that naively scales\n",
        "    `decision_function` output.\"\"\"\n",
        "\n",
        "    def fit(self, X, y):\n",
        "        super().fit(X, y)\n",
        "        df = self.decision_function(X)\n",
        "        self.df_min_ = df.min()\n",
        "        self.df_max_ = df.max()\n",
        "\n",
        "    def predict_proba(self, X):\n",
        "        \"\"\"Min-max scale output of `decision_function` to [0,1].\"\"\"\n",
        "        df = self.decision_function(X)\n",
        "        calibrated_df = (df - self.df_min_) / (self.df_max_ - self.df_min_)\n",
        "        proba_pos_class = np.clip(calibrated_df, 0, 1)\n",
        "        proba_neg_class = 1 - proba_pos_class\n",
        "        proba = np.c_[proba_neg_class, proba_pos_class]\n",
        "        return proba"
      ],
      "metadata": {
        "id": "9jX9MDMk74LC"
      },
      "execution_count": null,
      "outputs": []
    },
    {
      "cell_type": "code",
      "source": [
        "from sklearn.calibration import CalibrationDisplay\n",
        "from sklearn.ensemble import RandomForestClassifier\n",
        "from sklearn.linear_model import LogisticRegression\n",
        "from sklearn.naive_bayes import GaussianNB\n",
        "\n",
        "# Create classifiers\n",
        "lr = LogisticRegression()\n",
        "gnb = GaussianNB()\n",
        "svc = NaivelyCalibratedLinearSVC(C=1.0)\n",
        "rfc = RandomForestClassifier()\n",
        "\n",
        "clf_list = [\n",
        "    (lr, \"Logistic\"),\n",
        "    (gnb, \"Naive Bayes\"),\n",
        "    (svc, \"SVC\"),\n",
        "    (rfc, \"Random forest\"),\n",
        "]"
      ],
      "metadata": {
        "id": "tWkEBJuQ76UI"
      },
      "execution_count": null,
      "outputs": []
    },
    {
      "cell_type": "code",
      "source": [
        "import matplotlib.pyplot as plt\n",
        "from matplotlib.gridspec import GridSpec\n",
        "\n",
        "fig = plt.figure(figsize=(10, 10))\n",
        "gs = GridSpec(4, 2)\n",
        "colors = plt.cm.get_cmap(\"Dark2\")\n",
        "\n",
        "ax_calibration_curve = fig.add_subplot(gs[:2, :2])\n",
        "calibration_displays = {}\n",
        "for i, (clf, name) in enumerate(clf_list):\n",
        "    clf.fit(X_train, y_train)\n",
        "    display = CalibrationDisplay.from_estimator(\n",
        "        clf,\n",
        "        X_test,\n",
        "        y_test,\n",
        "        n_bins=10,\n",
        "        name=name,\n",
        "        ax=ax_calibration_curve,\n",
        "        color=colors(i),\n",
        "    )\n",
        "    calibration_displays[name] = display\n",
        "\n",
        "ax_calibration_curve.grid()\n",
        "ax_calibration_curve.set_title(\"Calibration plots\")\n",
        "\n",
        "# Add histogram\n",
        "grid_positions = [(2, 0), (2, 1), (3, 0), (3, 1)]\n",
        "for i, (_, name) in enumerate(clf_list):\n",
        "    row, col = grid_positions[i]\n",
        "    ax = fig.add_subplot(gs[row, col])\n",
        "\n",
        "    ax.hist(\n",
        "        calibration_displays[name].y_prob,\n",
        "        range=(0, 1),\n",
        "        bins=10,\n",
        "        label=name,\n",
        "        color=colors(i),\n",
        "    )\n",
        "    ax.set(title=name, xlabel=\"Mean predicted probability\", ylabel=\"Count\")\n",
        "\n",
        "plt.tight_layout()\n",
        "plt.show()"
      ],
      "metadata": {
        "colab": {
          "base_uri": "https://localhost:8080/",
          "height": 926
        },
        "id": "6_1hfN6R7-xG",
        "outputId": "f9b0ef84-7dc2-4fe5-e9e8-a7efc18ffc27"
      },
      "execution_count": null,
      "outputs": [
        {
          "output_type": "stream",
          "name": "stderr",
          "text": [
            "/usr/local/lib/python3.7/dist-packages/sklearn/linear_model/_logistic.py:818: ConvergenceWarning: lbfgs failed to converge (status=1):\n",
            "STOP: TOTAL NO. of ITERATIONS REACHED LIMIT.\n",
            "\n",
            "Increase the number of iterations (max_iter) or scale the data as shown in:\n",
            "    https://scikit-learn.org/stable/modules/preprocessing.html\n",
            "Please also refer to the documentation for alternative solver options:\n",
            "    https://scikit-learn.org/stable/modules/linear_model.html#logistic-regression\n",
            "  extra_warning_msg=_LOGISTIC_SOLVER_CONVERGENCE_MSG,\n",
            "/usr/local/lib/python3.7/dist-packages/sklearn/svm/_base.py:1208: ConvergenceWarning: Liblinear failed to converge, increase the number of iterations.\n",
            "  ConvergenceWarning,\n"
          ]
        },
        {
          "output_type": "display_data",
          "data": {
            "image/png": "[encoded data removed]",
            "text/plain": [
              "<Figure size 720x720 with 5 Axes>"
            ]
          },
          "metadata": {}
        }
      ]
    },
    {
      "cell_type": "code",
      "source": [
        ""
      ],
      "metadata": {
        "id": "WBWd0OTY90k3"
      },
      "execution_count": null,
      "outputs": []
    },
    {
      "cell_type": "markdown",
      "source": [
        "# **For instance, a well calibrated (binary) classifier should classify the samples such that for the samples to which it gave a predict_proba value close to 0.8, approximately 80% actually belong to the positive class.**"
      ],
      "metadata": {
        "id": "pfyRrM9y91Wz"
      }
    },
    {
      "cell_type": "code",
      "source": [
        ""
      ],
      "metadata": {
        "id": "ZWxyQjAj0kYf"
      },
      "execution_count": null,
      "outputs": []
    }
  ],
  "metadata": {
    "colab": {
      "collapsed_sections": [],
      "name": "Random_Forest_Movie_Data.ipynb",
      "provenance": [],
      "authorship_tag": "ABX9TyMLnBeP8iq1rqUktL0q1kxz",
      "include_colab_link": true
    },
    "kernelspec": {
      "display_name": "Python 3",
      "name": "python3"
    },
    "language_info": {
      "name": "python"
    }
  },
  "nbformat": 4,
  "nbformat_minor": 0
}