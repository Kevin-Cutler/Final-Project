{
 "cells": [
  {
   "cell_type": "code",
   "execution_count": 1,
   "id": "8758820b",
   "metadata": {},
   "outputs": [],
   "source": [
    "#neural network model mockup\n",
    "\n",
    "#  import dependences sklearn, numby, pandas, plotly etc."
   ]
  },
  {
   "cell_type": "code",
   "execution_count": 6,
   "id": "a2551eba",
   "metadata": {},
   "outputs": [],
   "source": [
    "# read merged movies csv\n",
    "# df = pd.read(movies.csv)"
   ]
  },
  {
   "cell_type": "code",
   "execution_count": null,
   "id": "a41134bb",
   "metadata": {},
   "outputs": [],
   "source": [
    "#drop name and other columns that will not contribute to the model\n",
    "# df = df.drop(\"name\", etc)"
   ]
  },
  {
   "cell_type": "code",
   "execution_count": null,
   "id": "455cceef",
   "metadata": {},
   "outputs": [],
   "source": [
    "# create list of categorical variables\n",
    "# cat_df = df.dtypes[df.dtypes == \"object\"].index.tolist()"
   ]
  },
  {
   "cell_type": "code",
   "execution_count": null,
   "id": "1d1e5256",
   "metadata": {},
   "outputs": [],
   "source": [
    "# find number of unique values in each categorical variables\n",
    "# cat_df.unique()"
   ]
  },
  {
   "cell_type": "code",
   "execution_count": null,
   "id": "37fd6bab",
   "metadata": {},
   "outputs": [],
   "source": [
    "# value counts of categorical variables for potential binning or dropping\n",
    "# value_counts_feature = df[\"feature\"].value_counts()\n",
    "\n",
    "# vizualize density of categorical variable\n",
    "# value_counts_feature.plot.density()"
   ]
  },
  {
   "cell_type": "code",
   "execution_count": null,
   "id": "5a4b7192",
   "metadata": {},
   "outputs": [],
   "source": [
    "# create a list of index from the feature for binning based on the condition\n",
    "# replace_feature = list(value_count[value_count and condition]index)\n",
    "\n",
    "# loop through original df and replace values with \"other\"\n",
    "# for feature in replace_feature:\n",
    "    # df.feature = df.feature.replace(feauter, \"other\")\n",
    "    \n",
    "# verify binning\n",
    "# df[\"feature\"].value_counts()"
   ]
  },
  {
   "cell_type": "code",
   "execution_count": null,
   "id": "409fdf25",
   "metadata": {},
   "outputs": [],
   "source": [
    "# create list of categorical variables\n",
    "# cat_df = df.dtypes[df.dtypes == \"object\"].index.tolist()\n",
    "# df[cat_df]"
   ]
  },
  {
   "cell_type": "code",
   "execution_count": null,
   "id": "3a0ed4ef",
   "metadata": {},
   "outputs": [],
   "source": [
    "#create intance of onehotencoder\n",
    "# df_classified = enc()"
   ]
  }
 ],
 "metadata": {
  "kernelspec": {
   "display_name": "PythonData",
   "language": "python",
   "name": "pythondata"
  },
  "language_info": {
   "codemirror_mode": {
    "name": "ipython",
    "version": 3
   },
   "file_extension": ".py",
   "mimetype": "text/x-python",
   "name": "python",
   "nbconvert_exporter": "python",
   "pygments_lexer": "ipython3",
   "version": "3.7.10"
  }
 },
 "nbformat": 4,
 "nbformat_minor": 5
}
