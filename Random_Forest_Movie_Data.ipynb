{
  "cells": [
    {
      "cell_type": "markdown",
      "metadata": {
        "id": "view-in-github",
        "colab_type": "text"
      },
      "source": [
        "<a href=\"https://colab.research.google.com/github/Kevin-Cutler/Final-Project/blob/Kevin_Test_Branch/Random_Forest_Movie_Data.ipynb\" target=\"_parent\"><img src=\"https://colab.research.google.com/assets/colab-badge.svg\" alt=\"Open In Colab\"/></a>"
      ]
    },
    {
      "cell_type": "code",
      "execution_count": 103,
      "metadata": {
        "id": "_39BtkPqAyQU"
      },
      "outputs": [],
      "source": [
        "# Import our dependencies\n",
        "from sklearn.model_selection import train_test_split\n",
        "from sklearn.preprocessing import StandardScaler, OneHotEncoder\n",
        "import pandas as pd\n",
        "import tensorflow as tf\n",
        "import matplotlib.pyplot as plt\n",
        "\n",
        "# Initial imports.\n",
        "from sklearn.ensemble import RandomForestClassifier\n",
        "from sklearn.metrics import confusion_matrix, accuracy_score, classification_report\n",
        "from sklearn.metrics import balanced_accuracy_score\n",
        "from sklearn.metrics import confusion_matrix\n",
        "from imblearn.metrics import classification_report_imbalanced\n",
        "\n",
        "\n",
        "\n"
      ]
    },
    {
      "cell_type": "code",
      "execution_count": 104,
      "metadata": {
        "colab": {
          "base_uri": "https://localhost:8080/",
          "height": 1000
        },
        "id": "puGeKkkNu-Ax",
        "outputId": "0741af0a-9cbc-4756-ca47-8d914de65a99"
      },
      "outputs": [
        {
          "output_type": "execute_result",
          "data": {
            "text/html": [
              "\n",
              "  <div id=\"df-47f48cb7-0a76-4d9c-bd61-af18ba26c288\">\n",
              "    <div class=\"colab-df-container\">\n",
              "      <div>\n",
              "<style scoped>\n",
              "    .dataframe tbody tr th:only-of-type {\n",
              "        vertical-align: middle;\n",
              "    }\n",
              "\n",
              "    .dataframe tbody tr th {\n",
              "        vertical-align: top;\n",
              "    }\n",
              "\n",
              "    .dataframe thead th {\n",
              "        text-align: right;\n",
              "    }\n",
              "</style>\n",
              "<table border=\"1\" class=\"dataframe\">\n",
              "  <thead>\n",
              "    <tr style=\"text-align: right;\">\n",
              "      <th></th>\n",
              "      <th>name</th>\n",
              "      <th>rating</th>\n",
              "      <th>genre</th>\n",
              "      <th>year</th>\n",
              "      <th>released</th>\n",
              "      <th>score</th>\n",
              "      <th>votes</th>\n",
              "      <th>director</th>\n",
              "      <th>writer</th>\n",
              "      <th>star</th>\n",
              "      <th>country</th>\n",
              "      <th>budget</th>\n",
              "      <th>gross</th>\n",
              "      <th>company</th>\n",
              "      <th>runtime</th>\n",
              "    </tr>\n",
              "  </thead>\n",
              "  <tbody>\n",
              "    <tr>\n",
              "      <th>0</th>\n",
              "      <td>The Shining</td>\n",
              "      <td>R</td>\n",
              "      <td>Drama</td>\n",
              "      <td>1980</td>\n",
              "      <td>June 13, 1980 (United States)</td>\n",
              "      <td>8.4</td>\n",
              "      <td>927000.0</td>\n",
              "      <td>Stanley Kubrick</td>\n",
              "      <td>Stephen King</td>\n",
              "      <td>Jack Nicholson</td>\n",
              "      <td>United Kingdom</td>\n",
              "      <td>19000000.0</td>\n",
              "      <td>46998772.0</td>\n",
              "      <td>Warner Bros.</td>\n",
              "      <td>146.0</td>\n",
              "    </tr>\n",
              "    <tr>\n",
              "      <th>1</th>\n",
              "      <td>The Blue Lagoon</td>\n",
              "      <td>R</td>\n",
              "      <td>Adventure</td>\n",
              "      <td>1980</td>\n",
              "      <td>July 2, 1980 (United States)</td>\n",
              "      <td>5.8</td>\n",
              "      <td>65000.0</td>\n",
              "      <td>Randal Kleiser</td>\n",
              "      <td>Henry De Vere Stacpoole</td>\n",
              "      <td>Brooke Shields</td>\n",
              "      <td>United States</td>\n",
              "      <td>4500000.0</td>\n",
              "      <td>58853106.0</td>\n",
              "      <td>Columbia Pictures</td>\n",
              "      <td>104.0</td>\n",
              "    </tr>\n",
              "    <tr>\n",
              "      <th>2</th>\n",
              "      <td>Star Wars: Episode V - The Empire Strikes Back</td>\n",
              "      <td>PG</td>\n",
              "      <td>Action</td>\n",
              "      <td>1980</td>\n",
              "      <td>June 20, 1980 (United States)</td>\n",
              "      <td>8.7</td>\n",
              "      <td>1200000.0</td>\n",
              "      <td>Irvin Kershner</td>\n",
              "      <td>Leigh Brackett</td>\n",
              "      <td>Mark Hamill</td>\n",
              "      <td>United States</td>\n",
              "      <td>18000000.0</td>\n",
              "      <td>538375067.0</td>\n",
              "      <td>Lucasfilm</td>\n",
              "      <td>124.0</td>\n",
              "    </tr>\n",
              "    <tr>\n",
              "      <th>3</th>\n",
              "      <td>Airplane!</td>\n",
              "      <td>PG</td>\n",
              "      <td>Comedy</td>\n",
              "      <td>1980</td>\n",
              "      <td>July 2, 1980 (United States)</td>\n",
              "      <td>7.7</td>\n",
              "      <td>221000.0</td>\n",
              "      <td>Jim Abrahams</td>\n",
              "      <td>Jim Abrahams</td>\n",
              "      <td>Robert Hays</td>\n",
              "      <td>United States</td>\n",
              "      <td>3500000.0</td>\n",
              "      <td>83453539.0</td>\n",
              "      <td>Paramount Pictures</td>\n",
              "      <td>88.0</td>\n",
              "    </tr>\n",
              "    <tr>\n",
              "      <th>4</th>\n",
              "      <td>Caddyshack</td>\n",
              "      <td>R</td>\n",
              "      <td>Comedy</td>\n",
              "      <td>1980</td>\n",
              "      <td>July 25, 1980 (United States)</td>\n",
              "      <td>7.3</td>\n",
              "      <td>108000.0</td>\n",
              "      <td>Harold Ramis</td>\n",
              "      <td>Brian Doyle-Murray</td>\n",
              "      <td>Chevy Chase</td>\n",
              "      <td>United States</td>\n",
              "      <td>6000000.0</td>\n",
              "      <td>39846344.0</td>\n",
              "      <td>Orion Pictures</td>\n",
              "      <td>98.0</td>\n",
              "    </tr>\n",
              "    <tr>\n",
              "      <th>5</th>\n",
              "      <td>Friday the 13th</td>\n",
              "      <td>R</td>\n",
              "      <td>Horror</td>\n",
              "      <td>1980</td>\n",
              "      <td>May 9, 1980 (United States)</td>\n",
              "      <td>6.4</td>\n",
              "      <td>123000.0</td>\n",
              "      <td>Sean S. Cunningham</td>\n",
              "      <td>Victor Miller</td>\n",
              "      <td>Betsy Palmer</td>\n",
              "      <td>United States</td>\n",
              "      <td>550000.0</td>\n",
              "      <td>39754601.0</td>\n",
              "      <td>Paramount Pictures</td>\n",
              "      <td>95.0</td>\n",
              "    </tr>\n",
              "    <tr>\n",
              "      <th>6</th>\n",
              "      <td>The Blues Brothers</td>\n",
              "      <td>R</td>\n",
              "      <td>Action</td>\n",
              "      <td>1980</td>\n",
              "      <td>June 20, 1980 (United States)</td>\n",
              "      <td>7.9</td>\n",
              "      <td>188000.0</td>\n",
              "      <td>John Landis</td>\n",
              "      <td>Dan Aykroyd</td>\n",
              "      <td>John Belushi</td>\n",
              "      <td>United States</td>\n",
              "      <td>27000000.0</td>\n",
              "      <td>115229890.0</td>\n",
              "      <td>Universal Pictures</td>\n",
              "      <td>133.0</td>\n",
              "    </tr>\n",
              "    <tr>\n",
              "      <th>7</th>\n",
              "      <td>Raging Bull</td>\n",
              "      <td>R</td>\n",
              "      <td>Biography</td>\n",
              "      <td>1980</td>\n",
              "      <td>December 19, 1980 (United States)</td>\n",
              "      <td>8.2</td>\n",
              "      <td>330000.0</td>\n",
              "      <td>Martin Scorsese</td>\n",
              "      <td>Jake LaMotta</td>\n",
              "      <td>Robert De Niro</td>\n",
              "      <td>United States</td>\n",
              "      <td>18000000.0</td>\n",
              "      <td>23402427.0</td>\n",
              "      <td>Chartoff-Winkler Productions</td>\n",
              "      <td>129.0</td>\n",
              "    </tr>\n",
              "    <tr>\n",
              "      <th>8</th>\n",
              "      <td>Superman II</td>\n",
              "      <td>PG</td>\n",
              "      <td>Action</td>\n",
              "      <td>1980</td>\n",
              "      <td>June 19, 1981 (United States)</td>\n",
              "      <td>6.8</td>\n",
              "      <td>101000.0</td>\n",
              "      <td>Richard Lester</td>\n",
              "      <td>Jerry Siegel</td>\n",
              "      <td>Gene Hackman</td>\n",
              "      <td>United States</td>\n",
              "      <td>54000000.0</td>\n",
              "      <td>108185706.0</td>\n",
              "      <td>Dovemead Films</td>\n",
              "      <td>127.0</td>\n",
              "    </tr>\n",
              "    <tr>\n",
              "      <th>9</th>\n",
              "      <td>The Long Riders</td>\n",
              "      <td>R</td>\n",
              "      <td>Biography</td>\n",
              "      <td>1980</td>\n",
              "      <td>May 16, 1980 (United States)</td>\n",
              "      <td>7.0</td>\n",
              "      <td>10000.0</td>\n",
              "      <td>Walter Hill</td>\n",
              "      <td>Bill Bryden</td>\n",
              "      <td>David Carradine</td>\n",
              "      <td>United States</td>\n",
              "      <td>10000000.0</td>\n",
              "      <td>15795189.0</td>\n",
              "      <td>United Artists</td>\n",
              "      <td>100.0</td>\n",
              "    </tr>\n",
              "    <tr>\n",
              "      <th>10</th>\n",
              "      <td>Any Which Way You Can</td>\n",
              "      <td>PG</td>\n",
              "      <td>Action</td>\n",
              "      <td>1980</td>\n",
              "      <td>December 17, 1980 (United States)</td>\n",
              "      <td>6.1</td>\n",
              "      <td>18000.0</td>\n",
              "      <td>Buddy Van Horn</td>\n",
              "      <td>Stanford Sherman</td>\n",
              "      <td>Clint Eastwood</td>\n",
              "      <td>United States</td>\n",
              "      <td>15000000.0</td>\n",
              "      <td>70687344.0</td>\n",
              "      <td>The Malpaso Company</td>\n",
              "      <td>116.0</td>\n",
              "    </tr>\n",
              "    <tr>\n",
              "      <th>11</th>\n",
              "      <td>The Gods Must Be Crazy</td>\n",
              "      <td>PG</td>\n",
              "      <td>Adventure</td>\n",
              "      <td>1980</td>\n",
              "      <td>October 26, 1984 (United States)</td>\n",
              "      <td>7.3</td>\n",
              "      <td>54000.0</td>\n",
              "      <td>Jamie Uys</td>\n",
              "      <td>Jamie Uys</td>\n",
              "      <td>N!xau</td>\n",
              "      <td>South Africa</td>\n",
              "      <td>5000000.0</td>\n",
              "      <td>30031783.0</td>\n",
              "      <td>C.A.T. Films</td>\n",
              "      <td>109.0</td>\n",
              "    </tr>\n",
              "    <tr>\n",
              "      <th>12</th>\n",
              "      <td>Popeye</td>\n",
              "      <td>PG</td>\n",
              "      <td>Adventure</td>\n",
              "      <td>1980</td>\n",
              "      <td>December 12, 1980 (United States)</td>\n",
              "      <td>5.3</td>\n",
              "      <td>30000.0</td>\n",
              "      <td>Robert Altman</td>\n",
              "      <td>Jules Feiffer</td>\n",
              "      <td>Robin Williams</td>\n",
              "      <td>United States</td>\n",
              "      <td>20000000.0</td>\n",
              "      <td>49823037.0</td>\n",
              "      <td>Paramount Pictures</td>\n",
              "      <td>114.0</td>\n",
              "    </tr>\n",
              "    <tr>\n",
              "      <th>13</th>\n",
              "      <td>Ordinary People</td>\n",
              "      <td>R</td>\n",
              "      <td>Drama</td>\n",
              "      <td>1980</td>\n",
              "      <td>September 19, 1980 (United States)</td>\n",
              "      <td>7.7</td>\n",
              "      <td>49000.0</td>\n",
              "      <td>Robert Redford</td>\n",
              "      <td>Judith Guest</td>\n",
              "      <td>Donald Sutherland</td>\n",
              "      <td>United States</td>\n",
              "      <td>6000000.0</td>\n",
              "      <td>54766923.0</td>\n",
              "      <td>Paramount Pictures</td>\n",
              "      <td>124.0</td>\n",
              "    </tr>\n",
              "    <tr>\n",
              "      <th>14</th>\n",
              "      <td>Dressed to Kill</td>\n",
              "      <td>R</td>\n",
              "      <td>Crime</td>\n",
              "      <td>1980</td>\n",
              "      <td>July 25, 1980 (United States)</td>\n",
              "      <td>7.1</td>\n",
              "      <td>37000.0</td>\n",
              "      <td>Brian De Palma</td>\n",
              "      <td>Brian De Palma</td>\n",
              "      <td>Michael Caine</td>\n",
              "      <td>United States</td>\n",
              "      <td>6500000.0</td>\n",
              "      <td>31899000.0</td>\n",
              "      <td>Filmways Pictures</td>\n",
              "      <td>104.0</td>\n",
              "    </tr>\n",
              "    <tr>\n",
              "      <th>15</th>\n",
              "      <td>Somewhere in Time</td>\n",
              "      <td>PG</td>\n",
              "      <td>Drama</td>\n",
              "      <td>1980</td>\n",
              "      <td>October 3, 1980 (United States)</td>\n",
              "      <td>7.2</td>\n",
              "      <td>27000.0</td>\n",
              "      <td>Jeannot Szwarc</td>\n",
              "      <td>Richard Matheson</td>\n",
              "      <td>Christopher Reeve</td>\n",
              "      <td>United States</td>\n",
              "      <td>5100000.0</td>\n",
              "      <td>9709597.0</td>\n",
              "      <td>Rastar Pictures</td>\n",
              "      <td>103.0</td>\n",
              "    </tr>\n",
              "    <tr>\n",
              "      <th>16</th>\n",
              "      <td>Fame</td>\n",
              "      <td>R</td>\n",
              "      <td>Drama</td>\n",
              "      <td>1980</td>\n",
              "      <td>May 16, 1980 (United States)</td>\n",
              "      <td>6.6</td>\n",
              "      <td>21000.0</td>\n",
              "      <td>Alan Parker</td>\n",
              "      <td>Christopher Gore</td>\n",
              "      <td>Eddie Barth</td>\n",
              "      <td>United States</td>\n",
              "      <td>NaN</td>\n",
              "      <td>21202829.0</td>\n",
              "      <td>Metro-Goldwyn-Mayer (MGM)</td>\n",
              "      <td>134.0</td>\n",
              "    </tr>\n",
              "    <tr>\n",
              "      <th>17</th>\n",
              "      <td>9 to 5</td>\n",
              "      <td>PG</td>\n",
              "      <td>Comedy</td>\n",
              "      <td>1980</td>\n",
              "      <td>December 19, 1980 (United States)</td>\n",
              "      <td>6.9</td>\n",
              "      <td>29000.0</td>\n",
              "      <td>Colin Higgins</td>\n",
              "      <td>Patricia Resnick</td>\n",
              "      <td>Jane Fonda</td>\n",
              "      <td>United States</td>\n",
              "      <td>10000000.0</td>\n",
              "      <td>103300686.0</td>\n",
              "      <td>IPC Films</td>\n",
              "      <td>109.0</td>\n",
              "    </tr>\n",
              "    <tr>\n",
              "      <th>18</th>\n",
              "      <td>The Fog</td>\n",
              "      <td>R</td>\n",
              "      <td>Horror</td>\n",
              "      <td>1980</td>\n",
              "      <td>February 8, 1980 (United States)</td>\n",
              "      <td>6.8</td>\n",
              "      <td>66000.0</td>\n",
              "      <td>John Carpenter</td>\n",
              "      <td>John Carpenter</td>\n",
              "      <td>Adrienne Barbeau</td>\n",
              "      <td>United States</td>\n",
              "      <td>1000000.0</td>\n",
              "      <td>21448782.0</td>\n",
              "      <td>AVCO Embassy Pictures</td>\n",
              "      <td>89.0</td>\n",
              "    </tr>\n",
              "    <tr>\n",
              "      <th>19</th>\n",
              "      <td>Stir Crazy</td>\n",
              "      <td>R</td>\n",
              "      <td>Comedy</td>\n",
              "      <td>1980</td>\n",
              "      <td>December 12, 1980 (United States)</td>\n",
              "      <td>6.8</td>\n",
              "      <td>26000.0</td>\n",
              "      <td>Sidney Poitier</td>\n",
              "      <td>Bruce Jay Friedman</td>\n",
              "      <td>Gene Wilder</td>\n",
              "      <td>United States</td>\n",
              "      <td>NaN</td>\n",
              "      <td>101300000.0</td>\n",
              "      <td>Columbia Pictures</td>\n",
              "      <td>111.0</td>\n",
              "    </tr>\n",
              "  </tbody>\n",
              "</table>\n",
              "</div>\n",
              "      <button class=\"colab-df-convert\" onclick=\"convertToInteractive('df-47f48cb7-0a76-4d9c-bd61-af18ba26c288')\"\n",
              "              title=\"Convert this dataframe to an interactive table.\"\n",
              "              style=\"display:none;\">\n",
              "        \n",
              "  <svg xmlns=\"http://www.w3.org/2000/svg\" height=\"24px\"viewBox=\"0 0 24 24\"\n",
              "       width=\"24px\">\n",
              "    <path d=\"M0 0h24v24H0V0z\" fill=\"none\"/>\n",
              "    <path d=\"M18.56 5.44l.94 2.06.94-2.06 2.06-.94-2.06-.94-.94-2.06-.94 2.06-2.06.94zm-11 1L8.5 8.5l.94-2.06 2.06-.94-2.06-.94L8.5 2.5l-.94 2.06-2.06.94zm10 10l.94 2.06.94-2.06 2.06-.94-2.06-.94-.94-2.06-.94 2.06-2.06.94z\"/><path d=\"M17.41 7.96l-1.37-1.37c-.4-.4-.92-.59-1.43-.59-.52 0-1.04.2-1.43.59L10.3 9.45l-7.72 7.72c-.78.78-.78 2.05 0 2.83L4 21.41c.39.39.9.59 1.41.59.51 0 1.02-.2 1.41-.59l7.78-7.78 2.81-2.81c.8-.78.8-2.07 0-2.86zM5.41 20L4 18.59l7.72-7.72 1.47 1.35L5.41 20z\"/>\n",
              "  </svg>\n",
              "      </button>\n",
              "      \n",
              "  <style>\n",
              "    .colab-df-container {\n",
              "      display:flex;\n",
              "      flex-wrap:wrap;\n",
              "      gap: 12px;\n",
              "    }\n",
              "\n",
              "    .colab-df-convert {\n",
              "      background-color: #E8F0FE;\n",
              "      border: none;\n",
              "      border-radius: 50%;\n",
              "      cursor: pointer;\n",
              "      display: none;\n",
              "      fill: #1967D2;\n",
              "      height: 32px;\n",
              "      padding: 0 0 0 0;\n",
              "      width: 32px;\n",
              "    }\n",
              "\n",
              "    .colab-df-convert:hover {\n",
              "      background-color: #E2EBFA;\n",
              "      box-shadow: 0px 1px 2px rgba(60, 64, 67, 0.3), 0px 1px 3px 1px rgba(60, 64, 67, 0.15);\n",
              "      fill: #174EA6;\n",
              "    }\n",
              "\n",
              "    [theme=dark] .colab-df-convert {\n",
              "      background-color: #3B4455;\n",
              "      fill: #D2E3FC;\n",
              "    }\n",
              "\n",
              "    [theme=dark] .colab-df-convert:hover {\n",
              "      background-color: #434B5C;\n",
              "      box-shadow: 0px 1px 3px 1px rgba(0, 0, 0, 0.15);\n",
              "      filter: drop-shadow(0px 1px 2px rgba(0, 0, 0, 0.3));\n",
              "      fill: #FFFFFF;\n",
              "    }\n",
              "  </style>\n",
              "\n",
              "      <script>\n",
              "        const buttonEl =\n",
              "          document.querySelector('#df-47f48cb7-0a76-4d9c-bd61-af18ba26c288 button.colab-df-convert');\n",
              "        buttonEl.style.display =\n",
              "          google.colab.kernel.accessAllowed ? 'block' : 'none';\n",
              "\n",
              "        async function convertToInteractive(key) {\n",
              "          const element = document.querySelector('#df-47f48cb7-0a76-4d9c-bd61-af18ba26c288');\n",
              "          const dataTable =\n",
              "            await google.colab.kernel.invokeFunction('convertToInteractive',\n",
              "                                                     [key], {});\n",
              "          if (!dataTable) return;\n",
              "\n",
              "          const docLinkHtml = 'Like what you see? Visit the ' +\n",
              "            '<a target=\"_blank\" href=https://colab.research.google.com/notebooks/data_table.ipynb>data table notebook</a>'\n",
              "            + ' to learn more about interactive tables.';\n",
              "          element.innerHTML = '';\n",
              "          dataTable['output_type'] = 'display_data';\n",
              "          await google.colab.output.renderOutput(dataTable, element);\n",
              "          const docLink = document.createElement('div');\n",
              "          docLink.innerHTML = docLinkHtml;\n",
              "          element.appendChild(docLink);\n",
              "        }\n",
              "      </script>\n",
              "    </div>\n",
              "  </div>\n",
              "  "
            ],
            "text/plain": [
              "                                              name  ... runtime\n",
              "0                                      The Shining  ...   146.0\n",
              "1                                  The Blue Lagoon  ...   104.0\n",
              "2   Star Wars: Episode V - The Empire Strikes Back  ...   124.0\n",
              "3                                        Airplane!  ...    88.0\n",
              "4                                       Caddyshack  ...    98.0\n",
              "5                                  Friday the 13th  ...    95.0\n",
              "6                               The Blues Brothers  ...   133.0\n",
              "7                                      Raging Bull  ...   129.0\n",
              "8                                      Superman II  ...   127.0\n",
              "9                                  The Long Riders  ...   100.0\n",
              "10                           Any Which Way You Can  ...   116.0\n",
              "11                          The Gods Must Be Crazy  ...   109.0\n",
              "12                                          Popeye  ...   114.0\n",
              "13                                 Ordinary People  ...   124.0\n",
              "14                                 Dressed to Kill  ...   104.0\n",
              "15                               Somewhere in Time  ...   103.0\n",
              "16                                            Fame  ...   134.0\n",
              "17                                          9 to 5  ...   109.0\n",
              "18                                         The Fog  ...    89.0\n",
              "19                                      Stir Crazy  ...   111.0\n",
              "\n",
              "[20 rows x 15 columns]"
            ]
          },
          "metadata": {},
          "execution_count": 104
        }
      ],
      "source": [
        "# Read in Movies CSV\n",
        "movies_df = pd.read_csv(\"/content/movies.csv\")\n",
        "movies_df.head(20)"
      ]
    },
    {
      "cell_type": "code",
      "execution_count": 105,
      "metadata": {
        "colab": {
          "base_uri": "https://localhost:8080/"
        },
        "id": "qFCL7wgvLpaI",
        "outputId": "78b1e3f8-c18e-4f48-9849-5d310df4175d"
      },
      "outputs": [
        {
          "output_type": "stream",
          "name": "stdout",
          "text": [
            "Duplicate entries: 156\n"
          ]
        }
      ],
      "source": [
        "# Check for duplicates in the dataset movies_df\n",
        "print(f\"Duplicate entries: {movies_df['name'].duplicated().sum()}\")\n",
        "\n"
      ]
    },
    {
      "cell_type": "code",
      "execution_count": 106,
      "metadata": {
        "colab": {
          "base_uri": "https://localhost:8080/",
          "height": 676
        },
        "id": "O7DxdO8tufPi",
        "outputId": "78f69705-dafa-459e-b9a1-3c0fde67b7cd"
      },
      "outputs": [
        {
          "output_type": "execute_result",
          "data": {
            "text/html": [
              "\n",
              "  <div id=\"df-06571b92-bdd9-490f-a4a5-7650bec61753\">\n",
              "    <div class=\"colab-df-container\">\n",
              "      <div>\n",
              "<style scoped>\n",
              "    .dataframe tbody tr th:only-of-type {\n",
              "        vertical-align: middle;\n",
              "    }\n",
              "\n",
              "    .dataframe tbody tr th {\n",
              "        vertical-align: top;\n",
              "    }\n",
              "\n",
              "    .dataframe thead th {\n",
              "        text-align: right;\n",
              "    }\n",
              "</style>\n",
              "<table border=\"1\" class=\"dataframe\">\n",
              "  <thead>\n",
              "    <tr style=\"text-align: right;\">\n",
              "      <th></th>\n",
              "      <th>Release Date</th>\n",
              "      <th>Movie Title</th>\n",
              "      <th>Production Budget</th>\n",
              "      <th>Domestic Gross</th>\n",
              "      <th>Worldwide Gross</th>\n",
              "    </tr>\n",
              "  </thead>\n",
              "  <tbody>\n",
              "    <tr>\n",
              "      <th>0</th>\n",
              "      <td>2019-04-23</td>\n",
              "      <td>Avengers: Endgame</td>\n",
              "      <td>400000000</td>\n",
              "      <td>858373000</td>\n",
              "      <td>2797800564</td>\n",
              "    </tr>\n",
              "    <tr>\n",
              "      <th>1</th>\n",
              "      <td>2011-05-20</td>\n",
              "      <td>Pirates of the Caribbean: On Stranger Tides</td>\n",
              "      <td>379000000</td>\n",
              "      <td>241071802</td>\n",
              "      <td>1045713802</td>\n",
              "    </tr>\n",
              "    <tr>\n",
              "      <th>2</th>\n",
              "      <td>2015-04-22</td>\n",
              "      <td>Avengers: Age of Ultron</td>\n",
              "      <td>365000000</td>\n",
              "      <td>459005868</td>\n",
              "      <td>1395316979</td>\n",
              "    </tr>\n",
              "    <tr>\n",
              "      <th>3</th>\n",
              "      <td>2015-12-16</td>\n",
              "      <td>Star Wars Ep. VII: The Force Awakens</td>\n",
              "      <td>306000000</td>\n",
              "      <td>936662225</td>\n",
              "      <td>2064615817</td>\n",
              "    </tr>\n",
              "    <tr>\n",
              "      <th>4</th>\n",
              "      <td>2018-04-25</td>\n",
              "      <td>Avengers: Infinity War</td>\n",
              "      <td>300000000</td>\n",
              "      <td>678815482</td>\n",
              "      <td>2044540523</td>\n",
              "    </tr>\n",
              "    <tr>\n",
              "      <th>5</th>\n",
              "      <td>2007-05-24</td>\n",
              "      <td>Pirates of the Caribbean: At World’s End</td>\n",
              "      <td>300000000</td>\n",
              "      <td>309420425</td>\n",
              "      <td>960996492</td>\n",
              "    </tr>\n",
              "    <tr>\n",
              "      <th>6</th>\n",
              "      <td>2017-11-13</td>\n",
              "      <td>Justice League</td>\n",
              "      <td>300000000</td>\n",
              "      <td>229024295</td>\n",
              "      <td>655945209</td>\n",
              "    </tr>\n",
              "    <tr>\n",
              "      <th>7</th>\n",
              "      <td>2015-06-10</td>\n",
              "      <td>Spectre</td>\n",
              "      <td>300000000</td>\n",
              "      <td>200074175</td>\n",
              "      <td>879500760</td>\n",
              "    </tr>\n",
              "    <tr>\n",
              "      <th>8</th>\n",
              "      <td>2019-12-18</td>\n",
              "      <td>Star Wars: The Rise of Skywalker</td>\n",
              "      <td>275000000</td>\n",
              "      <td>515202542</td>\n",
              "      <td>1072848487</td>\n",
              "    </tr>\n",
              "    <tr>\n",
              "      <th>9</th>\n",
              "      <td>2018-05-23</td>\n",
              "      <td>Solo: A Star Wars Story</td>\n",
              "      <td>275000000</td>\n",
              "      <td>213767512</td>\n",
              "      <td>393151347</td>\n",
              "    </tr>\n",
              "    <tr>\n",
              "      <th>10</th>\n",
              "      <td>2012-07-03</td>\n",
              "      <td>John Carter</td>\n",
              "      <td>263700000</td>\n",
              "      <td>73058679</td>\n",
              "      <td>282778100</td>\n",
              "    </tr>\n",
              "    <tr>\n",
              "      <th>11</th>\n",
              "      <td>2016-03-23</td>\n",
              "      <td>Batman v Superman: Dawn of Justice</td>\n",
              "      <td>263000000</td>\n",
              "      <td>330360194</td>\n",
              "      <td>872395091</td>\n",
              "    </tr>\n",
              "    <tr>\n",
              "      <th>12</th>\n",
              "      <td>2017-12-13</td>\n",
              "      <td>Star Wars Ep. VIII: The Last Jedi</td>\n",
              "      <td>262000000</td>\n",
              "      <td>620181382</td>\n",
              "      <td>1331635141</td>\n",
              "    </tr>\n",
              "    <tr>\n",
              "      <th>13</th>\n",
              "      <td>2019-11-07</td>\n",
              "      <td>The Lion King</td>\n",
              "      <td>260000000</td>\n",
              "      <td>543638043</td>\n",
              "      <td>1654367425</td>\n",
              "    </tr>\n",
              "    <tr>\n",
              "      <th>14</th>\n",
              "      <td>2010-11-24</td>\n",
              "      <td>Tangled</td>\n",
              "      <td>260000000</td>\n",
              "      <td>200821936</td>\n",
              "      <td>584899819</td>\n",
              "    </tr>\n",
              "    <tr>\n",
              "      <th>15</th>\n",
              "      <td>2007-04-05</td>\n",
              "      <td>Spider-Man 3</td>\n",
              "      <td>258000000</td>\n",
              "      <td>336530303</td>\n",
              "      <td>894860230</td>\n",
              "    </tr>\n",
              "    <tr>\n",
              "      <th>16</th>\n",
              "      <td>2016-04-22</td>\n",
              "      <td>Captain America: Civil War</td>\n",
              "      <td>250000000</td>\n",
              "      <td>408084349</td>\n",
              "      <td>1151918521</td>\n",
              "    </tr>\n",
              "    <tr>\n",
              "      <th>17</th>\n",
              "      <td>2009-07-15</td>\n",
              "      <td>Harry Potter and the Half-Blood Prince</td>\n",
              "      <td>250000000</td>\n",
              "      <td>302089278</td>\n",
              "      <td>929411069</td>\n",
              "    </tr>\n",
              "    <tr>\n",
              "      <th>18</th>\n",
              "      <td>2013-12-12</td>\n",
              "      <td>The Hobbit: The Desolation of Smaug</td>\n",
              "      <td>250000000</td>\n",
              "      <td>258241522</td>\n",
              "      <td>959358436</td>\n",
              "    </tr>\n",
              "    <tr>\n",
              "      <th>19</th>\n",
              "      <td>2014-10-12</td>\n",
              "      <td>The Hobbit: The Battle of the Five Armies</td>\n",
              "      <td>250000000</td>\n",
              "      <td>255119788</td>\n",
              "      <td>940389558</td>\n",
              "    </tr>\n",
              "  </tbody>\n",
              "</table>\n",
              "</div>\n",
              "      <button class=\"colab-df-convert\" onclick=\"convertToInteractive('df-06571b92-bdd9-490f-a4a5-7650bec61753')\"\n",
              "              title=\"Convert this dataframe to an interactive table.\"\n",
              "              style=\"display:none;\">\n",
              "        \n",
              "  <svg xmlns=\"http://www.w3.org/2000/svg\" height=\"24px\"viewBox=\"0 0 24 24\"\n",
              "       width=\"24px\">\n",
              "    <path d=\"M0 0h24v24H0V0z\" fill=\"none\"/>\n",
              "    <path d=\"M18.56 5.44l.94 2.06.94-2.06 2.06-.94-2.06-.94-.94-2.06-.94 2.06-2.06.94zm-11 1L8.5 8.5l.94-2.06 2.06-.94-2.06-.94L8.5 2.5l-.94 2.06-2.06.94zm10 10l.94 2.06.94-2.06 2.06-.94-2.06-.94-.94-2.06-.94 2.06-2.06.94z\"/><path d=\"M17.41 7.96l-1.37-1.37c-.4-.4-.92-.59-1.43-.59-.52 0-1.04.2-1.43.59L10.3 9.45l-7.72 7.72c-.78.78-.78 2.05 0 2.83L4 21.41c.39.39.9.59 1.41.59.51 0 1.02-.2 1.41-.59l7.78-7.78 2.81-2.81c.8-.78.8-2.07 0-2.86zM5.41 20L4 18.59l7.72-7.72 1.47 1.35L5.41 20z\"/>\n",
              "  </svg>\n",
              "      </button>\n",
              "      \n",
              "  <style>\n",
              "    .colab-df-container {\n",
              "      display:flex;\n",
              "      flex-wrap:wrap;\n",
              "      gap: 12px;\n",
              "    }\n",
              "\n",
              "    .colab-df-convert {\n",
              "      background-color: #E8F0FE;\n",
              "      border: none;\n",
              "      border-radius: 50%;\n",
              "      cursor: pointer;\n",
              "      display: none;\n",
              "      fill: #1967D2;\n",
              "      height: 32px;\n",
              "      padding: 0 0 0 0;\n",
              "      width: 32px;\n",
              "    }\n",
              "\n",
              "    .colab-df-convert:hover {\n",
              "      background-color: #E2EBFA;\n",
              "      box-shadow: 0px 1px 2px rgba(60, 64, 67, 0.3), 0px 1px 3px 1px rgba(60, 64, 67, 0.15);\n",
              "      fill: #174EA6;\n",
              "    }\n",
              "\n",
              "    [theme=dark] .colab-df-convert {\n",
              "      background-color: #3B4455;\n",
              "      fill: #D2E3FC;\n",
              "    }\n",
              "\n",
              "    [theme=dark] .colab-df-convert:hover {\n",
              "      background-color: #434B5C;\n",
              "      box-shadow: 0px 1px 3px 1px rgba(0, 0, 0, 0.15);\n",
              "      filter: drop-shadow(0px 1px 2px rgba(0, 0, 0, 0.3));\n",
              "      fill: #FFFFFF;\n",
              "    }\n",
              "  </style>\n",
              "\n",
              "      <script>\n",
              "        const buttonEl =\n",
              "          document.querySelector('#df-06571b92-bdd9-490f-a4a5-7650bec61753 button.colab-df-convert');\n",
              "        buttonEl.style.display =\n",
              "          google.colab.kernel.accessAllowed ? 'block' : 'none';\n",
              "\n",
              "        async function convertToInteractive(key) {\n",
              "          const element = document.querySelector('#df-06571b92-bdd9-490f-a4a5-7650bec61753');\n",
              "          const dataTable =\n",
              "            await google.colab.kernel.invokeFunction('convertToInteractive',\n",
              "                                                     [key], {});\n",
              "          if (!dataTable) return;\n",
              "\n",
              "          const docLinkHtml = 'Like what you see? Visit the ' +\n",
              "            '<a target=\"_blank\" href=https://colab.research.google.com/notebooks/data_table.ipynb>data table notebook</a>'\n",
              "            + ' to learn more about interactive tables.';\n",
              "          element.innerHTML = '';\n",
              "          dataTable['output_type'] = 'display_data';\n",
              "          await google.colab.output.renderOutput(dataTable, element);\n",
              "          const docLink = document.createElement('div');\n",
              "          docLink.innerHTML = docLinkHtml;\n",
              "          element.appendChild(docLink);\n",
              "        }\n",
              "      </script>\n",
              "    </div>\n",
              "  </div>\n",
              "  "
            ],
            "text/plain": [
              "   Release Date  ... Worldwide Gross\n",
              "0    2019-04-23  ...      2797800564\n",
              "1    2011-05-20  ...      1045713802\n",
              "2    2015-04-22  ...      1395316979\n",
              "3    2015-12-16  ...      2064615817\n",
              "4    2018-04-25  ...      2044540523\n",
              "5    2007-05-24  ...       960996492\n",
              "6    2017-11-13  ...       655945209\n",
              "7    2015-06-10  ...       879500760\n",
              "8    2019-12-18  ...      1072848487\n",
              "9    2018-05-23  ...       393151347\n",
              "10   2012-07-03  ...       282778100\n",
              "11   2016-03-23  ...       872395091\n",
              "12   2017-12-13  ...      1331635141\n",
              "13   2019-11-07  ...      1654367425\n",
              "14   2010-11-24  ...       584899819\n",
              "15   2007-04-05  ...       894860230\n",
              "16   2016-04-22  ...      1151918521\n",
              "17   2009-07-15  ...       929411069\n",
              "18   2013-12-12  ...       959358436\n",
              "19   2014-10-12  ...       940389558\n",
              "\n",
              "[20 rows x 5 columns]"
            ]
          },
          "metadata": {},
          "execution_count": 106
        }
      ],
      "source": [
        "# Read in Top Movies CSV\n",
        "top_4000_movies_df = pd.read_csv(\"/content/top_4000_movies_data.csv\", parse_dates=['Release Date'], dayfirst=True)\n",
        "top_4000_movies_df.head(20)"
      ]
    },
    {
      "cell_type": "code",
      "execution_count": 107,
      "metadata": {
        "colab": {
          "base_uri": "https://localhost:8080/"
        },
        "id": "7xIfed5ZMDpE",
        "outputId": "fa169a60-cc2a-432a-a4c8-40d9cfa7a15a"
      },
      "outputs": [
        {
          "output_type": "stream",
          "name": "stdout",
          "text": [
            "Duplicate entries: 48\n"
          ]
        }
      ],
      "source": [
        "# Check for duplicates in the dataset top_4000_movies_df\n",
        "print(f\"Duplicate entries: {top_4000_movies_df['Movie Title'].duplicated().sum()}\")"
      ]
    },
    {
      "cell_type": "code",
      "execution_count": 108,
      "metadata": {
        "colab": {
          "base_uri": "https://localhost:8080/"
        },
        "id": "IKJU1U5hA2DS",
        "outputId": "bbc18bd1-0115-4e0e-e9ff-5c1f20707bb4"
      },
      "outputs": [
        {
          "output_type": "stream",
          "name": "stdout",
          "text": [
            "<class 'pandas.core.frame.DataFrame'>\n",
            "RangeIndex: 4000 entries, 0 to 3999\n",
            "Data columns (total 5 columns):\n",
            " #   Column             Non-Null Count  Dtype         \n",
            "---  ------             --------------  -----         \n",
            " 0   Release Date       3979 non-null   datetime64[ns]\n",
            " 1   Movie Title        4000 non-null   object        \n",
            " 2   Production Budget  4000 non-null   int64         \n",
            " 3   Domestic Gross     4000 non-null   int64         \n",
            " 4   Worldwide Gross    4000 non-null   int64         \n",
            "dtypes: datetime64[ns](1), int64(3), object(1)\n",
            "memory usage: 156.4+ KB\n"
          ]
        }
      ],
      "source": [
        "top_4000_movies_df.info()"
      ]
    },
    {
      "cell_type": "code",
      "execution_count": 109,
      "metadata": {
        "colab": {
          "base_uri": "https://localhost:8080/"
        },
        "id": "DuhJjs_1A4FZ",
        "outputId": "7eede732-5c7a-4953-95fa-89f32cb6b7b2"
      },
      "outputs": [
        {
          "output_type": "stream",
          "name": "stdout",
          "text": [
            "<class 'pandas.core.frame.DataFrame'>\n",
            "RangeIndex: 7668 entries, 0 to 7667\n",
            "Data columns (total 15 columns):\n",
            " #   Column    Non-Null Count  Dtype  \n",
            "---  ------    --------------  -----  \n",
            " 0   name      7668 non-null   object \n",
            " 1   rating    7591 non-null   object \n",
            " 2   genre     7668 non-null   object \n",
            " 3   year      7668 non-null   int64  \n",
            " 4   released  7666 non-null   object \n",
            " 5   score     7665 non-null   float64\n",
            " 6   votes     7665 non-null   float64\n",
            " 7   director  7668 non-null   object \n",
            " 8   writer    7665 non-null   object \n",
            " 9   star      7667 non-null   object \n",
            " 10  country   7665 non-null   object \n",
            " 11  budget    5497 non-null   float64\n",
            " 12  gross     7479 non-null   float64\n",
            " 13  company   7651 non-null   object \n",
            " 14  runtime   7664 non-null   float64\n",
            "dtypes: float64(5), int64(1), object(9)\n",
            "memory usage: 898.7+ KB\n"
          ]
        }
      ],
      "source": [
        "movies_df.info()"
      ]
    },
    {
      "cell_type": "code",
      "execution_count": 110,
      "metadata": {
        "colab": {
          "base_uri": "https://localhost:8080/"
        },
        "id": "cjk28jDAAkSd",
        "outputId": "6fb46f7b-e958-43d1-ace1-fff14fedcbb1"
      },
      "outputs": [
        {
          "output_type": "execute_result",
          "data": {
            "text/plain": [
              "Index(['name', 'rating', 'genre', 'year', 'released', 'score', 'votes',\n",
              "       'director', 'writer', 'star', 'country', 'budget', 'gross', 'company',\n",
              "       'runtime'],\n",
              "      dtype='object')"
            ]
          },
          "metadata": {},
          "execution_count": 110
        }
      ],
      "source": [
        "# See what data you have available\n",
        "movies_df.columns"
      ]
    },
    {
      "cell_type": "code",
      "execution_count": 111,
      "metadata": {
        "colab": {
          "base_uri": "https://localhost:8080/"
        },
        "id": "t5CKtf8rAtOl",
        "outputId": "8b90885c-909d-4f32-9b68-e274bd7b469b"
      },
      "outputs": [
        {
          "output_type": "execute_result",
          "data": {
            "text/plain": [
              "Index(['Release Date', 'Movie Title', 'Production Budget', 'Domestic Gross',\n",
              "       'Worldwide Gross'],\n",
              "      dtype='object')"
            ]
          },
          "metadata": {},
          "execution_count": 111
        }
      ],
      "source": [
        "# See what data you have available\n",
        "top_4000_movies_df.columns"
      ]
    },
    {
      "cell_type": "code",
      "execution_count": 112,
      "metadata": {
        "colab": {
          "base_uri": "https://localhost:8080/",
          "height": 1000
        },
        "id": "8pwlnRwwJPx0",
        "outputId": "7e4c7168-c6b3-42fa-8b71-9ecd10f784f8"
      },
      "outputs": [
        {
          "output_type": "execute_result",
          "data": {
            "text/html": [
              "\n",
              "  <div id=\"df-a6a4abfd-c285-41f3-a562-25cb82f0b64d\">\n",
              "    <div class=\"colab-df-container\">\n",
              "      <div>\n",
              "<style scoped>\n",
              "    .dataframe tbody tr th:only-of-type {\n",
              "        vertical-align: middle;\n",
              "    }\n",
              "\n",
              "    .dataframe tbody tr th {\n",
              "        vertical-align: top;\n",
              "    }\n",
              "\n",
              "    .dataframe thead th {\n",
              "        text-align: right;\n",
              "    }\n",
              "</style>\n",
              "<table border=\"1\" class=\"dataframe\">\n",
              "  <thead>\n",
              "    <tr style=\"text-align: right;\">\n",
              "      <th></th>\n",
              "      <th>Release Date</th>\n",
              "      <th>Movie Title</th>\n",
              "      <th>Production Budget</th>\n",
              "      <th>Domestic Gross</th>\n",
              "      <th>Worldwide Gross</th>\n",
              "      <th>name</th>\n",
              "      <th>rating</th>\n",
              "      <th>genre</th>\n",
              "      <th>year</th>\n",
              "      <th>released</th>\n",
              "      <th>score</th>\n",
              "      <th>votes</th>\n",
              "      <th>director</th>\n",
              "      <th>writer</th>\n",
              "      <th>star</th>\n",
              "      <th>country</th>\n",
              "      <th>budget</th>\n",
              "      <th>gross</th>\n",
              "      <th>company</th>\n",
              "      <th>runtime</th>\n",
              "    </tr>\n",
              "  </thead>\n",
              "  <tbody>\n",
              "    <tr>\n",
              "      <th>0</th>\n",
              "      <td>2019-04-23</td>\n",
              "      <td>Avengers: Endgame</td>\n",
              "      <td>400000000</td>\n",
              "      <td>858373000</td>\n",
              "      <td>2797800564</td>\n",
              "      <td>Avengers: Endgame</td>\n",
              "      <td>PG-13</td>\n",
              "      <td>Action</td>\n",
              "      <td>2019</td>\n",
              "      <td>April 26, 2019 (United States)</td>\n",
              "      <td>8.4</td>\n",
              "      <td>903000.0</td>\n",
              "      <td>Anthony Russo</td>\n",
              "      <td>Christopher Markus</td>\n",
              "      <td>Robert Downey Jr.</td>\n",
              "      <td>United States</td>\n",
              "      <td>356000000.0</td>\n",
              "      <td>2.797501e+09</td>\n",
              "      <td>Marvel Studios</td>\n",
              "      <td>181.0</td>\n",
              "    </tr>\n",
              "    <tr>\n",
              "      <th>1</th>\n",
              "      <td>2015-04-22</td>\n",
              "      <td>Avengers: Age of Ultron</td>\n",
              "      <td>365000000</td>\n",
              "      <td>459005868</td>\n",
              "      <td>1395316979</td>\n",
              "      <td>Avengers: Age of Ultron</td>\n",
              "      <td>PG-13</td>\n",
              "      <td>Action</td>\n",
              "      <td>2015</td>\n",
              "      <td>May 1, 2015 (United States)</td>\n",
              "      <td>7.3</td>\n",
              "      <td>777000.0</td>\n",
              "      <td>Joss Whedon</td>\n",
              "      <td>Joss Whedon</td>\n",
              "      <td>Robert Downey Jr.</td>\n",
              "      <td>United States</td>\n",
              "      <td>250000000.0</td>\n",
              "      <td>1.402810e+09</td>\n",
              "      <td>Marvel Studios</td>\n",
              "      <td>141.0</td>\n",
              "    </tr>\n",
              "    <tr>\n",
              "      <th>2</th>\n",
              "      <td>2018-04-25</td>\n",
              "      <td>Avengers: Infinity War</td>\n",
              "      <td>300000000</td>\n",
              "      <td>678815482</td>\n",
              "      <td>2044540523</td>\n",
              "      <td>Avengers: Infinity War</td>\n",
              "      <td>PG-13</td>\n",
              "      <td>Action</td>\n",
              "      <td>2018</td>\n",
              "      <td>April 27, 2018 (United States)</td>\n",
              "      <td>8.4</td>\n",
              "      <td>897000.0</td>\n",
              "      <td>Anthony Russo</td>\n",
              "      <td>Christopher Markus</td>\n",
              "      <td>Robert Downey Jr.</td>\n",
              "      <td>United States</td>\n",
              "      <td>321000000.0</td>\n",
              "      <td>2.048360e+09</td>\n",
              "      <td>Marvel Studios</td>\n",
              "      <td>149.0</td>\n",
              "    </tr>\n",
              "    <tr>\n",
              "      <th>3</th>\n",
              "      <td>2017-11-13</td>\n",
              "      <td>Justice League</td>\n",
              "      <td>300000000</td>\n",
              "      <td>229024295</td>\n",
              "      <td>655945209</td>\n",
              "      <td>Justice League</td>\n",
              "      <td>PG-13</td>\n",
              "      <td>Action</td>\n",
              "      <td>2017</td>\n",
              "      <td>November 17, 2017 (United States)</td>\n",
              "      <td>6.1</td>\n",
              "      <td>418000.0</td>\n",
              "      <td>Zack Snyder</td>\n",
              "      <td>Jerry Siegel</td>\n",
              "      <td>Ben Affleck</td>\n",
              "      <td>United States</td>\n",
              "      <td>300000000.0</td>\n",
              "      <td>6.579270e+08</td>\n",
              "      <td>Warner Bros.</td>\n",
              "      <td>120.0</td>\n",
              "    </tr>\n",
              "    <tr>\n",
              "      <th>4</th>\n",
              "      <td>2015-06-10</td>\n",
              "      <td>Spectre</td>\n",
              "      <td>300000000</td>\n",
              "      <td>200074175</td>\n",
              "      <td>879500760</td>\n",
              "      <td>Spectre</td>\n",
              "      <td>PG-13</td>\n",
              "      <td>Action</td>\n",
              "      <td>2015</td>\n",
              "      <td>November 6, 2015 (United States)</td>\n",
              "      <td>6.8</td>\n",
              "      <td>393000.0</td>\n",
              "      <td>Sam Mendes</td>\n",
              "      <td>John Logan</td>\n",
              "      <td>Daniel Craig</td>\n",
              "      <td>United Kingdom</td>\n",
              "      <td>245000000.0</td>\n",
              "      <td>8.806815e+08</td>\n",
              "      <td>B24</td>\n",
              "      <td>148.0</td>\n",
              "    </tr>\n",
              "    <tr>\n",
              "      <th>...</th>\n",
              "      <td>...</td>\n",
              "      <td>...</td>\n",
              "      <td>...</td>\n",
              "      <td>...</td>\n",
              "      <td>...</td>\n",
              "      <td>...</td>\n",
              "      <td>...</td>\n",
              "      <td>...</td>\n",
              "      <td>...</td>\n",
              "      <td>...</td>\n",
              "      <td>...</td>\n",
              "      <td>...</td>\n",
              "      <td>...</td>\n",
              "      <td>...</td>\n",
              "      <td>...</td>\n",
              "      <td>...</td>\n",
              "      <td>...</td>\n",
              "      <td>...</td>\n",
              "      <td>...</td>\n",
              "      <td>...</td>\n",
              "    </tr>\n",
              "    <tr>\n",
              "      <th>195</th>\n",
              "      <td>2011-05-26</td>\n",
              "      <td>Kung Fu Panda 2</td>\n",
              "      <td>150000000</td>\n",
              "      <td>165249063</td>\n",
              "      <td>664837547</td>\n",
              "      <td>Kung Fu Panda 2</td>\n",
              "      <td>PG</td>\n",
              "      <td>Animation</td>\n",
              "      <td>2011</td>\n",
              "      <td>May 26, 2011 (United States)</td>\n",
              "      <td>7.2</td>\n",
              "      <td>262000.0</td>\n",
              "      <td>Jennifer Yuh Nelson</td>\n",
              "      <td>Jonathan Aibel</td>\n",
              "      <td>Jack Black</td>\n",
              "      <td>United States</td>\n",
              "      <td>150000000.0</td>\n",
              "      <td>6.656923e+08</td>\n",
              "      <td>DreamWorks Animation</td>\n",
              "      <td>90.0</td>\n",
              "    </tr>\n",
              "    <tr>\n",
              "      <th>196</th>\n",
              "      <td>2015-05-14</td>\n",
              "      <td>Mad Max: Fury Road</td>\n",
              "      <td>150000000</td>\n",
              "      <td>153636354</td>\n",
              "      <td>367457874</td>\n",
              "      <td>Mad Max: Fury Road</td>\n",
              "      <td>R</td>\n",
              "      <td>Action</td>\n",
              "      <td>2015</td>\n",
              "      <td>May 15, 2015 (United States)</td>\n",
              "      <td>8.1</td>\n",
              "      <td>912000.0</td>\n",
              "      <td>George Miller</td>\n",
              "      <td>George Miller</td>\n",
              "      <td>Tom Hardy</td>\n",
              "      <td>Australia</td>\n",
              "      <td>150000000.0</td>\n",
              "      <td>3.756588e+08</td>\n",
              "      <td>Warner Bros.</td>\n",
              "      <td>120.0</td>\n",
              "    </tr>\n",
              "    <tr>\n",
              "      <th>197</th>\n",
              "      <td>2003-05-11</td>\n",
              "      <td>The Matrix Revolutions</td>\n",
              "      <td>150000000</td>\n",
              "      <td>139270910</td>\n",
              "      <td>427300260</td>\n",
              "      <td>The Matrix Revolutions</td>\n",
              "      <td>R</td>\n",
              "      <td>Action</td>\n",
              "      <td>2003</td>\n",
              "      <td>November 5, 2003 (United States)</td>\n",
              "      <td>6.7</td>\n",
              "      <td>459000.0</td>\n",
              "      <td>Lana Wachowski</td>\n",
              "      <td>Lilly Wachowski</td>\n",
              "      <td>Keanu Reeves</td>\n",
              "      <td>United States</td>\n",
              "      <td>150000000.0</td>\n",
              "      <td>4.273443e+08</td>\n",
              "      <td>Warner Bros.</td>\n",
              "      <td>129.0</td>\n",
              "    </tr>\n",
              "    <tr>\n",
              "      <th>198</th>\n",
              "      <td>2018-03-20</td>\n",
              "      <td>Ready Player One</td>\n",
              "      <td>150000000</td>\n",
              "      <td>137690172</td>\n",
              "      <td>579055653</td>\n",
              "      <td>Ready Player One</td>\n",
              "      <td>PG-13</td>\n",
              "      <td>Action</td>\n",
              "      <td>2018</td>\n",
              "      <td>March 29, 2018 (United States)</td>\n",
              "      <td>7.4</td>\n",
              "      <td>388000.0</td>\n",
              "      <td>Steven Spielberg</td>\n",
              "      <td>Zak Penn</td>\n",
              "      <td>Tye Sheridan</td>\n",
              "      <td>United States</td>\n",
              "      <td>175000000.0</td>\n",
              "      <td>5.828937e+08</td>\n",
              "      <td>Warner Bros.</td>\n",
              "      <td>140.0</td>\n",
              "    </tr>\n",
              "    <tr>\n",
              "      <th>199</th>\n",
              "      <td>2005-04-11</td>\n",
              "      <td>Chicken Little</td>\n",
              "      <td>150000000</td>\n",
              "      <td>135386665</td>\n",
              "      <td>310043823</td>\n",
              "      <td>Chicken Little</td>\n",
              "      <td>G</td>\n",
              "      <td>Animation</td>\n",
              "      <td>2005</td>\n",
              "      <td>November 4, 2005 (United States)</td>\n",
              "      <td>5.7</td>\n",
              "      <td>88000.0</td>\n",
              "      <td>Mark Dindal</td>\n",
              "      <td>Mark Dindal</td>\n",
              "      <td>Zach Braff</td>\n",
              "      <td>United States</td>\n",
              "      <td>150000000.0</td>\n",
              "      <td>3.144328e+08</td>\n",
              "      <td>Walt Disney Pictures</td>\n",
              "      <td>81.0</td>\n",
              "    </tr>\n",
              "  </tbody>\n",
              "</table>\n",
              "<p>200 rows × 20 columns</p>\n",
              "</div>\n",
              "      <button class=\"colab-df-convert\" onclick=\"convertToInteractive('df-a6a4abfd-c285-41f3-a562-25cb82f0b64d')\"\n",
              "              title=\"Convert this dataframe to an interactive table.\"\n",
              "              style=\"display:none;\">\n",
              "        \n",
              "  <svg xmlns=\"http://www.w3.org/2000/svg\" height=\"24px\"viewBox=\"0 0 24 24\"\n",
              "       width=\"24px\">\n",
              "    <path d=\"M0 0h24v24H0V0z\" fill=\"none\"/>\n",
              "    <path d=\"M18.56 5.44l.94 2.06.94-2.06 2.06-.94-2.06-.94-.94-2.06-.94 2.06-2.06.94zm-11 1L8.5 8.5l.94-2.06 2.06-.94-2.06-.94L8.5 2.5l-.94 2.06-2.06.94zm10 10l.94 2.06.94-2.06 2.06-.94-2.06-.94-.94-2.06-.94 2.06-2.06.94z\"/><path d=\"M17.41 7.96l-1.37-1.37c-.4-.4-.92-.59-1.43-.59-.52 0-1.04.2-1.43.59L10.3 9.45l-7.72 7.72c-.78.78-.78 2.05 0 2.83L4 21.41c.39.39.9.59 1.41.59.51 0 1.02-.2 1.41-.59l7.78-7.78 2.81-2.81c.8-.78.8-2.07 0-2.86zM5.41 20L4 18.59l7.72-7.72 1.47 1.35L5.41 20z\"/>\n",
              "  </svg>\n",
              "      </button>\n",
              "      \n",
              "  <style>\n",
              "    .colab-df-container {\n",
              "      display:flex;\n",
              "      flex-wrap:wrap;\n",
              "      gap: 12px;\n",
              "    }\n",
              "\n",
              "    .colab-df-convert {\n",
              "      background-color: #E8F0FE;\n",
              "      border: none;\n",
              "      border-radius: 50%;\n",
              "      cursor: pointer;\n",
              "      display: none;\n",
              "      fill: #1967D2;\n",
              "      height: 32px;\n",
              "      padding: 0 0 0 0;\n",
              "      width: 32px;\n",
              "    }\n",
              "\n",
              "    .colab-df-convert:hover {\n",
              "      background-color: #E2EBFA;\n",
              "      box-shadow: 0px 1px 2px rgba(60, 64, 67, 0.3), 0px 1px 3px 1px rgba(60, 64, 67, 0.15);\n",
              "      fill: #174EA6;\n",
              "    }\n",
              "\n",
              "    [theme=dark] .colab-df-convert {\n",
              "      background-color: #3B4455;\n",
              "      fill: #D2E3FC;\n",
              "    }\n",
              "\n",
              "    [theme=dark] .colab-df-convert:hover {\n",
              "      background-color: #434B5C;\n",
              "      box-shadow: 0px 1px 3px 1px rgba(0, 0, 0, 0.15);\n",
              "      filter: drop-shadow(0px 1px 2px rgba(0, 0, 0, 0.3));\n",
              "      fill: #FFFFFF;\n",
              "    }\n",
              "  </style>\n",
              "\n",
              "      <script>\n",
              "        const buttonEl =\n",
              "          document.querySelector('#df-a6a4abfd-c285-41f3-a562-25cb82f0b64d button.colab-df-convert');\n",
              "        buttonEl.style.display =\n",
              "          google.colab.kernel.accessAllowed ? 'block' : 'none';\n",
              "\n",
              "        async function convertToInteractive(key) {\n",
              "          const element = document.querySelector('#df-a6a4abfd-c285-41f3-a562-25cb82f0b64d');\n",
              "          const dataTable =\n",
              "            await google.colab.kernel.invokeFunction('convertToInteractive',\n",
              "                                                     [key], {});\n",
              "          if (!dataTable) return;\n",
              "\n",
              "          const docLinkHtml = 'Like what you see? Visit the ' +\n",
              "            '<a target=\"_blank\" href=https://colab.research.google.com/notebooks/data_table.ipynb>data table notebook</a>'\n",
              "            + ' to learn more about interactive tables.';\n",
              "          element.innerHTML = '';\n",
              "          dataTable['output_type'] = 'display_data';\n",
              "          await google.colab.output.renderOutput(dataTable, element);\n",
              "          const docLink = document.createElement('div');\n",
              "          docLink.innerHTML = docLinkHtml;\n",
              "          element.appendChild(docLink);\n",
              "        }\n",
              "      </script>\n",
              "    </div>\n",
              "  </div>\n",
              "  "
            ],
            "text/plain": [
              "    Release Date              Movie Title  ...               company  runtime\n",
              "0     2019-04-23        Avengers: Endgame  ...        Marvel Studios    181.0\n",
              "1     2015-04-22  Avengers: Age of Ultron  ...        Marvel Studios    141.0\n",
              "2     2018-04-25   Avengers: Infinity War  ...        Marvel Studios    149.0\n",
              "3     2017-11-13           Justice League  ...          Warner Bros.    120.0\n",
              "4     2015-06-10                  Spectre  ...                   B24    148.0\n",
              "..           ...                      ...  ...                   ...      ...\n",
              "195   2011-05-26          Kung Fu Panda 2  ...  DreamWorks Animation     90.0\n",
              "196   2015-05-14       Mad Max: Fury Road  ...          Warner Bros.    120.0\n",
              "197   2003-05-11   The Matrix Revolutions  ...          Warner Bros.    129.0\n",
              "198   2018-03-20         Ready Player One  ...          Warner Bros.    140.0\n",
              "199   2005-04-11           Chicken Little  ...  Walt Disney Pictures     81.0\n",
              "\n",
              "[200 rows x 20 columns]"
            ]
          },
          "metadata": {},
          "execution_count": 112
        }
      ],
      "source": [
        "# Combine the data into a single dataset.\n",
        "#Merged_Movie_df = top_4000_movies_df.merge( movies_df, left_on='Movie Title', right_on='name')\n",
        "Merged_Movie_df = top_4000_movies_df.merge( movies_df, how='inner', left_on='Movie Title', right_on='name')\n",
        "\n",
        "Merged_Movie_df.head(200)\n"
      ]
    },
    {
      "cell_type": "code",
      "source": [
        "c_df = Merged_Movie_df.copy()"
      ],
      "metadata": {
        "id": "4qzGDTAznJv4"
      },
      "execution_count": 123,
      "outputs": []
    },
    {
      "cell_type": "code",
      "source": [
        "c_df.columns"
      ],
      "metadata": {
        "colab": {
          "base_uri": "https://localhost:8080/"
        },
        "id": "03mbcFgNnlf7",
        "outputId": "b2404391-f516-406b-a521-880d6c2214f6"
      },
      "execution_count": 124,
      "outputs": [
        {
          "output_type": "execute_result",
          "data": {
            "text/plain": [
              "Index(['Release Date', 'Movie Title', 'Production Budget', 'Domestic Gross',\n",
              "       'Worldwide Gross', 'name', 'rating', 'genre', 'year', 'released',\n",
              "       'score', 'votes', 'director', 'writer', 'star', 'country', 'budget',\n",
              "       'gross', 'company', 'runtime'],\n",
              "      dtype='object')"
            ]
          },
          "metadata": {},
          "execution_count": 124
        }
      ]
    },
    {
      "cell_type": "code",
      "source": [
        "c_df.head()"
      ],
      "metadata": {
        "colab": {
          "base_uri": "https://localhost:8080/",
          "height": 548
        },
        "id": "x8P5kkWin94U",
        "outputId": "d1813ff0-a0a9-456c-9fa5-4999bb8e2190"
      },
      "execution_count": 125,
      "outputs": [
        {
          "output_type": "execute_result",
          "data": {
            "text/html": [
              "\n",
              "  <div id=\"df-b377492a-d4f7-4cd8-944d-47cad863022c\">\n",
              "    <div class=\"colab-df-container\">\n",
              "      <div>\n",
              "<style scoped>\n",
              "    .dataframe tbody tr th:only-of-type {\n",
              "        vertical-align: middle;\n",
              "    }\n",
              "\n",
              "    .dataframe tbody tr th {\n",
              "        vertical-align: top;\n",
              "    }\n",
              "\n",
              "    .dataframe thead th {\n",
              "        text-align: right;\n",
              "    }\n",
              "</style>\n",
              "<table border=\"1\" class=\"dataframe\">\n",
              "  <thead>\n",
              "    <tr style=\"text-align: right;\">\n",
              "      <th></th>\n",
              "      <th>Release Date</th>\n",
              "      <th>Movie Title</th>\n",
              "      <th>Production Budget</th>\n",
              "      <th>Domestic Gross</th>\n",
              "      <th>Worldwide Gross</th>\n",
              "      <th>name</th>\n",
              "      <th>rating</th>\n",
              "      <th>genre</th>\n",
              "      <th>year</th>\n",
              "      <th>released</th>\n",
              "      <th>score</th>\n",
              "      <th>votes</th>\n",
              "      <th>director</th>\n",
              "      <th>writer</th>\n",
              "      <th>star</th>\n",
              "      <th>country</th>\n",
              "      <th>budget</th>\n",
              "      <th>gross</th>\n",
              "      <th>company</th>\n",
              "      <th>runtime</th>\n",
              "    </tr>\n",
              "  </thead>\n",
              "  <tbody>\n",
              "    <tr>\n",
              "      <th>0</th>\n",
              "      <td>2019-04-23</td>\n",
              "      <td>Avengers: Endgame</td>\n",
              "      <td>400000000</td>\n",
              "      <td>858373000</td>\n",
              "      <td>2797800564</td>\n",
              "      <td>Avengers: Endgame</td>\n",
              "      <td>PG-13</td>\n",
              "      <td>Action</td>\n",
              "      <td>2019</td>\n",
              "      <td>April 26, 2019 (United States)</td>\n",
              "      <td>8.4</td>\n",
              "      <td>903000.0</td>\n",
              "      <td>Anthony Russo</td>\n",
              "      <td>Christopher Markus</td>\n",
              "      <td>Robert Downey Jr.</td>\n",
              "      <td>United States</td>\n",
              "      <td>356000000.0</td>\n",
              "      <td>2.797501e+09</td>\n",
              "      <td>Marvel Studios</td>\n",
              "      <td>181.0</td>\n",
              "    </tr>\n",
              "    <tr>\n",
              "      <th>1</th>\n",
              "      <td>2015-04-22</td>\n",
              "      <td>Avengers: Age of Ultron</td>\n",
              "      <td>365000000</td>\n",
              "      <td>459005868</td>\n",
              "      <td>1395316979</td>\n",
              "      <td>Avengers: Age of Ultron</td>\n",
              "      <td>PG-13</td>\n",
              "      <td>Action</td>\n",
              "      <td>2015</td>\n",
              "      <td>May 1, 2015 (United States)</td>\n",
              "      <td>7.3</td>\n",
              "      <td>777000.0</td>\n",
              "      <td>Joss Whedon</td>\n",
              "      <td>Joss Whedon</td>\n",
              "      <td>Robert Downey Jr.</td>\n",
              "      <td>United States</td>\n",
              "      <td>250000000.0</td>\n",
              "      <td>1.402810e+09</td>\n",
              "      <td>Marvel Studios</td>\n",
              "      <td>141.0</td>\n",
              "    </tr>\n",
              "    <tr>\n",
              "      <th>2</th>\n",
              "      <td>2018-04-25</td>\n",
              "      <td>Avengers: Infinity War</td>\n",
              "      <td>300000000</td>\n",
              "      <td>678815482</td>\n",
              "      <td>2044540523</td>\n",
              "      <td>Avengers: Infinity War</td>\n",
              "      <td>PG-13</td>\n",
              "      <td>Action</td>\n",
              "      <td>2018</td>\n",
              "      <td>April 27, 2018 (United States)</td>\n",
              "      <td>8.4</td>\n",
              "      <td>897000.0</td>\n",
              "      <td>Anthony Russo</td>\n",
              "      <td>Christopher Markus</td>\n",
              "      <td>Robert Downey Jr.</td>\n",
              "      <td>United States</td>\n",
              "      <td>321000000.0</td>\n",
              "      <td>2.048360e+09</td>\n",
              "      <td>Marvel Studios</td>\n",
              "      <td>149.0</td>\n",
              "    </tr>\n",
              "    <tr>\n",
              "      <th>3</th>\n",
              "      <td>2017-11-13</td>\n",
              "      <td>Justice League</td>\n",
              "      <td>300000000</td>\n",
              "      <td>229024295</td>\n",
              "      <td>655945209</td>\n",
              "      <td>Justice League</td>\n",
              "      <td>PG-13</td>\n",
              "      <td>Action</td>\n",
              "      <td>2017</td>\n",
              "      <td>November 17, 2017 (United States)</td>\n",
              "      <td>6.1</td>\n",
              "      <td>418000.0</td>\n",
              "      <td>Zack Snyder</td>\n",
              "      <td>Jerry Siegel</td>\n",
              "      <td>Ben Affleck</td>\n",
              "      <td>United States</td>\n",
              "      <td>300000000.0</td>\n",
              "      <td>6.579270e+08</td>\n",
              "      <td>Warner Bros.</td>\n",
              "      <td>120.0</td>\n",
              "    </tr>\n",
              "    <tr>\n",
              "      <th>4</th>\n",
              "      <td>2015-06-10</td>\n",
              "      <td>Spectre</td>\n",
              "      <td>300000000</td>\n",
              "      <td>200074175</td>\n",
              "      <td>879500760</td>\n",
              "      <td>Spectre</td>\n",
              "      <td>PG-13</td>\n",
              "      <td>Action</td>\n",
              "      <td>2015</td>\n",
              "      <td>November 6, 2015 (United States)</td>\n",
              "      <td>6.8</td>\n",
              "      <td>393000.0</td>\n",
              "      <td>Sam Mendes</td>\n",
              "      <td>John Logan</td>\n",
              "      <td>Daniel Craig</td>\n",
              "      <td>United Kingdom</td>\n",
              "      <td>245000000.0</td>\n",
              "      <td>8.806815e+08</td>\n",
              "      <td>B24</td>\n",
              "      <td>148.0</td>\n",
              "    </tr>\n",
              "  </tbody>\n",
              "</table>\n",
              "</div>\n",
              "      <button class=\"colab-df-convert\" onclick=\"convertToInteractive('df-b377492a-d4f7-4cd8-944d-47cad863022c')\"\n",
              "              title=\"Convert this dataframe to an interactive table.\"\n",
              "              style=\"display:none;\">\n",
              "        \n",
              "  <svg xmlns=\"http://www.w3.org/2000/svg\" height=\"24px\"viewBox=\"0 0 24 24\"\n",
              "       width=\"24px\">\n",
              "    <path d=\"M0 0h24v24H0V0z\" fill=\"none\"/>\n",
              "    <path d=\"M18.56 5.44l.94 2.06.94-2.06 2.06-.94-2.06-.94-.94-2.06-.94 2.06-2.06.94zm-11 1L8.5 8.5l.94-2.06 2.06-.94-2.06-.94L8.5 2.5l-.94 2.06-2.06.94zm10 10l.94 2.06.94-2.06 2.06-.94-2.06-.94-.94-2.06-.94 2.06-2.06.94z\"/><path d=\"M17.41 7.96l-1.37-1.37c-.4-.4-.92-.59-1.43-.59-.52 0-1.04.2-1.43.59L10.3 9.45l-7.72 7.72c-.78.78-.78 2.05 0 2.83L4 21.41c.39.39.9.59 1.41.59.51 0 1.02-.2 1.41-.59l7.78-7.78 2.81-2.81c.8-.78.8-2.07 0-2.86zM5.41 20L4 18.59l7.72-7.72 1.47 1.35L5.41 20z\"/>\n",
              "  </svg>\n",
              "      </button>\n",
              "      \n",
              "  <style>\n",
              "    .colab-df-container {\n",
              "      display:flex;\n",
              "      flex-wrap:wrap;\n",
              "      gap: 12px;\n",
              "    }\n",
              "\n",
              "    .colab-df-convert {\n",
              "      background-color: #E8F0FE;\n",
              "      border: none;\n",
              "      border-radius: 50%;\n",
              "      cursor: pointer;\n",
              "      display: none;\n",
              "      fill: #1967D2;\n",
              "      height: 32px;\n",
              "      padding: 0 0 0 0;\n",
              "      width: 32px;\n",
              "    }\n",
              "\n",
              "    .colab-df-convert:hover {\n",
              "      background-color: #E2EBFA;\n",
              "      box-shadow: 0px 1px 2px rgba(60, 64, 67, 0.3), 0px 1px 3px 1px rgba(60, 64, 67, 0.15);\n",
              "      fill: #174EA6;\n",
              "    }\n",
              "\n",
              "    [theme=dark] .colab-df-convert {\n",
              "      background-color: #3B4455;\n",
              "      fill: #D2E3FC;\n",
              "    }\n",
              "\n",
              "    [theme=dark] .colab-df-convert:hover {\n",
              "      background-color: #434B5C;\n",
              "      box-shadow: 0px 1px 3px 1px rgba(0, 0, 0, 0.15);\n",
              "      filter: drop-shadow(0px 1px 2px rgba(0, 0, 0, 0.3));\n",
              "      fill: #FFFFFF;\n",
              "    }\n",
              "  </style>\n",
              "\n",
              "      <script>\n",
              "        const buttonEl =\n",
              "          document.querySelector('#df-b377492a-d4f7-4cd8-944d-47cad863022c button.colab-df-convert');\n",
              "        buttonEl.style.display =\n",
              "          google.colab.kernel.accessAllowed ? 'block' : 'none';\n",
              "\n",
              "        async function convertToInteractive(key) {\n",
              "          const element = document.querySelector('#df-b377492a-d4f7-4cd8-944d-47cad863022c');\n",
              "          const dataTable =\n",
              "            await google.colab.kernel.invokeFunction('convertToInteractive',\n",
              "                                                     [key], {});\n",
              "          if (!dataTable) return;\n",
              "\n",
              "          const docLinkHtml = 'Like what you see? Visit the ' +\n",
              "            '<a target=\"_blank\" href=https://colab.research.google.com/notebooks/data_table.ipynb>data table notebook</a>'\n",
              "            + ' to learn more about interactive tables.';\n",
              "          element.innerHTML = '';\n",
              "          dataTable['output_type'] = 'display_data';\n",
              "          await google.colab.output.renderOutput(dataTable, element);\n",
              "          const docLink = document.createElement('div');\n",
              "          docLink.innerHTML = docLinkHtml;\n",
              "          element.appendChild(docLink);\n",
              "        }\n",
              "      </script>\n",
              "    </div>\n",
              "  </div>\n",
              "  "
            ],
            "text/plain": [
              "  Release Date              Movie Title  ...         company  runtime\n",
              "0   2019-04-23        Avengers: Endgame  ...  Marvel Studios    181.0\n",
              "1   2015-04-22  Avengers: Age of Ultron  ...  Marvel Studios    141.0\n",
              "2   2018-04-25   Avengers: Infinity War  ...  Marvel Studios    149.0\n",
              "3   2017-11-13           Justice League  ...    Warner Bros.    120.0\n",
              "4   2015-06-10                  Spectre  ...             B24    148.0\n",
              "\n",
              "[5 rows x 20 columns]"
            ]
          },
          "metadata": {},
          "execution_count": 125
        }
      ]
    },
    {
      "cell_type": "code",
      "source": [
        "c_df = c_df.drop(['Release Date', 'year', 'director', 'writer', 'name','country','star'], axis = 1)"
      ],
      "metadata": {
        "id": "fIt-IxMGnuAv"
      },
      "execution_count": 126,
      "outputs": []
    },
    {
      "cell_type": "code",
      "source": [
        "c_df.head()"
      ],
      "metadata": {
        "colab": {
          "base_uri": "https://localhost:8080/",
          "height": 548
        },
        "id": "Uz8aTK3loVm1",
        "outputId": "e8d1d439-2c97-4414-b02c-3abfcea2a27b"
      },
      "execution_count": 118,
      "outputs": [
        {
          "output_type": "execute_result",
          "data": {
            "text/html": [
              "\n",
              "  <div id=\"df-2dfea4a3-9e32-44af-926c-8cc9737420c9\">\n",
              "    <div class=\"colab-df-container\">\n",
              "      <div>\n",
              "<style scoped>\n",
              "    .dataframe tbody tr th:only-of-type {\n",
              "        vertical-align: middle;\n",
              "    }\n",
              "\n",
              "    .dataframe tbody tr th {\n",
              "        vertical-align: top;\n",
              "    }\n",
              "\n",
              "    .dataframe thead th {\n",
              "        text-align: right;\n",
              "    }\n",
              "</style>\n",
              "<table border=\"1\" class=\"dataframe\">\n",
              "  <thead>\n",
              "    <tr style=\"text-align: right;\">\n",
              "      <th></th>\n",
              "      <th>Movie Title</th>\n",
              "      <th>Production Budget</th>\n",
              "      <th>Domestic Gross</th>\n",
              "      <th>Worldwide Gross</th>\n",
              "      <th>rating</th>\n",
              "      <th>genre</th>\n",
              "      <th>released</th>\n",
              "      <th>score</th>\n",
              "      <th>votes</th>\n",
              "      <th>star</th>\n",
              "      <th>budget</th>\n",
              "      <th>gross</th>\n",
              "      <th>company</th>\n",
              "      <th>runtime</th>\n",
              "    </tr>\n",
              "  </thead>\n",
              "  <tbody>\n",
              "    <tr>\n",
              "      <th>0</th>\n",
              "      <td>Avengers: Endgame</td>\n",
              "      <td>400000000</td>\n",
              "      <td>858373000</td>\n",
              "      <td>2797800564</td>\n",
              "      <td>PG-13</td>\n",
              "      <td>Action</td>\n",
              "      <td>April 26, 2019 (United States)</td>\n",
              "      <td>8.4</td>\n",
              "      <td>903000.0</td>\n",
              "      <td>Robert Downey Jr.</td>\n",
              "      <td>356000000.0</td>\n",
              "      <td>2.797501e+09</td>\n",
              "      <td>Marvel Studios</td>\n",
              "      <td>181.0</td>\n",
              "    </tr>\n",
              "    <tr>\n",
              "      <th>1</th>\n",
              "      <td>Avengers: Age of Ultron</td>\n",
              "      <td>365000000</td>\n",
              "      <td>459005868</td>\n",
              "      <td>1395316979</td>\n",
              "      <td>PG-13</td>\n",
              "      <td>Action</td>\n",
              "      <td>May 1, 2015 (United States)</td>\n",
              "      <td>7.3</td>\n",
              "      <td>777000.0</td>\n",
              "      <td>Robert Downey Jr.</td>\n",
              "      <td>250000000.0</td>\n",
              "      <td>1.402810e+09</td>\n",
              "      <td>Marvel Studios</td>\n",
              "      <td>141.0</td>\n",
              "    </tr>\n",
              "    <tr>\n",
              "      <th>2</th>\n",
              "      <td>Avengers: Infinity War</td>\n",
              "      <td>300000000</td>\n",
              "      <td>678815482</td>\n",
              "      <td>2044540523</td>\n",
              "      <td>PG-13</td>\n",
              "      <td>Action</td>\n",
              "      <td>April 27, 2018 (United States)</td>\n",
              "      <td>8.4</td>\n",
              "      <td>897000.0</td>\n",
              "      <td>Robert Downey Jr.</td>\n",
              "      <td>321000000.0</td>\n",
              "      <td>2.048360e+09</td>\n",
              "      <td>Marvel Studios</td>\n",
              "      <td>149.0</td>\n",
              "    </tr>\n",
              "    <tr>\n",
              "      <th>3</th>\n",
              "      <td>Justice League</td>\n",
              "      <td>300000000</td>\n",
              "      <td>229024295</td>\n",
              "      <td>655945209</td>\n",
              "      <td>PG-13</td>\n",
              "      <td>Action</td>\n",
              "      <td>November 17, 2017 (United States)</td>\n",
              "      <td>6.1</td>\n",
              "      <td>418000.0</td>\n",
              "      <td>Ben Affleck</td>\n",
              "      <td>300000000.0</td>\n",
              "      <td>6.579270e+08</td>\n",
              "      <td>Warner Bros.</td>\n",
              "      <td>120.0</td>\n",
              "    </tr>\n",
              "    <tr>\n",
              "      <th>4</th>\n",
              "      <td>Spectre</td>\n",
              "      <td>300000000</td>\n",
              "      <td>200074175</td>\n",
              "      <td>879500760</td>\n",
              "      <td>PG-13</td>\n",
              "      <td>Action</td>\n",
              "      <td>November 6, 2015 (United States)</td>\n",
              "      <td>6.8</td>\n",
              "      <td>393000.0</td>\n",
              "      <td>Daniel Craig</td>\n",
              "      <td>245000000.0</td>\n",
              "      <td>8.806815e+08</td>\n",
              "      <td>B24</td>\n",
              "      <td>148.0</td>\n",
              "    </tr>\n",
              "  </tbody>\n",
              "</table>\n",
              "</div>\n",
              "      <button class=\"colab-df-convert\" onclick=\"convertToInteractive('df-2dfea4a3-9e32-44af-926c-8cc9737420c9')\"\n",
              "              title=\"Convert this dataframe to an interactive table.\"\n",
              "              style=\"display:none;\">\n",
              "        \n",
              "  <svg xmlns=\"http://www.w3.org/2000/svg\" height=\"24px\"viewBox=\"0 0 24 24\"\n",
              "       width=\"24px\">\n",
              "    <path d=\"M0 0h24v24H0V0z\" fill=\"none\"/>\n",
              "    <path d=\"M18.56 5.44l.94 2.06.94-2.06 2.06-.94-2.06-.94-.94-2.06-.94 2.06-2.06.94zm-11 1L8.5 8.5l.94-2.06 2.06-.94-2.06-.94L8.5 2.5l-.94 2.06-2.06.94zm10 10l.94 2.06.94-2.06 2.06-.94-2.06-.94-.94-2.06-.94 2.06-2.06.94z\"/><path d=\"M17.41 7.96l-1.37-1.37c-.4-.4-.92-.59-1.43-.59-.52 0-1.04.2-1.43.59L10.3 9.45l-7.72 7.72c-.78.78-.78 2.05 0 2.83L4 21.41c.39.39.9.59 1.41.59.51 0 1.02-.2 1.41-.59l7.78-7.78 2.81-2.81c.8-.78.8-2.07 0-2.86zM5.41 20L4 18.59l7.72-7.72 1.47 1.35L5.41 20z\"/>\n",
              "  </svg>\n",
              "      </button>\n",
              "      \n",
              "  <style>\n",
              "    .colab-df-container {\n",
              "      display:flex;\n",
              "      flex-wrap:wrap;\n",
              "      gap: 12px;\n",
              "    }\n",
              "\n",
              "    .colab-df-convert {\n",
              "      background-color: #E8F0FE;\n",
              "      border: none;\n",
              "      border-radius: 50%;\n",
              "      cursor: pointer;\n",
              "      display: none;\n",
              "      fill: #1967D2;\n",
              "      height: 32px;\n",
              "      padding: 0 0 0 0;\n",
              "      width: 32px;\n",
              "    }\n",
              "\n",
              "    .colab-df-convert:hover {\n",
              "      background-color: #E2EBFA;\n",
              "      box-shadow: 0px 1px 2px rgba(60, 64, 67, 0.3), 0px 1px 3px 1px rgba(60, 64, 67, 0.15);\n",
              "      fill: #174EA6;\n",
              "    }\n",
              "\n",
              "    [theme=dark] .colab-df-convert {\n",
              "      background-color: #3B4455;\n",
              "      fill: #D2E3FC;\n",
              "    }\n",
              "\n",
              "    [theme=dark] .colab-df-convert:hover {\n",
              "      background-color: #434B5C;\n",
              "      box-shadow: 0px 1px 3px 1px rgba(0, 0, 0, 0.15);\n",
              "      filter: drop-shadow(0px 1px 2px rgba(0, 0, 0, 0.3));\n",
              "      fill: #FFFFFF;\n",
              "    }\n",
              "  </style>\n",
              "\n",
              "      <script>\n",
              "        const buttonEl =\n",
              "          document.querySelector('#df-2dfea4a3-9e32-44af-926c-8cc9737420c9 button.colab-df-convert');\n",
              "        buttonEl.style.display =\n",
              "          google.colab.kernel.accessAllowed ? 'block' : 'none';\n",
              "\n",
              "        async function convertToInteractive(key) {\n",
              "          const element = document.querySelector('#df-2dfea4a3-9e32-44af-926c-8cc9737420c9');\n",
              "          const dataTable =\n",
              "            await google.colab.kernel.invokeFunction('convertToInteractive',\n",
              "                                                     [key], {});\n",
              "          if (!dataTable) return;\n",
              "\n",
              "          const docLinkHtml = 'Like what you see? Visit the ' +\n",
              "            '<a target=\"_blank\" href=https://colab.research.google.com/notebooks/data_table.ipynb>data table notebook</a>'\n",
              "            + ' to learn more about interactive tables.';\n",
              "          element.innerHTML = '';\n",
              "          dataTable['output_type'] = 'display_data';\n",
              "          await google.colab.output.renderOutput(dataTable, element);\n",
              "          const docLink = document.createElement('div');\n",
              "          docLink.innerHTML = docLinkHtml;\n",
              "          element.appendChild(docLink);\n",
              "        }\n",
              "      </script>\n",
              "    </div>\n",
              "  </div>\n",
              "  "
            ],
            "text/plain": [
              "               Movie Title  Production Budget  ...         company  runtime\n",
              "0        Avengers: Endgame          400000000  ...  Marvel Studios    181.0\n",
              "1  Avengers: Age of Ultron          365000000  ...  Marvel Studios    141.0\n",
              "2   Avengers: Infinity War          300000000  ...  Marvel Studios    149.0\n",
              "3           Justice League          300000000  ...    Warner Bros.    120.0\n",
              "4                  Spectre          300000000  ...             B24    148.0\n",
              "\n",
              "[5 rows x 14 columns]"
            ]
          },
          "metadata": {},
          "execution_count": 118
        }
      ]
    },
    {
      "cell_type": "code",
      "source": [
        "df = Merged_Movie_df.copy()"
      ],
      "metadata": {
        "id": "uk_oY4c0bA4k"
      },
      "execution_count": 117,
      "outputs": []
    },
    {
      "cell_type": "code",
      "execution_count": 20,
      "metadata": {
        "colab": {
          "base_uri": "https://localhost:8080/"
        },
        "id": "YeQ-7BgpyUKw",
        "outputId": "d23cb95d-0591-4607-8192-4be14fafe00d"
      },
      "outputs": [
        {
          "output_type": "stream",
          "name": "stdout",
          "text": [
            "<class 'pandas.core.frame.DataFrame'>\n",
            "Int64Index: 3121 entries, 0 to 3120\n",
            "Data columns (total 20 columns):\n",
            " #   Column             Non-Null Count  Dtype         \n",
            "---  ------             --------------  -----         \n",
            " 0   Release Date       3121 non-null   datetime64[ns]\n",
            " 1   Movie Title        3121 non-null   object        \n",
            " 2   Production Budget  3121 non-null   int64         \n",
            " 3   Domestic Gross     3121 non-null   int64         \n",
            " 4   Worldwide Gross    3121 non-null   int64         \n",
            " 5   name               3121 non-null   object        \n",
            " 6   rating             3117 non-null   object        \n",
            " 7   genre              3121 non-null   object        \n",
            " 8   year               3121 non-null   int64         \n",
            " 9   released           3120 non-null   object        \n",
            " 10  score              3121 non-null   float64       \n",
            " 11  votes              3121 non-null   float64       \n",
            " 12  director           3121 non-null   object        \n",
            " 13  writer             3121 non-null   object        \n",
            " 14  star               3121 non-null   object        \n",
            " 15  country            3120 non-null   object        \n",
            " 16  budget             3004 non-null   float64       \n",
            " 17  gross              3114 non-null   float64       \n",
            " 18  company            3120 non-null   object        \n",
            " 19  runtime            3119 non-null   float64       \n",
            "dtypes: datetime64[ns](1), float64(5), int64(4), object(10)\n",
            "memory usage: 512.0+ KB\n"
          ]
        }
      ],
      "source": [
        "Merged_Movie_df.info()"
      ]
    },
    {
      "cell_type": "code",
      "execution_count": 21,
      "metadata": {
        "colab": {
          "base_uri": "https://localhost:8080/"
        },
        "id": "IisEa0rBMeXg",
        "outputId": "24414ad8-d99f-4b2d-a73a-292d9c58fa31"
      },
      "outputs": [
        {
          "output_type": "stream",
          "name": "stdout",
          "text": [
            "Duplicate entries: 0\n"
          ]
        }
      ],
      "source": [
        "# Check for duplicates in the dataset Merged_Movie_df\n",
        "print(f\"Duplicate entries: {Merged_Movie_df.duplicated().sum()}\")"
      ]
    },
    {
      "cell_type": "code",
      "execution_count": 22,
      "metadata": {
        "colab": {
          "base_uri": "https://localhost:8080/"
        },
        "id": "m23u0j9lOXZy",
        "outputId": "071d43f6-6f78-4504-b5f3-3e06f2a08ff5"
      },
      "outputs": [
        {
          "output_type": "execute_result",
          "data": {
            "text/plain": [
              "Release Date         1862\n",
              "Movie Title          2923\n",
              "Production Budget     244\n",
              "Domestic Gross       2959\n",
              "Worldwide Gross      2961\n",
              "name                 2923\n",
              "rating                  8\n",
              "genre                  14\n",
              "year                   41\n",
              "released             1732\n",
              "score                  69\n",
              "votes                 633\n",
              "director             1287\n",
              "writer               1933\n",
              "star                 1031\n",
              "country                36\n",
              "budget                241\n",
              "gross                3033\n",
              "company               735\n",
              "runtime               124\n",
              "dtype: int64"
            ]
          },
          "metadata": {},
          "execution_count": 22
        }
      ],
      "source": [
        "Merged_Movie_df.nunique()"
      ]
    },
    {
      "cell_type": "code",
      "execution_count": 23,
      "metadata": {
        "colab": {
          "base_uri": "https://localhost:8080/"
        },
        "id": "jnQrKqJxnm7G",
        "outputId": "0dcb61bd-9ad6-4007-f2b4-38ebf88421c3"
      },
      "outputs": [
        {
          "output_type": "execute_result",
          "data": {
            "text/plain": [
              "Index(['Release Date', 'Movie Title', 'Production Budget', 'Domestic Gross',\n",
              "       'Worldwide Gross', 'name', 'rating', 'genre', 'year', 'released',\n",
              "       'score', 'votes', 'director', 'writer', 'star', 'country', 'budget',\n",
              "       'gross', 'company', 'runtime'],\n",
              "      dtype='object')"
            ]
          },
          "metadata": {},
          "execution_count": 23
        }
      ],
      "source": [
        "Merged_Movie_df.columns"
      ]
    },
    {
      "cell_type": "code",
      "execution_count": 24,
      "metadata": {
        "id": "vzj86422Wnm8"
      },
      "outputs": [],
      "source": [
        "Merged_Movie_df.rename(columns={'Release Date':'Release_Date', 'Movie Title':'Movie_Title', 'Production Budget':'Production_Budget', 'Domestic Gross':'Domestic_Gross',\n",
        "       'Worldwide Gross':'Worldwide_Gross'},inplace=True)"
      ]
    },
    {
      "cell_type": "code",
      "execution_count": 25,
      "metadata": {
        "colab": {
          "base_uri": "https://localhost:8080/",
          "height": 530
        },
        "id": "Fq2FzhmhW4JQ",
        "outputId": "24450cff-34d9-46ae-cbcf-5e5f065c31f7"
      },
      "outputs": [
        {
          "output_type": "execute_result",
          "data": {
            "text/html": [
              "\n",
              "  <div id=\"df-d63d922d-1152-4792-8bf7-28ecc22a00f4\">\n",
              "    <div class=\"colab-df-container\">\n",
              "      <div>\n",
              "<style scoped>\n",
              "    .dataframe tbody tr th:only-of-type {\n",
              "        vertical-align: middle;\n",
              "    }\n",
              "\n",
              "    .dataframe tbody tr th {\n",
              "        vertical-align: top;\n",
              "    }\n",
              "\n",
              "    .dataframe thead th {\n",
              "        text-align: right;\n",
              "    }\n",
              "</style>\n",
              "<table border=\"1\" class=\"dataframe\">\n",
              "  <thead>\n",
              "    <tr style=\"text-align: right;\">\n",
              "      <th></th>\n",
              "      <th>Release_Date</th>\n",
              "      <th>Movie_Title</th>\n",
              "      <th>Production_Budget</th>\n",
              "      <th>Domestic_Gross</th>\n",
              "      <th>Worldwide_Gross</th>\n",
              "      <th>name</th>\n",
              "      <th>rating</th>\n",
              "      <th>genre</th>\n",
              "      <th>year</th>\n",
              "      <th>released</th>\n",
              "      <th>score</th>\n",
              "      <th>votes</th>\n",
              "      <th>director</th>\n",
              "      <th>writer</th>\n",
              "      <th>star</th>\n",
              "      <th>country</th>\n",
              "      <th>budget</th>\n",
              "      <th>gross</th>\n",
              "      <th>company</th>\n",
              "      <th>runtime</th>\n",
              "    </tr>\n",
              "  </thead>\n",
              "  <tbody>\n",
              "    <tr>\n",
              "      <th>0</th>\n",
              "      <td>2019-04-23</td>\n",
              "      <td>Avengers: Endgame</td>\n",
              "      <td>400000000</td>\n",
              "      <td>858373000</td>\n",
              "      <td>2797800564</td>\n",
              "      <td>Avengers: Endgame</td>\n",
              "      <td>PG-13</td>\n",
              "      <td>Action</td>\n",
              "      <td>2019</td>\n",
              "      <td>April 26, 2019 (United States)</td>\n",
              "      <td>8.4</td>\n",
              "      <td>903000.0</td>\n",
              "      <td>Anthony Russo</td>\n",
              "      <td>Christopher Markus</td>\n",
              "      <td>Robert Downey Jr.</td>\n",
              "      <td>United States</td>\n",
              "      <td>356000000.0</td>\n",
              "      <td>2.797501e+09</td>\n",
              "      <td>Marvel Studios</td>\n",
              "      <td>181.0</td>\n",
              "    </tr>\n",
              "    <tr>\n",
              "      <th>1</th>\n",
              "      <td>2015-04-22</td>\n",
              "      <td>Avengers: Age of Ultron</td>\n",
              "      <td>365000000</td>\n",
              "      <td>459005868</td>\n",
              "      <td>1395316979</td>\n",
              "      <td>Avengers: Age of Ultron</td>\n",
              "      <td>PG-13</td>\n",
              "      <td>Action</td>\n",
              "      <td>2015</td>\n",
              "      <td>May 1, 2015 (United States)</td>\n",
              "      <td>7.3</td>\n",
              "      <td>777000.0</td>\n",
              "      <td>Joss Whedon</td>\n",
              "      <td>Joss Whedon</td>\n",
              "      <td>Robert Downey Jr.</td>\n",
              "      <td>United States</td>\n",
              "      <td>250000000.0</td>\n",
              "      <td>1.402810e+09</td>\n",
              "      <td>Marvel Studios</td>\n",
              "      <td>141.0</td>\n",
              "    </tr>\n",
              "    <tr>\n",
              "      <th>2</th>\n",
              "      <td>2018-04-25</td>\n",
              "      <td>Avengers: Infinity War</td>\n",
              "      <td>300000000</td>\n",
              "      <td>678815482</td>\n",
              "      <td>2044540523</td>\n",
              "      <td>Avengers: Infinity War</td>\n",
              "      <td>PG-13</td>\n",
              "      <td>Action</td>\n",
              "      <td>2018</td>\n",
              "      <td>April 27, 2018 (United States)</td>\n",
              "      <td>8.4</td>\n",
              "      <td>897000.0</td>\n",
              "      <td>Anthony Russo</td>\n",
              "      <td>Christopher Markus</td>\n",
              "      <td>Robert Downey Jr.</td>\n",
              "      <td>United States</td>\n",
              "      <td>321000000.0</td>\n",
              "      <td>2.048360e+09</td>\n",
              "      <td>Marvel Studios</td>\n",
              "      <td>149.0</td>\n",
              "    </tr>\n",
              "    <tr>\n",
              "      <th>3</th>\n",
              "      <td>2017-11-13</td>\n",
              "      <td>Justice League</td>\n",
              "      <td>300000000</td>\n",
              "      <td>229024295</td>\n",
              "      <td>655945209</td>\n",
              "      <td>Justice League</td>\n",
              "      <td>PG-13</td>\n",
              "      <td>Action</td>\n",
              "      <td>2017</td>\n",
              "      <td>November 17, 2017 (United States)</td>\n",
              "      <td>6.1</td>\n",
              "      <td>418000.0</td>\n",
              "      <td>Zack Snyder</td>\n",
              "      <td>Jerry Siegel</td>\n",
              "      <td>Ben Affleck</td>\n",
              "      <td>United States</td>\n",
              "      <td>300000000.0</td>\n",
              "      <td>6.579270e+08</td>\n",
              "      <td>Warner Bros.</td>\n",
              "      <td>120.0</td>\n",
              "    </tr>\n",
              "    <tr>\n",
              "      <th>4</th>\n",
              "      <td>2015-06-10</td>\n",
              "      <td>Spectre</td>\n",
              "      <td>300000000</td>\n",
              "      <td>200074175</td>\n",
              "      <td>879500760</td>\n",
              "      <td>Spectre</td>\n",
              "      <td>PG-13</td>\n",
              "      <td>Action</td>\n",
              "      <td>2015</td>\n",
              "      <td>November 6, 2015 (United States)</td>\n",
              "      <td>6.8</td>\n",
              "      <td>393000.0</td>\n",
              "      <td>Sam Mendes</td>\n",
              "      <td>John Logan</td>\n",
              "      <td>Daniel Craig</td>\n",
              "      <td>United Kingdom</td>\n",
              "      <td>245000000.0</td>\n",
              "      <td>8.806815e+08</td>\n",
              "      <td>B24</td>\n",
              "      <td>148.0</td>\n",
              "    </tr>\n",
              "  </tbody>\n",
              "</table>\n",
              "</div>\n",
              "      <button class=\"colab-df-convert\" onclick=\"convertToInteractive('df-d63d922d-1152-4792-8bf7-28ecc22a00f4')\"\n",
              "              title=\"Convert this dataframe to an interactive table.\"\n",
              "              style=\"display:none;\">\n",
              "        \n",
              "  <svg xmlns=\"http://www.w3.org/2000/svg\" height=\"24px\"viewBox=\"0 0 24 24\"\n",
              "       width=\"24px\">\n",
              "    <path d=\"M0 0h24v24H0V0z\" fill=\"none\"/>\n",
              "    <path d=\"M18.56 5.44l.94 2.06.94-2.06 2.06-.94-2.06-.94-.94-2.06-.94 2.06-2.06.94zm-11 1L8.5 8.5l.94-2.06 2.06-.94-2.06-.94L8.5 2.5l-.94 2.06-2.06.94zm10 10l.94 2.06.94-2.06 2.06-.94-2.06-.94-.94-2.06-.94 2.06-2.06.94z\"/><path d=\"M17.41 7.96l-1.37-1.37c-.4-.4-.92-.59-1.43-.59-.52 0-1.04.2-1.43.59L10.3 9.45l-7.72 7.72c-.78.78-.78 2.05 0 2.83L4 21.41c.39.39.9.59 1.41.59.51 0 1.02-.2 1.41-.59l7.78-7.78 2.81-2.81c.8-.78.8-2.07 0-2.86zM5.41 20L4 18.59l7.72-7.72 1.47 1.35L5.41 20z\"/>\n",
              "  </svg>\n",
              "      </button>\n",
              "      \n",
              "  <style>\n",
              "    .colab-df-container {\n",
              "      display:flex;\n",
              "      flex-wrap:wrap;\n",
              "      gap: 12px;\n",
              "    }\n",
              "\n",
              "    .colab-df-convert {\n",
              "      background-color: #E8F0FE;\n",
              "      border: none;\n",
              "      border-radius: 50%;\n",
              "      cursor: pointer;\n",
              "      display: none;\n",
              "      fill: #1967D2;\n",
              "      height: 32px;\n",
              "      padding: 0 0 0 0;\n",
              "      width: 32px;\n",
              "    }\n",
              "\n",
              "    .colab-df-convert:hover {\n",
              "      background-color: #E2EBFA;\n",
              "      box-shadow: 0px 1px 2px rgba(60, 64, 67, 0.3), 0px 1px 3px 1px rgba(60, 64, 67, 0.15);\n",
              "      fill: #174EA6;\n",
              "    }\n",
              "\n",
              "    [theme=dark] .colab-df-convert {\n",
              "      background-color: #3B4455;\n",
              "      fill: #D2E3FC;\n",
              "    }\n",
              "\n",
              "    [theme=dark] .colab-df-convert:hover {\n",
              "      background-color: #434B5C;\n",
              "      box-shadow: 0px 1px 3px 1px rgba(0, 0, 0, 0.15);\n",
              "      filter: drop-shadow(0px 1px 2px rgba(0, 0, 0, 0.3));\n",
              "      fill: #FFFFFF;\n",
              "    }\n",
              "  </style>\n",
              "\n",
              "      <script>\n",
              "        const buttonEl =\n",
              "          document.querySelector('#df-d63d922d-1152-4792-8bf7-28ecc22a00f4 button.colab-df-convert');\n",
              "        buttonEl.style.display =\n",
              "          google.colab.kernel.accessAllowed ? 'block' : 'none';\n",
              "\n",
              "        async function convertToInteractive(key) {\n",
              "          const element = document.querySelector('#df-d63d922d-1152-4792-8bf7-28ecc22a00f4');\n",
              "          const dataTable =\n",
              "            await google.colab.kernel.invokeFunction('convertToInteractive',\n",
              "                                                     [key], {});\n",
              "          if (!dataTable) return;\n",
              "\n",
              "          const docLinkHtml = 'Like what you see? Visit the ' +\n",
              "            '<a target=\"_blank\" href=https://colab.research.google.com/notebooks/data_table.ipynb>data table notebook</a>'\n",
              "            + ' to learn more about interactive tables.';\n",
              "          element.innerHTML = '';\n",
              "          dataTable['output_type'] = 'display_data';\n",
              "          await google.colab.output.renderOutput(dataTable, element);\n",
              "          const docLink = document.createElement('div');\n",
              "          docLink.innerHTML = docLinkHtml;\n",
              "          element.appendChild(docLink);\n",
              "        }\n",
              "      </script>\n",
              "    </div>\n",
              "  </div>\n",
              "  "
            ],
            "text/plain": [
              "  Release_Date              Movie_Title  ...         company  runtime\n",
              "0   2019-04-23        Avengers: Endgame  ...  Marvel Studios    181.0\n",
              "1   2015-04-22  Avengers: Age of Ultron  ...  Marvel Studios    141.0\n",
              "2   2018-04-25   Avengers: Infinity War  ...  Marvel Studios    149.0\n",
              "3   2017-11-13           Justice League  ...    Warner Bros.    120.0\n",
              "4   2015-06-10                  Spectre  ...             B24    148.0\n",
              "\n",
              "[5 rows x 20 columns]"
            ]
          },
          "metadata": {},
          "execution_count": 25
        }
      ],
      "source": [
        "Merged_Movie_df.head()\n"
      ]
    },
    {
      "cell_type": "code",
      "execution_count": 26,
      "metadata": {
        "id": "sumW4-FjSmj2"
      },
      "outputs": [],
      "source": [
        "# Check IMDB score column to categorize the score ratings as Favorable vs Unfavorable\n",
        "Merged_Movie_df.score.unique()\n",
        "o_df = Merged_Movie_df.copy()\n"
      ]
    },
    {
      "cell_type": "code",
      "execution_count": 27,
      "metadata": {
        "colab": {
          "base_uri": "https://localhost:8080/",
          "height": 530
        },
        "id": "9W-iQTHTO2w8",
        "outputId": "6bc08fcd-d389-44ec-d783-60ff06404263"
      },
      "outputs": [
        {
          "output_type": "execute_result",
          "data": {
            "text/html": [
              "\n",
              "  <div id=\"df-9a203375-4833-4334-9c53-f948dff6cbdb\">\n",
              "    <div class=\"colab-df-container\">\n",
              "      <div>\n",
              "<style scoped>\n",
              "    .dataframe tbody tr th:only-of-type {\n",
              "        vertical-align: middle;\n",
              "    }\n",
              "\n",
              "    .dataframe tbody tr th {\n",
              "        vertical-align: top;\n",
              "    }\n",
              "\n",
              "    .dataframe thead th {\n",
              "        text-align: right;\n",
              "    }\n",
              "</style>\n",
              "<table border=\"1\" class=\"dataframe\">\n",
              "  <thead>\n",
              "    <tr style=\"text-align: right;\">\n",
              "      <th></th>\n",
              "      <th>Release_Date</th>\n",
              "      <th>Movie_Title</th>\n",
              "      <th>Production_Budget</th>\n",
              "      <th>Domestic_Gross</th>\n",
              "      <th>Worldwide_Gross</th>\n",
              "      <th>name</th>\n",
              "      <th>rating</th>\n",
              "      <th>genre</th>\n",
              "      <th>year</th>\n",
              "      <th>released</th>\n",
              "      <th>score</th>\n",
              "      <th>votes</th>\n",
              "      <th>director</th>\n",
              "      <th>writer</th>\n",
              "      <th>star</th>\n",
              "      <th>country</th>\n",
              "      <th>budget</th>\n",
              "      <th>gross</th>\n",
              "      <th>company</th>\n",
              "      <th>runtime</th>\n",
              "    </tr>\n",
              "  </thead>\n",
              "  <tbody>\n",
              "    <tr>\n",
              "      <th>0</th>\n",
              "      <td>2019-04-23</td>\n",
              "      <td>Avengers: Endgame</td>\n",
              "      <td>400000000</td>\n",
              "      <td>858373000</td>\n",
              "      <td>2797800564</td>\n",
              "      <td>Avengers: Endgame</td>\n",
              "      <td>PG-13</td>\n",
              "      <td>Action</td>\n",
              "      <td>2019</td>\n",
              "      <td>April 26, 2019 (United States)</td>\n",
              "      <td>Favorable</td>\n",
              "      <td>903000.0</td>\n",
              "      <td>Anthony Russo</td>\n",
              "      <td>Christopher Markus</td>\n",
              "      <td>Robert Downey Jr.</td>\n",
              "      <td>United States</td>\n",
              "      <td>356000000.0</td>\n",
              "      <td>2.797501e+09</td>\n",
              "      <td>Marvel Studios</td>\n",
              "      <td>181.0</td>\n",
              "    </tr>\n",
              "    <tr>\n",
              "      <th>1</th>\n",
              "      <td>2015-04-22</td>\n",
              "      <td>Avengers: Age of Ultron</td>\n",
              "      <td>365000000</td>\n",
              "      <td>459005868</td>\n",
              "      <td>1395316979</td>\n",
              "      <td>Avengers: Age of Ultron</td>\n",
              "      <td>PG-13</td>\n",
              "      <td>Action</td>\n",
              "      <td>2015</td>\n",
              "      <td>May 1, 2015 (United States)</td>\n",
              "      <td>Favorable</td>\n",
              "      <td>777000.0</td>\n",
              "      <td>Joss Whedon</td>\n",
              "      <td>Joss Whedon</td>\n",
              "      <td>Robert Downey Jr.</td>\n",
              "      <td>United States</td>\n",
              "      <td>250000000.0</td>\n",
              "      <td>1.402810e+09</td>\n",
              "      <td>Marvel Studios</td>\n",
              "      <td>141.0</td>\n",
              "    </tr>\n",
              "    <tr>\n",
              "      <th>2</th>\n",
              "      <td>2018-04-25</td>\n",
              "      <td>Avengers: Infinity War</td>\n",
              "      <td>300000000</td>\n",
              "      <td>678815482</td>\n",
              "      <td>2044540523</td>\n",
              "      <td>Avengers: Infinity War</td>\n",
              "      <td>PG-13</td>\n",
              "      <td>Action</td>\n",
              "      <td>2018</td>\n",
              "      <td>April 27, 2018 (United States)</td>\n",
              "      <td>Favorable</td>\n",
              "      <td>897000.0</td>\n",
              "      <td>Anthony Russo</td>\n",
              "      <td>Christopher Markus</td>\n",
              "      <td>Robert Downey Jr.</td>\n",
              "      <td>United States</td>\n",
              "      <td>321000000.0</td>\n",
              "      <td>2.048360e+09</td>\n",
              "      <td>Marvel Studios</td>\n",
              "      <td>149.0</td>\n",
              "    </tr>\n",
              "    <tr>\n",
              "      <th>3</th>\n",
              "      <td>2017-11-13</td>\n",
              "      <td>Justice League</td>\n",
              "      <td>300000000</td>\n",
              "      <td>229024295</td>\n",
              "      <td>655945209</td>\n",
              "      <td>Justice League</td>\n",
              "      <td>PG-13</td>\n",
              "      <td>Action</td>\n",
              "      <td>2017</td>\n",
              "      <td>November 17, 2017 (United States)</td>\n",
              "      <td>Favorable</td>\n",
              "      <td>418000.0</td>\n",
              "      <td>Zack Snyder</td>\n",
              "      <td>Jerry Siegel</td>\n",
              "      <td>Ben Affleck</td>\n",
              "      <td>United States</td>\n",
              "      <td>300000000.0</td>\n",
              "      <td>6.579270e+08</td>\n",
              "      <td>Warner Bros.</td>\n",
              "      <td>120.0</td>\n",
              "    </tr>\n",
              "    <tr>\n",
              "      <th>4</th>\n",
              "      <td>2015-06-10</td>\n",
              "      <td>Spectre</td>\n",
              "      <td>300000000</td>\n",
              "      <td>200074175</td>\n",
              "      <td>879500760</td>\n",
              "      <td>Spectre</td>\n",
              "      <td>PG-13</td>\n",
              "      <td>Action</td>\n",
              "      <td>2015</td>\n",
              "      <td>November 6, 2015 (United States)</td>\n",
              "      <td>Favorable</td>\n",
              "      <td>393000.0</td>\n",
              "      <td>Sam Mendes</td>\n",
              "      <td>John Logan</td>\n",
              "      <td>Daniel Craig</td>\n",
              "      <td>United Kingdom</td>\n",
              "      <td>245000000.0</td>\n",
              "      <td>8.806815e+08</td>\n",
              "      <td>B24</td>\n",
              "      <td>148.0</td>\n",
              "    </tr>\n",
              "  </tbody>\n",
              "</table>\n",
              "</div>\n",
              "      <button class=\"colab-df-convert\" onclick=\"convertToInteractive('df-9a203375-4833-4334-9c53-f948dff6cbdb')\"\n",
              "              title=\"Convert this dataframe to an interactive table.\"\n",
              "              style=\"display:none;\">\n",
              "        \n",
              "  <svg xmlns=\"http://www.w3.org/2000/svg\" height=\"24px\"viewBox=\"0 0 24 24\"\n",
              "       width=\"24px\">\n",
              "    <path d=\"M0 0h24v24H0V0z\" fill=\"none\"/>\n",
              "    <path d=\"M18.56 5.44l.94 2.06.94-2.06 2.06-.94-2.06-.94-.94-2.06-.94 2.06-2.06.94zm-11 1L8.5 8.5l.94-2.06 2.06-.94-2.06-.94L8.5 2.5l-.94 2.06-2.06.94zm10 10l.94 2.06.94-2.06 2.06-.94-2.06-.94-.94-2.06-.94 2.06-2.06.94z\"/><path d=\"M17.41 7.96l-1.37-1.37c-.4-.4-.92-.59-1.43-.59-.52 0-1.04.2-1.43.59L10.3 9.45l-7.72 7.72c-.78.78-.78 2.05 0 2.83L4 21.41c.39.39.9.59 1.41.59.51 0 1.02-.2 1.41-.59l7.78-7.78 2.81-2.81c.8-.78.8-2.07 0-2.86zM5.41 20L4 18.59l7.72-7.72 1.47 1.35L5.41 20z\"/>\n",
              "  </svg>\n",
              "      </button>\n",
              "      \n",
              "  <style>\n",
              "    .colab-df-container {\n",
              "      display:flex;\n",
              "      flex-wrap:wrap;\n",
              "      gap: 12px;\n",
              "    }\n",
              "\n",
              "    .colab-df-convert {\n",
              "      background-color: #E8F0FE;\n",
              "      border: none;\n",
              "      border-radius: 50%;\n",
              "      cursor: pointer;\n",
              "      display: none;\n",
              "      fill: #1967D2;\n",
              "      height: 32px;\n",
              "      padding: 0 0 0 0;\n",
              "      width: 32px;\n",
              "    }\n",
              "\n",
              "    .colab-df-convert:hover {\n",
              "      background-color: #E2EBFA;\n",
              "      box-shadow: 0px 1px 2px rgba(60, 64, 67, 0.3), 0px 1px 3px 1px rgba(60, 64, 67, 0.15);\n",
              "      fill: #174EA6;\n",
              "    }\n",
              "\n",
              "    [theme=dark] .colab-df-convert {\n",
              "      background-color: #3B4455;\n",
              "      fill: #D2E3FC;\n",
              "    }\n",
              "\n",
              "    [theme=dark] .colab-df-convert:hover {\n",
              "      background-color: #434B5C;\n",
              "      box-shadow: 0px 1px 3px 1px rgba(0, 0, 0, 0.15);\n",
              "      filter: drop-shadow(0px 1px 2px rgba(0, 0, 0, 0.3));\n",
              "      fill: #FFFFFF;\n",
              "    }\n",
              "  </style>\n",
              "\n",
              "      <script>\n",
              "        const buttonEl =\n",
              "          document.querySelector('#df-9a203375-4833-4334-9c53-f948dff6cbdb button.colab-df-convert');\n",
              "        buttonEl.style.display =\n",
              "          google.colab.kernel.accessAllowed ? 'block' : 'none';\n",
              "\n",
              "        async function convertToInteractive(key) {\n",
              "          const element = document.querySelector('#df-9a203375-4833-4334-9c53-f948dff6cbdb');\n",
              "          const dataTable =\n",
              "            await google.colab.kernel.invokeFunction('convertToInteractive',\n",
              "                                                     [key], {});\n",
              "          if (!dataTable) return;\n",
              "\n",
              "          const docLinkHtml = 'Like what you see? Visit the ' +\n",
              "            '<a target=\"_blank\" href=https://colab.research.google.com/notebooks/data_table.ipynb>data table notebook</a>'\n",
              "            + ' to learn more about interactive tables.';\n",
              "          element.innerHTML = '';\n",
              "          dataTable['output_type'] = 'display_data';\n",
              "          await google.colab.output.renderOutput(dataTable, element);\n",
              "          const docLink = document.createElement('div');\n",
              "          docLink.innerHTML = docLinkHtml;\n",
              "          element.appendChild(docLink);\n",
              "        }\n",
              "      </script>\n",
              "    </div>\n",
              "  </div>\n",
              "  "
            ],
            "text/plain": [
              "  Release_Date              Movie_Title  ...         company  runtime\n",
              "0   2019-04-23        Avengers: Endgame  ...  Marvel Studios    181.0\n",
              "1   2015-04-22  Avengers: Age of Ultron  ...  Marvel Studios    141.0\n",
              "2   2018-04-25   Avengers: Infinity War  ...  Marvel Studios    149.0\n",
              "3   2017-11-13           Justice League  ...    Warner Bros.    120.0\n",
              "4   2015-06-10                  Spectre  ...             B24    148.0\n",
              "\n",
              "[5 rows x 20 columns]"
            ]
          },
          "metadata": {},
          "execution_count": 27
        }
      ],
      "source": [
        "# Transform the score into over 6 or under 6 categories\n",
        "\n",
        "def change_score_to_Category(IMDB):\n",
        "  if IMDB >= 6 :\n",
        "    return \"Favorable\"\n",
        "  else: \n",
        "    return \"Unfavorable\"\n",
        "\n",
        "Merged_Movie_df['score'] = Merged_Movie_df['score'].apply(change_score_to_Category)\n",
        "Merged_Movie_df.head()\n",
        "  "
      ]
    },
    {
      "cell_type": "code",
      "execution_count": 28,
      "metadata": {
        "colab": {
          "base_uri": "https://localhost:8080/"
        },
        "id": "PF6o2tw9VJHg",
        "outputId": "0ae18978-4035-46b2-d891-39db33d6e671"
      },
      "outputs": [
        {
          "output_type": "execute_result",
          "data": {
            "text/plain": [
              "Release_Date         1862\n",
              "Movie_Title          2923\n",
              "Production_Budget     244\n",
              "Domestic_Gross       2959\n",
              "Worldwide_Gross      2961\n",
              "name                 2923\n",
              "rating                  8\n",
              "genre                  14\n",
              "year                   41\n",
              "released             1732\n",
              "score                   2\n",
              "votes                 633\n",
              "director             1287\n",
              "writer               1933\n",
              "star                 1031\n",
              "country                36\n",
              "budget                241\n",
              "gross                3033\n",
              "company               735\n",
              "runtime               124\n",
              "dtype: int64"
            ]
          },
          "metadata": {},
          "execution_count": 28
        }
      ],
      "source": [
        "Merged_Movie_df.nunique()"
      ]
    },
    {
      "cell_type": "code",
      "execution_count": 29,
      "metadata": {
        "colab": {
          "base_uri": "https://localhost:8080/"
        },
        "id": "dg5d09M2V5Of",
        "outputId": "21df6c0f-acd6-402c-96ee-0993b81dea1e"
      },
      "outputs": [
        {
          "output_type": "execute_result",
          "data": {
            "text/plain": [
              "Release_Date         datetime64[ns]\n",
              "Movie_Title                  object\n",
              "Production_Budget             int64\n",
              "Domestic_Gross                int64\n",
              "Worldwide_Gross               int64\n",
              "name                         object\n",
              "rating                       object\n",
              "genre                        object\n",
              "year                          int64\n",
              "released                     object\n",
              "score                        object\n",
              "votes                       float64\n",
              "director                     object\n",
              "writer                       object\n",
              "star                         object\n",
              "country                      object\n",
              "budget                      float64\n",
              "gross                       float64\n",
              "company                      object\n",
              "runtime                     float64\n",
              "dtype: object"
            ]
          },
          "metadata": {},
          "execution_count": 29
        }
      ],
      "source": [
        "Merged_Movie_df.dtypes"
      ]
    },
    {
      "cell_type": "code",
      "execution_count": 30,
      "metadata": {
        "colab": {
          "base_uri": "https://localhost:8080/"
        },
        "id": "tuouvLwpZX9p",
        "outputId": "212e4939-9e9c-4519-e594-e6632c14de5c"
      },
      "outputs": [
        {
          "output_type": "stream",
          "name": "stdout",
          "text": [
            "Column Release_Date has 0 null values\n",
            "Column Movie_Title has 0 null values\n",
            "Column Production_Budget has 0 null values\n",
            "Column Domestic_Gross has 0 null values\n",
            "Column Worldwide_Gross has 0 null values\n",
            "Column name has 0 null values\n",
            "Column rating has 4 null values\n",
            "Column genre has 0 null values\n",
            "Column year has 0 null values\n",
            "Column released has 1 null values\n",
            "Column score has 0 null values\n",
            "Column votes has 0 null values\n",
            "Column director has 0 null values\n",
            "Column writer has 0 null values\n",
            "Column star has 0 null values\n",
            "Column country has 1 null values\n",
            "Column budget has 117 null values\n",
            "Column gross has 7 null values\n",
            "Column company has 1 null values\n",
            "Column runtime has 2 null values\n"
          ]
        }
      ],
      "source": [
        "# Check for null values\n",
        "for column in Merged_Movie_df.columns:\n",
        "    print(f\"Column {column} has {Merged_Movie_df[column].isnull().sum()} null values\")"
      ]
    },
    {
      "cell_type": "code",
      "execution_count": 31,
      "metadata": {
        "colab": {
          "base_uri": "https://localhost:8080/"
        },
        "id": "UtU2tyxsBfCN",
        "outputId": "3dd96336-a0a9-43d6-c4ae-fe1b32a397c0"
      },
      "outputs": [
        {
          "output_type": "stream",
          "name": "stdout",
          "text": [
            "<class 'pandas.core.frame.DataFrame'>\n",
            "Int64Index: 3121 entries, 0 to 3120\n",
            "Data columns (total 20 columns):\n",
            " #   Column             Non-Null Count  Dtype         \n",
            "---  ------             --------------  -----         \n",
            " 0   Release_Date       3121 non-null   datetime64[ns]\n",
            " 1   Movie_Title        3121 non-null   object        \n",
            " 2   Production_Budget  3121 non-null   int64         \n",
            " 3   Domestic_Gross     3121 non-null   int64         \n",
            " 4   Worldwide_Gross    3121 non-null   int64         \n",
            " 5   name               3121 non-null   object        \n",
            " 6   rating             3117 non-null   object        \n",
            " 7   genre              3121 non-null   object        \n",
            " 8   year               3121 non-null   int64         \n",
            " 9   released           3120 non-null   object        \n",
            " 10  score              3121 non-null   object        \n",
            " 11  votes              3121 non-null   float64       \n",
            " 12  director           3121 non-null   object        \n",
            " 13  writer             3121 non-null   object        \n",
            " 14  star               3121 non-null   object        \n",
            " 15  country            3120 non-null   object        \n",
            " 16  budget             3004 non-null   float64       \n",
            " 17  gross              3114 non-null   float64       \n",
            " 18  company            3120 non-null   object        \n",
            " 19  runtime            3119 non-null   float64       \n",
            "dtypes: datetime64[ns](1), float64(4), int64(4), object(11)\n",
            "memory usage: 512.0+ KB\n"
          ]
        }
      ],
      "source": [
        "Merged_Movie_df.info()"
      ]
    },
    {
      "cell_type": "code",
      "execution_count": 32,
      "metadata": {
        "id": "HqA9MfVPa2ci"
      },
      "outputs": [],
      "source": [
        "# Drop Null Rows and useless columns\n",
        "\n",
        "Merged_Movie_df = Merged_Movie_df.dropna()\n",
        "# Remove two columns name is 'name' and 'released' and Release_Date and 'country'\n",
        "Merged_Movie_df = Merged_Movie_df.drop(['name', 'released', 'Release_Date', 'country' ], axis = 1)\n"
      ]
    },
    {
      "cell_type": "code",
      "execution_count": 33,
      "metadata": {
        "id": "sFXHCUMeBap5"
      },
      "outputs": [],
      "source": [
        "Merged_Movie_df = Merged_Movie_df.drop_duplicates(subset= 'Movie_Title', keep= 'first', inplace=False)"
      ]
    },
    {
      "cell_type": "code",
      "execution_count": 34,
      "metadata": {
        "colab": {
          "base_uri": "https://localhost:8080/"
        },
        "id": "aAKX0NLfBiIF",
        "outputId": "01c0c4a9-272c-4af8-fa5d-f05308b34942"
      },
      "outputs": [
        {
          "output_type": "stream",
          "name": "stdout",
          "text": [
            "<class 'pandas.core.frame.DataFrame'>\n",
            "Int64Index: 2847 entries, 0 to 3120\n",
            "Data columns (total 16 columns):\n",
            " #   Column             Non-Null Count  Dtype  \n",
            "---  ------             --------------  -----  \n",
            " 0   Movie_Title        2847 non-null   object \n",
            " 1   Production_Budget  2847 non-null   int64  \n",
            " 2   Domestic_Gross     2847 non-null   int64  \n",
            " 3   Worldwide_Gross    2847 non-null   int64  \n",
            " 4   rating             2847 non-null   object \n",
            " 5   genre              2847 non-null   object \n",
            " 6   year               2847 non-null   int64  \n",
            " 7   score              2847 non-null   object \n",
            " 8   votes              2847 non-null   float64\n",
            " 9   director           2847 non-null   object \n",
            " 10  writer             2847 non-null   object \n",
            " 11  star               2847 non-null   object \n",
            " 12  budget             2847 non-null   float64\n",
            " 13  gross              2847 non-null   float64\n",
            " 14  company            2847 non-null   object \n",
            " 15  runtime            2847 non-null   float64\n",
            "dtypes: float64(4), int64(4), object(8)\n",
            "memory usage: 378.1+ KB\n"
          ]
        }
      ],
      "source": [
        "Merged_Movie_df.info()"
      ]
    },
    {
      "cell_type": "code",
      "execution_count": 35,
      "metadata": {
        "colab": {
          "base_uri": "https://localhost:8080/"
        },
        "id": "h6syorBja_Um",
        "outputId": "0d57dde6-a005-428a-abec-a9ba89c018f9"
      },
      "outputs": [
        {
          "output_type": "stream",
          "name": "stdout",
          "text": [
            "Column Movie_Title has 0 null values\n",
            "Column Production_Budget has 0 null values\n",
            "Column Domestic_Gross has 0 null values\n",
            "Column Worldwide_Gross has 0 null values\n",
            "Column rating has 0 null values\n",
            "Column genre has 0 null values\n",
            "Column year has 0 null values\n",
            "Column score has 0 null values\n",
            "Column votes has 0 null values\n",
            "Column director has 0 null values\n",
            "Column writer has 0 null values\n",
            "Column star has 0 null values\n",
            "Column budget has 0 null values\n",
            "Column gross has 0 null values\n",
            "Column company has 0 null values\n",
            "Column runtime has 0 null values\n"
          ]
        }
      ],
      "source": [
        "# Check for null values\n",
        "for column in Merged_Movie_df.columns:\n",
        "    print(f\"Column {column} has {Merged_Movie_df[column].isnull().sum()} null values\")"
      ]
    },
    {
      "cell_type": "code",
      "execution_count": 36,
      "metadata": {
        "colab": {
          "base_uri": "https://localhost:8080/"
        },
        "id": "UX_Y69rJdxfC",
        "outputId": "6d12fcd4-a590-4bc2-ab0e-f390ce0e1cf8"
      },
      "outputs": [
        {
          "output_type": "execute_result",
          "data": {
            "text/plain": [
              "Index(['Movie_Title', 'Production_Budget', 'Domestic_Gross', 'Worldwide_Gross',\n",
              "       'rating', 'genre', 'year', 'score', 'votes', 'director', 'writer',\n",
              "       'star', 'budget', 'gross', 'company', 'runtime'],\n",
              "      dtype='object')"
            ]
          },
          "metadata": {},
          "execution_count": 36
        }
      ],
      "source": [
        "Merged_Movie_df.columns"
      ]
    },
    {
      "cell_type": "code",
      "execution_count": 37,
      "metadata": {
        "id": "04-nD6meTnX5"
      },
      "outputs": [],
      "source": [
        "# Transform Production_Budget column to scale for the model\n",
        "Merged_Movie_df['Production_Budget'] =  Merged_Movie_df['Production_Budget']/1000000\n",
        "# Transform Domestic_Gross column to scale for the model\n",
        "Merged_Movie_df['Domestic_Gross'] = Merged_Movie_df['Domestic_Gross']/1000000\n",
        "# Transform Worldwide_Gross column to scale for the model\n",
        "Merged_Movie_df['Worldwide_Gross'] = Merged_Movie_df['Worldwide_Gross']/1000000\n",
        "# Transform budget column to scale for the model\n",
        "Merged_Movie_df['budget'] = Merged_Movie_df['budget']/1000000\n",
        "# Transform gross column to scale for the model\n",
        "Merged_Movie_df['gross'] = Merged_Movie_df['gross']/1000000\n",
        "# Transform votes column to scale for the model\n",
        "Merged_Movie_df['votes'] = Merged_Movie_df['votes']/10000\n",
        "\n",
        "\n",
        "Merged_Movie_df.head()\n",
        "df = Merged_Movie_df.copy()\n"
      ]
    },
    {
      "cell_type": "code",
      "execution_count": 38,
      "metadata": {
        "colab": {
          "base_uri": "https://localhost:8080/",
          "height": 589
        },
        "id": "3QxGG2w6ckGy",
        "outputId": "84259dbf-a289-45cc-a2e5-109d6b162d6c"
      },
      "outputs": [
        {
          "output_type": "execute_result",
          "data": {
            "text/html": [
              "\n",
              "  <div id=\"df-af784293-1d23-4ff7-9119-0561eacfa18a\">\n",
              "    <div class=\"colab-df-container\">\n",
              "      <div>\n",
              "<style scoped>\n",
              "    .dataframe tbody tr th:only-of-type {\n",
              "        vertical-align: middle;\n",
              "    }\n",
              "\n",
              "    .dataframe tbody tr th {\n",
              "        vertical-align: top;\n",
              "    }\n",
              "\n",
              "    .dataframe thead th {\n",
              "        text-align: right;\n",
              "    }\n",
              "</style>\n",
              "<table border=\"1\" class=\"dataframe\">\n",
              "  <thead>\n",
              "    <tr style=\"text-align: right;\">\n",
              "      <th></th>\n",
              "      <th>Movie_Title</th>\n",
              "      <th>rating</th>\n",
              "      <th>genre</th>\n",
              "      <th>score</th>\n",
              "      <th>director</th>\n",
              "      <th>writer</th>\n",
              "      <th>star</th>\n",
              "      <th>company</th>\n",
              "    </tr>\n",
              "  </thead>\n",
              "  <tbody>\n",
              "    <tr>\n",
              "      <th>0</th>\n",
              "      <td>Avengers: Endgame</td>\n",
              "      <td>PG-13</td>\n",
              "      <td>Action</td>\n",
              "      <td>Favorable</td>\n",
              "      <td>Anthony Russo</td>\n",
              "      <td>Christopher Markus</td>\n",
              "      <td>Robert Downey Jr.</td>\n",
              "      <td>Marvel Studios</td>\n",
              "    </tr>\n",
              "    <tr>\n",
              "      <th>1</th>\n",
              "      <td>Avengers: Age of Ultron</td>\n",
              "      <td>PG-13</td>\n",
              "      <td>Action</td>\n",
              "      <td>Favorable</td>\n",
              "      <td>Joss Whedon</td>\n",
              "      <td>Joss Whedon</td>\n",
              "      <td>Robert Downey Jr.</td>\n",
              "      <td>Marvel Studios</td>\n",
              "    </tr>\n",
              "    <tr>\n",
              "      <th>2</th>\n",
              "      <td>Avengers: Infinity War</td>\n",
              "      <td>PG-13</td>\n",
              "      <td>Action</td>\n",
              "      <td>Favorable</td>\n",
              "      <td>Anthony Russo</td>\n",
              "      <td>Christopher Markus</td>\n",
              "      <td>Robert Downey Jr.</td>\n",
              "      <td>Marvel Studios</td>\n",
              "    </tr>\n",
              "    <tr>\n",
              "      <th>3</th>\n",
              "      <td>Justice League</td>\n",
              "      <td>PG-13</td>\n",
              "      <td>Action</td>\n",
              "      <td>Favorable</td>\n",
              "      <td>Zack Snyder</td>\n",
              "      <td>Jerry Siegel</td>\n",
              "      <td>Ben Affleck</td>\n",
              "      <td>Warner Bros.</td>\n",
              "    </tr>\n",
              "    <tr>\n",
              "      <th>4</th>\n",
              "      <td>Spectre</td>\n",
              "      <td>PG-13</td>\n",
              "      <td>Action</td>\n",
              "      <td>Favorable</td>\n",
              "      <td>Sam Mendes</td>\n",
              "      <td>John Logan</td>\n",
              "      <td>Daniel Craig</td>\n",
              "      <td>B24</td>\n",
              "    </tr>\n",
              "    <tr>\n",
              "      <th>...</th>\n",
              "      <td>...</td>\n",
              "      <td>...</td>\n",
              "      <td>...</td>\n",
              "      <td>...</td>\n",
              "      <td>...</td>\n",
              "      <td>...</td>\n",
              "      <td>...</td>\n",
              "      <td>...</td>\n",
              "    </tr>\n",
              "    <tr>\n",
              "      <th>3115</th>\n",
              "      <td>The Lost City</td>\n",
              "      <td>R</td>\n",
              "      <td>Drama</td>\n",
              "      <td>Favorable</td>\n",
              "      <td>Andy Garcia</td>\n",
              "      <td>Guillermo Cabrera Infante</td>\n",
              "      <td>Andy Garcia</td>\n",
              "      <td>Crescent Drive Pictures</td>\n",
              "    </tr>\n",
              "    <tr>\n",
              "      <th>3116</th>\n",
              "      <td>Next Friday</td>\n",
              "      <td>R</td>\n",
              "      <td>Comedy</td>\n",
              "      <td>Favorable</td>\n",
              "      <td>Steve Carr</td>\n",
              "      <td>Ice Cube</td>\n",
              "      <td>Ice Cube</td>\n",
              "      <td>New Line Cinema</td>\n",
              "    </tr>\n",
              "    <tr>\n",
              "      <th>3117</th>\n",
              "      <td>Poltergeist III</td>\n",
              "      <td>PG</td>\n",
              "      <td>Horror</td>\n",
              "      <td>Unfavorable</td>\n",
              "      <td>Gary Sherman</td>\n",
              "      <td>Gary Sherman</td>\n",
              "      <td>Heather O'Rourke</td>\n",
              "      <td>Metro-Goldwyn-Mayer (MGM)</td>\n",
              "    </tr>\n",
              "    <tr>\n",
              "      <th>3119</th>\n",
              "      <td>The Runaways</td>\n",
              "      <td>R</td>\n",
              "      <td>Biography</td>\n",
              "      <td>Favorable</td>\n",
              "      <td>Floria Sigismondi</td>\n",
              "      <td>Floria Sigismondi</td>\n",
              "      <td>Kristen Stewart</td>\n",
              "      <td>River Road Entertainment</td>\n",
              "    </tr>\n",
              "    <tr>\n",
              "      <th>3120</th>\n",
              "      <td>Gentlemen Broncos</td>\n",
              "      <td>PG-13</td>\n",
              "      <td>Adventure</td>\n",
              "      <td>Favorable</td>\n",
              "      <td>Jared Hess</td>\n",
              "      <td>Jared Hess</td>\n",
              "      <td>Michael Angarano</td>\n",
              "      <td>Bronco Productions</td>\n",
              "    </tr>\n",
              "  </tbody>\n",
              "</table>\n",
              "<p>2847 rows × 8 columns</p>\n",
              "</div>\n",
              "      <button class=\"colab-df-convert\" onclick=\"convertToInteractive('df-af784293-1d23-4ff7-9119-0561eacfa18a')\"\n",
              "              title=\"Convert this dataframe to an interactive table.\"\n",
              "              style=\"display:none;\">\n",
              "        \n",
              "  <svg xmlns=\"http://www.w3.org/2000/svg\" height=\"24px\"viewBox=\"0 0 24 24\"\n",
              "       width=\"24px\">\n",
              "    <path d=\"M0 0h24v24H0V0z\" fill=\"none\"/>\n",
              "    <path d=\"M18.56 5.44l.94 2.06.94-2.06 2.06-.94-2.06-.94-.94-2.06-.94 2.06-2.06.94zm-11 1L8.5 8.5l.94-2.06 2.06-.94-2.06-.94L8.5 2.5l-.94 2.06-2.06.94zm10 10l.94 2.06.94-2.06 2.06-.94-2.06-.94-.94-2.06-.94 2.06-2.06.94z\"/><path d=\"M17.41 7.96l-1.37-1.37c-.4-.4-.92-.59-1.43-.59-.52 0-1.04.2-1.43.59L10.3 9.45l-7.72 7.72c-.78.78-.78 2.05 0 2.83L4 21.41c.39.39.9.59 1.41.59.51 0 1.02-.2 1.41-.59l7.78-7.78 2.81-2.81c.8-.78.8-2.07 0-2.86zM5.41 20L4 18.59l7.72-7.72 1.47 1.35L5.41 20z\"/>\n",
              "  </svg>\n",
              "      </button>\n",
              "      \n",
              "  <style>\n",
              "    .colab-df-container {\n",
              "      display:flex;\n",
              "      flex-wrap:wrap;\n",
              "      gap: 12px;\n",
              "    }\n",
              "\n",
              "    .colab-df-convert {\n",
              "      background-color: #E8F0FE;\n",
              "      border: none;\n",
              "      border-radius: 50%;\n",
              "      cursor: pointer;\n",
              "      display: none;\n",
              "      fill: #1967D2;\n",
              "      height: 32px;\n",
              "      padding: 0 0 0 0;\n",
              "      width: 32px;\n",
              "    }\n",
              "\n",
              "    .colab-df-convert:hover {\n",
              "      background-color: #E2EBFA;\n",
              "      box-shadow: 0px 1px 2px rgba(60, 64, 67, 0.3), 0px 1px 3px 1px rgba(60, 64, 67, 0.15);\n",
              "      fill: #174EA6;\n",
              "    }\n",
              "\n",
              "    [theme=dark] .colab-df-convert {\n",
              "      background-color: #3B4455;\n",
              "      fill: #D2E3FC;\n",
              "    }\n",
              "\n",
              "    [theme=dark] .colab-df-convert:hover {\n",
              "      background-color: #434B5C;\n",
              "      box-shadow: 0px 1px 3px 1px rgba(0, 0, 0, 0.15);\n",
              "      filter: drop-shadow(0px 1px 2px rgba(0, 0, 0, 0.3));\n",
              "      fill: #FFFFFF;\n",
              "    }\n",
              "  </style>\n",
              "\n",
              "      <script>\n",
              "        const buttonEl =\n",
              "          document.querySelector('#df-af784293-1d23-4ff7-9119-0561eacfa18a button.colab-df-convert');\n",
              "        buttonEl.style.display =\n",
              "          google.colab.kernel.accessAllowed ? 'block' : 'none';\n",
              "\n",
              "        async function convertToInteractive(key) {\n",
              "          const element = document.querySelector('#df-af784293-1d23-4ff7-9119-0561eacfa18a');\n",
              "          const dataTable =\n",
              "            await google.colab.kernel.invokeFunction('convertToInteractive',\n",
              "                                                     [key], {});\n",
              "          if (!dataTable) return;\n",
              "\n",
              "          const docLinkHtml = 'Like what you see? Visit the ' +\n",
              "            '<a target=\"_blank\" href=https://colab.research.google.com/notebooks/data_table.ipynb>data table notebook</a>'\n",
              "            + ' to learn more about interactive tables.';\n",
              "          element.innerHTML = '';\n",
              "          dataTable['output_type'] = 'display_data';\n",
              "          await google.colab.output.renderOutput(dataTable, element);\n",
              "          const docLink = document.createElement('div');\n",
              "          docLink.innerHTML = docLinkHtml;\n",
              "          element.appendChild(docLink);\n",
              "        }\n",
              "      </script>\n",
              "    </div>\n",
              "  </div>\n",
              "  "
            ],
            "text/plain": [
              "                  Movie_Title  ...                    company\n",
              "0           Avengers: Endgame  ...             Marvel Studios\n",
              "1     Avengers: Age of Ultron  ...             Marvel Studios\n",
              "2      Avengers: Infinity War  ...             Marvel Studios\n",
              "3              Justice League  ...               Warner Bros.\n",
              "4                     Spectre  ...                        B24\n",
              "...                       ...  ...                        ...\n",
              "3115            The Lost City  ...    Crescent Drive Pictures\n",
              "3116              Next Friday  ...            New Line Cinema\n",
              "3117          Poltergeist III  ...  Metro-Goldwyn-Mayer (MGM)\n",
              "3119             The Runaways  ...   River Road Entertainment\n",
              "3120        Gentlemen Broncos  ...         Bronco Productions\n",
              "\n",
              "[2847 rows x 8 columns]"
            ]
          },
          "metadata": {},
          "execution_count": 38
        }
      ],
      "source": [
        "# Select all of the columns with a object dtype\n",
        "Merged_Movie_df.select_dtypes(include = 'object') "
      ]
    },
    {
      "cell_type": "code",
      "execution_count": 39,
      "metadata": {
        "id": "MmtvQhIJwZYL"
      },
      "outputs": [],
      "source": [
        "from sklearn.preprocessing import LabelEncoder\n",
        "cols = ['Movie_Title', 'rating', 'genre', 'score','director','writer','star','company']"
      ]
    },
    {
      "cell_type": "code",
      "source": [
        "df2 = Merged_Movie_df.copy()\n"
      ],
      "metadata": {
        "id": "nH5CWHjEeNxC"
      },
      "execution_count": 40,
      "outputs": []
    },
    {
      "cell_type": "code",
      "execution_count": 41,
      "metadata": {
        "id": "e-B0ZP-4wLh3"
      },
      "outputs": [],
      "source": [
        "df2[cols] = df2[cols].apply(LabelEncoder().fit_transform)"
      ]
    },
    {
      "cell_type": "code",
      "execution_count": 42,
      "metadata": {
        "colab": {
          "base_uri": "https://localhost:8080/",
          "height": 487
        },
        "id": "91mF_XP7xBfm",
        "outputId": "716a116e-9bc7-4605-944d-a7170419f137"
      },
      "outputs": [
        {
          "output_type": "execute_result",
          "data": {
            "text/html": [
              "\n",
              "  <div id=\"df-593a2194-9806-4420-900a-5d0c91cde76d\">\n",
              "    <div class=\"colab-df-container\">\n",
              "      <div>\n",
              "<style scoped>\n",
              "    .dataframe tbody tr th:only-of-type {\n",
              "        vertical-align: middle;\n",
              "    }\n",
              "\n",
              "    .dataframe tbody tr th {\n",
              "        vertical-align: top;\n",
              "    }\n",
              "\n",
              "    .dataframe thead th {\n",
              "        text-align: right;\n",
              "    }\n",
              "</style>\n",
              "<table border=\"1\" class=\"dataframe\">\n",
              "  <thead>\n",
              "    <tr style=\"text-align: right;\">\n",
              "      <th></th>\n",
              "      <th>Movie_Title</th>\n",
              "      <th>Production_Budget</th>\n",
              "      <th>Domestic_Gross</th>\n",
              "      <th>Worldwide_Gross</th>\n",
              "      <th>rating</th>\n",
              "      <th>genre</th>\n",
              "      <th>year</th>\n",
              "      <th>score</th>\n",
              "      <th>votes</th>\n",
              "      <th>director</th>\n",
              "      <th>writer</th>\n",
              "      <th>star</th>\n",
              "      <th>budget</th>\n",
              "      <th>gross</th>\n",
              "      <th>company</th>\n",
              "      <th>runtime</th>\n",
              "    </tr>\n",
              "  </thead>\n",
              "  <tbody>\n",
              "    <tr>\n",
              "      <th>0</th>\n",
              "      <td>213</td>\n",
              "      <td>400.0</td>\n",
              "      <td>858.373000</td>\n",
              "      <td>2797.800564</td>\n",
              "      <td>4</td>\n",
              "      <td>0</td>\n",
              "      <td>2019</td>\n",
              "      <td>0</td>\n",
              "      <td>90.3</td>\n",
              "      <td>67</td>\n",
              "      <td>272</td>\n",
              "      <td>781</td>\n",
              "      <td>356.0</td>\n",
              "      <td>2797.501328</td>\n",
              "      <td>446</td>\n",
              "      <td>181.0</td>\n",
              "    </tr>\n",
              "    <tr>\n",
              "      <th>1</th>\n",
              "      <td>212</td>\n",
              "      <td>365.0</td>\n",
              "      <td>459.005868</td>\n",
              "      <td>1395.316979</td>\n",
              "      <td>4</td>\n",
              "      <td>0</td>\n",
              "      <td>2015</td>\n",
              "      <td>0</td>\n",
              "      <td>77.7</td>\n",
              "      <td>634</td>\n",
              "      <td>938</td>\n",
              "      <td>781</td>\n",
              "      <td>250.0</td>\n",
              "      <td>1402.809540</td>\n",
              "      <td>446</td>\n",
              "      <td>141.0</td>\n",
              "    </tr>\n",
              "    <tr>\n",
              "      <th>2</th>\n",
              "      <td>214</td>\n",
              "      <td>300.0</td>\n",
              "      <td>678.815482</td>\n",
              "      <td>2044.540523</td>\n",
              "      <td>4</td>\n",
              "      <td>0</td>\n",
              "      <td>2018</td>\n",
              "      <td>0</td>\n",
              "      <td>89.7</td>\n",
              "      <td>67</td>\n",
              "      <td>272</td>\n",
              "      <td>781</td>\n",
              "      <td>321.0</td>\n",
              "      <td>2048.359754</td>\n",
              "      <td>446</td>\n",
              "      <td>149.0</td>\n",
              "    </tr>\n",
              "    <tr>\n",
              "      <th>3</th>\n",
              "      <td>1128</td>\n",
              "      <td>300.0</td>\n",
              "      <td>229.024295</td>\n",
              "      <td>655.945209</td>\n",
              "      <td>4</td>\n",
              "      <td>0</td>\n",
              "      <td>2017</td>\n",
              "      <td>0</td>\n",
              "      <td>41.8</td>\n",
              "      <td>1210</td>\n",
              "      <td>789</td>\n",
              "      <td>80</td>\n",
              "      <td>300.0</td>\n",
              "      <td>657.926987</td>\n",
              "      <td>647</td>\n",
              "      <td>120.0</td>\n",
              "    </tr>\n",
              "    <tr>\n",
              "      <th>4</th>\n",
              "      <td>1865</td>\n",
              "      <td>300.0</td>\n",
              "      <td>200.074175</td>\n",
              "      <td>879.500760</td>\n",
              "      <td>4</td>\n",
              "      <td>0</td>\n",
              "      <td>2015</td>\n",
              "      <td>0</td>\n",
              "      <td>39.3</td>\n",
              "      <td>1008</td>\n",
              "      <td>861</td>\n",
              "      <td>206</td>\n",
              "      <td>245.0</td>\n",
              "      <td>880.681519</td>\n",
              "      <td>85</td>\n",
              "      <td>148.0</td>\n",
              "    </tr>\n",
              "    <tr>\n",
              "      <th>...</th>\n",
              "      <td>...</td>\n",
              "      <td>...</td>\n",
              "      <td>...</td>\n",
              "      <td>...</td>\n",
              "      <td>...</td>\n",
              "      <td>...</td>\n",
              "      <td>...</td>\n",
              "      <td>...</td>\n",
              "      <td>...</td>\n",
              "      <td>...</td>\n",
              "      <td>...</td>\n",
              "      <td>...</td>\n",
              "      <td>...</td>\n",
              "      <td>...</td>\n",
              "      <td>...</td>\n",
              "      <td>...</td>\n",
              "    </tr>\n",
              "    <tr>\n",
              "      <th>117</th>\n",
              "      <td>2697</td>\n",
              "      <td>175.0</td>\n",
              "      <td>293.004164</td>\n",
              "      <td>731.463377</td>\n",
              "      <td>3</td>\n",
              "      <td>2</td>\n",
              "      <td>2009</td>\n",
              "      <td>0</td>\n",
              "      <td>96.2</td>\n",
              "      <td>874</td>\n",
              "      <td>1360</td>\n",
              "      <td>265</td>\n",
              "      <td>175.0</td>\n",
              "      <td>735.099102</td>\n",
              "      <td>515</td>\n",
              "      <td>96.0</td>\n",
              "    </tr>\n",
              "    <tr>\n",
              "      <th>118</th>\n",
              "      <td>469</td>\n",
              "      <td>175.0</td>\n",
              "      <td>210.460015</td>\n",
              "      <td>797.666425</td>\n",
              "      <td>3</td>\n",
              "      <td>2</td>\n",
              "      <td>2017</td>\n",
              "      <td>0</td>\n",
              "      <td>41.7</td>\n",
              "      <td>695</td>\n",
              "      <td>1050</td>\n",
              "      <td>64</td>\n",
              "      <td>175.0</td>\n",
              "      <td>807.817888</td>\n",
              "      <td>644</td>\n",
              "      <td>105.0</td>\n",
              "    </tr>\n",
              "    <tr>\n",
              "      <th>119</th>\n",
              "      <td>1369</td>\n",
              "      <td>175.0</td>\n",
              "      <td>198.351526</td>\n",
              "      <td>381.687380</td>\n",
              "      <td>3</td>\n",
              "      <td>2</td>\n",
              "      <td>2009</td>\n",
              "      <td>0</td>\n",
              "      <td>15.1</td>\n",
              "      <td>954</td>\n",
              "      <td>1168</td>\n",
              "      <td>764</td>\n",
              "      <td>175.0</td>\n",
              "      <td>381.509870</td>\n",
              "      <td>252</td>\n",
              "      <td>94.0</td>\n",
              "    </tr>\n",
              "    <tr>\n",
              "      <th>120</th>\n",
              "      <td>406</td>\n",
              "      <td>175.0</td>\n",
              "      <td>152.901115</td>\n",
              "      <td>383.541369</td>\n",
              "      <td>0</td>\n",
              "      <td>2</td>\n",
              "      <td>2017</td>\n",
              "      <td>0</td>\n",
              "      <td>8.2</td>\n",
              "      <td>131</td>\n",
              "      <td>185</td>\n",
              "      <td>722</td>\n",
              "      <td>175.0</td>\n",
              "      <td>383.930656</td>\n",
              "      <td>515</td>\n",
              "      <td>102.0</td>\n",
              "    </tr>\n",
              "    <tr>\n",
              "      <th>121</th>\n",
              "      <td>812</td>\n",
              "      <td>175.0</td>\n",
              "      <td>150.201498</td>\n",
              "      <td>302.469017</td>\n",
              "      <td>4</td>\n",
              "      <td>0</td>\n",
              "      <td>2009</td>\n",
              "      <td>1</td>\n",
              "      <td>20.2</td>\n",
              "      <td>1064</td>\n",
              "      <td>1661</td>\n",
              "      <td>235</td>\n",
              "      <td>175.0</td>\n",
              "      <td>302.469017</td>\n",
              "      <td>500</td>\n",
              "      <td>118.0</td>\n",
              "    </tr>\n",
              "  </tbody>\n",
              "</table>\n",
              "<p>100 rows × 16 columns</p>\n",
              "</div>\n",
              "      <button class=\"colab-df-convert\" onclick=\"convertToInteractive('df-593a2194-9806-4420-900a-5d0c91cde76d')\"\n",
              "              title=\"Convert this dataframe to an interactive table.\"\n",
              "              style=\"display:none;\">\n",
              "        \n",
              "  <svg xmlns=\"http://www.w3.org/2000/svg\" height=\"24px\"viewBox=\"0 0 24 24\"\n",
              "       width=\"24px\">\n",
              "    <path d=\"M0 0h24v24H0V0z\" fill=\"none\"/>\n",
              "    <path d=\"M18.56 5.44l.94 2.06.94-2.06 2.06-.94-2.06-.94-.94-2.06-.94 2.06-2.06.94zm-11 1L8.5 8.5l.94-2.06 2.06-.94-2.06-.94L8.5 2.5l-.94 2.06-2.06.94zm10 10l.94 2.06.94-2.06 2.06-.94-2.06-.94-.94-2.06-.94 2.06-2.06.94z\"/><path d=\"M17.41 7.96l-1.37-1.37c-.4-.4-.92-.59-1.43-.59-.52 0-1.04.2-1.43.59L10.3 9.45l-7.72 7.72c-.78.78-.78 2.05 0 2.83L4 21.41c.39.39.9.59 1.41.59.51 0 1.02-.2 1.41-.59l7.78-7.78 2.81-2.81c.8-.78.8-2.07 0-2.86zM5.41 20L4 18.59l7.72-7.72 1.47 1.35L5.41 20z\"/>\n",
              "  </svg>\n",
              "      </button>\n",
              "      \n",
              "  <style>\n",
              "    .colab-df-container {\n",
              "      display:flex;\n",
              "      flex-wrap:wrap;\n",
              "      gap: 12px;\n",
              "    }\n",
              "\n",
              "    .colab-df-convert {\n",
              "      background-color: #E8F0FE;\n",
              "      border: none;\n",
              "      border-radius: 50%;\n",
              "      cursor: pointer;\n",
              "      display: none;\n",
              "      fill: #1967D2;\n",
              "      height: 32px;\n",
              "      padding: 0 0 0 0;\n",
              "      width: 32px;\n",
              "    }\n",
              "\n",
              "    .colab-df-convert:hover {\n",
              "      background-color: #E2EBFA;\n",
              "      box-shadow: 0px 1px 2px rgba(60, 64, 67, 0.3), 0px 1px 3px 1px rgba(60, 64, 67, 0.15);\n",
              "      fill: #174EA6;\n",
              "    }\n",
              "\n",
              "    [theme=dark] .colab-df-convert {\n",
              "      background-color: #3B4455;\n",
              "      fill: #D2E3FC;\n",
              "    }\n",
              "\n",
              "    [theme=dark] .colab-df-convert:hover {\n",
              "      background-color: #434B5C;\n",
              "      box-shadow: 0px 1px 3px 1px rgba(0, 0, 0, 0.15);\n",
              "      filter: drop-shadow(0px 1px 2px rgba(0, 0, 0, 0.3));\n",
              "      fill: #FFFFFF;\n",
              "    }\n",
              "  </style>\n",
              "\n",
              "      <script>\n",
              "        const buttonEl =\n",
              "          document.querySelector('#df-593a2194-9806-4420-900a-5d0c91cde76d button.colab-df-convert');\n",
              "        buttonEl.style.display =\n",
              "          google.colab.kernel.accessAllowed ? 'block' : 'none';\n",
              "\n",
              "        async function convertToInteractive(key) {\n",
              "          const element = document.querySelector('#df-593a2194-9806-4420-900a-5d0c91cde76d');\n",
              "          const dataTable =\n",
              "            await google.colab.kernel.invokeFunction('convertToInteractive',\n",
              "                                                     [key], {});\n",
              "          if (!dataTable) return;\n",
              "\n",
              "          const docLinkHtml = 'Like what you see? Visit the ' +\n",
              "            '<a target=\"_blank\" href=https://colab.research.google.com/notebooks/data_table.ipynb>data table notebook</a>'\n",
              "            + ' to learn more about interactive tables.';\n",
              "          element.innerHTML = '';\n",
              "          dataTable['output_type'] = 'display_data';\n",
              "          await google.colab.output.renderOutput(dataTable, element);\n",
              "          const docLink = document.createElement('div');\n",
              "          docLink.innerHTML = docLinkHtml;\n",
              "          element.appendChild(docLink);\n",
              "        }\n",
              "      </script>\n",
              "    </div>\n",
              "  </div>\n",
              "  "
            ],
            "text/plain": [
              "     Movie_Title  Production_Budget  ...  company  runtime\n",
              "0            213              400.0  ...      446    181.0\n",
              "1            212              365.0  ...      446    141.0\n",
              "2            214              300.0  ...      446    149.0\n",
              "3           1128              300.0  ...      647    120.0\n",
              "4           1865              300.0  ...       85    148.0\n",
              "..           ...                ...  ...      ...      ...\n",
              "117         2697              175.0  ...      515     96.0\n",
              "118          469              175.0  ...      644    105.0\n",
              "119         1369              175.0  ...      252     94.0\n",
              "120          406              175.0  ...      515    102.0\n",
              "121          812              175.0  ...      500    118.0\n",
              "\n",
              "[100 rows x 16 columns]"
            ]
          },
          "metadata": {},
          "execution_count": 42
        }
      ],
      "source": [
        "df2.head(100)"
      ]
    },
    {
      "cell_type": "code",
      "execution_count": 43,
      "metadata": {
        "colab": {
          "base_uri": "https://localhost:8080/",
          "height": 270
        },
        "id": "w56oOz-zz-x5",
        "outputId": "32ecfee3-4aab-42e6-beac-2157924484fb"
      },
      "outputs": [
        {
          "output_type": "execute_result",
          "data": {
            "text/html": [
              "\n",
              "  <div id=\"df-cf983b3d-ffdf-495f-8201-c33e68bfc81d\">\n",
              "    <div class=\"colab-df-container\">\n",
              "      <div>\n",
              "<style scoped>\n",
              "    .dataframe tbody tr th:only-of-type {\n",
              "        vertical-align: middle;\n",
              "    }\n",
              "\n",
              "    .dataframe tbody tr th {\n",
              "        vertical-align: top;\n",
              "    }\n",
              "\n",
              "    .dataframe thead th {\n",
              "        text-align: right;\n",
              "    }\n",
              "</style>\n",
              "<table border=\"1\" class=\"dataframe\">\n",
              "  <thead>\n",
              "    <tr style=\"text-align: right;\">\n",
              "      <th></th>\n",
              "      <th>Movie_Title</th>\n",
              "      <th>Production_Budget</th>\n",
              "      <th>Domestic_Gross</th>\n",
              "      <th>Worldwide_Gross</th>\n",
              "      <th>rating</th>\n",
              "      <th>genre</th>\n",
              "      <th>year</th>\n",
              "      <th>votes</th>\n",
              "      <th>director</th>\n",
              "      <th>writer</th>\n",
              "      <th>star</th>\n",
              "      <th>budget</th>\n",
              "      <th>gross</th>\n",
              "      <th>company</th>\n",
              "      <th>runtime</th>\n",
              "    </tr>\n",
              "  </thead>\n",
              "  <tbody>\n",
              "    <tr>\n",
              "      <th>0</th>\n",
              "      <td>213</td>\n",
              "      <td>400.0</td>\n",
              "      <td>858.373000</td>\n",
              "      <td>2797.800564</td>\n",
              "      <td>4</td>\n",
              "      <td>0</td>\n",
              "      <td>2019</td>\n",
              "      <td>90.3</td>\n",
              "      <td>67</td>\n",
              "      <td>272</td>\n",
              "      <td>781</td>\n",
              "      <td>356.0</td>\n",
              "      <td>2797.501328</td>\n",
              "      <td>446</td>\n",
              "      <td>181.0</td>\n",
              "    </tr>\n",
              "    <tr>\n",
              "      <th>1</th>\n",
              "      <td>212</td>\n",
              "      <td>365.0</td>\n",
              "      <td>459.005868</td>\n",
              "      <td>1395.316979</td>\n",
              "      <td>4</td>\n",
              "      <td>0</td>\n",
              "      <td>2015</td>\n",
              "      <td>77.7</td>\n",
              "      <td>634</td>\n",
              "      <td>938</td>\n",
              "      <td>781</td>\n",
              "      <td>250.0</td>\n",
              "      <td>1402.809540</td>\n",
              "      <td>446</td>\n",
              "      <td>141.0</td>\n",
              "    </tr>\n",
              "    <tr>\n",
              "      <th>2</th>\n",
              "      <td>214</td>\n",
              "      <td>300.0</td>\n",
              "      <td>678.815482</td>\n",
              "      <td>2044.540523</td>\n",
              "      <td>4</td>\n",
              "      <td>0</td>\n",
              "      <td>2018</td>\n",
              "      <td>89.7</td>\n",
              "      <td>67</td>\n",
              "      <td>272</td>\n",
              "      <td>781</td>\n",
              "      <td>321.0</td>\n",
              "      <td>2048.359754</td>\n",
              "      <td>446</td>\n",
              "      <td>149.0</td>\n",
              "    </tr>\n",
              "    <tr>\n",
              "      <th>3</th>\n",
              "      <td>1128</td>\n",
              "      <td>300.0</td>\n",
              "      <td>229.024295</td>\n",
              "      <td>655.945209</td>\n",
              "      <td>4</td>\n",
              "      <td>0</td>\n",
              "      <td>2017</td>\n",
              "      <td>41.8</td>\n",
              "      <td>1210</td>\n",
              "      <td>789</td>\n",
              "      <td>80</td>\n",
              "      <td>300.0</td>\n",
              "      <td>657.926987</td>\n",
              "      <td>647</td>\n",
              "      <td>120.0</td>\n",
              "    </tr>\n",
              "    <tr>\n",
              "      <th>4</th>\n",
              "      <td>1865</td>\n",
              "      <td>300.0</td>\n",
              "      <td>200.074175</td>\n",
              "      <td>879.500760</td>\n",
              "      <td>4</td>\n",
              "      <td>0</td>\n",
              "      <td>2015</td>\n",
              "      <td>39.3</td>\n",
              "      <td>1008</td>\n",
              "      <td>861</td>\n",
              "      <td>206</td>\n",
              "      <td>245.0</td>\n",
              "      <td>880.681519</td>\n",
              "      <td>85</td>\n",
              "      <td>148.0</td>\n",
              "    </tr>\n",
              "  </tbody>\n",
              "</table>\n",
              "</div>\n",
              "      <button class=\"colab-df-convert\" onclick=\"convertToInteractive('df-cf983b3d-ffdf-495f-8201-c33e68bfc81d')\"\n",
              "              title=\"Convert this dataframe to an interactive table.\"\n",
              "              style=\"display:none;\">\n",
              "        \n",
              "  <svg xmlns=\"http://www.w3.org/2000/svg\" height=\"24px\"viewBox=\"0 0 24 24\"\n",
              "       width=\"24px\">\n",
              "    <path d=\"M0 0h24v24H0V0z\" fill=\"none\"/>\n",
              "    <path d=\"M18.56 5.44l.94 2.06.94-2.06 2.06-.94-2.06-.94-.94-2.06-.94 2.06-2.06.94zm-11 1L8.5 8.5l.94-2.06 2.06-.94-2.06-.94L8.5 2.5l-.94 2.06-2.06.94zm10 10l.94 2.06.94-2.06 2.06-.94-2.06-.94-.94-2.06-.94 2.06-2.06.94z\"/><path d=\"M17.41 7.96l-1.37-1.37c-.4-.4-.92-.59-1.43-.59-.52 0-1.04.2-1.43.59L10.3 9.45l-7.72 7.72c-.78.78-.78 2.05 0 2.83L4 21.41c.39.39.9.59 1.41.59.51 0 1.02-.2 1.41-.59l7.78-7.78 2.81-2.81c.8-.78.8-2.07 0-2.86zM5.41 20L4 18.59l7.72-7.72 1.47 1.35L5.41 20z\"/>\n",
              "  </svg>\n",
              "      </button>\n",
              "      \n",
              "  <style>\n",
              "    .colab-df-container {\n",
              "      display:flex;\n",
              "      flex-wrap:wrap;\n",
              "      gap: 12px;\n",
              "    }\n",
              "\n",
              "    .colab-df-convert {\n",
              "      background-color: #E8F0FE;\n",
              "      border: none;\n",
              "      border-radius: 50%;\n",
              "      cursor: pointer;\n",
              "      display: none;\n",
              "      fill: #1967D2;\n",
              "      height: 32px;\n",
              "      padding: 0 0 0 0;\n",
              "      width: 32px;\n",
              "    }\n",
              "\n",
              "    .colab-df-convert:hover {\n",
              "      background-color: #E2EBFA;\n",
              "      box-shadow: 0px 1px 2px rgba(60, 64, 67, 0.3), 0px 1px 3px 1px rgba(60, 64, 67, 0.15);\n",
              "      fill: #174EA6;\n",
              "    }\n",
              "\n",
              "    [theme=dark] .colab-df-convert {\n",
              "      background-color: #3B4455;\n",
              "      fill: #D2E3FC;\n",
              "    }\n",
              "\n",
              "    [theme=dark] .colab-df-convert:hover {\n",
              "      background-color: #434B5C;\n",
              "      box-shadow: 0px 1px 3px 1px rgba(0, 0, 0, 0.15);\n",
              "      filter: drop-shadow(0px 1px 2px rgba(0, 0, 0, 0.3));\n",
              "      fill: #FFFFFF;\n",
              "    }\n",
              "  </style>\n",
              "\n",
              "      <script>\n",
              "        const buttonEl =\n",
              "          document.querySelector('#df-cf983b3d-ffdf-495f-8201-c33e68bfc81d button.colab-df-convert');\n",
              "        buttonEl.style.display =\n",
              "          google.colab.kernel.accessAllowed ? 'block' : 'none';\n",
              "\n",
              "        async function convertToInteractive(key) {\n",
              "          const element = document.querySelector('#df-cf983b3d-ffdf-495f-8201-c33e68bfc81d');\n",
              "          const dataTable =\n",
              "            await google.colab.kernel.invokeFunction('convertToInteractive',\n",
              "                                                     [key], {});\n",
              "          if (!dataTable) return;\n",
              "\n",
              "          const docLinkHtml = 'Like what you see? Visit the ' +\n",
              "            '<a target=\"_blank\" href=https://colab.research.google.com/notebooks/data_table.ipynb>data table notebook</a>'\n",
              "            + ' to learn more about interactive tables.';\n",
              "          element.innerHTML = '';\n",
              "          dataTable['output_type'] = 'display_data';\n",
              "          await google.colab.output.renderOutput(dataTable, element);\n",
              "          const docLink = document.createElement('div');\n",
              "          docLink.innerHTML = docLinkHtml;\n",
              "          element.appendChild(docLink);\n",
              "        }\n",
              "      </script>\n",
              "    </div>\n",
              "  </div>\n",
              "  "
            ],
            "text/plain": [
              "   Movie_Title  Production_Budget  ...  company  runtime\n",
              "0          213              400.0  ...      446    181.0\n",
              "1          212              365.0  ...      446    141.0\n",
              "2          214              300.0  ...      446    149.0\n",
              "3         1128              300.0  ...      647    120.0\n",
              "4         1865              300.0  ...       85    148.0\n",
              "\n",
              "[5 rows x 15 columns]"
            ]
          },
          "metadata": {},
          "execution_count": 43
        }
      ],
      "source": [
        "X =df2.copy()\n",
        "X = X.drop(\"score\", axis=1)\n",
        "X.head()"
      ]
    },
    {
      "cell_type": "code",
      "execution_count": 44,
      "metadata": {
        "colab": {
          "base_uri": "https://localhost:8080/",
          "height": 364
        },
        "id": "D282P_FZAiIk",
        "outputId": "ffaf78d1-d98a-498a-ff8c-1e7fb5ad5e1f"
      },
      "outputs": [
        {
          "output_type": "execute_result",
          "data": {
            "text/html": [
              "\n",
              "  <div id=\"df-5f625919-e95e-4af6-83a9-85204cc16a8e\">\n",
              "    <div class=\"colab-df-container\">\n",
              "      <div>\n",
              "<style scoped>\n",
              "    .dataframe tbody tr th:only-of-type {\n",
              "        vertical-align: middle;\n",
              "    }\n",
              "\n",
              "    .dataframe tbody tr th {\n",
              "        vertical-align: top;\n",
              "    }\n",
              "\n",
              "    .dataframe thead th {\n",
              "        text-align: right;\n",
              "    }\n",
              "</style>\n",
              "<table border=\"1\" class=\"dataframe\">\n",
              "  <thead>\n",
              "    <tr style=\"text-align: right;\">\n",
              "      <th></th>\n",
              "      <th>Movie_Title</th>\n",
              "      <th>Production_Budget</th>\n",
              "      <th>Domestic_Gross</th>\n",
              "      <th>Worldwide_Gross</th>\n",
              "      <th>rating</th>\n",
              "      <th>genre</th>\n",
              "      <th>year</th>\n",
              "      <th>votes</th>\n",
              "      <th>director</th>\n",
              "      <th>writer</th>\n",
              "      <th>star</th>\n",
              "      <th>budget</th>\n",
              "      <th>gross</th>\n",
              "      <th>company</th>\n",
              "      <th>runtime</th>\n",
              "    </tr>\n",
              "  </thead>\n",
              "  <tbody>\n",
              "    <tr>\n",
              "      <th>count</th>\n",
              "      <td>2847.000000</td>\n",
              "      <td>2847.000000</td>\n",
              "      <td>2847.000000</td>\n",
              "      <td>2847.000000</td>\n",
              "      <td>2847.000000</td>\n",
              "      <td>2847.000000</td>\n",
              "      <td>2847.000000</td>\n",
              "      <td>2847.000000</td>\n",
              "      <td>2847.000000</td>\n",
              "      <td>2847.000000</td>\n",
              "      <td>2847.000000</td>\n",
              "      <td>2847.000000</td>\n",
              "      <td>2847.000000</td>\n",
              "      <td>2847.000000</td>\n",
              "      <td>2847.000000</td>\n",
              "    </tr>\n",
              "    <tr>\n",
              "      <th>mean</th>\n",
              "      <td>1423.000000</td>\n",
              "      <td>51.219344</td>\n",
              "      <td>67.207863</td>\n",
              "      <td>150.958675</td>\n",
              "      <td>4.153495</td>\n",
              "      <td>2.868282</td>\n",
              "      <td>2004.902705</td>\n",
              "      <td>15.813076</td>\n",
              "      <td>628.132069</td>\n",
              "      <td>926.392343</td>\n",
              "      <td>484.300316</td>\n",
              "      <td>50.492763</td>\n",
              "      <td>148.316675</td>\n",
              "      <td>429.103267</td>\n",
              "      <td>111.178785</td>\n",
              "    </tr>\n",
              "    <tr>\n",
              "      <th>std</th>\n",
              "      <td>822.002433</td>\n",
              "      <td>46.665164</td>\n",
              "      <td>80.490857</td>\n",
              "      <td>221.120538</td>\n",
              "      <td>0.955055</td>\n",
              "      <td>2.570824</td>\n",
              "      <td>8.871299</td>\n",
              "      <td>21.317062</td>\n",
              "      <td>353.805558</td>\n",
              "      <td>526.604155</td>\n",
              "      <td>279.815665</td>\n",
              "      <td>45.413140</td>\n",
              "      <td>216.714584</td>\n",
              "      <td>188.703143</td>\n",
              "      <td>19.369090</td>\n",
              "    </tr>\n",
              "    <tr>\n",
              "      <th>min</th>\n",
              "      <td>0.000000</td>\n",
              "      <td>9.500000</td>\n",
              "      <td>0.000000</td>\n",
              "      <td>0.000000</td>\n",
              "      <td>0.000000</td>\n",
              "      <td>0.000000</td>\n",
              "      <td>1980.000000</td>\n",
              "      <td>0.024300</td>\n",
              "      <td>0.000000</td>\n",
              "      <td>0.000000</td>\n",
              "      <td>0.000000</td>\n",
              "      <td>0.550000</td>\n",
              "      <td>0.040397</td>\n",
              "      <td>0.000000</td>\n",
              "      <td>63.000000</td>\n",
              "    </tr>\n",
              "    <tr>\n",
              "      <th>25%</th>\n",
              "      <td>711.500000</td>\n",
              "      <td>20.000000</td>\n",
              "      <td>18.804358</td>\n",
              "      <td>29.937034</td>\n",
              "      <td>4.000000</td>\n",
              "      <td>0.000000</td>\n",
              "      <td>1999.000000</td>\n",
              "      <td>3.900000</td>\n",
              "      <td>317.500000</td>\n",
              "      <td>477.500000</td>\n",
              "      <td>240.500000</td>\n",
              "      <td>20.000000</td>\n",
              "      <td>29.373319</td>\n",
              "      <td>253.000000</td>\n",
              "      <td>97.000000</td>\n",
              "    </tr>\n",
              "    <tr>\n",
              "      <th>50%</th>\n",
              "      <td>1423.000000</td>\n",
              "      <td>35.000000</td>\n",
              "      <td>41.523271</td>\n",
              "      <td>74.180745</td>\n",
              "      <td>4.000000</td>\n",
              "      <td>3.000000</td>\n",
              "      <td>2006.000000</td>\n",
              "      <td>8.700000</td>\n",
              "      <td>646.000000</td>\n",
              "      <td>921.000000</td>\n",
              "      <td>481.000000</td>\n",
              "      <td>35.000000</td>\n",
              "      <td>74.005691</td>\n",
              "      <td>476.000000</td>\n",
              "      <td>108.000000</td>\n",
              "    </tr>\n",
              "    <tr>\n",
              "      <th>75%</th>\n",
              "      <td>2134.500000</td>\n",
              "      <td>65.000000</td>\n",
              "      <td>82.257359</td>\n",
              "      <td>176.933261</td>\n",
              "      <td>5.000000</td>\n",
              "      <td>4.000000</td>\n",
              "      <td>2012.000000</td>\n",
              "      <td>19.150000</td>\n",
              "      <td>948.000000</td>\n",
              "      <td>1386.500000</td>\n",
              "      <td>723.500000</td>\n",
              "      <td>65.000000</td>\n",
              "      <td>174.202867</td>\n",
              "      <td>622.000000</td>\n",
              "      <td>122.000000</td>\n",
              "    </tr>\n",
              "    <tr>\n",
              "      <th>max</th>\n",
              "      <td>2846.000000</td>\n",
              "      <td>400.000000</td>\n",
              "      <td>858.373000</td>\n",
              "      <td>2845.899541</td>\n",
              "      <td>6.000000</td>\n",
              "      <td>13.000000</td>\n",
              "      <td>2020.000000</td>\n",
              "      <td>240.000000</td>\n",
              "      <td>1211.000000</td>\n",
              "      <td>1826.000000</td>\n",
              "      <td>965.000000</td>\n",
              "      <td>356.000000</td>\n",
              "      <td>2847.246203</td>\n",
              "      <td>664.000000</td>\n",
              "      <td>271.000000</td>\n",
              "    </tr>\n",
              "  </tbody>\n",
              "</table>\n",
              "</div>\n",
              "      <button class=\"colab-df-convert\" onclick=\"convertToInteractive('df-5f625919-e95e-4af6-83a9-85204cc16a8e')\"\n",
              "              title=\"Convert this dataframe to an interactive table.\"\n",
              "              style=\"display:none;\">\n",
              "        \n",
              "  <svg xmlns=\"http://www.w3.org/2000/svg\" height=\"24px\"viewBox=\"0 0 24 24\"\n",
              "       width=\"24px\">\n",
              "    <path d=\"M0 0h24v24H0V0z\" fill=\"none\"/>\n",
              "    <path d=\"M18.56 5.44l.94 2.06.94-2.06 2.06-.94-2.06-.94-.94-2.06-.94 2.06-2.06.94zm-11 1L8.5 8.5l.94-2.06 2.06-.94-2.06-.94L8.5 2.5l-.94 2.06-2.06.94zm10 10l.94 2.06.94-2.06 2.06-.94-2.06-.94-.94-2.06-.94 2.06-2.06.94z\"/><path d=\"M17.41 7.96l-1.37-1.37c-.4-.4-.92-.59-1.43-.59-.52 0-1.04.2-1.43.59L10.3 9.45l-7.72 7.72c-.78.78-.78 2.05 0 2.83L4 21.41c.39.39.9.59 1.41.59.51 0 1.02-.2 1.41-.59l7.78-7.78 2.81-2.81c.8-.78.8-2.07 0-2.86zM5.41 20L4 18.59l7.72-7.72 1.47 1.35L5.41 20z\"/>\n",
              "  </svg>\n",
              "      </button>\n",
              "      \n",
              "  <style>\n",
              "    .colab-df-container {\n",
              "      display:flex;\n",
              "      flex-wrap:wrap;\n",
              "      gap: 12px;\n",
              "    }\n",
              "\n",
              "    .colab-df-convert {\n",
              "      background-color: #E8F0FE;\n",
              "      border: none;\n",
              "      border-radius: 50%;\n",
              "      cursor: pointer;\n",
              "      display: none;\n",
              "      fill: #1967D2;\n",
              "      height: 32px;\n",
              "      padding: 0 0 0 0;\n",
              "      width: 32px;\n",
              "    }\n",
              "\n",
              "    .colab-df-convert:hover {\n",
              "      background-color: #E2EBFA;\n",
              "      box-shadow: 0px 1px 2px rgba(60, 64, 67, 0.3), 0px 1px 3px 1px rgba(60, 64, 67, 0.15);\n",
              "      fill: #174EA6;\n",
              "    }\n",
              "\n",
              "    [theme=dark] .colab-df-convert {\n",
              "      background-color: #3B4455;\n",
              "      fill: #D2E3FC;\n",
              "    }\n",
              "\n",
              "    [theme=dark] .colab-df-convert:hover {\n",
              "      background-color: #434B5C;\n",
              "      box-shadow: 0px 1px 3px 1px rgba(0, 0, 0, 0.15);\n",
              "      filter: drop-shadow(0px 1px 2px rgba(0, 0, 0, 0.3));\n",
              "      fill: #FFFFFF;\n",
              "    }\n",
              "  </style>\n",
              "\n",
              "      <script>\n",
              "        const buttonEl =\n",
              "          document.querySelector('#df-5f625919-e95e-4af6-83a9-85204cc16a8e button.colab-df-convert');\n",
              "        buttonEl.style.display =\n",
              "          google.colab.kernel.accessAllowed ? 'block' : 'none';\n",
              "\n",
              "        async function convertToInteractive(key) {\n",
              "          const element = document.querySelector('#df-5f625919-e95e-4af6-83a9-85204cc16a8e');\n",
              "          const dataTable =\n",
              "            await google.colab.kernel.invokeFunction('convertToInteractive',\n",
              "                                                     [key], {});\n",
              "          if (!dataTable) return;\n",
              "\n",
              "          const docLinkHtml = 'Like what you see? Visit the ' +\n",
              "            '<a target=\"_blank\" href=https://colab.research.google.com/notebooks/data_table.ipynb>data table notebook</a>'\n",
              "            + ' to learn more about interactive tables.';\n",
              "          element.innerHTML = '';\n",
              "          dataTable['output_type'] = 'display_data';\n",
              "          await google.colab.output.renderOutput(dataTable, element);\n",
              "          const docLink = document.createElement('div');\n",
              "          docLink.innerHTML = docLinkHtml;\n",
              "          element.appendChild(docLink);\n",
              "        }\n",
              "      </script>\n",
              "    </div>\n",
              "  </div>\n",
              "  "
            ],
            "text/plain": [
              "       Movie_Title  Production_Budget  ...      company      runtime\n",
              "count  2847.000000        2847.000000  ...  2847.000000  2847.000000\n",
              "mean   1423.000000          51.219344  ...   429.103267   111.178785\n",
              "std     822.002433          46.665164  ...   188.703143    19.369090\n",
              "min       0.000000           9.500000  ...     0.000000    63.000000\n",
              "25%     711.500000          20.000000  ...   253.000000    97.000000\n",
              "50%    1423.000000          35.000000  ...   476.000000   108.000000\n",
              "75%    2134.500000          65.000000  ...   622.000000   122.000000\n",
              "max    2846.000000         400.000000  ...   664.000000   271.000000\n",
              "\n",
              "[8 rows x 15 columns]"
            ]
          },
          "metadata": {},
          "execution_count": 44
        }
      ],
      "source": [
        "X.describe()"
      ]
    },
    {
      "cell_type": "code",
      "execution_count": 45,
      "metadata": {
        "colab": {
          "base_uri": "https://localhost:8080/"
        },
        "id": "GAJasUQhdTYo",
        "outputId": "9dd54907-12bc-4c9b-d1b6-1b5062dace2b"
      },
      "outputs": [
        {
          "output_type": "execute_result",
          "data": {
            "text/plain": [
              "0    0\n",
              "1    0\n",
              "2    0\n",
              "3    0\n",
              "4    0\n",
              "Name: score, dtype: int64"
            ]
          },
          "metadata": {},
          "execution_count": 45
        }
      ],
      "source": [
        "# Define target vector\n",
        "y = df2[\"score\"]\n",
        "y.head()"
      ]
    },
    {
      "cell_type": "code",
      "source": [
        "y.describe()"
      ],
      "metadata": {
        "colab": {
          "base_uri": "https://localhost:8080/"
        },
        "id": "_bseeK0YCyNp",
        "outputId": "b1220172-5b5c-4e82-a2c7-de2f2286f83e"
      },
      "execution_count": 46,
      "outputs": [
        {
          "output_type": "execute_result",
          "data": {
            "text/plain": [
              "count    2847.000000\n",
              "mean        0.274675\n",
              "std         0.446429\n",
              "min         0.000000\n",
              "25%         0.000000\n",
              "50%         0.000000\n",
              "75%         1.000000\n",
              "max         1.000000\n",
              "Name: score, dtype: float64"
            ]
          },
          "metadata": {},
          "execution_count": 46
        }
      ]
    },
    {
      "cell_type": "code",
      "execution_count": 47,
      "metadata": {
        "colab": {
          "base_uri": "https://localhost:8080/"
        },
        "id": "HZ8cjUMUAepu",
        "outputId": "99edda29-bf11-4de7-f03e-0dfe462dcecd"
      },
      "outputs": [
        {
          "output_type": "execute_result",
          "data": {
            "text/plain": [
              "0    2065\n",
              "1     782\n",
              "Name: score, dtype: int64"
            ]
          },
          "metadata": {},
          "execution_count": 47
        }
      ],
      "source": [
        "# Check the balance of our target values\n",
        "y.value_counts()"
      ]
    },
    {
      "cell_type": "code",
      "execution_count": 48,
      "metadata": {
        "id": "rU_BG1X1okxT"
      },
      "outputs": [],
      "source": [
        "# Splitting into Train and Test sets.\n",
        "X_train, X_test, y_train, y_test = train_test_split(X, y, random_state=78)\n"
      ]
    },
    {
      "cell_type": "markdown",
      "metadata": {
        "id": "uJ2qnm6T71A8"
      },
      "source": [
        "**Fit the Decision Tree Model**"
      ]
    },
    {
      "cell_type": "code",
      "execution_count": 49,
      "metadata": {
        "id": "W1HAiPLNo2Xv"
      },
      "outputs": [],
      "source": [
        "# Creating a StandardScaler instance.\n",
        "scaler = StandardScaler()\n",
        "# Fitting the Standard Scaler with the training data.\n",
        "X_scaler = scaler.fit(X_train)\n",
        "\n",
        "# Scaling the data.\n",
        "X_train_scaled = X_scaler.transform(X_train)\n",
        "X_test_scaled = X_scaler.transform(X_test)"
      ]
    },
    {
      "cell_type": "markdown",
      "metadata": {
        "id": "yi4diF1M9C_L"
      },
      "source": [
        "Random forest\n",
        "\n",
        "* Statistical algorithm that is used to cluster points of data in functional groups. \n",
        "* The random forest algorithm is a supervised learning model; it uses labeled data to “learn” how to classify unlabeled data.\n",
        "\n",
        "\n",
        "\n"
      ]
    },
    {
      "cell_type": "markdown",
      "metadata": {
        "id": "VZCPwZdoWBnW"
      },
      "source": [
        "**Random forest algorithms are beneficial because they:**\n",
        "\n",
        "*   Are robust against overfitting as all of those weak learners are trained on different pieces of the data.\n",
        "*  Can be used to rank the importance of input variables in a natural way.\n",
        "*   Can handle thousands of input variables without variable deletion.\n",
        "*   Are robust to outliers and nonlinear data.\n",
        "*   Run efficiently on large datasets.\n",
        "\n",
        "\n",
        "\n",
        "\n"
      ]
    },
    {
      "cell_type": "markdown",
      "metadata": {
        "id": "NG8zlZaS9vBk"
      },
      "source": [
        "The n_estimators will allow us to set the number of trees that will be created by the algorithm. Generally, the higher number makes the predictions stronger and more stable, but can slow down the output because of the higher training time allocated. The best practice is to use between 64 and 128 random forests, though higher numbers are quite common despite the higher training time. "
      ]
    },
    {
      "cell_type": "code",
      "execution_count": 50,
      "metadata": {
        "id": "hjqAomXVo689"
      },
      "outputs": [],
      "source": [
        "# Create a random forest classifier.\n",
        "rf_model = RandomForestClassifier(n_estimators=200, random_state=78) "
      ]
    },
    {
      "cell_type": "markdown",
      "metadata": {
        "id": "z4b_8w4Q43df"
      },
      "source": [
        "# **Fit the Decision Tree Model**"
      ]
    },
    {
      "cell_type": "code",
      "execution_count": 51,
      "metadata": {
        "id": "Vg9zxChoo9ue"
      },
      "outputs": [],
      "source": [
        "# Fitting the model\n",
        "rf_model = rf_model.fit(X_train_scaled, y_train)"
      ]
    },
    {
      "cell_type": "markdown",
      "metadata": {
        "id": "Dd7QHHqP5Ezy"
      },
      "source": [
        "# **Make Predictions Using the Testing Data**"
      ]
    },
    {
      "cell_type": "code",
      "execution_count": 52,
      "metadata": {
        "id": "STyo77dXpBQW"
      },
      "outputs": [],
      "source": [
        "# Making predictions using the testing data.\n",
        "predictions = rf_model.predict(X_test_scaled)"
      ]
    },
    {
      "cell_type": "markdown",
      "metadata": {
        "id": "a0ILnX925Rpd"
      },
      "source": [
        "# **Evaluate the Model**"
      ]
    },
    {
      "cell_type": "code",
      "execution_count": 53,
      "metadata": {
        "colab": {
          "base_uri": "https://localhost:8080/",
          "height": 112
        },
        "id": "oiwo7TkApCnk",
        "outputId": "334000b7-6838-452d-e2e5-6f8b45b207c6"
      },
      "outputs": [
        {
          "output_type": "execute_result",
          "data": {
            "text/html": [
              "\n",
              "  <div id=\"df-2185dbff-7615-4cb8-8adb-ad084c84de0c\">\n",
              "    <div class=\"colab-df-container\">\n",
              "      <div>\n",
              "<style scoped>\n",
              "    .dataframe tbody tr th:only-of-type {\n",
              "        vertical-align: middle;\n",
              "    }\n",
              "\n",
              "    .dataframe tbody tr th {\n",
              "        vertical-align: top;\n",
              "    }\n",
              "\n",
              "    .dataframe thead th {\n",
              "        text-align: right;\n",
              "    }\n",
              "</style>\n",
              "<table border=\"1\" class=\"dataframe\">\n",
              "  <thead>\n",
              "    <tr style=\"text-align: right;\">\n",
              "      <th></th>\n",
              "      <th>Predicted 0</th>\n",
              "      <th>Predicted 1</th>\n",
              "    </tr>\n",
              "  </thead>\n",
              "  <tbody>\n",
              "    <tr>\n",
              "      <th>Predicted 0</th>\n",
              "      <td>488</td>\n",
              "      <td>27</td>\n",
              "    </tr>\n",
              "    <tr>\n",
              "      <th>Predicted 1</th>\n",
              "      <td>88</td>\n",
              "      <td>109</td>\n",
              "    </tr>\n",
              "  </tbody>\n",
              "</table>\n",
              "</div>\n",
              "      <button class=\"colab-df-convert\" onclick=\"convertToInteractive('df-2185dbff-7615-4cb8-8adb-ad084c84de0c')\"\n",
              "              title=\"Convert this dataframe to an interactive table.\"\n",
              "              style=\"display:none;\">\n",
              "        \n",
              "  <svg xmlns=\"http://www.w3.org/2000/svg\" height=\"24px\"viewBox=\"0 0 24 24\"\n",
              "       width=\"24px\">\n",
              "    <path d=\"M0 0h24v24H0V0z\" fill=\"none\"/>\n",
              "    <path d=\"M18.56 5.44l.94 2.06.94-2.06 2.06-.94-2.06-.94-.94-2.06-.94 2.06-2.06.94zm-11 1L8.5 8.5l.94-2.06 2.06-.94-2.06-.94L8.5 2.5l-.94 2.06-2.06.94zm10 10l.94 2.06.94-2.06 2.06-.94-2.06-.94-.94-2.06-.94 2.06-2.06.94z\"/><path d=\"M17.41 7.96l-1.37-1.37c-.4-.4-.92-.59-1.43-.59-.52 0-1.04.2-1.43.59L10.3 9.45l-7.72 7.72c-.78.78-.78 2.05 0 2.83L4 21.41c.39.39.9.59 1.41.59.51 0 1.02-.2 1.41-.59l7.78-7.78 2.81-2.81c.8-.78.8-2.07 0-2.86zM5.41 20L4 18.59l7.72-7.72 1.47 1.35L5.41 20z\"/>\n",
              "  </svg>\n",
              "      </button>\n",
              "      \n",
              "  <style>\n",
              "    .colab-df-container {\n",
              "      display:flex;\n",
              "      flex-wrap:wrap;\n",
              "      gap: 12px;\n",
              "    }\n",
              "\n",
              "    .colab-df-convert {\n",
              "      background-color: #E8F0FE;\n",
              "      border: none;\n",
              "      border-radius: 50%;\n",
              "      cursor: pointer;\n",
              "      display: none;\n",
              "      fill: #1967D2;\n",
              "      height: 32px;\n",
              "      padding: 0 0 0 0;\n",
              "      width: 32px;\n",
              "    }\n",
              "\n",
              "    .colab-df-convert:hover {\n",
              "      background-color: #E2EBFA;\n",
              "      box-shadow: 0px 1px 2px rgba(60, 64, 67, 0.3), 0px 1px 3px 1px rgba(60, 64, 67, 0.15);\n",
              "      fill: #174EA6;\n",
              "    }\n",
              "\n",
              "    [theme=dark] .colab-df-convert {\n",
              "      background-color: #3B4455;\n",
              "      fill: #D2E3FC;\n",
              "    }\n",
              "\n",
              "    [theme=dark] .colab-df-convert:hover {\n",
              "      background-color: #434B5C;\n",
              "      box-shadow: 0px 1px 3px 1px rgba(0, 0, 0, 0.15);\n",
              "      filter: drop-shadow(0px 1px 2px rgba(0, 0, 0, 0.3));\n",
              "      fill: #FFFFFF;\n",
              "    }\n",
              "  </style>\n",
              "\n",
              "      <script>\n",
              "        const buttonEl =\n",
              "          document.querySelector('#df-2185dbff-7615-4cb8-8adb-ad084c84de0c button.colab-df-convert');\n",
              "        buttonEl.style.display =\n",
              "          google.colab.kernel.accessAllowed ? 'block' : 'none';\n",
              "\n",
              "        async function convertToInteractive(key) {\n",
              "          const element = document.querySelector('#df-2185dbff-7615-4cb8-8adb-ad084c84de0c');\n",
              "          const dataTable =\n",
              "            await google.colab.kernel.invokeFunction('convertToInteractive',\n",
              "                                                     [key], {});\n",
              "          if (!dataTable) return;\n",
              "\n",
              "          const docLinkHtml = 'Like what you see? Visit the ' +\n",
              "            '<a target=\"_blank\" href=https://colab.research.google.com/notebooks/data_table.ipynb>data table notebook</a>'\n",
              "            + ' to learn more about interactive tables.';\n",
              "          element.innerHTML = '';\n",
              "          dataTable['output_type'] = 'display_data';\n",
              "          await google.colab.output.renderOutput(dataTable, element);\n",
              "          const docLink = document.createElement('div');\n",
              "          docLink.innerHTML = docLinkHtml;\n",
              "          element.appendChild(docLink);\n",
              "        }\n",
              "      </script>\n",
              "    </div>\n",
              "  </div>\n",
              "  "
            ],
            "text/plain": [
              "             Predicted 0  Predicted 1\n",
              "Predicted 0          488           27\n",
              "Predicted 1           88          109"
            ]
          },
          "metadata": {},
          "execution_count": 53
        }
      ],
      "source": [
        "# Calculating the confusion matrix.\n",
        "cm = confusion_matrix(y_test, predictions)\n",
        "\n",
        "# Create a DataFrame from the confusion matrix.\n",
        "cm_df = pd.DataFrame(\n",
        "    cm, index=[\"Predicted 0\", \"Predicted 1\"], columns=[\"Predicted 0\", \"Predicted 1\"])\n",
        "\n",
        "cm_df"
      ]
    },
    {
      "cell_type": "code",
      "execution_count": 54,
      "metadata": {
        "id": "KxwENJ82IAgU"
      },
      "outputs": [],
      "source": [
        "TP = cm_df['Predicted 0'][0]\n",
        "FP = cm_df['Predicted 0'][1]\n",
        "FN = cm_df['Predicted 1'][0]\n",
        "TN = cm_df['Predicted 1'][1]\n",
        "PN = TP+FN\n"
      ]
    },
    {
      "cell_type": "markdown",
      "metadata": {
        "id": "FJi1PZxy7DHZ"
      },
      "source": [
        "# **Summary of Performancd: Confusion Matrix**"
      ]
    },
    {
      "cell_type": "code",
      "execution_count": 55,
      "metadata": {
        "colab": {
          "base_uri": "https://localhost:8080/"
        },
        "id": "GHu2QXLwgv3l",
        "outputId": "84ae916e-3355-4eb3-d055-847825ae391a"
      },
      "outputs": [
        {
          "output_type": "stream",
          "name": "stdout",
          "text": [
            "*  Out of 515 movies that obtained a \"Favorable IMDB Score\" (Actual 0), 488\n",
            "   were predicted to have a \"Favorable IMDB Score\" (Predicted 0),\n",
            "   which is known as true positives. \n"
          ]
        }
      ],
      "source": [
        "print('*' + '  Out of '+ str(PN)+ ' movies that obtained a \"Favorable IMDB Score\" (Actual 0), '+ str(TP)+ '\\n   were predicted to have a \"Favorable IMDB Score\" (Predicted 0),\\n   which is known as true positives. ')#@title"
      ]
    },
    {
      "cell_type": "code",
      "execution_count": 56,
      "metadata": {
        "colab": {
          "base_uri": "https://localhost:8080/"
        },
        "id": "rvbdHrGjgyrS",
        "outputId": "02e13b2a-9c12-40cf-9de9-8617fdfe1aa4"
      },
      "outputs": [
        {
          "output_type": "stream",
          "name": "stdout",
          "text": [
            "*  Out of 515 movies that obtained a \"Favorable IMDB Score\" (Actual 0),\n",
            "   27 were predicted to have a \"Unfavorable IMDB Score\" (Predicted 1),\n",
            "   which are considered false negatives.\n"
          ]
        }
      ],
      "source": [
        "print('*' + '  Out of '+str(PN)+ ' movies that obtained a \"Favorable IMDB Score\" (Actual 0),\\n   '+str(FN) +' were predicted to have a \"Unfavorable IMDB Score\" (Predicted 1),\\n   which are considered false negatives.')#@title"
      ]
    },
    {
      "cell_type": "code",
      "execution_count": 57,
      "metadata": {
        "colab": {
          "base_uri": "https://localhost:8080/"
        },
        "id": "fhxCeDOpgzze",
        "outputId": "a69688e7-eebc-4f38-9119-4376e61e513d"
      },
      "outputs": [
        {
          "output_type": "stream",
          "name": "stdout",
          "text": [
            "*  Out of 197 movies that obtained a \"Unfavorable IMDB Score\" (Actual 1),\n",
            "   88 were predicted to have a \"Favorable IMDB Score\" (Predicted 0)\n",
            "   and are considered false positives.\n"
          ]
        }
      ],
      "source": [
        "print('*' + '  Out of '+ str(FP+TN) +' movies that obtained a \"Unfavorable IMDB Score\" (Actual 1),\\n   '+ str(FP) +' were predicted to have a \"Favorable IMDB Score\" (Predicted 0)\\n   and are considered false positives.')#@title"
      ]
    },
    {
      "cell_type": "code",
      "execution_count": 58,
      "metadata": {
        "colab": {
          "base_uri": "https://localhost:8080/"
        },
        "id": "01bR8NTrg0Ih",
        "outputId": "74f3129e-9485-44a9-c023-5f11bc4f3c2f"
      },
      "outputs": [
        {
          "output_type": "stream",
          "name": "stdout",
          "text": [
            "*  Out of 197 movies that obtained a \"Unfavorable IMDB Score\" (Actual 1),\n",
            "   109 were predicted to be have a \"Unfavorable IMDB Score\" (Predicted 1)\n",
            "   and are considered true negatives.\n"
          ]
        }
      ],
      "source": [
        "print('*' + '  Out of '+ str(FP+TN) +' movies that obtained a \"Unfavorable IMDB Score\" (Actual 1),\\n   '+ str(TN) +' were predicted to be have a \"Unfavorable IMDB Score\" (Predicted 1)\\n   and are considered true negatives.')#@title"
      ]
    },
    {
      "cell_type": "markdown",
      "metadata": {
        "id": "NbmtRGvb7fM-"
      },
      "source": [
        "# **Below you can see that the model obtains a 84% Accuracy which is how often the classifier is correct!**"
      ]
    },
    {
      "cell_type": "code",
      "execution_count": 131,
      "metadata": {
        "id": "VWUiq7P9pKLb"
      },
      "outputs": [],
      "source": [
        "# Calculating the accuracy score.\n",
        "acc_score = accuracy_score(y_test, predictions)\n",
        "acc_score=round(acc_score,2)\n",
        "Acc = round((TP + TN)/ (TP+TN+FP+FN) ,2)"
      ]
    },
    {
      "cell_type": "code",
      "execution_count": 132,
      "metadata": {
        "colab": {
          "base_uri": "https://localhost:8080/"
        },
        "id": "gNE9cnspfcKv",
        "outputId": "586fc1d7-f514-4bcc-de44-2ac80aa3b871"
      },
      "outputs": [
        {
          "output_type": "stream",
          "name": "stdout",
          "text": [
            "* The accuracy of our model is 0.84% , which can also be calculated as follows:\n",
            "  True Positives (TP) + True Negatives (TN)) / Total = 0.84%.\n"
          ]
        }
      ],
      "source": [
        "print('*' +' The accuracy of our model is '+ str(Acc)+ '% , which can also be calculated as follows:\\n'\n",
        "+ '  True Positives (TP) + True Negatives (TN)) / Total = '+  str(Acc)+'%.' ) #@title"
      ]
    },
    {
      "cell_type": "code",
      "execution_count": 133,
      "metadata": {
        "colab": {
          "base_uri": "https://localhost:8080/",
          "height": 329
        },
        "id": "AIi8Hmf2pMuo",
        "outputId": "65ae5853-f2ae-4bc4-f5c1-0e32d50499b9"
      },
      "outputs": [
        {
          "output_type": "stream",
          "name": "stdout",
          "text": [
            "Confusion Matrix\n"
          ]
        },
        {
          "output_type": "display_data",
          "data": {
            "text/html": [
              "\n",
              "  <div id=\"df-f889bdf3-157f-4f87-aefb-0fd527db8427\">\n",
              "    <div class=\"colab-df-container\">\n",
              "      <div>\n",
              "<style scoped>\n",
              "    .dataframe tbody tr th:only-of-type {\n",
              "        vertical-align: middle;\n",
              "    }\n",
              "\n",
              "    .dataframe tbody tr th {\n",
              "        vertical-align: top;\n",
              "    }\n",
              "\n",
              "    .dataframe thead th {\n",
              "        text-align: right;\n",
              "    }\n",
              "</style>\n",
              "<table border=\"1\" class=\"dataframe\">\n",
              "  <thead>\n",
              "    <tr style=\"text-align: right;\">\n",
              "      <th></th>\n",
              "      <th>Predicted 0</th>\n",
              "      <th>Predicted 1</th>\n",
              "    </tr>\n",
              "  </thead>\n",
              "  <tbody>\n",
              "    <tr>\n",
              "      <th>Predicted 0</th>\n",
              "      <td>488</td>\n",
              "      <td>27</td>\n",
              "    </tr>\n",
              "    <tr>\n",
              "      <th>Predicted 1</th>\n",
              "      <td>88</td>\n",
              "      <td>109</td>\n",
              "    </tr>\n",
              "  </tbody>\n",
              "</table>\n",
              "</div>\n",
              "      <button class=\"colab-df-convert\" onclick=\"convertToInteractive('df-f889bdf3-157f-4f87-aefb-0fd527db8427')\"\n",
              "              title=\"Convert this dataframe to an interactive table.\"\n",
              "              style=\"display:none;\">\n",
              "        \n",
              "  <svg xmlns=\"http://www.w3.org/2000/svg\" height=\"24px\"viewBox=\"0 0 24 24\"\n",
              "       width=\"24px\">\n",
              "    <path d=\"M0 0h24v24H0V0z\" fill=\"none\"/>\n",
              "    <path d=\"M18.56 5.44l.94 2.06.94-2.06 2.06-.94-2.06-.94-.94-2.06-.94 2.06-2.06.94zm-11 1L8.5 8.5l.94-2.06 2.06-.94-2.06-.94L8.5 2.5l-.94 2.06-2.06.94zm10 10l.94 2.06.94-2.06 2.06-.94-2.06-.94-.94-2.06-.94 2.06-2.06.94z\"/><path d=\"M17.41 7.96l-1.37-1.37c-.4-.4-.92-.59-1.43-.59-.52 0-1.04.2-1.43.59L10.3 9.45l-7.72 7.72c-.78.78-.78 2.05 0 2.83L4 21.41c.39.39.9.59 1.41.59.51 0 1.02-.2 1.41-.59l7.78-7.78 2.81-2.81c.8-.78.8-2.07 0-2.86zM5.41 20L4 18.59l7.72-7.72 1.47 1.35L5.41 20z\"/>\n",
              "  </svg>\n",
              "      </button>\n",
              "      \n",
              "  <style>\n",
              "    .colab-df-container {\n",
              "      display:flex;\n",
              "      flex-wrap:wrap;\n",
              "      gap: 12px;\n",
              "    }\n",
              "\n",
              "    .colab-df-convert {\n",
              "      background-color: #E8F0FE;\n",
              "      border: none;\n",
              "      border-radius: 50%;\n",
              "      cursor: pointer;\n",
              "      display: none;\n",
              "      fill: #1967D2;\n",
              "      height: 32px;\n",
              "      padding: 0 0 0 0;\n",
              "      width: 32px;\n",
              "    }\n",
              "\n",
              "    .colab-df-convert:hover {\n",
              "      background-color: #E2EBFA;\n",
              "      box-shadow: 0px 1px 2px rgba(60, 64, 67, 0.3), 0px 1px 3px 1px rgba(60, 64, 67, 0.15);\n",
              "      fill: #174EA6;\n",
              "    }\n",
              "\n",
              "    [theme=dark] .colab-df-convert {\n",
              "      background-color: #3B4455;\n",
              "      fill: #D2E3FC;\n",
              "    }\n",
              "\n",
              "    [theme=dark] .colab-df-convert:hover {\n",
              "      background-color: #434B5C;\n",
              "      box-shadow: 0px 1px 3px 1px rgba(0, 0, 0, 0.15);\n",
              "      filter: drop-shadow(0px 1px 2px rgba(0, 0, 0, 0.3));\n",
              "      fill: #FFFFFF;\n",
              "    }\n",
              "  </style>\n",
              "\n",
              "      <script>\n",
              "        const buttonEl =\n",
              "          document.querySelector('#df-f889bdf3-157f-4f87-aefb-0fd527db8427 button.colab-df-convert');\n",
              "        buttonEl.style.display =\n",
              "          google.colab.kernel.accessAllowed ? 'block' : 'none';\n",
              "\n",
              "        async function convertToInteractive(key) {\n",
              "          const element = document.querySelector('#df-f889bdf3-157f-4f87-aefb-0fd527db8427');\n",
              "          const dataTable =\n",
              "            await google.colab.kernel.invokeFunction('convertToInteractive',\n",
              "                                                     [key], {});\n",
              "          if (!dataTable) return;\n",
              "\n",
              "          const docLinkHtml = 'Like what you see? Visit the ' +\n",
              "            '<a target=\"_blank\" href=https://colab.research.google.com/notebooks/data_table.ipynb>data table notebook</a>'\n",
              "            + ' to learn more about interactive tables.';\n",
              "          element.innerHTML = '';\n",
              "          dataTable['output_type'] = 'display_data';\n",
              "          await google.colab.output.renderOutput(dataTable, element);\n",
              "          const docLink = document.createElement('div');\n",
              "          docLink.innerHTML = docLinkHtml;\n",
              "          element.appendChild(docLink);\n",
              "        }\n",
              "      </script>\n",
              "    </div>\n",
              "  </div>\n",
              "  "
            ],
            "text/plain": [
              "             Predicted 0  Predicted 1\n",
              "Predicted 0          488           27\n",
              "Predicted 1           88          109"
            ]
          },
          "metadata": {}
        },
        {
          "output_type": "stream",
          "name": "stdout",
          "text": [
            "Accuracy Score : 0.84\n",
            "Classification Report\n",
            "              precision    recall  f1-score   support\n",
            "\n",
            "           0       0.85      0.95      0.89       515\n",
            "           1       0.80      0.55      0.65       197\n",
            "\n",
            "    accuracy                           0.84       712\n",
            "   macro avg       0.82      0.75      0.77       712\n",
            "weighted avg       0.83      0.84      0.83       712\n",
            "\n"
          ]
        }
      ],
      "source": [
        "# Displaying results\n",
        "print(\"Confusion Matrix\")\n",
        "display(cm_df)\n",
        "print(f\"Accuracy Score : {acc_score}\")\n",
        "print(\"Classification Report\")\n",
        "print(classification_report(y_test, predictions))"
      ]
    },
    {
      "cell_type": "code",
      "source": [
        "y_pred_test = predictions\n",
        "y_pred = y_pred_test.copy()"
      ],
      "metadata": {
        "id": "VNpIW7hsCGom"
      },
      "execution_count": 136,
      "outputs": []
    },
    {
      "cell_type": "code",
      "source": [
        "# View confusion matrix for test data and predictions\n",
        "confusion_matrix(y_test, y_pred_test)"
      ],
      "metadata": {
        "colab": {
          "base_uri": "https://localhost:8080/"
        },
        "id": "PBA9p84Q_6ev",
        "outputId": "98f2b7ab-ebbe-4a60-a30f-3ec9dd772030"
      },
      "execution_count": 137,
      "outputs": [
        {
          "output_type": "execute_result",
          "data": {
            "text/plain": [
              "array([[488,  27],\n",
              "       [ 88, 109]])"
            ]
          },
          "metadata": {},
          "execution_count": 137
        }
      ]
    },
    {
      "cell_type": "code",
      "source": [
        "ActualvsPredicted_df=pd.DataFrame({'Actual':y_test, 'Predicted':y_pred})\n",
        "ActualvsPredicted_df"
      ],
      "metadata": {
        "colab": {
          "base_uri": "https://localhost:8080/",
          "height": 424
        },
        "id": "fnoXl9_qv6Pq",
        "outputId": "2abf86d4-661b-4119-8f5f-b09c4ef325d4"
      },
      "execution_count": 138,
      "outputs": [
        {
          "output_type": "execute_result",
          "data": {
            "text/html": [
              "\n",
              "  <div id=\"df-0893ab9a-b7e5-433b-91ca-4b3eeb0bbd40\">\n",
              "    <div class=\"colab-df-container\">\n",
              "      <div>\n",
              "<style scoped>\n",
              "    .dataframe tbody tr th:only-of-type {\n",
              "        vertical-align: middle;\n",
              "    }\n",
              "\n",
              "    .dataframe tbody tr th {\n",
              "        vertical-align: top;\n",
              "    }\n",
              "\n",
              "    .dataframe thead th {\n",
              "        text-align: right;\n",
              "    }\n",
              "</style>\n",
              "<table border=\"1\" class=\"dataframe\">\n",
              "  <thead>\n",
              "    <tr style=\"text-align: right;\">\n",
              "      <th></th>\n",
              "      <th>Actual</th>\n",
              "      <th>Predicted</th>\n",
              "    </tr>\n",
              "  </thead>\n",
              "  <tbody>\n",
              "    <tr>\n",
              "      <th>3066</th>\n",
              "      <td>1</td>\n",
              "      <td>0</td>\n",
              "    </tr>\n",
              "    <tr>\n",
              "      <th>1131</th>\n",
              "      <td>1</td>\n",
              "      <td>0</td>\n",
              "    </tr>\n",
              "    <tr>\n",
              "      <th>519</th>\n",
              "      <td>0</td>\n",
              "      <td>0</td>\n",
              "    </tr>\n",
              "    <tr>\n",
              "      <th>268</th>\n",
              "      <td>0</td>\n",
              "      <td>0</td>\n",
              "    </tr>\n",
              "    <tr>\n",
              "      <th>2642</th>\n",
              "      <td>0</td>\n",
              "      <td>0</td>\n",
              "    </tr>\n",
              "    <tr>\n",
              "      <th>...</th>\n",
              "      <td>...</td>\n",
              "      <td>...</td>\n",
              "    </tr>\n",
              "    <tr>\n",
              "      <th>2720</th>\n",
              "      <td>0</td>\n",
              "      <td>0</td>\n",
              "    </tr>\n",
              "    <tr>\n",
              "      <th>2805</th>\n",
              "      <td>0</td>\n",
              "      <td>0</td>\n",
              "    </tr>\n",
              "    <tr>\n",
              "      <th>1742</th>\n",
              "      <td>0</td>\n",
              "      <td>1</td>\n",
              "    </tr>\n",
              "    <tr>\n",
              "      <th>54</th>\n",
              "      <td>0</td>\n",
              "      <td>0</td>\n",
              "    </tr>\n",
              "    <tr>\n",
              "      <th>1939</th>\n",
              "      <td>0</td>\n",
              "      <td>0</td>\n",
              "    </tr>\n",
              "  </tbody>\n",
              "</table>\n",
              "<p>712 rows × 2 columns</p>\n",
              "</div>\n",
              "      <button class=\"colab-df-convert\" onclick=\"convertToInteractive('df-0893ab9a-b7e5-433b-91ca-4b3eeb0bbd40')\"\n",
              "              title=\"Convert this dataframe to an interactive table.\"\n",
              "              style=\"display:none;\">\n",
              "        \n",
              "  <svg xmlns=\"http://www.w3.org/2000/svg\" height=\"24px\"viewBox=\"0 0 24 24\"\n",
              "       width=\"24px\">\n",
              "    <path d=\"M0 0h24v24H0V0z\" fill=\"none\"/>\n",
              "    <path d=\"M18.56 5.44l.94 2.06.94-2.06 2.06-.94-2.06-.94-.94-2.06-.94 2.06-2.06.94zm-11 1L8.5 8.5l.94-2.06 2.06-.94-2.06-.94L8.5 2.5l-.94 2.06-2.06.94zm10 10l.94 2.06.94-2.06 2.06-.94-2.06-.94-.94-2.06-.94 2.06-2.06.94z\"/><path d=\"M17.41 7.96l-1.37-1.37c-.4-.4-.92-.59-1.43-.59-.52 0-1.04.2-1.43.59L10.3 9.45l-7.72 7.72c-.78.78-.78 2.05 0 2.83L4 21.41c.39.39.9.59 1.41.59.51 0 1.02-.2 1.41-.59l7.78-7.78 2.81-2.81c.8-.78.8-2.07 0-2.86zM5.41 20L4 18.59l7.72-7.72 1.47 1.35L5.41 20z\"/>\n",
              "  </svg>\n",
              "      </button>\n",
              "      \n",
              "  <style>\n",
              "    .colab-df-container {\n",
              "      display:flex;\n",
              "      flex-wrap:wrap;\n",
              "      gap: 12px;\n",
              "    }\n",
              "\n",
              "    .colab-df-convert {\n",
              "      background-color: #E8F0FE;\n",
              "      border: none;\n",
              "      border-radius: 50%;\n",
              "      cursor: pointer;\n",
              "      display: none;\n",
              "      fill: #1967D2;\n",
              "      height: 32px;\n",
              "      padding: 0 0 0 0;\n",
              "      width: 32px;\n",
              "    }\n",
              "\n",
              "    .colab-df-convert:hover {\n",
              "      background-color: #E2EBFA;\n",
              "      box-shadow: 0px 1px 2px rgba(60, 64, 67, 0.3), 0px 1px 3px 1px rgba(60, 64, 67, 0.15);\n",
              "      fill: #174EA6;\n",
              "    }\n",
              "\n",
              "    [theme=dark] .colab-df-convert {\n",
              "      background-color: #3B4455;\n",
              "      fill: #D2E3FC;\n",
              "    }\n",
              "\n",
              "    [theme=dark] .colab-df-convert:hover {\n",
              "      background-color: #434B5C;\n",
              "      box-shadow: 0px 1px 3px 1px rgba(0, 0, 0, 0.15);\n",
              "      filter: drop-shadow(0px 1px 2px rgba(0, 0, 0, 0.3));\n",
              "      fill: #FFFFFF;\n",
              "    }\n",
              "  </style>\n",
              "\n",
              "      <script>\n",
              "        const buttonEl =\n",
              "          document.querySelector('#df-0893ab9a-b7e5-433b-91ca-4b3eeb0bbd40 button.colab-df-convert');\n",
              "        buttonEl.style.display =\n",
              "          google.colab.kernel.accessAllowed ? 'block' : 'none';\n",
              "\n",
              "        async function convertToInteractive(key) {\n",
              "          const element = document.querySelector('#df-0893ab9a-b7e5-433b-91ca-4b3eeb0bbd40');\n",
              "          const dataTable =\n",
              "            await google.colab.kernel.invokeFunction('convertToInteractive',\n",
              "                                                     [key], {});\n",
              "          if (!dataTable) return;\n",
              "\n",
              "          const docLinkHtml = 'Like what you see? Visit the ' +\n",
              "            '<a target=\"_blank\" href=https://colab.research.google.com/notebooks/data_table.ipynb>data table notebook</a>'\n",
              "            + ' to learn more about interactive tables.';\n",
              "          element.innerHTML = '';\n",
              "          dataTable['output_type'] = 'display_data';\n",
              "          await google.colab.output.renderOutput(dataTable, element);\n",
              "          const docLink = document.createElement('div');\n",
              "          docLink.innerHTML = docLinkHtml;\n",
              "          element.appendChild(docLink);\n",
              "        }\n",
              "      </script>\n",
              "    </div>\n",
              "  </div>\n",
              "  "
            ],
            "text/plain": [
              "      Actual  Predicted\n",
              "3066       1          0\n",
              "1131       1          0\n",
              "519        0          0\n",
              "268        0          0\n",
              "2642       0          0\n",
              "...      ...        ...\n",
              "2720       0          0\n",
              "2805       0          0\n",
              "1742       0          1\n",
              "54         0          0\n",
              "1939       0          0\n",
              "\n",
              "[712 rows x 2 columns]"
            ]
          },
          "metadata": {},
          "execution_count": 138
        }
      ]
    },
    {
      "cell_type": "code",
      "source": [
        "from sklearn import metrics\n",
        "print('Mean Absolute Error:', metrics.mean_absolute_error(y_test, y_pred))\n",
        "print('Mean Squared Error:', metrics.mean_squared_error(y_test, y_pred))\n",
        "print('Root Mean Squared Error:', np.sqrt(metrics.mean_squared_error(y_test, y_pred)))"
      ],
      "metadata": {
        "colab": {
          "base_uri": "https://localhost:8080/"
        },
        "id": "ZtZNHcYYwM3I",
        "outputId": "028214a9-a583-444d-9d30-3ef33f136d5a"
      },
      "execution_count": 139,
      "outputs": [
        {
          "output_type": "stream",
          "name": "stdout",
          "text": [
            "Mean Absolute Error: 0.16151685393258428\n",
            "Mean Squared Error: 0.16151685393258428\n",
            "Root Mean Squared Error: 0.4018915947523465\n"
          ]
        }
      ]
    },
    {
      "cell_type": "code",
      "source": [
        "# Calculate the absolute errors\n",
        "errors = abs(y_pred - y_test)\n",
        "# Print out the mean absolute error (mae)\n",
        "print('Mean Absolute Error:', round(np.mean(errors), 2), 'degrees.')\n",
        "\n",
        "# Calculate mean absolute percentage error (MAPE)\n",
        "mape = 100 * (errors / y_test)\n",
        "# Calculate and display accuracy\n",
        "accuracy = 100 - np.mean(mape)\n",
        "print('Accuracy:', round(acc_score, 2), '%.')"
      ],
      "metadata": {
        "colab": {
          "base_uri": "https://localhost:8080/"
        },
        "id": "NULYt59awh72",
        "outputId": "02fc5843-f96c-4072-bc64-999fbf0053d5"
      },
      "execution_count": 141,
      "outputs": [
        {
          "output_type": "stream",
          "name": "stdout",
          "text": [
            "Mean Absolute Error: 0.16 degrees.\n",
            "Accuracy: 0.84 %.\n"
          ]
        }
      ]
    },
    {
      "cell_type": "code",
      "source": [
        "import seaborn as sns\n",
        "plt.figure(figsize=(5, 7))\n",
        "\n",
        "\n",
        "ax = sns.distplot(y, hist=False, color=\"r\", label=\"Actual Value\")\n",
        "sns.distplot(y_pred, hist=False, color=\"b\", label=\"Fitted Values\" , ax=ax)\n",
        "\n",
        "\n",
        "plt.title('Actual vs Fitted Values for Score')\n",
        "\n",
        "\n",
        "plt.show()\n",
        "plt.close()"
      ],
      "metadata": {
        "colab": {
          "base_uri": "https://localhost:8080/",
          "height": 559
        },
        "id": "xGA4d-0Pw-0D",
        "outputId": "8d9fb0f9-4e14-492f-d942-9842b355b86a"
      },
      "execution_count": 142,
      "outputs": [
        {
          "output_type": "stream",
          "name": "stderr",
          "text": [
            "/usr/local/lib/python3.7/dist-packages/seaborn/distributions.py:2619: FutureWarning: `distplot` is a deprecated function and will be removed in a future version. Please adapt your code to use either `displot` (a figure-level function with similar flexibility) or `kdeplot` (an axes-level function for kernel density plots).\n",
            "  warnings.warn(msg, FutureWarning)\n",
            "/usr/local/lib/python3.7/dist-packages/seaborn/distributions.py:2619: FutureWarning: `distplot` is a deprecated function and will be removed in a future version. Please adapt your code to use either `displot` (a figure-level function with similar flexibility) or `kdeplot` (an axes-level function for kernel density plots).\n",
            "  warnings.warn(msg, FutureWarning)\n"
          ]
        },
        {
          "output_type": "display_data",
          "data": {
            "image/png": "[encoded data removed]",
            "text/plain": [
              "<Figure size 360x504 with 1 Axes>"
            ]
          },
          "metadata": {}
        }
      ]
    },
    {
      "cell_type": "code",
      "source": [
        "import matplotlib.pyplot as plt\n",
        "import numpy as np\n",
        "import seaborn as sns\n",
        "# Get and reshape confusion matrix data\n",
        "matrix = confusion_matrix(y_test, y_pred_test)\n",
        "matrix = matrix.astype('float') / matrix.sum(axis=1)[:, np.newaxis]\n",
        "\n",
        "# Build the plot\n",
        "plt.figure(figsize=(12,7))\n",
        "sns.set(font_scale=2)\n",
        "sns.heatmap(matrix, annot=True, annot_kws={'size':10},\n",
        "            cmap=plt.cm.Greens, linewidths=0.2)\n",
        "\n",
        "# Add labels to the plot\n",
        "class_names = ['Favorable IMDB Movie Scores', 'UnFavorable IMDB Movie Scores', ]\n",
        "tick_marks = np.arange(len(class_names))\n",
        "tick_marks2 = tick_marks + 0.5\n",
        "plt.xticks(tick_marks, class_names, rotation=25)\n",
        "plt.yticks(tick_marks2, class_names, rotation=0)\n",
        "plt.xlabel('Predicted label')\n",
        "plt.ylabel('True label')\n",
        "plt.title('Confusion Matrix for Random Forest Model')\n",
        "plt.show()"
      ],
      "metadata": {
        "colab": {
          "base_uri": "https://localhost:8080/",
          "height": 618
        },
        "id": "otiGDgRSAMlM",
        "outputId": "a5925bf9-5f16-4a86-8ca4-cc204b1ebcdc"
      },
      "execution_count": 64,
      "outputs": [
        {
          "output_type": "display_data",
          "data": {
            "image/png": "[encoded data removed]",
            "text/plain": [
              "<Figure size 864x504 with 2 Axes>"
            ]
          },
          "metadata": {
            "needs_background": "light"
          }
        }
      ]
    },
    {
      "cell_type": "code",
      "execution_count": 65,
      "metadata": {
        "colab": {
          "base_uri": "https://localhost:8080/"
        },
        "id": "atn-Z6cjB_9H",
        "outputId": "af9157b5-8c50-4ecd-ad8f-9d3353ab5e3d"
      },
      "outputs": [
        {
          "output_type": "execute_result",
          "data": {
            "text/plain": [
              "0.85"
            ]
          },
          "metadata": {},
          "execution_count": 65
        }
      ],
      "source": [
        "Prec = (TP/(TP + FP))\n",
        "per = round(Prec, 2)\n",
        "per"
      ]
    },
    {
      "cell_type": "code",
      "execution_count": 66,
      "metadata": {
        "colab": {
          "base_uri": "https://localhost:8080/"
        },
        "id": "WFBFsAnkVjxX",
        "outputId": "ab795c86-5d54-4738-97bc-04ffd991a087"
      },
      "outputs": [
        {
          "output_type": "execute_result",
          "data": {
            "text/plain": [
              "0.95"
            ]
          },
          "metadata": {},
          "execution_count": 66
        }
      ],
      "source": [
        "Rec = round(TP/(TP + FN),2)\n",
        "Rec"
      ]
    },
    {
      "cell_type": "code",
      "execution_count": 67,
      "metadata": {
        "colab": {
          "base_uri": "https://localhost:8080/"
        },
        "id": "JYkHgxp1c6tz",
        "outputId": "b2f3d71e-58ad-46f8-aa0e-f33e21c34137"
      },
      "outputs": [
        {
          "output_type": "execute_result",
          "data": {
            "text/plain": [
              "0.95"
            ]
          },
          "metadata": {},
          "execution_count": 67
        }
      ],
      "source": [
        "Sen = round(TP/(TP + FN),2)\n",
        "Sen"
      ]
    },
    {
      "cell_type": "code",
      "execution_count": 68,
      "metadata": {
        "colab": {
          "base_uri": "https://localhost:8080/"
        },
        "id": "ODxRFal8dHbX",
        "outputId": "b9622214-1c86-4e65-ca23-8dd6efa448a7"
      },
      "outputs": [
        {
          "output_type": "execute_result",
          "data": {
            "text/plain": [
              "89.72"
            ]
          },
          "metadata": {},
          "execution_count": 68
        }
      ],
      "source": [
        "F1 = round(100*((2 * ( per * Sen))/(per + Sen)),2)\n",
        "F1"
      ]
    },
    {
      "cell_type": "code",
      "execution_count": 69,
      "metadata": {
        "colab": {
          "base_uri": "https://localhost:8080/"
        },
        "id": "S6do__h0B1TL",
        "outputId": "0be6d5a3-a97e-44a7-b636-c6f44f03df44"
      },
      "outputs": [
        {
          "output_type": "stream",
          "name": "stdout",
          "text": [
            "Precision: Precision is the measure of how reliable a positive classification \n",
            "is. From our results, the precision for the good IMDB movie scores can be\n",
            "determined  by the ratio TP/(TP + FP), which is 0.85 . A low precision is indicative \n",
            "of a large number of false positives—of the 136 movie IMDB scores we predicted to obtain \n",
            "bad scores, 27 actually recieved a good IMDB movie scores.\n"
          ]
        }
      ],
      "source": [
        "\n",
        "print( 'Precision: Precision is the measure of how reliable a positive classification \\nis. From our results, the precision for the good IMDB movie scores can be\\ndetermined  by the ratio TP/(TP + FP), which is ' + str(per) + ' . A low precision is indicative \\nof a large number of false positives—of the '+ str(FN + TN) +' movie IMDB scores we predicted to obtain \\nbad scores, '+ str(FN) + ' actually recieved a good IMDB movie scores.' ) #@title"
      ]
    },
    {
      "cell_type": "code",
      "execution_count": 70,
      "metadata": {
        "colab": {
          "base_uri": "https://localhost:8080/"
        },
        "id": "zhDNcVYDVIG3",
        "outputId": "a4fa46ad-caf1-4215-9968-0a4b17c96588"
      },
      "outputs": [
        {
          "output_type": "stream",
          "name": "stdout",
          "text": [
            "Recall: Recall is the ability of the classifier to find all\n",
            "the positive samples. It can be determined by the ratio: TP/(TP + FN),\n",
            "or 0.95 for the good IMDB movie scores and 0.55 for the bad IMDB movie scores. A low\n",
            "recall is indicative of a large number of false negatives.\n"
          ]
        }
      ],
      "source": [
        "print( 'Recall: Recall is the ability of the classifier to find all\\nthe positive samples. It can be determined by the ratio: TP/(TP + FN),\\nor '+ str(Rec)+ ' for the good IMDB movie scores and '+ str(round(TN/(TN+FP),2)) + ' for the bad IMDB movie scores. A low\\nrecall is indicative of a large number of false negatives.') #@title"
      ]
    },
    {
      "cell_type": "code",
      "execution_count": 71,
      "metadata": {
        "colab": {
          "base_uri": "https://localhost:8080/"
        },
        "id": "kfLvSax0ZRBN",
        "outputId": "c3a72d11-eeea-4f85-e039-3069433a0496"
      },
      "outputs": [
        {
          "output_type": "stream",
          "name": "stdout",
          "text": [
            "F1 score: F1 score is a weighted average of the true positive\n",
            "rate (recall) and precision, where the best score is 1.0\n",
            "and the worst is 0.0. Our F1 score is 89.72%.\n"
          ]
        }
      ],
      "source": [
        "print('F1 score: F1 score is a weighted average of the true positive\\nrate (recall) and precision, where the best score is 1.0\\nand the worst is 0.0. Our F1 score is ' +str(F1)+'%.' )#@title"
      ]
    },
    {
      "cell_type": "code",
      "execution_count": 72,
      "metadata": {
        "colab": {
          "base_uri": "https://localhost:8080/"
        },
        "id": "owOGiYk3ZmMB",
        "outputId": "40d61b6a-1663-4981-dc0f-9831b3b7fcac"
      },
      "outputs": [
        {
          "output_type": "stream",
          "name": "stdout",
          "text": [
            "Support: Support is the number of actual occurrences of the class in the specified dataset.\n",
            "For our results, there are 515 actual occurrences for the good IMDB movie scores and 197\n",
            "actual occurrences for bad IMDB movie scores.\n"
          ]
        }
      ],
      "source": [
        "print('Support: Support is the number of actual occurrences of the class in the specified dataset.\\nFor our results, there are '+ str(TP+FN)+ ' actual occurrences for the good IMDB movie scores and '+ str(FP+TN)+ '\\nactual occurrences for bad IMDB movie scores.')"
      ]
    },
    {
      "cell_type": "code",
      "execution_count": 73,
      "metadata": {
        "colab": {
          "base_uri": "https://localhost:8080/"
        },
        "id": "SBgznTcYpSOg",
        "outputId": "6c60db6b-2db8-4c7a-e547-eaf5e14a144b"
      },
      "outputs": [
        {
          "output_type": "execute_result",
          "data": {
            "text/plain": [
              "array([0.05765392, 0.04873838, 0.07192726, 0.06727328, 0.02171482,\n",
              "       0.03791888, 0.05141591, 0.16971784, 0.05335785, 0.05068408,\n",
              "       0.05301534, 0.05353594, 0.06193243, 0.04478315, 0.15633091])"
            ]
          },
          "metadata": {},
          "execution_count": 73
        }
      ],
      "source": [
        "# Calculate feature importance in the Random Forest model.\n",
        "importances = rf_model.feature_importances_\n",
        "importances"
      ]
    },
    {
      "cell_type": "code",
      "execution_count": 74,
      "metadata": {
        "colab": {
          "base_uri": "https://localhost:8080/"
        },
        "id": "mEkE2tkHpU77",
        "outputId": "6de49a99-7074-433e-dc91-8eb7982e0e73"
      },
      "outputs": [
        {
          "output_type": "execute_result",
          "data": {
            "text/plain": [
              "[(0.16971783957990463, 'votes'),\n",
              " (0.15633090829853766, 'runtime'),\n",
              " (0.07192726338026463, 'Domestic_Gross'),\n",
              " (0.06727327662228146, 'Worldwide_Gross'),\n",
              " (0.0619324316400494, 'gross'),\n",
              " (0.05765392140532906, 'Movie_Title'),\n",
              " (0.053535935705114286, 'budget'),\n",
              " (0.05335785263597243, 'director'),\n",
              " (0.053015341471989934, 'star'),\n",
              " (0.051415914458645566, 'year'),\n",
              " (0.050684084459469696, 'writer'),\n",
              " (0.04873838128969764, 'Production_Budget'),\n",
              " (0.044783148427180015, 'company'),\n",
              " (0.03791887621512739, 'genre'),\n",
              " (0.021714824410436148, 'rating')]"
            ]
          },
          "metadata": {},
          "execution_count": 74
        }
      ],
      "source": [
        "# We can sort the features by their importance.\n",
        "sorted(zip(rf_model.feature_importances_, X.columns), reverse=True)"
      ]
    },
    {
      "cell_type": "markdown",
      "metadata": {
        "id": "0nV4U12A30i2"
      },
      "source": [
        "# **Display Feature Importance using a Bar Graph Below**"
      ]
    },
    {
      "cell_type": "code",
      "execution_count": 75,
      "metadata": {
        "colab": {
          "base_uri": "https://localhost:8080/",
          "height": 419
        },
        "id": "452NILfFn55s",
        "outputId": "0130e6ca-f236-46ac-9c3d-150b6978a752"
      },
      "outputs": [
        {
          "output_type": "display_data",
          "data": {
            "image/png": "[encoded data removed]",
            "text/plain": [
              "<Figure size 576x396 with 1 Axes>"
            ]
          },
          "metadata": {}
        },
        {
          "output_type": "execute_result",
          "data": {
            "text/plain": [
              "<matplotlib.axes._subplots.AxesSubplot at 0x7f633b1d1510>"
            ]
          },
          "metadata": {},
          "execution_count": 75
        }
      ],
      "source": [
        "from sklearn.ensemble import RandomForestClassifier\n",
        "from yellowbrick.model_selection import FeatureImportances\n",
        "\n",
        "\n",
        "model = RandomForestClassifier(n_estimators=15)\n",
        "viz = FeatureImportances(model)\n",
        "viz.fit(X, y)\n",
        "viz.show()"
      ]
    },
    {
      "cell_type": "code",
      "source": [
        "from sklearn.ensemble import RandomForestClassifier\n",
        "\n",
        "feature_names = [f\"feature {i}\" for i in X.columns]\n",
        "forest = RandomForestClassifier(random_state=0)\n",
        "forest.fit(X_train, y_train)"
      ],
      "metadata": {
        "colab": {
          "base_uri": "https://localhost:8080/"
        },
        "id": "fH2keCur4wF7",
        "outputId": "dfb9866a-eb9d-4dcf-cfb4-4673e7f7b7f6"
      },
      "execution_count": 163,
      "outputs": [
        {
          "output_type": "execute_result",
          "data": {
            "text/plain": [
              "RandomForestClassifier(random_state=0)"
            ]
          },
          "metadata": {},
          "execution_count": 163
        }
      ]
    },
    {
      "cell_type": "code",
      "source": [
        "import time\n",
        "import numpy as np\n",
        "\n",
        "start_time = time.time()\n",
        "importances = forest.feature_importances_\n",
        "std = np.std([tree.feature_importances_ for tree in forest.estimators_], axis=0)\n",
        "elapsed_time = time.time() - start_time\n",
        "\n",
        "print(f\"Elapsed time to compute the importances: {elapsed_time:.3f} seconds\")"
      ],
      "metadata": {
        "colab": {
          "base_uri": "https://localhost:8080/"
        },
        "id": "PQtg2RFM42Mq",
        "outputId": "866be717-9a9e-4955-e354-885fbfb132e2"
      },
      "execution_count": 165,
      "outputs": [
        {
          "output_type": "stream",
          "name": "stdout",
          "text": [
            "Elapsed time to compute the importances: 0.020 seconds\n"
          ]
        }
      ]
    },
    {
      "cell_type": "code",
      "source": [
        "import pandas as pd\n",
        "\n",
        "forest_importances = pd.Series(importances, index=feature_names)\n",
        "\n",
        "fig, ax = plt.subplots()\n",
        "forest_importances.plot.bar(yerr=std, ax=ax)\n",
        "ax.set_title(\"Feature importances using MDI\")\n",
        "ax.set_ylabel(\"Mean decrease in impurity\")\n",
        "fig.tight_layout()"
      ],
      "metadata": {
        "colab": {
          "base_uri": "https://localhost:8080/",
          "height": 544
        },
        "id": "2YReElul46JP",
        "outputId": "cbf13312-815a-424d-ba79-06d00d616950"
      },
      "execution_count": 166,
      "outputs": [
        {
          "output_type": "display_data",
          "data": {
            "image/png": "[encoded data removed]",
            "text/plain": [
              "<Figure size 1080x576 with 1 Axes>"
            ]
          },
          "metadata": {}
        }
      ]
    },
    {
      "cell_type": "code",
      "source": [
        "# Scatter plot with votes vs score\n",
        "\n",
        "plt.scatter(x=o_df['votes'], y=o_df['score'])\n",
        "\n",
        "plt.title('Votes vs Score')\n",
        "\n",
        "plt.xlabel('User Votes')\n",
        "\n",
        "plt.ylabel('IMDB Movie Scores')\n",
        "\n",
        "plt.show()"
      ],
      "metadata": {
        "id": "idCPZPfjYkKl",
        "outputId": "d453e96f-a03a-490e-e4dc-4be9ca8a5ab4",
        "colab": {
          "base_uri": "https://localhost:8080/",
          "height": 376
        }
      },
      "execution_count": 76,
      "outputs": [
        {
          "output_type": "display_data",
          "data": {
            "image/png": "[encoded data removed]",
            "text/plain": [
              "<Figure size 576x396 with 1 Axes>"
            ]
          },
          "metadata": {}
        }
      ]
    },
    {
      "cell_type": "code",
      "source": [
        "import seaborn as sns\n",
        "# Plot votes vs score using seaborn\n",
        "\n",
        "sns.regplot(x='votes', y='score', data=o_df, scatter_kws={\"color\": \"red\"}, line_kws={\"color\":\"blue\"})"
      ],
      "metadata": {
        "colab": {
          "base_uri": "https://localhost:8080/",
          "height": 379
        },
        "id": "SMfhf6LrgoXs",
        "outputId": "7cace5cb-a695-499b-9033-f29f727bb287"
      },
      "execution_count": 77,
      "outputs": [
        {
          "output_type": "execute_result",
          "data": {
            "text/plain": [
              "<matplotlib.axes._subplots.AxesSubplot at 0x7f633b083790>"
            ]
          },
          "metadata": {},
          "execution_count": 77
        },
        {
          "output_type": "display_data",
          "data": {
            "image/png": "[encoded data removed]",
            "text/plain": [
              "<Figure size 576x396 with 1 Axes>"
            ]
          },
          "metadata": {}
        }
      ]
    },
    {
      "cell_type": "code",
      "source": [
        "# Scatter plot with runtime vs score\n",
        "\n",
        "plt.scatter(x=o_df['runtime'], y=o_df['score'])\n",
        "\n",
        "plt.title('Runtime vs Score')\n",
        "\n",
        "plt.xlabel('Movie Runtime')\n",
        "\n",
        "plt.ylabel('IMDB Movie Scores')\n",
        "\n",
        "plt.show()"
      ],
      "metadata": {
        "id": "alZVqbjPdSIb",
        "outputId": "69a9482b-e266-4731-c79e-1ed3e6dfe077",
        "colab": {
          "base_uri": "https://localhost:8080/",
          "height": 376
        }
      },
      "execution_count": 78,
      "outputs": [
        {
          "output_type": "display_data",
          "data": {
            "image/png": "[encoded data removed]",
            "text/plain": [
              "<Figure size 576x396 with 1 Axes>"
            ]
          },
          "metadata": {}
        }
      ]
    },
    {
      "cell_type": "code",
      "source": [
        "# Scatter plot with runtime vs score using seaborn\n",
        "sns.regplot(x='runtime', y='score', data=o_df, scatter_kws={\"color\": \"red\"}, line_kws={\"color\":\"blue\"})"
      ],
      "metadata": {
        "colab": {
          "base_uri": "https://localhost:8080/",
          "height": 379
        },
        "id": "yhnp2gSkhviW",
        "outputId": "6656a92a-7857-4973-a403-d09c3d30997c"
      },
      "execution_count": 79,
      "outputs": [
        {
          "output_type": "execute_result",
          "data": {
            "text/plain": [
              "<matplotlib.axes._subplots.AxesSubplot at 0x7f633afe61d0>"
            ]
          },
          "metadata": {},
          "execution_count": 79
        },
        {
          "output_type": "display_data",
          "data": {
            "image/png": "[encoded data removed]",
            "text/plain": [
              "<Figure size 576x396 with 1 Axes>"
            ]
          },
          "metadata": {}
        }
      ]
    },
    {
      "cell_type": "code",
      "source": [
        "# Scatter plot with Domestic_Gross vs score\n",
        "\n",
        "plt.scatter(x=o_df['Domestic_Gross'], y=o_df['score'])\n",
        "\n",
        "plt.title('Domestic_Gross vs Score')\n",
        "\n",
        "plt.xlabel('Movie Domestic_Gross')\n",
        "\n",
        "plt.ylabel('IMDB Movie Scores')\n",
        "\n",
        "plt.show()"
      ],
      "metadata": {
        "id": "CuW1o2_Tf_5u",
        "outputId": "f663c098-104e-49be-f0dd-9ee8afc51f10",
        "colab": {
          "base_uri": "https://localhost:8080/",
          "height": 376
        }
      },
      "execution_count": 82,
      "outputs": [
        {
          "output_type": "display_data",
          "data": {
            "image/png": "[encoded data removed]",
            "text/plain": [
              "<Figure size 576x396 with 1 Axes>"
            ]
          },
          "metadata": {}
        }
      ]
    },
    {
      "cell_type": "code",
      "source": [
        "# Scatter plot with Domestic_Gross vs score using seaborn\n",
        "sns.regplot(x='Domestic_Gross', y='score', data=o_df, scatter_kws={\"color\": \"red\"}, line_kws={\"color\":\"blue\"})"
      ],
      "metadata": {
        "colab": {
          "base_uri": "https://localhost:8080/",
          "height": 379
        },
        "id": "Rpa3sfJXiq-E",
        "outputId": "142399f1-93bb-45f5-86c4-b7e7ba4d2ae0"
      },
      "execution_count": 83,
      "outputs": [
        {
          "output_type": "execute_result",
          "data": {
            "text/plain": [
              "<matplotlib.axes._subplots.AxesSubplot at 0x7f633ae14290>"
            ]
          },
          "metadata": {},
          "execution_count": 83
        },
        {
          "output_type": "display_data",
          "data": {
            "image/png": "[encoded data removed]",
            "text/plain": [
              "<Figure size 576x396 with 1 Axes>"
            ]
          },
          "metadata": {}
        }
      ]
    },
    {
      "cell_type": "code",
      "source": [
        "# Create Correlation Matrix Heat Map to show feature dependancy\n",
        "correlation_matrix = c_df.corr(method='pearson') \n",
        "sns.set(rc = {'figure.figsize':(15,8)})\n",
        "sns.heatmap(correlation_matrix, annot=True)\n",
        "\n",
        "plt.title('Correlation Matrix for Movie Features')\n",
        "\n",
        "plt.xlabel('Movie Features')\n",
        "\n",
        "plt.ylabel('Movie Features')\n",
        "\n",
        "plt.show()"
      ],
      "metadata": {
        "colab": {
          "base_uri": "https://localhost:8080/",
          "height": 614
        },
        "id": "6fE2A08bkX8o",
        "outputId": "ba05764c-a703-4f4a-9078-d955e3530669"
      },
      "execution_count": 128,
      "outputs": [
        {
          "output_type": "display_data",
          "data": {
            "image/png": "[encoded data removed]",
            "text/plain": [
              "<Figure size 1080x576 with 2 Axes>"
            ]
          },
          "metadata": {}
        }
      ]
    },
    {
      "cell_type": "code",
      "source": [
        "rf_model = RandomForestRegressor(n_estimators=200, max_depth=3)\n",
        "rf_model.fit(X, y)"
      ],
      "metadata": {
        "colab": {
          "base_uri": "https://localhost:8080/"
        },
        "id": "6CCJGMuGbXs0",
        "outputId": "cb033d87-9194-4bf9-ad97-5ac59c4ebe08"
      },
      "execution_count": null,
      "outputs": [
        {
          "output_type": "execute_result",
          "data": {
            "text/plain": [
              "RandomForestRegressor(max_depth=3, n_estimators=200)"
            ]
          },
          "metadata": {},
          "execution_count": 82
        }
      ]
    },
    {
      "cell_type": "code",
      "execution_count": null,
      "metadata": {
        "colab": {
          "base_uri": "https://localhost:8080/"
        },
        "id": "3dZU82lNsPjQ",
        "outputId": "7f954d97-83a8-46aa-d9e1-63aed3e69bda"
      },
      "outputs": [
        {
          "output_type": "stream",
          "name": "stdout",
          "text": [
            "Parameters currently in use:\n",
            "\n",
            "{'bootstrap': True,\n",
            " 'ccp_alpha': 0.0,\n",
            " 'criterion': 'squared_error',\n",
            " 'max_depth': None,\n",
            " 'max_features': 'auto',\n",
            " 'max_leaf_nodes': None,\n",
            " 'max_samples': None,\n",
            " 'min_impurity_decrease': 0.0,\n",
            " 'min_samples_leaf': 1,\n",
            " 'min_samples_split': 2,\n",
            " 'min_weight_fraction_leaf': 0.0,\n",
            " 'n_estimators': 100,\n",
            " 'n_jobs': None,\n",
            " 'oob_score': False,\n",
            " 'random_state': 78,\n",
            " 'verbose': 0,\n",
            " 'warm_start': False}\n"
          ]
        }
      ],
      "source": [
        "from sklearn.ensemble import RandomForestRegressor\n",
        "rf = RandomForestRegressor(random_state = 78)\n",
        "from pprint import pprint\n",
        "# Look at parameters used by our current forest\n",
        "print('Parameters currently in use:\\n')\n",
        "pprint(rf.get_params())\n"
      ]
    },
    {
      "cell_type": "markdown",
      "metadata": {
        "id": "vXj9BjHTqBtg"
      },
      "source": [
        "# **Random Hyperparameter Grid**"
      ]
    },
    {
      "cell_type": "code",
      "execution_count": null,
      "metadata": {
        "id": "pRZKO0Ywp-x5"
      },
      "outputs": [],
      "source": [
        "from sklearn.model_selection import GridSearchCV\n",
        "import numpy as np\n",
        "\n",
        "# Number of trees in random forest\n",
        "n_estimators = [100, 200, 500, 1000]\n",
        "# Number of features to consider at every split\n",
        "max_features = ['auto', 'sqrt']\n",
        "# Maximum number of levels in tree\n",
        "max_depth = [3, 5, 7, 9, 11]\n",
        "\n",
        "# Minimum number of samples required to split a node\n",
        "min_samples_split = [2, 5, 10]\n",
        "# Minimum number of samples required at each leaf node\n",
        "min_samples_leaf = [1, 2, 4]\n",
        "# Method of selecting samples for training each tree\n",
        "bootstrap = [True, False]\n"
      ]
    },
    {
      "cell_type": "code",
      "execution_count": null,
      "metadata": {
        "colab": {
          "base_uri": "https://localhost:8080/"
        },
        "id": "oB9nevjAsZka",
        "outputId": "0a9591d7-e372-44bf-c58a-8238a0a68a6b"
      },
      "outputs": [
        {
          "output_type": "stream",
          "name": "stdout",
          "text": [
            "{'bootstrap': [True, False],\n",
            " 'max_depth': [3, 5, 7, 9, 11],\n",
            " 'max_features': ['auto', 'sqrt'],\n",
            " 'min_samples_leaf': [1, 2, 4],\n",
            " 'min_samples_split': [2, 5, 10],\n",
            " 'n_estimators': [100, 200, 500, 1000]}\n"
          ]
        }
      ],
      "source": [
        "# Create the random grid\n",
        "random_grid = {'n_estimators': n_estimators,\n",
        "               'max_features': max_features,\n",
        "               'max_depth': max_depth,\n",
        "               'min_samples_split': min_samples_split,\n",
        "               'min_samples_leaf': min_samples_leaf,\n",
        "               'bootstrap': bootstrap}\n",
        "pprint(random_grid)"
      ]
    },
    {
      "cell_type": "code",
      "execution_count": null,
      "metadata": {
        "colab": {
          "base_uri": "https://localhost:8080/"
        },
        "id": "z4WGhqHxqIDA",
        "outputId": "362ec186-da07-4962-9289-edc837f7ac08"
      },
      "outputs": [
        {
          "output_type": "stream",
          "name": "stdout",
          "text": [
            "Fitting 3 folds for each of 720 candidates, totalling 2160 fits\n"
          ]
        },
        {
          "output_type": "execute_result",
          "data": {
            "text/plain": [
              "GridSearchCV(cv=3, estimator=RandomForestClassifier(), n_jobs=-1,\n",
              "             param_grid={'bootstrap': [True, False],\n",
              "                         'max_depth': [3, 5, 7, 9, 11],\n",
              "                         'max_features': ['auto', 'sqrt'],\n",
              "                         'min_samples_leaf': [1, 2, 4],\n",
              "                         'min_samples_split': [2, 5, 10],\n",
              "                         'n_estimators': [100, 200, 500, 1000]},\n",
              "             verbose=2)"
            ]
          },
          "metadata": {},
          "execution_count": 212
        }
      ],
      "source": [
        "# Use the random grid to search for best hyperparameters\n",
        "# First create the base model to tune\n",
        "rf = RandomForestClassifier()\n",
        "# Instantiate the grid search model\n",
        "rf_Grid= GridSearchCV(estimator = rf, param_grid = random_grid, \n",
        "                          cv = 3, n_jobs = -1, verbose = 2)\n",
        "# Fit the random search model\n",
        "rf_Grid.fit(X_train, y_train)"
      ]
    },
    {
      "cell_type": "code",
      "execution_count": null,
      "metadata": {
        "colab": {
          "base_uri": "https://localhost:8080/"
        },
        "id": "dIj14Yd-qRIt",
        "outputId": "73a50a97-d6bf-4e56-ce5f-e5c3574f4e84"
      },
      "outputs": [
        {
          "output_type": "execute_result",
          "data": {
            "text/plain": [
              "{'bootstrap': True,\n",
              " 'max_depth': 11,\n",
              " 'max_features': 'sqrt',\n",
              " 'min_samples_leaf': 1,\n",
              " 'min_samples_split': 2,\n",
              " 'n_estimators': 200}"
            ]
          },
          "metadata": {},
          "execution_count": 213
        }
      ],
      "source": [
        "rf_Grid.best_params_"
      ]
    },
    {
      "cell_type": "code",
      "execution_count": null,
      "metadata": {
        "colab": {
          "base_uri": "https://localhost:8080/"
        },
        "id": "0cdGrtkZOFg1",
        "outputId": "655d44d0-e0b6-427b-92e4-8aab22b00ed2"
      },
      "outputs": [
        {
          "output_type": "stream",
          "name": "stdout",
          "text": [
            " Train Accuracy - : 0.987\n",
            " Test Accuracy - : 0.820\n"
          ]
        }
      ],
      "source": [
        "print (f' Train Accuracy - : {rf_Grid.score(X_train, y_train):.3f}')\n",
        "print (f' Test Accuracy - : {rf_Grid.score(X_test, y_test):.3f}')"
      ]
    },
    {
      "cell_type": "code",
      "source": [
        "import numpy as np\n",
        "\n",
        "from sklearn.svm import LinearSVC\n",
        "\n",
        "\n",
        "class NaivelyCalibratedLinearSVC(LinearSVC):\n",
        "    \"\"\"LinearSVC with `predict_proba` method that naively scales\n",
        "    `decision_function` output.\"\"\"\n",
        "\n",
        "    def fit(self, X, y):\n",
        "        super().fit(X, y)\n",
        "        df = self.decision_function(X)\n",
        "        self.df_min_ = df.min()\n",
        "        self.df_max_ = df.max()\n",
        "\n",
        "    def predict_proba(self, X):\n",
        "        \"\"\"Min-max scale output of `decision_function` to [0,1].\"\"\"\n",
        "        df = self.decision_function(X)\n",
        "        calibrated_df = (df - self.df_min_) / (self.df_max_ - self.df_min_)\n",
        "        proba_pos_class = np.clip(calibrated_df, 0, 1)\n",
        "        proba_neg_class = 1 - proba_pos_class\n",
        "        proba = np.c_[proba_neg_class, proba_pos_class]\n",
        "        return proba"
      ],
      "metadata": {
        "id": "9jX9MDMk74LC"
      },
      "execution_count": 167,
      "outputs": []
    },
    {
      "cell_type": "code",
      "source": [
        "from sklearn.calibration import CalibrationDisplay\n",
        "from sklearn.ensemble import RandomForestClassifier\n",
        "from sklearn.linear_model import LogisticRegression\n",
        "from sklearn.naive_bayes import GaussianNB\n",
        "\n",
        "# Create classifiers\n",
        "lr = LogisticRegression()\n",
        "gnb = GaussianNB()\n",
        "svc = NaivelyCalibratedLinearSVC(C=1.0)\n",
        "rfc = RandomForestClassifier()\n",
        "\n",
        "clf_list = [\n",
        "    (lr, \"Logistic\"),\n",
        "    (gnb, \"Naive Bayes\"),\n",
        "    (svc, \"SVC\"),\n",
        "    (rfc, \"Random forest\"),\n",
        "]"
      ],
      "metadata": {
        "id": "tWkEBJuQ76UI"
      },
      "execution_count": 168,
      "outputs": []
    },
    {
      "cell_type": "code",
      "source": [
        "import matplotlib.pyplot as plt\n",
        "from matplotlib.gridspec import GridSpec\n",
        "\n",
        "fig = plt.figure(figsize=(10, 10))\n",
        "gs = GridSpec(4, 2)\n",
        "colors = plt.cm.get_cmap(\"Dark2\")\n",
        "\n",
        "ax_calibration_curve = fig.add_subplot(gs[:2, :2])\n",
        "calibration_displays = {}\n",
        "for i, (clf, name) in enumerate(clf_list):\n",
        "    clf.fit(X_train, y_train)\n",
        "    display = CalibrationDisplay.from_estimator(\n",
        "        clf,\n",
        "        X_test,\n",
        "        y_test,\n",
        "        n_bins=10,\n",
        "        name=name,\n",
        "        ax=ax_calibration_curve,\n",
        "        color=colors(i),\n",
        "    )\n",
        "    calibration_displays[name] = display\n",
        "\n",
        "ax_calibration_curve.grid()\n",
        "ax_calibration_curve.set_title(\"Calibration plots\")\n",
        "\n",
        "# Add histogram\n",
        "grid_positions = [(2, 0), (2, 1), (3, 0), (3, 1)]\n",
        "for i, (_, name) in enumerate(clf_list):\n",
        "    row, col = grid_positions[i]\n",
        "    ax = fig.add_subplot(gs[row, col])\n",
        "\n",
        "    ax.hist(\n",
        "        calibration_displays[name].y_prob,\n",
        "        range=(0, 1),\n",
        "        bins=10,\n",
        "        label=name,\n",
        "        color=colors(i),\n",
        "    )\n",
        "    ax.set(title=name, xlabel=\"Mean predicted probability\", ylabel=\"Count\")\n",
        "\n",
        "plt.tight_layout()\n",
        "plt.show()"
      ],
      "metadata": {
        "colab": {
          "base_uri": "https://localhost:8080/",
          "height": 926
        },
        "id": "6_1hfN6R7-xG",
        "outputId": "f9b0ef84-7dc2-4fe5-e9e8-a7efc18ffc27"
      },
      "execution_count": 171,
      "outputs": [
        {
          "output_type": "stream",
          "name": "stderr",
          "text": [
            "/usr/local/lib/python3.7/dist-packages/sklearn/linear_model/_logistic.py:818: ConvergenceWarning: lbfgs failed to converge (status=1):\n",
            "STOP: TOTAL NO. of ITERATIONS REACHED LIMIT.\n",
            "\n",
            "Increase the number of iterations (max_iter) or scale the data as shown in:\n",
            "    https://scikit-learn.org/stable/modules/preprocessing.html\n",
            "Please also refer to the documentation for alternative solver options:\n",
            "    https://scikit-learn.org/stable/modules/linear_model.html#logistic-regression\n",
            "  extra_warning_msg=_LOGISTIC_SOLVER_CONVERGENCE_MSG,\n",
            "/usr/local/lib/python3.7/dist-packages/sklearn/svm/_base.py:1208: ConvergenceWarning: Liblinear failed to converge, increase the number of iterations.\n",
            "  ConvergenceWarning,\n"
          ]
        },
        {
          "output_type": "display_data",
          "data": {
            "image/png": "[encoded data removed]",
            "text/plain": [
              "<Figure size 720x720 with 5 Axes>"
            ]
          },
          "metadata": {}
        }
      ]
    },
    {
      "cell_type": "code",
      "source": [
        ""
      ],
      "metadata": {
        "id": "WBWd0OTY90k3"
      },
      "execution_count": null,
      "outputs": []
    },
    {
      "cell_type": "markdown",
      "source": [
        "# **For instance, a well calibrated (binary) classifier should classify the samples such that for the samples to which it gave a predict_proba value close to 0.8, approximately 80% actually belong to the positive class.**"
      ],
      "metadata": {
        "id": "pfyRrM9y91Wz"
      }
    },
    {
      "cell_type": "code",
      "execution_count": null,
      "metadata": {
        "colab": {
          "base_uri": "https://localhost:8080/"
        },
        "id": "F65zOk_MmcR_",
        "outputId": "baa06aa9-7f46-427b-9c6a-230dade0fa60"
      },
      "outputs": [
        {
          "output_type": "stream",
          "name": "stdout",
          "text": [
            "Collecting wandb\n",
            "  Downloading wandb-0.12.9-py2.py3-none-any.whl (1.7 MB)\n",
            "\u001b[?25l\r\u001b[K     |▏                               | 10 kB 21.2 MB/s eta 0:00:01\r\u001b[K     |▍                               | 20 kB 8.4 MB/s eta 0:00:01\r\u001b[K     |▋                               | 30 kB 7.3 MB/s eta 0:00:01\r\u001b[K     |▊                               | 40 kB 6.8 MB/s eta 0:00:01\r\u001b[K     |█                               | 51 kB 5.0 MB/s eta 0:00:01\r\u001b[K     |█▏                              | 61 kB 5.1 MB/s eta 0:00:01\r\u001b[K     |█▍                              | 71 kB 5.2 MB/s eta 0:00:01\r\u001b[K     |█▌                              | 81 kB 5.8 MB/s eta 0:00:01\r\u001b[K     |█▊                              | 92 kB 4.6 MB/s eta 0:00:01\r\u001b[K     |██                              | 102 kB 5.0 MB/s eta 0:00:01\r\u001b[K     |██                              | 112 kB 5.0 MB/s eta 0:00:01\r\u001b[K     |██▎                             | 122 kB 5.0 MB/s eta 0:00:01\r\u001b[K     |██▌                             | 133 kB 5.0 MB/s eta 0:00:01\r\u001b[K     |██▊                             | 143 kB 5.0 MB/s eta 0:00:01\r\u001b[K     |██▉                             | 153 kB 5.0 MB/s eta 0:00:01\r\u001b[K     |███                             | 163 kB 5.0 MB/s eta 0:00:01\r\u001b[K     |███▎                            | 174 kB 5.0 MB/s eta 0:00:01\r\u001b[K     |███▍                            | 184 kB 5.0 MB/s eta 0:00:01\r\u001b[K     |███▋                            | 194 kB 5.0 MB/s eta 0:00:01\r\u001b[K     |███▉                            | 204 kB 5.0 MB/s eta 0:00:01\r\u001b[K     |████                            | 215 kB 5.0 MB/s eta 0:00:01\r\u001b[K     |████▏                           | 225 kB 5.0 MB/s eta 0:00:01\r\u001b[K     |████▍                           | 235 kB 5.0 MB/s eta 0:00:01\r\u001b[K     |████▋                           | 245 kB 5.0 MB/s eta 0:00:01\r\u001b[K     |████▉                           | 256 kB 5.0 MB/s eta 0:00:01\r\u001b[K     |█████                           | 266 kB 5.0 MB/s eta 0:00:01\r\u001b[K     |█████▏                          | 276 kB 5.0 MB/s eta 0:00:01\r\u001b[K     |█████▍                          | 286 kB 5.0 MB/s eta 0:00:01\r\u001b[K     |█████▌                          | 296 kB 5.0 MB/s eta 0:00:01\r\u001b[K     |█████▊                          | 307 kB 5.0 MB/s eta 0:00:01\r\u001b[K     |██████                          | 317 kB 5.0 MB/s eta 0:00:01\r\u001b[K     |██████▏                         | 327 kB 5.0 MB/s eta 0:00:01\r\u001b[K     |██████▎                         | 337 kB 5.0 MB/s eta 0:00:01\r\u001b[K     |██████▌                         | 348 kB 5.0 MB/s eta 0:00:01\r\u001b[K     |██████▊                         | 358 kB 5.0 MB/s eta 0:00:01\r\u001b[K     |██████▉                         | 368 kB 5.0 MB/s eta 0:00:01\r\u001b[K     |███████                         | 378 kB 5.0 MB/s eta 0:00:01\r\u001b[K     |███████▎                        | 389 kB 5.0 MB/s eta 0:00:01\r\u001b[K     |███████▌                        | 399 kB 5.0 MB/s eta 0:00:01\r\u001b[K     |███████▋                        | 409 kB 5.0 MB/s eta 0:00:01\r\u001b[K     |███████▉                        | 419 kB 5.0 MB/s eta 0:00:01\r\u001b[K     |████████                        | 430 kB 5.0 MB/s eta 0:00:01\r\u001b[K     |████████▎                       | 440 kB 5.0 MB/s eta 0:00:01\r\u001b[K     |████████▍                       | 450 kB 5.0 MB/s eta 0:00:01\r\u001b[K     |████████▋                       | 460 kB 5.0 MB/s eta 0:00:01\r\u001b[K     |████████▉                       | 471 kB 5.0 MB/s eta 0:00:01\r\u001b[K     |█████████                       | 481 kB 5.0 MB/s eta 0:00:01\r\u001b[K     |█████████▏                      | 491 kB 5.0 MB/s eta 0:00:01\r\u001b[K     |█████████▍                      | 501 kB 5.0 MB/s eta 0:00:01\r\u001b[K     |█████████▋                      | 512 kB 5.0 MB/s eta 0:00:01\r\u001b[K     |█████████▊                      | 522 kB 5.0 MB/s eta 0:00:01\r\u001b[K     |██████████                      | 532 kB 5.0 MB/s eta 0:00:01\r\u001b[K     |██████████▏                     | 542 kB 5.0 MB/s eta 0:00:01\r\u001b[K     |██████████▎                     | 552 kB 5.0 MB/s eta 0:00:01\r\u001b[K     |██████████▌                     | 563 kB 5.0 MB/s eta 0:00:01\r\u001b[K     |██████████▊                     | 573 kB 5.0 MB/s eta 0:00:01\r\u001b[K     |███████████                     | 583 kB 5.0 MB/s eta 0:00:01\r\u001b[K     |███████████                     | 593 kB 5.0 MB/s eta 0:00:01\r\u001b[K     |███████████▎                    | 604 kB 5.0 MB/s eta 0:00:01\r\u001b[K     |███████████▌                    | 614 kB 5.0 MB/s eta 0:00:01\r\u001b[K     |███████████▋                    | 624 kB 5.0 MB/s eta 0:00:01\r\u001b[K     |███████████▉                    | 634 kB 5.0 MB/s eta 0:00:01\r\u001b[K     |████████████                    | 645 kB 5.0 MB/s eta 0:00:01\r\u001b[K     |████████████▎                   | 655 kB 5.0 MB/s eta 0:00:01\r\u001b[K     |████████████▍                   | 665 kB 5.0 MB/s eta 0:00:01\r\u001b[K     |████████████▋                   | 675 kB 5.0 MB/s eta 0:00:01\r\u001b[K     |████████████▉                   | 686 kB 5.0 MB/s eta 0:00:01\r\u001b[K     |█████████████                   | 696 kB 5.0 MB/s eta 0:00:01\r\u001b[K     |█████████████▏                  | 706 kB 5.0 MB/s eta 0:00:01\r\u001b[K     |█████████████▍                  | 716 kB 5.0 MB/s eta 0:00:01\r\u001b[K     |█████████████▋                  | 727 kB 5.0 MB/s eta 0:00:01\r\u001b[K     |█████████████▊                  | 737 kB 5.0 MB/s eta 0:00:01\r\u001b[K     |██████████████                  | 747 kB 5.0 MB/s eta 0:00:01\r\u001b[K     |██████████████▏                 | 757 kB 5.0 MB/s eta 0:00:01\r\u001b[K     |██████████████▍                 | 768 kB 5.0 MB/s eta 0:00:01\r\u001b[K     |██████████████▌                 | 778 kB 5.0 MB/s eta 0:00:01\r\u001b[K     |██████████████▊                 | 788 kB 5.0 MB/s eta 0:00:01\r\u001b[K     |███████████████                 | 798 kB 5.0 MB/s eta 0:00:01\r\u001b[K     |███████████████                 | 808 kB 5.0 MB/s eta 0:00:01\r\u001b[K     |███████████████▎                | 819 kB 5.0 MB/s eta 0:00:01\r\u001b[K     |███████████████▌                | 829 kB 5.0 MB/s eta 0:00:01\r\u001b[K     |███████████████▊                | 839 kB 5.0 MB/s eta 0:00:01\r\u001b[K     |███████████████▉                | 849 kB 5.0 MB/s eta 0:00:01\r\u001b[K     |████████████████                | 860 kB 5.0 MB/s eta 0:00:01\r\u001b[K     |████████████████▎               | 870 kB 5.0 MB/s eta 0:00:01\r\u001b[K     |████████████████▌               | 880 kB 5.0 MB/s eta 0:00:01\r\u001b[K     |████████████████▋               | 890 kB 5.0 MB/s eta 0:00:01\r\u001b[K     |████████████████▉               | 901 kB 5.0 MB/s eta 0:00:01\r\u001b[K     |█████████████████               | 911 kB 5.0 MB/s eta 0:00:01\r\u001b[K     |█████████████████▏              | 921 kB 5.0 MB/s eta 0:00:01\r\u001b[K     |█████████████████▍              | 931 kB 5.0 MB/s eta 0:00:01\r\u001b[K     |█████████████████▋              | 942 kB 5.0 MB/s eta 0:00:01\r\u001b[K     |█████████████████▉              | 952 kB 5.0 MB/s eta 0:00:01\r\u001b[K     |██████████████████              | 962 kB 5.0 MB/s eta 0:00:01\r\u001b[K     |██████████████████▏             | 972 kB 5.0 MB/s eta 0:00:01\r\u001b[K     |██████████████████▍             | 983 kB 5.0 MB/s eta 0:00:01\r\u001b[K     |██████████████████▌             | 993 kB 5.0 MB/s eta 0:00:01\r\u001b[K     |██████████████████▊             | 1.0 MB 5.0 MB/s eta 0:00:01\r\u001b[K     |███████████████████             | 1.0 MB 5.0 MB/s eta 0:00:01\r\u001b[K     |███████████████████▏            | 1.0 MB 5.0 MB/s eta 0:00:01\r\u001b[K     |███████████████████▎            | 1.0 MB 5.0 MB/s eta 0:00:01\r\u001b[K     |███████████████████▌            | 1.0 MB 5.0 MB/s eta 0:00:01\r\u001b[K     |███████████████████▊            | 1.1 MB 5.0 MB/s eta 0:00:01\r\u001b[K     |███████████████████▉            | 1.1 MB 5.0 MB/s eta 0:00:01\r\u001b[K     |████████████████████            | 1.1 MB 5.0 MB/s eta 0:00:01\r\u001b[K     |████████████████████▎           | 1.1 MB 5.0 MB/s eta 0:00:01\r\u001b[K     |████████████████████▌           | 1.1 MB 5.0 MB/s eta 0:00:01\r\u001b[K     |████████████████████▋           | 1.1 MB 5.0 MB/s eta 0:00:01\r\u001b[K     |████████████████████▉           | 1.1 MB 5.0 MB/s eta 0:00:01\r\u001b[K     |█████████████████████           | 1.1 MB 5.0 MB/s eta 0:00:01\r\u001b[K     |█████████████████████▎          | 1.1 MB 5.0 MB/s eta 0:00:01\r\u001b[K     |█████████████████████▍          | 1.1 MB 5.0 MB/s eta 0:00:01\r\u001b[K     |█████████████████████▋          | 1.2 MB 5.0 MB/s eta 0:00:01\r\u001b[K     |█████████████████████▉          | 1.2 MB 5.0 MB/s eta 0:00:01\r\u001b[K     |██████████████████████          | 1.2 MB 5.0 MB/s eta 0:00:01\r\u001b[K     |██████████████████████▏         | 1.2 MB 5.0 MB/s eta 0:00:01\r\u001b[K     |██████████████████████▍         | 1.2 MB 5.0 MB/s eta 0:00:01\r\u001b[K     |██████████████████████▋         | 1.2 MB 5.0 MB/s eta 0:00:01\r\u001b[K     |██████████████████████▊         | 1.2 MB 5.0 MB/s eta 0:00:01\r\u001b[K     |███████████████████████         | 1.2 MB 5.0 MB/s eta 0:00:01\r\u001b[K     |███████████████████████▏        | 1.2 MB 5.0 MB/s eta 0:00:01\r\u001b[K     |███████████████████████▎        | 1.2 MB 5.0 MB/s eta 0:00:01\r\u001b[K     |███████████████████████▌        | 1.3 MB 5.0 MB/s eta 0:00:01\r\u001b[K     |███████████████████████▊        | 1.3 MB 5.0 MB/s eta 0:00:01\r\u001b[K     |████████████████████████        | 1.3 MB 5.0 MB/s eta 0:00:01\r\u001b[K     |████████████████████████        | 1.3 MB 5.0 MB/s eta 0:00:01\r\u001b[K     |████████████████████████▎       | 1.3 MB 5.0 MB/s eta 0:00:01\r\u001b[K     |████████████████████████▌       | 1.3 MB 5.0 MB/s eta 0:00:01\r\u001b[K     |████████████████████████▊       | 1.3 MB 5.0 MB/s eta 0:00:01\r\u001b[K     |████████████████████████▉       | 1.3 MB 5.0 MB/s eta 0:00:01\r\u001b[K     |█████████████████████████       | 1.3 MB 5.0 MB/s eta 0:00:01\r\u001b[K     |█████████████████████████▎      | 1.4 MB 5.0 MB/s eta 0:00:01\r\u001b[K     |█████████████████████████▍      | 1.4 MB 5.0 MB/s eta 0:00:01\r\u001b[K     |█████████████████████████▋      | 1.4 MB 5.0 MB/s eta 0:00:01\r\u001b[K     |█████████████████████████▉      | 1.4 MB 5.0 MB/s eta 0:00:01\r\u001b[K     |██████████████████████████      | 1.4 MB 5.0 MB/s eta 0:00:01\r\u001b[K     |██████████████████████████▏     | 1.4 MB 5.0 MB/s eta 0:00:01\r\u001b[K     |██████████████████████████▍     | 1.4 MB 5.0 MB/s eta 0:00:01\r\u001b[K     |██████████████████████████▋     | 1.4 MB 5.0 MB/s eta 0:00:01\r\u001b[K     |██████████████████████████▊     | 1.4 MB 5.0 MB/s eta 0:00:01\r\u001b[K     |███████████████████████████     | 1.4 MB 5.0 MB/s eta 0:00:01\r\u001b[K     |███████████████████████████▏    | 1.5 MB 5.0 MB/s eta 0:00:01\r\u001b[K     |███████████████████████████▍    | 1.5 MB 5.0 MB/s eta 0:00:01\r\u001b[K     |███████████████████████████▌    | 1.5 MB 5.0 MB/s eta 0:00:01\r\u001b[K     |███████████████████████████▊    | 1.5 MB 5.0 MB/s eta 0:00:01\r\u001b[K     |████████████████████████████    | 1.5 MB 5.0 MB/s eta 0:00:01\r\u001b[K     |████████████████████████████▏   | 1.5 MB 5.0 MB/s eta 0:00:01\r\u001b[K     |████████████████████████████▎   | 1.5 MB 5.0 MB/s eta 0:00:01\r\u001b[K     |████████████████████████████▌   | 1.5 MB 5.0 MB/s eta 0:00:01\r\u001b[K     |████████████████████████████▊   | 1.5 MB 5.0 MB/s eta 0:00:01\r\u001b[K     |████████████████████████████▉   | 1.5 MB 5.0 MB/s eta 0:00:01\r\u001b[K     |█████████████████████████████   | 1.6 MB 5.0 MB/s eta 0:00:01\r\u001b[K     |█████████████████████████████▎  | 1.6 MB 5.0 MB/s eta 0:00:01\r\u001b[K     |█████████████████████████████▌  | 1.6 MB 5.0 MB/s eta 0:00:01\r\u001b[K     |█████████████████████████████▋  | 1.6 MB 5.0 MB/s eta 0:00:01\r\u001b[K     |█████████████████████████████▉  | 1.6 MB 5.0 MB/s eta 0:00:01\r\u001b[K     |██████████████████████████████  | 1.6 MB 5.0 MB/s eta 0:00:01\r\u001b[K     |██████████████████████████████▏ | 1.6 MB 5.0 MB/s eta 0:00:01\r\u001b[K     |██████████████████████████████▍ | 1.6 MB 5.0 MB/s eta 0:00:01\r\u001b[K     |██████████████████████████████▋ | 1.6 MB 5.0 MB/s eta 0:00:01\r\u001b[K     |██████████████████████████████▉ | 1.6 MB 5.0 MB/s eta 0:00:01\r\u001b[K     |███████████████████████████████ | 1.7 MB 5.0 MB/s eta 0:00:01\r\u001b[K     |███████████████████████████████▏| 1.7 MB 5.0 MB/s eta 0:00:01\r\u001b[K     |███████████████████████████████▍| 1.7 MB 5.0 MB/s eta 0:00:01\r\u001b[K     |███████████████████████████████▌| 1.7 MB 5.0 MB/s eta 0:00:01\r\u001b[K     |███████████████████████████████▊| 1.7 MB 5.0 MB/s eta 0:00:01\r\u001b[K     |████████████████████████████████| 1.7 MB 5.0 MB/s eta 0:00:01\r\u001b[K     |████████████████████████████████| 1.7 MB 5.0 MB/s \n",
            "\u001b[?25hCollecting shortuuid>=0.5.0\n",
            "  Downloading shortuuid-1.0.8-py3-none-any.whl (9.5 kB)\n",
            "Collecting sentry-sdk>=1.0.0\n",
            "  Downloading sentry_sdk-1.5.3-py2.py3-none-any.whl (142 kB)\n",
            "\u001b[K     |████████████████████████████████| 142 kB 47.6 MB/s \n",
            "\u001b[?25hCollecting GitPython>=1.0.0\n",
            "  Downloading GitPython-3.1.26-py3-none-any.whl (180 kB)\n",
            "\u001b[K     |████████████████████████████████| 180 kB 46.2 MB/s \n",
            "\u001b[?25hRequirement already satisfied: psutil>=5.0.0 in /usr/local/lib/python3.7/dist-packages (from wandb) (5.4.8)\n",
            "Collecting subprocess32>=3.5.3\n",
            "  Downloading subprocess32-3.5.4.tar.gz (97 kB)\n",
            "\u001b[K     |████████████████████████████████| 97 kB 6.4 MB/s \n",
            "\u001b[?25hCollecting configparser>=3.8.1\n",
            "  Downloading configparser-5.2.0-py3-none-any.whl (19 kB)\n",
            "Collecting pathtools\n",
            "  Downloading pathtools-0.1.2.tar.gz (11 kB)\n",
            "Collecting docker-pycreds>=0.4.0\n",
            "  Downloading docker_pycreds-0.4.0-py2.py3-none-any.whl (9.0 kB)\n",
            "Requirement already satisfied: requests<3,>=2.0.0 in /usr/local/lib/python3.7/dist-packages (from wandb) (2.23.0)\n",
            "Requirement already satisfied: protobuf>=3.12.0 in /usr/local/lib/python3.7/dist-packages (from wandb) (3.17.3)\n",
            "Requirement already satisfied: Click!=8.0.0,>=7.0 in /usr/local/lib/python3.7/dist-packages (from wandb) (7.1.2)\n",
            "Requirement already satisfied: promise<3,>=2.0 in /usr/local/lib/python3.7/dist-packages (from wandb) (2.3)\n",
            "Requirement already satisfied: six>=1.13.0 in /usr/local/lib/python3.7/dist-packages (from wandb) (1.15.0)\n",
            "Collecting yaspin>=1.0.0\n",
            "  Downloading yaspin-2.1.0-py3-none-any.whl (18 kB)\n",
            "Requirement already satisfied: PyYAML in /usr/local/lib/python3.7/dist-packages (from wandb) (3.13)\n",
            "Requirement already satisfied: python-dateutil>=2.6.1 in /usr/local/lib/python3.7/dist-packages (from wandb) (2.8.2)\n",
            "Requirement already satisfied: typing-extensions>=3.7.4.3 in /usr/local/lib/python3.7/dist-packages (from GitPython>=1.0.0->wandb) (3.10.0.2)\n",
            "Collecting gitdb<5,>=4.0.1\n",
            "  Downloading gitdb-4.0.9-py3-none-any.whl (63 kB)\n",
            "\u001b[K     |████████████████████████████████| 63 kB 1.5 MB/s \n",
            "\u001b[?25hCollecting smmap<6,>=3.0.1\n",
            "  Downloading smmap-5.0.0-py3-none-any.whl (24 kB)\n",
            "Requirement already satisfied: chardet<4,>=3.0.2 in /usr/local/lib/python3.7/dist-packages (from requests<3,>=2.0.0->wandb) (3.0.4)\n",
            "Requirement already satisfied: idna<3,>=2.5 in /usr/local/lib/python3.7/dist-packages (from requests<3,>=2.0.0->wandb) (2.10)\n",
            "Requirement already satisfied: certifi>=2017.4.17 in /usr/local/lib/python3.7/dist-packages (from requests<3,>=2.0.0->wandb) (2021.10.8)\n",
            "Requirement already satisfied: urllib3!=1.25.0,!=1.25.1,<1.26,>=1.21.1 in /usr/local/lib/python3.7/dist-packages (from requests<3,>=2.0.0->wandb) (1.24.3)\n",
            "Requirement already satisfied: termcolor<2.0.0,>=1.1.0 in /usr/local/lib/python3.7/dist-packages (from yaspin>=1.0.0->wandb) (1.1.0)\n",
            "Building wheels for collected packages: subprocess32, pathtools\n",
            "  Building wheel for subprocess32 (setup.py) ... \u001b[?25l\u001b[?25hdone\n",
            "  Created wheel for subprocess32: filename=subprocess32-3.5.4-py3-none-any.whl size=6502 sha256=88a2da202a1e77c01a248c26252bc6c1877ff185d9f26c2d371c81265c3c2f41\n",
            "  Stored in directory: /root/.cache/pip/wheels/50/ca/fa/8fca8d246e64f19488d07567547ddec8eb084e8c0d7a59226a\n",
            "  Building wheel for pathtools (setup.py) ... \u001b[?25l\u001b[?25hdone\n",
            "  Created wheel for pathtools: filename=pathtools-0.1.2-py3-none-any.whl size=8806 sha256=d63b27fc4bdf9ac3f5f6ea6c7bb54cefc29128d3456603bbfcd8182a14ef5e14\n",
            "  Stored in directory: /root/.cache/pip/wheels/3e/31/09/fa59cef12cdcfecc627b3d24273699f390e71828921b2cbba2\n",
            "Successfully built subprocess32 pathtools\n",
            "Installing collected packages: smmap, gitdb, yaspin, subprocess32, shortuuid, sentry-sdk, pathtools, GitPython, docker-pycreds, configparser, wandb\n",
            "Successfully installed GitPython-3.1.26 configparser-5.2.0 docker-pycreds-0.4.0 gitdb-4.0.9 pathtools-0.1.2 sentry-sdk-1.5.3 shortuuid-1.0.8 smmap-5.0.0 subprocess32-3.5.4 wandb-0.12.9 yaspin-2.1.0\n"
          ]
        }
      ],
      "source": [
        "!pip install wandb\n"
      ]
    },
    {
      "cell_type": "code",
      "source": [
        "import warnings\n",
        "\n",
        "import matplotlib.pyplot as plt\n",
        "import numpy as np\n",
        "import pandas as pd\n",
        "\n",
        "from sklearn.svm import SVC\n",
        "from sklearn.ensemble import RandomForestClassifier\n",
        "from sklearn.linear_model import LinearRegression\n",
        "from sklearn.linear_model import Ridge\n",
        "from sklearn.tree import DecisionTreeClassifier\n",
        "from sklearn.cluster import KMeans\n",
        "from sklearn import datasets, cluster\n",
        "\n",
        "from sklearn.model_selection import train_test_split\n",
        "from sklearn.utils.class_weight import compute_class_weight\n",
        "\n",
        "from sklearn.exceptions import ConvergenceWarning\n",
        "warnings.filterwarnings(\"ignore\", category=ConvergenceWarning)"
      ],
      "metadata": {
        "id": "X0xNW8UKyLVq"
      },
      "execution_count": null,
      "outputs": []
    },
    {
      "cell_type": "code",
      "execution_count": null,
      "metadata": {
        "colab": {
          "base_uri": "https://localhost:8080/"
        },
        "id": "0xvSP-QKmiAR",
        "outputId": "ddaf9344-3818-4ea1-afa8-17b6f7905408"
      },
      "outputs": [
        {
          "output_type": "execute_result",
          "data": {
            "text/plain": [
              "True"
            ]
          },
          "metadata": {},
          "execution_count": 216
        }
      ],
      "source": [
        "import wandb\n",
        "\n",
        "wandb.login()"
      ]
    },
    {
      "cell_type": "code",
      "execution_count": null,
      "metadata": {
        "colab": {
          "base_uri": "https://localhost:8080/",
          "height": 54
        },
        "id": "_HoN7q6UnOok",
        "outputId": "5c18d7e8-f0b1-4ebd-e9a4-e4ca7c2a7005"
      },
      "outputs": [
        {
          "output_type": "display_data",
          "data": {
            "text/html": [
              "\n",
              "                    Syncing run <strong><a href=\"https://wandb.ai/kevinc/my-test-project/runs/1z8rxff4\" target=\"_blank\">frosty-silence-3</a></strong> to <a href=\"https://wandb.ai/kevinc/my-test-project\" target=\"_blank\">Weights & Biases</a> (<a href=\"https://docs.wandb.com/integrations/jupyter.html\" target=\"_blank\">docs</a>).<br/>\n",
              "\n",
              "                "
            ],
            "text/plain": [
              "<IPython.core.display.HTML object>"
            ]
          },
          "metadata": {}
        },
        {
          "output_type": "execute_result",
          "data": {
            "text/plain": [
              "<wandb.sdk.wandb_run.Run at 0x7f9701c7b990>"
            ],
            "text/html": [
              "<button onClick=\"this.nextSibling.style.display='block';this.style.display='none';\">Display W&B run</button><iframe src=\"https://wandb.ai/kevinc/my-test-project/runs/1z8rxff4?jupyter=true\" style=\"border:none;width:100%;height:420px;display:none;\"></iframe>"
            ]
          },
          "metadata": {},
          "execution_count": 217
        }
      ],
      "source": [
        "import wandb\n",
        "\n",
        "wandb.init(project=\"my-test-project\", entity=\"kevinc\")"
      ]
    },
    {
      "cell_type": "markdown",
      "source": [
        "# **Regression**"
      ],
      "metadata": {
        "id": "AUxgjnaiyoPg"
      }
    },
    {
      "cell_type": "code",
      "execution_count": null,
      "metadata": {
        "id": "utKf5aBRnUcL"
      },
      "outputs": [],
      "source": [
        "# Load data\n",
        "housing = datasets.fetch_california_housing()\n",
        "X = pd.DataFrame(housing.data, columns=housing.feature_names)\n",
        "y = housing.target\n",
        "X, y = X[::2], y[::2]  # subsample for faster demo\n",
        "wandb.errors.term._show_warnings = False\n",
        "# ignore warnings about charts being built from subset of data\n",
        "\n",
        "X_train, X_test, y_train, y_test = train_test_split(X, y, test_size=0.3)\n",
        "\n",
        "# Train model, get predictions\n",
        "reg = Ridge()\n",
        "reg.fit(X_train, y_train)\n",
        "y_pred = reg.predict(X_test)"
      ]
    },
    {
      "cell_type": "markdown",
      "source": [
        "# **Step 2: Initialize W&B run**"
      ],
      "metadata": {
        "id": "sL24ewZiygsY"
      }
    },
    {
      "cell_type": "code",
      "execution_count": null,
      "metadata": {
        "colab": {
          "base_uri": "https://localhost:8080/",
          "height": 176,
          "referenced_widgets": [
            "cdb93a157ba5447fb43ea8f6060500b3",
            "f595b2adbf824820bdb084da36d288fa",
            "ea2a0418193e4fa3a4dac2fea6222344",
            "522a1ca0480546d2935a9a4ec0f79586",
            "44b5713d494a4091b0f754e93f3b94b8",
            "4430540975d44e2c9e313bfc56cec4f7",
            "b4c2711f2bea4020a7e28471af6a65d6",
            "2ee58e56d9ed4cd7bec34a4f4b686d3a"
          ]
        },
        "id": "WFy7x2Y4nYYH",
        "outputId": "06a11e0a-998e-4a74-d848-eee4ed89ab47"
      },
      "outputs": [
        {
          "output_type": "display_data",
          "data": {
            "text/html": [
              "Finishing last run (ID:1z8rxff4) before initializing another..."
            ],
            "text/plain": [
              "<IPython.core.display.HTML object>"
            ]
          },
          "metadata": {}
        },
        {
          "output_type": "display_data",
          "data": {
            "text/html": [
              "<br/>Waiting for W&B process to finish, PID 1371... <strong style=\"color:green\">(success).</strong>"
            ],
            "text/plain": [
              "<IPython.core.display.HTML object>"
            ]
          },
          "metadata": {}
        },
        {
          "output_type": "display_data",
          "data": {
            "application/vnd.jupyter.widget-view+json": {
              "model_id": "cdb93a157ba5447fb43ea8f6060500b3",
              "version_minor": 0,
              "version_major": 2
            },
            "text/plain": [
              "VBox(children=(Label(value=' 0.00MB of 0.00MB uploaded (0.00MB deduped)\\r'), FloatProgress(value=1.0, max=1.0)…"
            ]
          },
          "metadata": {}
        },
        {
          "output_type": "display_data",
          "data": {
            "text/html": [
              "<style>\n",
              "    table.wandb td:nth-child(1) { padding: 0 10px; text-align: right }\n",
              "    .wandb-row { display: flex; flex-direction: row; flex-wrap: wrap; width: 100% }\n",
              "    .wandb-col { display: flex; flex-direction: column; flex-basis: 100%; flex: 1; padding: 10px; }\n",
              "    </style>\n",
              "<div class=\"wandb-row\"><div class=\"wandb-col\">\n",
              "</div><div class=\"wandb-col\">\n",
              "</div></div>\n",
              "Synced 4 W&B file(s), 0 media file(s), 0 artifact file(s) and 0 other file(s)\n",
              "<br/>Synced <strong style=\"color:#cdcd00\">frosty-silence-3</strong>: <a href=\"https://wandb.ai/kevinc/my-test-project/runs/1z8rxff4\" target=\"_blank\">https://wandb.ai/kevinc/my-test-project/runs/1z8rxff4</a><br/>\n",
              "Find logs at: <code>./wandb/run-20220124_213629-1z8rxff4/logs</code><br/>\n"
            ],
            "text/plain": [
              "<IPython.core.display.HTML object>"
            ]
          },
          "metadata": {}
        },
        {
          "output_type": "display_data",
          "data": {
            "text/html": [
              "Successfully finished last run (ID:1z8rxff4). Initializing new run:<br/>"
            ],
            "text/plain": [
              "<IPython.core.display.HTML object>"
            ]
          },
          "metadata": {}
        },
        {
          "output_type": "display_data",
          "data": {
            "text/html": [
              "\n",
              "                    Syncing run <strong><a href=\"https://wandb.ai/kevinc/my-scikit-integration/runs/2ytwwyzn\" target=\"_blank\">regression</a></strong> to <a href=\"https://wandb.ai/kevinc/my-scikit-integration\" target=\"_blank\">Weights & Biases</a> (<a href=\"https://docs.wandb.com/integrations/jupyter.html\" target=\"_blank\">docs</a>).<br/>\n",
              "\n",
              "                "
            ],
            "text/plain": [
              "<IPython.core.display.HTML object>"
            ]
          },
          "metadata": {}
        }
      ],
      "source": [
        "run = wandb.init(project='my-scikit-integration', name=\"regression\")"
      ]
    },
    {
      "cell_type": "markdown",
      "source": [
        "# **Step 3: Visualize model performance**"
      ],
      "metadata": {
        "id": "gu72VPs3ywls"
      }
    },
    {
      "cell_type": "code",
      "execution_count": null,
      "metadata": {
        "id": "bSNAG68Gfb5Q",
        "colab": {
          "base_uri": "https://localhost:8080/"
        },
        "outputId": "d26b59b5-63c6-45a3-b32a-fed87534fae1"
      },
      "outputs": [
        {
          "output_type": "stream",
          "name": "stderr",
          "text": [
            "/usr/local/lib/python3.7/dist-packages/sklearn/base.py:451: UserWarning: X does not have valid feature names, but Ridge was fitted with feature names\n",
            "  \"X does not have valid feature names, but\"\n"
          ]
        }
      ],
      "source": [
        "wandb.sklearn.plot_residuals(reg, X_train, y_train)"
      ]
    },
    {
      "cell_type": "code",
      "source": [
        "wandb.sklearn.plot_outlier_candidates(reg, X_train, y_train)"
      ],
      "metadata": {
        "colab": {
          "base_uri": "https://localhost:8080/"
        },
        "id": "gBCRu369y4k5",
        "outputId": "0ae12d42-f8af-46e0-da79-5b2681a69816"
      },
      "execution_count": null,
      "outputs": [
        {
          "output_type": "stream",
          "name": "stderr",
          "text": [
            "/usr/local/lib/python3.7/dist-packages/sklearn/base.py:451: UserWarning: X does not have valid feature names, but Ridge was fitted with feature names\n",
            "  \"X does not have valid feature names, but\"\n"
          ]
        }
      ]
    },
    {
      "cell_type": "code",
      "source": [
        "wandb.sklearn.plot_regressor(reg, X_train, X_test, y_train, y_test, model_name='Ridge')\n",
        "\n",
        "wandb.finish()"
      ],
      "metadata": {
        "colab": {
          "base_uri": "https://localhost:8080/",
          "height": 332,
          "referenced_widgets": [
            "06da195ab5634848bde2e7de2d9a179a",
            "ea7d863f5189497895ff60b09578b8a0",
            "c925d8388705496fb8a0e7d16d2a8f82",
            "4e314cadaee544a48695f0aa80c12bed",
            "7d45092a3cc8402faf78fadd3005fd4f",
            "032188d62344461cbe1a37fd39556128",
            "c26a47985023464d9a095aaafddfc285",
            "497e90c0920f45b1a5899788cc439d53"
          ]
        },
        "id": "moAxDWgyy8wF",
        "outputId": "947d9e18-7489-46d0-b896-0a82b5d9cc92"
      },
      "execution_count": null,
      "outputs": [
        {
          "output_type": "stream",
          "name": "stderr",
          "text": [
            "\u001b[34m\u001b[1mwandb\u001b[0m: \n",
            "\u001b[34m\u001b[1mwandb\u001b[0m: Plotting Ridge.\n",
            "/usr/local/lib/python3.7/dist-packages/sklearn/base.py:451: UserWarning: X does not have valid feature names, but Ridge was fitted with feature names\n",
            "  \"X does not have valid feature names, but\"\n",
            "\u001b[34m\u001b[1mwandb\u001b[0m: Logged summary metrics.\n",
            "\u001b[34m\u001b[1mwandb\u001b[0m: Logged learning curve.\n",
            "/usr/local/lib/python3.7/dist-packages/sklearn/base.py:451: UserWarning: X does not have valid feature names, but Ridge was fitted with feature names\n",
            "  \"X does not have valid feature names, but\"\n",
            "\u001b[34m\u001b[1mwandb\u001b[0m: Logged outlier candidates.\n",
            "/usr/local/lib/python3.7/dist-packages/sklearn/base.py:451: UserWarning: X does not have valid feature names, but Ridge was fitted with feature names\n",
            "  \"X does not have valid feature names, but\"\n",
            "\u001b[34m\u001b[1mwandb\u001b[0m: Logged residuals.\n"
          ]
        },
        {
          "output_type": "display_data",
          "data": {
            "text/html": [
              "<br/>Waiting for W&B process to finish, PID 1410... <strong style=\"color:green\">(success).</strong>"
            ],
            "text/plain": [
              "<IPython.core.display.HTML object>"
            ]
          },
          "metadata": {}
        },
        {
          "output_type": "display_data",
          "data": {
            "application/vnd.jupyter.widget-view+json": {
              "model_id": "06da195ab5634848bde2e7de2d9a179a",
              "version_minor": 0,
              "version_major": 2
            },
            "text/plain": [
              "VBox(children=(Label(value=' 0.23MB of 0.25MB uploaded (0.00MB deduped)\\r'), FloatProgress(value=0.92879193646…"
            ]
          },
          "metadata": {}
        },
        {
          "output_type": "display_data",
          "data": {
            "text/html": [
              "<style>\n",
              "    table.wandb td:nth-child(1) { padding: 0 10px; text-align: right }\n",
              "    .wandb-row { display: flex; flex-direction: row; flex-wrap: wrap; width: 100% }\n",
              "    .wandb-col { display: flex; flex-direction: column; flex-basis: 100%; flex: 1; padding: 10px; }\n",
              "    </style>\n",
              "<div class=\"wandb-row\"><div class=\"wandb-col\">\n",
              "</div><div class=\"wandb-col\">\n",
              "</div></div>\n",
              "Synced 5 W&B file(s), 6 media file(s), 5 artifact file(s) and 0 other file(s)\n",
              "<br/>Synced <strong style=\"color:#cdcd00\">regression</strong>: <a href=\"https://wandb.ai/kevinc/my-scikit-integration/runs/2ytwwyzn\" target=\"_blank\">https://wandb.ai/kevinc/my-scikit-integration/runs/2ytwwyzn</a><br/>\n",
              "Find logs at: <code>./wandb/run-20220124_213641-2ytwwyzn/logs</code><br/>\n"
            ],
            "text/plain": [
              "<IPython.core.display.HTML object>"
            ]
          },
          "metadata": {}
        }
      ]
    },
    {
      "cell_type": "markdown",
      "source": [
        "# **Classification**"
      ],
      "metadata": {
        "id": "3fug9qfRzCN0"
      }
    },
    {
      "cell_type": "code",
      "source": [
        "# Load data\n",
        "wbcd = wisconsin_breast_cancer_data = datasets.load_breast_cancer()\n",
        "feature_names = wbcd.feature_names\n",
        "labels = wbcd.target_names\n",
        "\n",
        "X_train, X_test, y_train, y_test = train_test_split(wbcd.data, wbcd.target, test_size=0.2)\n",
        "\n",
        "\n",
        "# Train model, get predictions\n",
        "model = RandomForestClassifier()\n",
        "model.fit(X_train, y_train)\n",
        "y_pred = model.predict(X_test)\n",
        "y_probas = model.predict_proba(X_test)\n",
        "importances = model.feature_importances_\n",
        "indices = np.argsort(importances)[::-1]"
      ],
      "metadata": {
        "id": "pylBicuvzAVj"
      },
      "execution_count": null,
      "outputs": []
    },
    {
      "cell_type": "markdown",
      "source": [
        "# **Step 2: Initialize W&B run**"
      ],
      "metadata": {
        "id": "KbgNdCgwzJk6"
      }
    },
    {
      "cell_type": "code",
      "source": [
        "run = wandb.init(project='my-scikit-integration', name=\"classification\")"
      ],
      "metadata": {
        "colab": {
          "base_uri": "https://localhost:8080/",
          "height": 34
        },
        "id": "fGoXAj2VzG1h",
        "outputId": "3cdeb93f-6136-49fb-ae1b-4551413fe13e"
      },
      "execution_count": null,
      "outputs": [
        {
          "output_type": "display_data",
          "data": {
            "text/html": [
              "\n",
              "                    Syncing run <strong><a href=\"https://wandb.ai/kevinc/my-scikit-integration/runs/314q84rf\" target=\"_blank\">classification</a></strong> to <a href=\"https://wandb.ai/kevinc/my-scikit-integration\" target=\"_blank\">Weights & Biases</a> (<a href=\"https://docs.wandb.com/integrations/jupyter.html\" target=\"_blank\">docs</a>).<br/>\n",
              "\n",
              "                "
            ],
            "text/plain": [
              "<IPython.core.display.HTML object>"
            ]
          },
          "metadata": {}
        }
      ]
    },
    {
      "cell_type": "markdown",
      "source": [
        "# **Step 3: Visualize model performance**"
      ],
      "metadata": {
        "id": "xRbXnT0GzNzR"
      }
    },
    {
      "cell_type": "code",
      "source": [
        "wandb.sklearn.plot_class_proportions(y_train, y_test, labels)"
      ],
      "metadata": {
        "id": "WY32ZPJUzGSQ"
      },
      "execution_count": null,
      "outputs": []
    },
    {
      "cell_type": "markdown",
      "source": [
        "# **Learning Curve**"
      ],
      "metadata": {
        "id": "92-ZbIR_zb-F"
      }
    },
    {
      "cell_type": "code",
      "source": [
        "wandb.sklearn.plot_learning_curve(model, X_train, y_train)"
      ],
      "metadata": {
        "id": "PnMVDAoLzYo4"
      },
      "execution_count": null,
      "outputs": []
    },
    {
      "cell_type": "markdown",
      "source": [
        "# **ROC**"
      ],
      "metadata": {
        "id": "jiLIoOIyzhmc"
      }
    },
    {
      "cell_type": "code",
      "source": [
        "wandb.sklearn.plot_roc(y_test, y_probas, labels)"
      ],
      "metadata": {
        "id": "K3JC23wfzZQk"
      },
      "execution_count": null,
      "outputs": []
    },
    {
      "cell_type": "markdown",
      "source": [
        "# **Precision Recall Curve**"
      ],
      "metadata": {
        "id": "C_aWBf-nznat"
      }
    },
    {
      "cell_type": "code",
      "source": [
        "wandb.sklearn.plot_precision_recall(y_test, y_probas, labels)"
      ],
      "metadata": {
        "id": "fsPyyOgbzflU"
      },
      "execution_count": null,
      "outputs": []
    },
    {
      "cell_type": "markdown",
      "source": [
        "# **Feature Importances**"
      ],
      "metadata": {
        "id": "XrjCPRHFzs31"
      }
    },
    {
      "cell_type": "code",
      "source": [
        "wandb.sklearn.plot_feature_importances(model);"
      ],
      "metadata": {
        "id": "Rtno7jUvzfrx"
      },
      "execution_count": null,
      "outputs": []
    },
    {
      "cell_type": "markdown",
      "source": [
        "# **All-in-one: Classifier Plot**\n",
        "Using this all in one API one can:\n",
        "\n",
        "# Log feature importance\n",
        "Log learning curve\n",
        "Log confusion matrix\n",
        "Log summary metrics\n",
        "Log class proportions\n",
        "Log calibration curve\n",
        "Log roc curve\n",
        "Log precision recall curve **bold text**"
      ],
      "metadata": {
        "id": "08GuKGzDz2yU"
      }
    },
    {
      "cell_type": "code",
      "source": [
        "wandb.sklearn.plot_classifier(model, \n",
        "                              X_train, X_test, \n",
        "                              y_train, y_test, \n",
        "                              y_pred, y_probas, \n",
        "                              labels, \n",
        "                              is_binary=True, \n",
        "                              model_name='RandomForest')\n",
        "\n",
        "wandb.finish()"
      ],
      "metadata": {
        "colab": {
          "base_uri": "https://localhost:8080/",
          "height": 280,
          "referenced_widgets": [
            "5d7411745da840e6816eac77f68a55c8",
            "69366c80a53b4b93afaca10edfe0d025",
            "0c41f204f0f546f585f2ca913f24950b",
            "a5ebb80b57df487da55008ee5ecf3747",
            "9d404842bec549e1858def03ee625545",
            "4c1cc1f14cb344aa98e847ba6671bbb6",
            "d1bfc1e09c534a48bd33e9a0ce83d6e6",
            "0621b24120bb465286c4783dbc98b7a8"
          ]
        },
        "id": "_HZYUWn9zf2_",
        "outputId": "f2ed9217-c254-4154-98b3-4938c63d2abf"
      },
      "execution_count": null,
      "outputs": [
        {
          "output_type": "stream",
          "name": "stderr",
          "text": [
            "\u001b[34m\u001b[1mwandb\u001b[0m: \n",
            "\u001b[34m\u001b[1mwandb\u001b[0m: Plotting RandomForest.\n",
            "\u001b[34m\u001b[1mwandb\u001b[0m: Logged feature importances.\n",
            "\u001b[34m\u001b[1mwandb\u001b[0m: Logged confusion matrix.\n",
            "\u001b[34m\u001b[1mwandb\u001b[0m: Logged summary metrics.\n",
            "\u001b[34m\u001b[1mwandb\u001b[0m: Logged class proportions.\n",
            "\u001b[34m\u001b[1mwandb\u001b[0m: Logged calibration curve.\n",
            "\u001b[34m\u001b[1mwandb\u001b[0m: Logged roc curve.\n",
            "\u001b[34m\u001b[1mwandb\u001b[0m: Logged precision-recall curve.\n"
          ]
        },
        {
          "output_type": "display_data",
          "data": {
            "text/html": [
              "<br/>Waiting for W&B process to finish, PID 1464... <strong style=\"color:green\">(success).</strong>"
            ],
            "text/plain": [
              "<IPython.core.display.HTML object>"
            ]
          },
          "metadata": {}
        },
        {
          "output_type": "display_data",
          "data": {
            "application/vnd.jupyter.widget-view+json": {
              "model_id": "5d7411745da840e6816eac77f68a55c8",
              "version_minor": 0,
              "version_major": 2
            },
            "text/plain": [
              "VBox(children=(Label(value=' 0.02MB of 0.02MB uploaded (0.00MB deduped)\\r'), FloatProgress(value=0.94168260038…"
            ]
          },
          "metadata": {}
        },
        {
          "output_type": "display_data",
          "data": {
            "text/html": [
              "<style>\n",
              "    table.wandb td:nth-child(1) { padding: 0 10px; text-align: right }\n",
              "    .wandb-row { display: flex; flex-direction: row; flex-wrap: wrap; width: 100% }\n",
              "    .wandb-col { display: flex; flex-direction: column; flex-basis: 100%; flex: 1; padding: 10px; }\n",
              "    </style>\n",
              "<div class=\"wandb-row\"><div class=\"wandb-col\">\n",
              "</div><div class=\"wandb-col\">\n",
              "</div></div>\n",
              "Synced 5 W&B file(s), 12 media file(s), 8 artifact file(s) and 0 other file(s)\n",
              "<br/>Synced <strong style=\"color:#cdcd00\">classification</strong>: <a href=\"https://wandb.ai/kevinc/my-scikit-integration/runs/314q84rf\" target=\"_blank\">https://wandb.ai/kevinc/my-scikit-integration/runs/314q84rf</a><br/>\n",
              "Find logs at: <code>./wandb/run-20220124_213711-314q84rf/logs</code><br/>\n"
            ],
            "text/plain": [
              "<IPython.core.display.HTML object>"
            ]
          },
          "metadata": {}
        }
      ]
    },
    {
      "cell_type": "markdown",
      "source": [
        "# **Clustering**"
      ],
      "metadata": {
        "id": "w0OQG1040GFp"
      }
    },
    {
      "cell_type": "code",
      "source": [
        "# Load data\n",
        "iris = datasets.load_iris()\n",
        "X, y = iris.data, iris.target\n",
        "names = iris.target_names\n",
        "\n",
        "def get_label_ids(classes):\n",
        "    return np.array([names[aclass] for aclass in classes])\n",
        "labels = get_label_ids(y)\n",
        "\n",
        "# Train model\n",
        "kmeans = KMeans(n_clusters=4, random_state=1)\n",
        "cluster_labels = kmeans.fit_predict(X)"
      ],
      "metadata": {
        "id": "wHl780c6zz38"
      },
      "execution_count": null,
      "outputs": []
    },
    {
      "cell_type": "markdown",
      "source": [
        "# **Step 2: Initialize W&B run**"
      ],
      "metadata": {
        "id": "4uhVfnXM0MvB"
      }
    },
    {
      "cell_type": "code",
      "source": [
        "run = wandb.init(project='my-scikit-integration', name=\"clustering\")"
      ],
      "metadata": {
        "colab": {
          "base_uri": "https://localhost:8080/",
          "height": 34
        },
        "id": "k2zSp034z-rS",
        "outputId": "5cde278d-a56e-4e56-fc89-7f7c54733550"
      },
      "execution_count": null,
      "outputs": [
        {
          "output_type": "display_data",
          "data": {
            "text/html": [
              "\n",
              "                    Syncing run <strong><a href=\"https://wandb.ai/kevinc/my-scikit-integration/runs/1s76nyod\" target=\"_blank\">clustering</a></strong> to <a href=\"https://wandb.ai/kevinc/my-scikit-integration\" target=\"_blank\">Weights & Biases</a> (<a href=\"https://docs.wandb.com/integrations/jupyter.html\" target=\"_blank\">docs</a>).<br/>\n",
              "\n",
              "                "
            ],
            "text/plain": [
              "<IPython.core.display.HTML object>"
            ]
          },
          "metadata": {}
        }
      ]
    },
    {
      "cell_type": "markdown",
      "source": [
        "# **Step 3: Visualize model performance**"
      ],
      "metadata": {
        "id": "MPYJep7u0Mky"
      }
    },
    {
      "cell_type": "markdown",
      "source": [
        "# **Elbow Plot**"
      ],
      "metadata": {
        "id": "puAEEvdm0aBf"
      }
    },
    {
      "cell_type": "markdown",
      "source": [
        ""
      ],
      "metadata": {
        "id": "E-Z1D9n31jc6"
      }
    },
    {
      "cell_type": "code",
      "source": [
        "wandb.sklearn.plot_elbow_curve(kmeans, X)"
      ],
      "metadata": {
        "id": "G7wOcQaTz-65"
      },
      "execution_count": null,
      "outputs": []
    },
    {
      "cell_type": "markdown",
      "source": [
        "# **Silhouette Plot**"
      ],
      "metadata": {
        "id": "L563DXcN0exG"
      }
    },
    {
      "cell_type": "code",
      "source": [
        "wandb.sklearn.plot_silhouette(kmeans, X, labels)"
      ],
      "metadata": {
        "id": "xtOfuWS40eDZ"
      },
      "execution_count": null,
      "outputs": []
    },
    {
      "cell_type": "markdown",
      "source": [
        "# **All in one: Clusterer Plot**\n",
        "Using this all-in-one API you can:\n",
        "\n",
        "Log elbow curve\n",
        "Log silhouette plot"
      ],
      "metadata": {
        "id": "ErUQEqiN0lEu"
      }
    },
    {
      "cell_type": "code",
      "source": [
        "wandb.sklearn.plot_clusterer(kmeans, X, cluster_labels, labels, 'KMeans')\n",
        "\n",
        "wandb.finish()"
      ],
      "metadata": {
        "colab": {
          "base_uri": "https://localhost:8080/",
          "height": 193,
          "referenced_widgets": [
            "ab0ce3a2f337489ca3c9fc0a062b3d28",
            "524bee5514884cbbb67bb0391ded9739",
            "a36c114b7ad8489e812c6ce94b524bc1",
            "8b7cd39db26949a4b3ccacec11b55f70",
            "002ae3282fa64ff5a5477be71d9c6f72",
            "0270bff707624196b59a61d2b6d0860b",
            "c420d3b2484644898e53a12552be0440",
            "7e20957e80d543c1a58143d1ca53334f"
          ]
        },
        "id": "O6lKTS6p0XnT",
        "outputId": "b2ba56b4-5d42-4233-c096-1845adf8efa5"
      },
      "execution_count": null,
      "outputs": [
        {
          "output_type": "stream",
          "name": "stderr",
          "text": [
            "\u001b[34m\u001b[1mwandb\u001b[0m: \n",
            "\u001b[34m\u001b[1mwandb\u001b[0m: Plotting KMeans.\n",
            "\u001b[34m\u001b[1mwandb\u001b[0m: Logged elbow curve.\n",
            "\u001b[34m\u001b[1mwandb\u001b[0m: Logged silhouette plot.\n"
          ]
        },
        {
          "output_type": "display_data",
          "data": {
            "text/html": [
              "<br/>Waiting for W&B process to finish, PID 1540... <strong style=\"color:green\">(success).</strong>"
            ],
            "text/plain": [
              "<IPython.core.display.HTML object>"
            ]
          },
          "metadata": {}
        },
        {
          "output_type": "display_data",
          "data": {
            "application/vnd.jupyter.widget-view+json": {
              "model_id": "ab0ce3a2f337489ca3c9fc0a062b3d28",
              "version_minor": 0,
              "version_major": 2
            },
            "text/plain": [
              "VBox(children=(Label(value=' 0.02MB of 0.02MB uploaded (0.00MB deduped)\\r'), FloatProgress(value=1.0, max=1.0)…"
            ]
          },
          "metadata": {}
        },
        {
          "output_type": "display_data",
          "data": {
            "text/html": [
              "<style>\n",
              "    table.wandb td:nth-child(1) { padding: 0 10px; text-align: right }\n",
              "    .wandb-row { display: flex; flex-direction: row; flex-wrap: wrap; width: 100% }\n",
              "    .wandb-col { display: flex; flex-direction: column; flex-basis: 100%; flex: 1; padding: 10px; }\n",
              "    </style>\n",
              "<div class=\"wandb-row\"><div class=\"wandb-col\">\n",
              "</div><div class=\"wandb-col\">\n",
              "</div></div>\n",
              "Synced 5 W&B file(s), 4 media file(s), 4 artifact file(s) and 0 other file(s)\n",
              "<br/>Synced <strong style=\"color:#cdcd00\">clustering</strong>: <a href=\"https://wandb.ai/kevinc/my-scikit-integration/runs/1s76nyod\" target=\"_blank\">https://wandb.ai/kevinc/my-scikit-integration/runs/1s76nyod</a><br/>\n",
              "Find logs at: <code>./wandb/run-20220124_213749-1s76nyod/logs</code><br/>\n"
            ],
            "text/plain": [
              "<IPython.core.display.HTML object>"
            ]
          },
          "metadata": {}
        }
      ]
    },
    {
      "cell_type": "code",
      "source": [
        ""
      ],
      "metadata": {
        "id": "ZWxyQjAj0kYf"
      },
      "execution_count": null,
      "outputs": []
    }
  ],
  "metadata": {
    "colab": {
      "collapsed_sections": [],
      "name": "Random_Forest_Movie_Data.ipynb",
      "provenance": [],
      "authorship_tag": "ABX9TyP0htpIZNhaUJdeuSVpY+k5",
      "include_colab_link": true
    },
    "kernelspec": {
      "display_name": "Python 3",
      "name": "python3"
    },
    "language_info": {
      "name": "python"
    },
    "widgets": {
      "application/vnd.jupyter.widget-state+json": {
        "cdb93a157ba5447fb43ea8f6060500b3": {
          "model_module": "@jupyter-widgets/controls",
          "model_name": "VBoxModel",
          "model_module_version": "1.5.0",
          "state": {
            "_view_name": "VBoxView",
            "_dom_classes": [],
            "_model_name": "VBoxModel",
            "_view_module": "@jupyter-widgets/controls",
            "_model_module_version": "1.5.0",
            "_view_count": null,
            "_view_module_version": "1.5.0",
            "box_style": "",
            "layout": "IPY_MODEL_f595b2adbf824820bdb084da36d288fa",
            "_model_module": "@jupyter-widgets/controls",
            "children": [
              "IPY_MODEL_ea2a0418193e4fa3a4dac2fea6222344",
              "IPY_MODEL_522a1ca0480546d2935a9a4ec0f79586"
            ]
          }
        },
        "f595b2adbf824820bdb084da36d288fa": {
          "model_module": "@jupyter-widgets/base",
          "model_name": "LayoutModel",
          "model_module_version": "1.2.0",
          "state": {
            "_view_name": "LayoutView",
            "grid_template_rows": null,
            "right": null,
            "justify_content": null,
            "_view_module": "@jupyter-widgets/base",
            "overflow": null,
            "_model_module_version": "1.2.0",
            "_view_count": null,
            "flex_flow": null,
            "width": null,
            "min_width": null,
            "border": null,
            "align_items": null,
            "bottom": null,
            "_model_module": "@jupyter-widgets/base",
            "top": null,
            "grid_column": null,
            "overflow_y": null,
            "overflow_x": null,
            "grid_auto_flow": null,
            "grid_area": null,
            "grid_template_columns": null,
            "flex": null,
            "_model_name": "LayoutModel",
            "justify_items": null,
            "grid_row": null,
            "max_height": null,
            "align_content": null,
            "visibility": null,
            "align_self": null,
            "height": null,
            "min_height": null,
            "padding": null,
            "grid_auto_rows": null,
            "grid_gap": null,
            "max_width": null,
            "order": null,
            "_view_module_version": "1.2.0",
            "grid_template_areas": null,
            "object_position": null,
            "object_fit": null,
            "grid_auto_columns": null,
            "margin": null,
            "display": null,
            "left": null
          }
        },
        "ea2a0418193e4fa3a4dac2fea6222344": {
          "model_module": "@jupyter-widgets/controls",
          "model_name": "LabelModel",
          "model_module_version": "1.5.0",
          "state": {
            "_view_name": "LabelView",
            "style": "IPY_MODEL_44b5713d494a4091b0f754e93f3b94b8",
            "_dom_classes": [],
            "description": "",
            "_model_name": "LabelModel",
            "placeholder": "​",
            "_view_module": "@jupyter-widgets/controls",
            "_model_module_version": "1.5.0",
            "value": " 0.01MB of 0.01MB uploaded (0.00MB deduped)\r",
            "_view_count": null,
            "_view_module_version": "1.5.0",
            "description_tooltip": null,
            "_model_module": "@jupyter-widgets/controls",
            "layout": "IPY_MODEL_4430540975d44e2c9e313bfc56cec4f7"
          }
        },
        "522a1ca0480546d2935a9a4ec0f79586": {
          "model_module": "@jupyter-widgets/controls",
          "model_name": "FloatProgressModel",
          "model_module_version": "1.5.0",
          "state": {
            "_view_name": "ProgressView",
            "style": "IPY_MODEL_b4c2711f2bea4020a7e28471af6a65d6",
            "_dom_classes": [],
            "description": "",
            "_model_name": "FloatProgressModel",
            "bar_style": "",
            "max": 1,
            "_view_module": "@jupyter-widgets/controls",
            "_model_module_version": "1.5.0",
            "value": 1,
            "_view_count": null,
            "_view_module_version": "1.5.0",
            "orientation": "horizontal",
            "min": 0,
            "description_tooltip": null,
            "_model_module": "@jupyter-widgets/controls",
            "layout": "IPY_MODEL_2ee58e56d9ed4cd7bec34a4f4b686d3a"
          }
        },
        "44b5713d494a4091b0f754e93f3b94b8": {
          "model_module": "@jupyter-widgets/controls",
          "model_name": "DescriptionStyleModel",
          "model_module_version": "1.5.0",
          "state": {
            "_view_name": "StyleView",
            "_model_name": "DescriptionStyleModel",
            "description_width": "",
            "_view_module": "@jupyter-widgets/base",
            "_model_module_version": "1.5.0",
            "_view_count": null,
            "_view_module_version": "1.2.0",
            "_model_module": "@jupyter-widgets/controls"
          }
        },
        "4430540975d44e2c9e313bfc56cec4f7": {
          "model_module": "@jupyter-widgets/base",
          "model_name": "LayoutModel",
          "model_module_version": "1.2.0",
          "state": {
            "_view_name": "LayoutView",
            "grid_template_rows": null,
            "right": null,
            "justify_content": null,
            "_view_module": "@jupyter-widgets/base",
            "overflow": null,
            "_model_module_version": "1.2.0",
            "_view_count": null,
            "flex_flow": null,
            "width": null,
            "min_width": null,
            "border": null,
            "align_items": null,
            "bottom": null,
            "_model_module": "@jupyter-widgets/base",
            "top": null,
            "grid_column": null,
            "overflow_y": null,
            "overflow_x": null,
            "grid_auto_flow": null,
            "grid_area": null,
            "grid_template_columns": null,
            "flex": null,
            "_model_name": "LayoutModel",
            "justify_items": null,
            "grid_row": null,
            "max_height": null,
            "align_content": null,
            "visibility": null,
            "align_self": null,
            "height": null,
            "min_height": null,
            "padding": null,
            "grid_auto_rows": null,
            "grid_gap": null,
            "max_width": null,
            "order": null,
            "_view_module_version": "1.2.0",
            "grid_template_areas": null,
            "object_position": null,
            "object_fit": null,
            "grid_auto_columns": null,
            "margin": null,
            "display": null,
            "left": null
          }
        },
        "b4c2711f2bea4020a7e28471af6a65d6": {
          "model_module": "@jupyter-widgets/controls",
          "model_name": "ProgressStyleModel",
          "model_module_version": "1.5.0",
          "state": {
            "_view_name": "StyleView",
            "_model_name": "ProgressStyleModel",
            "description_width": "",
            "_view_module": "@jupyter-widgets/base",
            "_model_module_version": "1.5.0",
            "_view_count": null,
            "_view_module_version": "1.2.0",
            "bar_color": null,
            "_model_module": "@jupyter-widgets/controls"
          }
        },
        "2ee58e56d9ed4cd7bec34a4f4b686d3a": {
          "model_module": "@jupyter-widgets/base",
          "model_name": "LayoutModel",
          "model_module_version": "1.2.0",
          "state": {
            "_view_name": "LayoutView",
            "grid_template_rows": null,
            "right": null,
            "justify_content": null,
            "_view_module": "@jupyter-widgets/base",
            "overflow": null,
            "_model_module_version": "1.2.0",
            "_view_count": null,
            "flex_flow": null,
            "width": null,
            "min_width": null,
            "border": null,
            "align_items": null,
            "bottom": null,
            "_model_module": "@jupyter-widgets/base",
            "top": null,
            "grid_column": null,
            "overflow_y": null,
            "overflow_x": null,
            "grid_auto_flow": null,
            "grid_area": null,
            "grid_template_columns": null,
            "flex": null,
            "_model_name": "LayoutModel",
            "justify_items": null,
            "grid_row": null,
            "max_height": null,
            "align_content": null,
            "visibility": null,
            "align_self": null,
            "height": null,
            "min_height": null,
            "padding": null,
            "grid_auto_rows": null,
            "grid_gap": null,
            "max_width": null,
            "order": null,
            "_view_module_version": "1.2.0",
            "grid_template_areas": null,
            "object_position": null,
            "object_fit": null,
            "grid_auto_columns": null,
            "margin": null,
            "display": null,
            "left": null
          }
        },
        "06da195ab5634848bde2e7de2d9a179a": {
          "model_module": "@jupyter-widgets/controls",
          "model_name": "VBoxModel",
          "model_module_version": "1.5.0",
          "state": {
            "_view_name": "VBoxView",
            "_dom_classes": [],
            "_model_name": "VBoxModel",
            "_view_module": "@jupyter-widgets/controls",
            "_model_module_version": "1.5.0",
            "_view_count": null,
            "_view_module_version": "1.5.0",
            "box_style": "",
            "layout": "IPY_MODEL_ea7d863f5189497895ff60b09578b8a0",
            "_model_module": "@jupyter-widgets/controls",
            "children": [
              "IPY_MODEL_c925d8388705496fb8a0e7d16d2a8f82",
              "IPY_MODEL_4e314cadaee544a48695f0aa80c12bed"
            ]
          }
        },
        "ea7d863f5189497895ff60b09578b8a0": {
          "model_module": "@jupyter-widgets/base",
          "model_name": "LayoutModel",
          "model_module_version": "1.2.0",
          "state": {
            "_view_name": "LayoutView",
            "grid_template_rows": null,
            "right": null,
            "justify_content": null,
            "_view_module": "@jupyter-widgets/base",
            "overflow": null,
            "_model_module_version": "1.2.0",
            "_view_count": null,
            "flex_flow": null,
            "width": null,
            "min_width": null,
            "border": null,
            "align_items": null,
            "bottom": null,
            "_model_module": "@jupyter-widgets/base",
            "top": null,
            "grid_column": null,
            "overflow_y": null,
            "overflow_x": null,
            "grid_auto_flow": null,
            "grid_area": null,
            "grid_template_columns": null,
            "flex": null,
            "_model_name": "LayoutModel",
            "justify_items": null,
            "grid_row": null,
            "max_height": null,
            "align_content": null,
            "visibility": null,
            "align_self": null,
            "height": null,
            "min_height": null,
            "padding": null,
            "grid_auto_rows": null,
            "grid_gap": null,
            "max_width": null,
            "order": null,
            "_view_module_version": "1.2.0",
            "grid_template_areas": null,
            "object_position": null,
            "object_fit": null,
            "grid_auto_columns": null,
            "margin": null,
            "display": null,
            "left": null
          }
        },
        "c925d8388705496fb8a0e7d16d2a8f82": {
          "model_module": "@jupyter-widgets/controls",
          "model_name": "LabelModel",
          "model_module_version": "1.5.0",
          "state": {
            "_view_name": "LabelView",
            "style": "IPY_MODEL_7d45092a3cc8402faf78fadd3005fd4f",
            "_dom_classes": [],
            "description": "",
            "_model_name": "LabelModel",
            "placeholder": "​",
            "_view_module": "@jupyter-widgets/controls",
            "_model_module_version": "1.5.0",
            "value": " 0.26MB of 0.26MB uploaded (0.00MB deduped)\r",
            "_view_count": null,
            "_view_module_version": "1.5.0",
            "description_tooltip": null,
            "_model_module": "@jupyter-widgets/controls",
            "layout": "IPY_MODEL_032188d62344461cbe1a37fd39556128"
          }
        },
        "4e314cadaee544a48695f0aa80c12bed": {
          "model_module": "@jupyter-widgets/controls",
          "model_name": "FloatProgressModel",
          "model_module_version": "1.5.0",
          "state": {
            "_view_name": "ProgressView",
            "style": "IPY_MODEL_c26a47985023464d9a095aaafddfc285",
            "_dom_classes": [],
            "description": "",
            "_model_name": "FloatProgressModel",
            "bar_style": "",
            "max": 1,
            "_view_module": "@jupyter-widgets/controls",
            "_model_module_version": "1.5.0",
            "value": 1,
            "_view_count": null,
            "_view_module_version": "1.5.0",
            "orientation": "horizontal",
            "min": 0,
            "description_tooltip": null,
            "_model_module": "@jupyter-widgets/controls",
            "layout": "IPY_MODEL_497e90c0920f45b1a5899788cc439d53"
          }
        },
        "7d45092a3cc8402faf78fadd3005fd4f": {
          "model_module": "@jupyter-widgets/controls",
          "model_name": "DescriptionStyleModel",
          "model_module_version": "1.5.0",
          "state": {
            "_view_name": "StyleView",
            "_model_name": "DescriptionStyleModel",
            "description_width": "",
            "_view_module": "@jupyter-widgets/base",
            "_model_module_version": "1.5.0",
            "_view_count": null,
            "_view_module_version": "1.2.0",
            "_model_module": "@jupyter-widgets/controls"
          }
        },
        "032188d62344461cbe1a37fd39556128": {
          "model_module": "@jupyter-widgets/base",
          "model_name": "LayoutModel",
          "model_module_version": "1.2.0",
          "state": {
            "_view_name": "LayoutView",
            "grid_template_rows": null,
            "right": null,
            "justify_content": null,
            "_view_module": "@jupyter-widgets/base",
            "overflow": null,
            "_model_module_version": "1.2.0",
            "_view_count": null,
            "flex_flow": null,
            "width": null,
            "min_width": null,
            "border": null,
            "align_items": null,
            "bottom": null,
            "_model_module": "@jupyter-widgets/base",
            "top": null,
            "grid_column": null,
            "overflow_y": null,
            "overflow_x": null,
            "grid_auto_flow": null,
            "grid_area": null,
            "grid_template_columns": null,
            "flex": null,
            "_model_name": "LayoutModel",
            "justify_items": null,
            "grid_row": null,
            "max_height": null,
            "align_content": null,
            "visibility": null,
            "align_self": null,
            "height": null,
            "min_height": null,
            "padding": null,
            "grid_auto_rows": null,
            "grid_gap": null,
            "max_width": null,
            "order": null,
            "_view_module_version": "1.2.0",
            "grid_template_areas": null,
            "object_position": null,
            "object_fit": null,
            "grid_auto_columns": null,
            "margin": null,
            "display": null,
            "left": null
          }
        },
        "c26a47985023464d9a095aaafddfc285": {
          "model_module": "@jupyter-widgets/controls",
          "model_name": "ProgressStyleModel",
          "model_module_version": "1.5.0",
          "state": {
            "_view_name": "StyleView",
            "_model_name": "ProgressStyleModel",
            "description_width": "",
            "_view_module": "@jupyter-widgets/base",
            "_model_module_version": "1.5.0",
            "_view_count": null,
            "_view_module_version": "1.2.0",
            "bar_color": null,
            "_model_module": "@jupyter-widgets/controls"
          }
        },
        "497e90c0920f45b1a5899788cc439d53": {
          "model_module": "@jupyter-widgets/base",
          "model_name": "LayoutModel",
          "model_module_version": "1.2.0",
          "state": {
            "_view_name": "LayoutView",
            "grid_template_rows": null,
            "right": null,
            "justify_content": null,
            "_view_module": "@jupyter-widgets/base",
            "overflow": null,
            "_model_module_version": "1.2.0",
            "_view_count": null,
            "flex_flow": null,
            "width": null,
            "min_width": null,
            "border": null,
            "align_items": null,
            "bottom": null,
            "_model_module": "@jupyter-widgets/base",
            "top": null,
            "grid_column": null,
            "overflow_y": null,
            "overflow_x": null,
            "grid_auto_flow": null,
            "grid_area": null,
            "grid_template_columns": null,
            "flex": null,
            "_model_name": "LayoutModel",
            "justify_items": null,
            "grid_row": null,
            "max_height": null,
            "align_content": null,
            "visibility": null,
            "align_self": null,
            "height": null,
            "min_height": null,
            "padding": null,
            "grid_auto_rows": null,
            "grid_gap": null,
            "max_width": null,
            "order": null,
            "_view_module_version": "1.2.0",
            "grid_template_areas": null,
            "object_position": null,
            "object_fit": null,
            "grid_auto_columns": null,
            "margin": null,
            "display": null,
            "left": null
          }
        },
        "5d7411745da840e6816eac77f68a55c8": {
          "model_module": "@jupyter-widgets/controls",
          "model_name": "VBoxModel",
          "model_module_version": "1.5.0",
          "state": {
            "_view_name": "VBoxView",
            "_dom_classes": [],
            "_model_name": "VBoxModel",
            "_view_module": "@jupyter-widgets/controls",
            "_model_module_version": "1.5.0",
            "_view_count": null,
            "_view_module_version": "1.5.0",
            "box_style": "",
            "layout": "IPY_MODEL_69366c80a53b4b93afaca10edfe0d025",
            "_model_module": "@jupyter-widgets/controls",
            "children": [
              "IPY_MODEL_0c41f204f0f546f585f2ca913f24950b",
              "IPY_MODEL_a5ebb80b57df487da55008ee5ecf3747"
            ]
          }
        },
        "69366c80a53b4b93afaca10edfe0d025": {
          "model_module": "@jupyter-widgets/base",
          "model_name": "LayoutModel",
          "model_module_version": "1.2.0",
          "state": {
            "_view_name": "LayoutView",
            "grid_template_rows": null,
            "right": null,
            "justify_content": null,
            "_view_module": "@jupyter-widgets/base",
            "overflow": null,
            "_model_module_version": "1.2.0",
            "_view_count": null,
            "flex_flow": null,
            "width": null,
            "min_width": null,
            "border": null,
            "align_items": null,
            "bottom": null,
            "_model_module": "@jupyter-widgets/base",
            "top": null,
            "grid_column": null,
            "overflow_y": null,
            "overflow_x": null,
            "grid_auto_flow": null,
            "grid_area": null,
            "grid_template_columns": null,
            "flex": null,
            "_model_name": "LayoutModel",
            "justify_items": null,
            "grid_row": null,
            "max_height": null,
            "align_content": null,
            "visibility": null,
            "align_self": null,
            "height": null,
            "min_height": null,
            "padding": null,
            "grid_auto_rows": null,
            "grid_gap": null,
            "max_width": null,
            "order": null,
            "_view_module_version": "1.2.0",
            "grid_template_areas": null,
            "object_position": null,
            "object_fit": null,
            "grid_auto_columns": null,
            "margin": null,
            "display": null,
            "left": null
          }
        },
        "0c41f204f0f546f585f2ca913f24950b": {
          "model_module": "@jupyter-widgets/controls",
          "model_name": "LabelModel",
          "model_module_version": "1.5.0",
          "state": {
            "_view_name": "LabelView",
            "style": "IPY_MODEL_9d404842bec549e1858def03ee625545",
            "_dom_classes": [],
            "description": "",
            "_model_name": "LabelModel",
            "placeholder": "​",
            "_view_module": "@jupyter-widgets/controls",
            "_model_module_version": "1.5.0",
            "value": " 0.03MB of 0.03MB uploaded (0.00MB deduped)\r",
            "_view_count": null,
            "_view_module_version": "1.5.0",
            "description_tooltip": null,
            "_model_module": "@jupyter-widgets/controls",
            "layout": "IPY_MODEL_4c1cc1f14cb344aa98e847ba6671bbb6"
          }
        },
        "a5ebb80b57df487da55008ee5ecf3747": {
          "model_module": "@jupyter-widgets/controls",
          "model_name": "FloatProgressModel",
          "model_module_version": "1.5.0",
          "state": {
            "_view_name": "ProgressView",
            "style": "IPY_MODEL_d1bfc1e09c534a48bd33e9a0ce83d6e6",
            "_dom_classes": [],
            "description": "",
            "_model_name": "FloatProgressModel",
            "bar_style": "",
            "max": 1,
            "_view_module": "@jupyter-widgets/controls",
            "_model_module_version": "1.5.0",
            "value": 1,
            "_view_count": null,
            "_view_module_version": "1.5.0",
            "orientation": "horizontal",
            "min": 0,
            "description_tooltip": null,
            "_model_module": "@jupyter-widgets/controls",
            "layout": "IPY_MODEL_0621b24120bb465286c4783dbc98b7a8"
          }
        },
        "9d404842bec549e1858def03ee625545": {
          "model_module": "@jupyter-widgets/controls",
          "model_name": "DescriptionStyleModel",
          "model_module_version": "1.5.0",
          "state": {
            "_view_name": "StyleView",
            "_model_name": "DescriptionStyleModel",
            "description_width": "",
            "_view_module": "@jupyter-widgets/base",
            "_model_module_version": "1.5.0",
            "_view_count": null,
            "_view_module_version": "1.2.0",
            "_model_module": "@jupyter-widgets/controls"
          }
        },
        "4c1cc1f14cb344aa98e847ba6671bbb6": {
          "model_module": "@jupyter-widgets/base",
          "model_name": "LayoutModel",
          "model_module_version": "1.2.0",
          "state": {
            "_view_name": "LayoutView",
            "grid_template_rows": null,
            "right": null,
            "justify_content": null,
            "_view_module": "@jupyter-widgets/base",
            "overflow": null,
            "_model_module_version": "1.2.0",
            "_view_count": null,
            "flex_flow": null,
            "width": null,
            "min_width": null,
            "border": null,
            "align_items": null,
            "bottom": null,
            "_model_module": "@jupyter-widgets/base",
            "top": null,
            "grid_column": null,
            "overflow_y": null,
            "overflow_x": null,
            "grid_auto_flow": null,
            "grid_area": null,
            "grid_template_columns": null,
            "flex": null,
            "_model_name": "LayoutModel",
            "justify_items": null,
            "grid_row": null,
            "max_height": null,
            "align_content": null,
            "visibility": null,
            "align_self": null,
            "height": null,
            "min_height": null,
            "padding": null,
            "grid_auto_rows": null,
            "grid_gap": null,
            "max_width": null,
            "order": null,
            "_view_module_version": "1.2.0",
            "grid_template_areas": null,
            "object_position": null,
            "object_fit": null,
            "grid_auto_columns": null,
            "margin": null,
            "display": null,
            "left": null
          }
        },
        "d1bfc1e09c534a48bd33e9a0ce83d6e6": {
          "model_module": "@jupyter-widgets/controls",
          "model_name": "ProgressStyleModel",
          "model_module_version": "1.5.0",
          "state": {
            "_view_name": "StyleView",
            "_model_name": "ProgressStyleModel",
            "description_width": "",
            "_view_module": "@jupyter-widgets/base",
            "_model_module_version": "1.5.0",
            "_view_count": null,
            "_view_module_version": "1.2.0",
            "bar_color": null,
            "_model_module": "@jupyter-widgets/controls"
          }
        },
        "0621b24120bb465286c4783dbc98b7a8": {
          "model_module": "@jupyter-widgets/base",
          "model_name": "LayoutModel",
          "model_module_version": "1.2.0",
          "state": {
            "_view_name": "LayoutView",
            "grid_template_rows": null,
            "right": null,
            "justify_content": null,
            "_view_module": "@jupyter-widgets/base",
            "overflow": null,
            "_model_module_version": "1.2.0",
            "_view_count": null,
            "flex_flow": null,
            "width": null,
            "min_width": null,
            "border": null,
            "align_items": null,
            "bottom": null,
            "_model_module": "@jupyter-widgets/base",
            "top": null,
            "grid_column": null,
            "overflow_y": null,
            "overflow_x": null,
            "grid_auto_flow": null,
            "grid_area": null,
            "grid_template_columns": null,
            "flex": null,
            "_model_name": "LayoutModel",
            "justify_items": null,
            "grid_row": null,
            "max_height": null,
            "align_content": null,
            "visibility": null,
            "align_self": null,
            "height": null,
            "min_height": null,
            "padding": null,
            "grid_auto_rows": null,
            "grid_gap": null,
            "max_width": null,
            "order": null,
            "_view_module_version": "1.2.0",
            "grid_template_areas": null,
            "object_position": null,
            "object_fit": null,
            "grid_auto_columns": null,
            "margin": null,
            "display": null,
            "left": null
          }
        },
        "ab0ce3a2f337489ca3c9fc0a062b3d28": {
          "model_module": "@jupyter-widgets/controls",
          "model_name": "VBoxModel",
          "model_module_version": "1.5.0",
          "state": {
            "_view_name": "VBoxView",
            "_dom_classes": [],
            "_model_name": "VBoxModel",
            "_view_module": "@jupyter-widgets/controls",
            "_model_module_version": "1.5.0",
            "_view_count": null,
            "_view_module_version": "1.5.0",
            "box_style": "",
            "layout": "IPY_MODEL_524bee5514884cbbb67bb0391ded9739",
            "_model_module": "@jupyter-widgets/controls",
            "children": [
              "IPY_MODEL_a36c114b7ad8489e812c6ce94b524bc1",
              "IPY_MODEL_8b7cd39db26949a4b3ccacec11b55f70"
            ]
          }
        },
        "524bee5514884cbbb67bb0391ded9739": {
          "model_module": "@jupyter-widgets/base",
          "model_name": "LayoutModel",
          "model_module_version": "1.2.0",
          "state": {
            "_view_name": "LayoutView",
            "grid_template_rows": null,
            "right": null,
            "justify_content": null,
            "_view_module": "@jupyter-widgets/base",
            "overflow": null,
            "_model_module_version": "1.2.0",
            "_view_count": null,
            "flex_flow": null,
            "width": null,
            "min_width": null,
            "border": null,
            "align_items": null,
            "bottom": null,
            "_model_module": "@jupyter-widgets/base",
            "top": null,
            "grid_column": null,
            "overflow_y": null,
            "overflow_x": null,
            "grid_auto_flow": null,
            "grid_area": null,
            "grid_template_columns": null,
            "flex": null,
            "_model_name": "LayoutModel",
            "justify_items": null,
            "grid_row": null,
            "max_height": null,
            "align_content": null,
            "visibility": null,
            "align_self": null,
            "height": null,
            "min_height": null,
            "padding": null,
            "grid_auto_rows": null,
            "grid_gap": null,
            "max_width": null,
            "order": null,
            "_view_module_version": "1.2.0",
            "grid_template_areas": null,
            "object_position": null,
            "object_fit": null,
            "grid_auto_columns": null,
            "margin": null,
            "display": null,
            "left": null
          }
        },
        "a36c114b7ad8489e812c6ce94b524bc1": {
          "model_module": "@jupyter-widgets/controls",
          "model_name": "LabelModel",
          "model_module_version": "1.5.0",
          "state": {
            "_view_name": "LabelView",
            "style": "IPY_MODEL_002ae3282fa64ff5a5477be71d9c6f72",
            "_dom_classes": [],
            "description": "",
            "_model_name": "LabelModel",
            "placeholder": "​",
            "_view_module": "@jupyter-widgets/controls",
            "_model_module_version": "1.5.0",
            "value": " 0.04MB of 0.04MB uploaded (0.00MB deduped)\r",
            "_view_count": null,
            "_view_module_version": "1.5.0",
            "description_tooltip": null,
            "_model_module": "@jupyter-widgets/controls",
            "layout": "IPY_MODEL_0270bff707624196b59a61d2b6d0860b"
          }
        },
        "8b7cd39db26949a4b3ccacec11b55f70": {
          "model_module": "@jupyter-widgets/controls",
          "model_name": "FloatProgressModel",
          "model_module_version": "1.5.0",
          "state": {
            "_view_name": "ProgressView",
            "style": "IPY_MODEL_c420d3b2484644898e53a12552be0440",
            "_dom_classes": [],
            "description": "",
            "_model_name": "FloatProgressModel",
            "bar_style": "",
            "max": 1,
            "_view_module": "@jupyter-widgets/controls",
            "_model_module_version": "1.5.0",
            "value": 1,
            "_view_count": null,
            "_view_module_version": "1.5.0",
            "orientation": "horizontal",
            "min": 0,
            "description_tooltip": null,
            "_model_module": "@jupyter-widgets/controls",
            "layout": "IPY_MODEL_7e20957e80d543c1a58143d1ca53334f"
          }
        },
        "002ae3282fa64ff5a5477be71d9c6f72": {
          "model_module": "@jupyter-widgets/controls",
          "model_name": "DescriptionStyleModel",
          "model_module_version": "1.5.0",
          "state": {
            "_view_name": "StyleView",
            "_model_name": "DescriptionStyleModel",
            "description_width": "",
            "_view_module": "@jupyter-widgets/base",
            "_model_module_version": "1.5.0",
            "_view_count": null,
            "_view_module_version": "1.2.0",
            "_model_module": "@jupyter-widgets/controls"
          }
        },
        "0270bff707624196b59a61d2b6d0860b": {
          "model_module": "@jupyter-widgets/base",
          "model_name": "LayoutModel",
          "model_module_version": "1.2.0",
          "state": {
            "_view_name": "LayoutView",
            "grid_template_rows": null,
            "right": null,
            "justify_content": null,
            "_view_module": "@jupyter-widgets/base",
            "overflow": null,
            "_model_module_version": "1.2.0",
            "_view_count": null,
            "flex_flow": null,
            "width": null,
            "min_width": null,
            "border": null,
            "align_items": null,
            "bottom": null,
            "_model_module": "@jupyter-widgets/base",
            "top": null,
            "grid_column": null,
            "overflow_y": null,
            "overflow_x": null,
            "grid_auto_flow": null,
            "grid_area": null,
            "grid_template_columns": null,
            "flex": null,
            "_model_name": "LayoutModel",
            "justify_items": null,
            "grid_row": null,
            "max_height": null,
            "align_content": null,
            "visibility": null,
            "align_self": null,
            "height": null,
            "min_height": null,
            "padding": null,
            "grid_auto_rows": null,
            "grid_gap": null,
            "max_width": null,
            "order": null,
            "_view_module_version": "1.2.0",
            "grid_template_areas": null,
            "object_position": null,
            "object_fit": null,
            "grid_auto_columns": null,
            "margin": null,
            "display": null,
            "left": null
          }
        },
        "c420d3b2484644898e53a12552be0440": {
          "model_module": "@jupyter-widgets/controls",
          "model_name": "ProgressStyleModel",
          "model_module_version": "1.5.0",
          "state": {
            "_view_name": "StyleView",
            "_model_name": "ProgressStyleModel",
            "description_width": "",
            "_view_module": "@jupyter-widgets/base",
            "_model_module_version": "1.5.0",
            "_view_count": null,
            "_view_module_version": "1.2.0",
            "bar_color": null,
            "_model_module": "@jupyter-widgets/controls"
          }
        },
        "7e20957e80d543c1a58143d1ca53334f": {
          "model_module": "@jupyter-widgets/base",
          "model_name": "LayoutModel",
          "model_module_version": "1.2.0",
          "state": {
            "_view_name": "LayoutView",
            "grid_template_rows": null,
            "right": null,
            "justify_content": null,
            "_view_module": "@jupyter-widgets/base",
            "overflow": null,
            "_model_module_version": "1.2.0",
            "_view_count": null,
            "flex_flow": null,
            "width": null,
            "min_width": null,
            "border": null,
            "align_items": null,
            "bottom": null,
            "_model_module": "@jupyter-widgets/base",
            "top": null,
            "grid_column": null,
            "overflow_y": null,
            "overflow_x": null,
            "grid_auto_flow": null,
            "grid_area": null,
            "grid_template_columns": null,
            "flex": null,
            "_model_name": "LayoutModel",
            "justify_items": null,
            "grid_row": null,
            "max_height": null,
            "align_content": null,
            "visibility": null,
            "align_self": null,
            "height": null,
            "min_height": null,
            "padding": null,
            "grid_auto_rows": null,
            "grid_gap": null,
            "max_width": null,
            "order": null,
            "_view_module_version": "1.2.0",
            "grid_template_areas": null,
            "object_position": null,
            "object_fit": null,
            "grid_auto_columns": null,
            "margin": null,
            "display": null,
            "left": null
          }
        }
      }
    }
  },
  "nbformat": 4,
  "nbformat_minor": 0
}